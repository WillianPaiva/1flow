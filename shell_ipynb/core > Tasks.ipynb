{
 "metadata": {
  "name": ""
 },
 "nbformat": 3,
 "nbformat_minor": 0,
 "worksheets": [
  {
   "cells": [
    {
     "cell_type": "markdown",
     "metadata": {},
     "source": [
      "# Python imports"
     ]
    },
    {
     "cell_type": "code",
     "collapsed": false,
     "input": [
      "from oneflow.base.utils.dateutils import *\n",
      "\n",
      "from oneflow.base.tasks import *\n",
      "\n",
      "from oneflow.core.models import *\n",
      "from oneflow.core.tasks import *\n",
      "from oneflow.core.stats import *\n",
      "\n",
      "from oneflow import VERSION as version\n",
      "print '1flow v%s' % version"
     ],
     "language": "python",
     "metadata": {},
     "outputs": [
      {
       "output_type": "stream",
       "stream": "stderr",
       "text": [
        "Django found.\n"
       ]
      },
      {
       "output_type": "stream",
       "stream": "stderr",
       "text": [
        "Django found and fields and widgets loaded.\n"
       ]
      },
      {
       "output_type": "stream",
       "stream": "stdout",
       "text": [
        "1flow v0.25.10\n"
       ]
      }
     ],
     "prompt_number": 1
    },
    {
     "cell_type": "markdown",
     "metadata": {},
     "source": [
      "# Core periodic tasks"
     ]
    },
    {
     "cell_type": "code",
     "collapsed": false,
     "input": [
      "global_checker_task.delay()"
     ],
     "language": "python",
     "metadata": {},
     "outputs": [
      {
       "metadata": {},
       "output_type": "pyout",
       "prompt_number": 2,
       "text": [
        "<AsyncResult: cb985a60-7bdb-486a-b429-7d60e9327bec>"
       ]
      }
     ],
     "prompt_number": 2
    },
    {
     "cell_type": "markdown",
     "metadata": {},
     "source": [
      "## Documents archiving\n",
      "\n",
      "- ~1min for 1000 articles, on 20131003\n"
     ]
    },
    {
     "cell_type": "code",
     "collapsed": false,
     "input": [
      "#archive_documents(1000)\n",
      "archive_documents.delay()"
     ],
     "language": "python",
     "metadata": {},
     "outputs": [
      {
       "metadata": {},
       "output_type": "pyout",
       "prompt_number": 8,
       "text": [
        "<AsyncResult: 4384d54c-7c8d-4cd7-a2fb-225683737dae>"
       ]
      }
     ],
     "prompt_number": 8
    },
    {
     "cell_type": "markdown",
     "metadata": {},
     "source": [
      "## Synchronize all statistics"
     ]
    },
    {
     "cell_type": "code",
     "collapsed": false,
     "input": [
      "synchronize_statsd_gauges(True)"
     ],
     "language": "python",
     "metadata": {},
     "outputs": [
      {
       "output_type": "stream",
       "stream": "stderr",
       "text": [
        "synchronize statsd gauges for Article.* started 2013-10-26 15:31, ran in 10 seconds.\n"
       ]
      },
      {
       "output_type": "stream",
       "stream": "stderr",
       "text": [
        "synchronize statsd gauges for Tag.* started 2013-10-26 15:32, ran in a moment.\n"
       ]
      },
      {
       "output_type": "stream",
       "stream": "stderr",
       "text": [
        "synchronize statsd gauges for WebSite.* started 2013-10-26 15:32, ran in a moment.\n"
       ]
      },
      {
       "output_type": "stream",
       "stream": "stderr",
       "text": [
        "synchronize statsd gauges for Author.* started 2013-10-26 15:32, ran in a moment.\n"
       ]
      }
     ],
     "prompt_number": 2
    },
    {
     "cell_type": "markdown",
     "metadata": {},
     "source": [
      "## Refresh access tokens"
     ]
    },
    {
     "cell_type": "code",
     "collapsed": false,
     "input": [
      "with benchmark():\n",
      "    refresh_access_tokens()"
     ],
     "language": "python",
     "metadata": {},
     "outputs": [
      {
       "output_type": "stream",
       "stream": "stderr",
       "text": [
        "refresh_access_tokens finished, 1/33 refreshed, 0 error(s), 32 not associated, duration: a moment.\n"
       ]
      },
      {
       "output_type": "stream",
       "stream": "stderr",
       "text": [
        "Generic benchmark started 2013-08-28 22:23, ran in a moment.\n"
       ]
      }
     ],
     "prompt_number": 4
    },
    {
     "cell_type": "markdown",
     "metadata": {},
     "source": [
      "## Refresh all feeds"
     ]
    },
    {
     "cell_type": "code",
     "collapsed": false,
     "input": [
      "with benchmark():\n",
      "    refresh_all_feeds()"
     ],
     "language": "python",
     "metadata": {},
     "outputs": []
    },
    {
     "cell_type": "markdown",
     "metadata": {},
     "source": [
      "## Clean Redis"
     ]
    },
    {
     "cell_type": "code",
     "collapsed": false,
     "input": [
      "with benchmark():\n",
      "    clean_obsolete_redis_keys()"
     ],
     "language": "python",
     "metadata": {},
     "outputs": [
      {
       "output_type": "stream",
       "stream": "stderr",
       "text": [
        "clean_obsolete_redis_keys(): finished in a moment.\n"
       ]
      },
      {
       "output_type": "stream",
       "stream": "stderr",
       "text": [
        "Generic benchmark started 2013-07-20 13:27, ran in a moment.\n"
       ]
      }
     ],
     "prompt_number": 5
    },
    {
     "cell_type": "markdown",
     "metadata": {},
     "source": [
      "## Mail about closed feeds"
     ]
    },
    {
     "cell_type": "code",
     "collapsed": false,
     "input": [
      "with benchmark():\n",
      "    global_feeds_checker()"
     ],
     "language": "python",
     "metadata": {},
     "outputs": [
      {
       "output_type": "stream",
       "stream": "stderr",
       "text": [
        "Closed 73 feeds in a moment.\n"
       ]
      },
      {
       "output_type": "stream",
       "stream": "stderr",
       "text": [
        "Generic benchmark started 2013-07-20 09:27, ran in 37 seconds.\n"
       ]
      }
     ],
     "prompt_number": 9
    },
    {
     "cell_type": "markdown",
     "metadata": {},
     "source": [
      "# Special operations\n",
      "\n",
      "## Re-open all closed feeds"
     ]
    },
    {
     "cell_type": "code",
     "collapsed": false,
     "input": [
      "closed_feeds = Feed.objects(closed=True)"
     ],
     "language": "python",
     "metadata": {},
     "outputs": [],
     "prompt_number": 4
    },
    {
     "cell_type": "code",
     "collapsed": false,
     "input": [
      "closed_feeds.count(), closed_feeds"
     ],
     "language": "python",
     "metadata": {},
     "outputs": [
      {
       "output_type": "pyout",
       "prompt_number": 5,
       "text": [
        "(76,\n",
        " [<Feed: Aegis Media Expert Le Blog (#51c95e30e7a05b27f695d840)>, <Feed: Debian Package of the Day (#51ca0178e7a05b27f6a5a9e9)>, <Feed: Stories (#51ca0900e7a05b27f6aec47c)>, <Feed: What's Hot in Google Reader (#51ca0973e7a05b27f6aec6bb)>, <Feed: 01KiteSurf.com - Actualit\u00e9s du kitesurf au quotidien (#51c66183e7a05b27f68ce436)>, <Feed: m\u00e9moire de la librairie contemporaine (#51c95e35e7a05b27f695dcbf)>, <Feed: obi.1flowapp.com (#51c969ebe7a05b27f6984802)>, <Feed: Wikio - ipad2 (#51c9f2dae7a05b27f6a23f85)>, <Feed: Wikio - ces2011 (#51c9f2dae7a05b27f6a23f83)>, <Feed: Alertes Google - alkaraan (#51c9f2cde7a05b27f6a233a0)>, <Feed: Linux for Devices - RSS Feeds (#51c97299e7a05b27f69921a6)>, <Feed: All (#51ca07dae7a05b27f6aeb959)>, <Feed: Happypenguin (#51ca0087e7a05b27f6a329b7)>, <Feed: AeroXperience News (#51c9f2cde7a05b27f6a2339a)>, <Feed: AllienSoft (#51c9f2cde7a05b27f6a233a6)>, <Feed: lo-fi librarian (#51c9f2d6e7a05b27f6a23e6d)>, <Feed: (title unknown) (#51c9f2cde7a05b27f6a2335e)>, <Feed: \"Top blogs - high-tech\" via Prospere in Google Reader (#51c9f2cde7a05b27f6a23362)>, <Feed: (title unknown) (#51ca07c6e7a05b27f6ae9eff)>, <Feed: Amistorique (Site entier) (#51c9f2cee7a05b27f6a233ae)>, '...(remaining elements truncated)...'])"
       ]
      }
     ],
     "prompt_number": 5
    },
    {
     "cell_type": "code",
     "collapsed": false,
     "input": [
      "for feed in closed_feeds:\n",
      "    #feed.closed=False\n",
      "    #feed.save()\n",
      "    pass"
     ],
     "language": "python",
     "metadata": {},
     "outputs": []
    },
    {
     "cell_type": "code",
     "collapsed": false,
     "input": [],
     "language": "python",
     "metadata": {},
     "outputs": []
    }
   ],
   "metadata": {}
  }
 ]
}