{
 "metadata": {
  "name": "old > Markdown full_content check (with images) on Article"
 },
 "nbformat": 3,
 "nbformat_minor": 0,
 "worksheets": [
  {
   "cells": [
    {
     "cell_type": "code",
     "collapsed": false,
     "input": [
      "from oneflow.core.models.nonrel import *\n",
      "from markdown_deux.templatetags.markdown_deux_tags import markdown_filter"
     ],
     "language": "python",
     "metadata": {},
     "outputs": [],
     "prompt_number": 8
    },
    {
     "cell_type": "code",
     "collapsed": false,
     "input": [
      "article = Article.objects.get(id='51d6a1594adc895fd21c3475')"
     ],
     "language": "python",
     "metadata": {},
     "outputs": [],
     "prompt_number": 5
    },
    {
     "cell_type": "code",
     "collapsed": false,
     "input": [
      "article.full_content_type"
     ],
     "language": "python",
     "metadata": {},
     "outputs": [
      {
       "output_type": "pyout",
       "prompt_number": 6,
       "text": [
        "2"
       ]
      }
     ],
     "prompt_number": 6
    },
    {
     "cell_type": "code",
     "collapsed": false,
     "input": [
      "print markdown_filter(article.full_content)"
     ],
     "language": "python",
     "metadata": {},
     "outputs": [
      {
       "output_type": "stream",
       "stream": "stdout",
       "text": [
        "<p>Mark Gallagher and Laura Savard</p>\n",
        "\n",
        "<p><a href=\"http://www.blackcoffee.com/blog/2012/09/14/option-paralysis/\"><img src=\"http://www.blackcoffee.com/blog/wp-content/uploads/2012/07/option-\n",
        "Paralysis.jpg\" alt=\"\" /></a></p>\n",
        "\n",
        "<p>What happens when consumers are faced with too many options? Depending on the\n",
        "urgency of the purchase, this can result in commoditization _(\"They're all the\n",
        "same. This one's the cheapest.\")_ or failure to make a purchase at all _(\"This\n",
        "is too confusing. I need to do more research\u2026 Do I really need this? I don't\n",
        "have time\u2026\")._</p>\n",
        "\n",
        "<p>Consumers say they want more choice. However, research paints a different\n",
        "picture. Too many choices have the tendency to paralyze consumers. This isn't\n",
        "only true within categories, but also within brands. It's why with over 500\n",
        "channels, there is never anything to watch on TV. Psychologists call this\n",
        "phenomenon \"Option Paralysis\" and it is happening more and more often in every\n",
        "sector of commerce. So what can companies do to ensure consumers have adequate\n",
        "choice, but aren't overwhelmed with options?</p>\n",
        "\n",
        "<p>In 1995, Dr. Sheena Iyengar, professor of business at Columbia University, set\n",
        "up a booth of jams in a boutique market. Every few hours, she reduced the\n",
        "number of available options by 75% (from 24 to 6). As you can see from the\n",
        "results of the study in the chart below, people are attracted to choice, but\n",
        "are motivated to purchase by smaller, more distinct choice sets.</p>\n",
        "\n",
        "<p><a href=\"http://www.blackcoffee.com/blog/2012/09/14/option-\n",
        "paralysis/option-paralysis-chart1/\"><img src=\"http://www.blackcoffee.com/blog/wp-content/uploads/2012/08/option-\n",
        "paralysis-chart11.jpg\" alt=\"\" /></a></p>\n",
        "\n",
        "<p>Obviously, jam is an impulse purchase. However, what is true of low\n",
        "involvement decisions is also true of high involvement decisions, people want\n",
        "to make the \"right choice.\" Granularity over complicates the decision process\n",
        "by making it difficult to discern one option from another. The key is to\n",
        "provide enough choice so as to present options, but also to ensure clear\n",
        "division within that option set.</p>\n",
        "\n",
        "<p>Think Small, Medium and Large, not 6 ounce, 8 ounce, 10 ounce, 12 ounce, 14\n",
        "ounce, 16 ounce\u2026 and so on and so on. As you can see, the SM, M, LG set\n",
        "provides clear options _(two extremes and something in between)._ The other\n",
        "example provides little differentiation within the choice set _(\"Am I 12\n",
        "ounces thirsty or only 10?\")._</p>\n",
        "\n",
        "<p>Many marketers make the mistake of pitting themselves directly against their\n",
        "competition. This is not brand positioning. It's a street fight (the result of\n",
        "poor, if not nonexistent, differentiation within choice sets). This greatly\n",
        "contributes to Option Paralysis. You may hurt your competitor, but at what\n",
        "cost?</p>\n",
        "\n",
        "<p>Overcoming Option Paralysis is about Brand Positioning, and Brand Positioning\n",
        "is about disrupting the status quo to stand for something that not only stands\n",
        "out but addresses a unique consumer need in a way that no other brand can.\n",
        "This creates contrast and that's what branding is all about: Differentiation\n",
        "_(\"This one stands out.\")_ and Identification_ (\"That's the one I was looking\n",
        "for.\")._</p>\n",
        "\n",
        "<p><a href=\"http://addthis.com/bookmark.php?v=250\"><img src=\"http://cache.addthis.com/cachefly/static/btn/v2/lg-\n",
        "share-en.gif\" alt=\"Bookmark and Share\" /></a></p>\n",
        "\n"
       ]
      }
     ],
     "prompt_number": 11
    },
    {
     "cell_type": "code",
     "collapsed": false,
     "input": [],
     "language": "python",
     "metadata": {},
     "outputs": []
    }
   ],
   "metadata": {}
  }
 ]
}