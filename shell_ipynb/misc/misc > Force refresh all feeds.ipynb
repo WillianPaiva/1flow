{
 "metadata": {
  "name": "misc > Force refresh all feeds"
 },
 "nbformat": 3,
 "nbformat_minor": 0,
 "worksheets": [
  {
   "cells": [
    {
     "cell_type": "code",
     "collapsed": false,
     "input": [
      "from oneflow.core.models import *"
     ],
     "language": "python",
     "metadata": {},
     "outputs": [],
     "prompt_number": 1
    },
    {
     "cell_type": "markdown",
     "metadata": {},
     "source": [
      "# WARNING: this is a bad idea"
     ]
    },
    {
     "cell_type": "code",
     "collapsed": false,
     "input": [
      "for feed in Feed.objects.all():\n",
      "    feed.last_fetch    = None\n",
      "    feed.last_modified = None\n",
      "    feed.last_etag     = None\n",
      "    \n",
      "    try: feed.save()\n",
      "    except: pass\n",
      "    \n",
      "    else: feed.refresh.delay(force=True)"
     ],
     "language": "python",
     "metadata": {},
     "outputs": []
    },
    {
     "cell_type": "markdown",
     "metadata": {},
     "source": [
      "# Individual checks"
     ]
    },
    {
     "cell_type": "code",
     "collapsed": false,
     "input": [
      "51c63a128af8069f5ba76a38"
     ],
     "language": "python",
     "metadata": {},
     "outputs": []
    },
    {
     "cell_type": "code",
     "collapsed": false,
     "input": [
      "Feed.objects.get(id='51c9d5b4e7a05b27f69e80ea').refresh()"
     ],
     "language": "python",
     "metadata": {},
     "outputs": [
      {
       "output_type": "stream",
       "stream": "stderr",
       "text": [
        "Refresh for Steve in a Speedo?! Gross! (#51c9d5b4e7a05b27f69e80ea) already scheduled, aborting.\n"
       ]
      }
     ],
     "prompt_number": 2
    },
    {
     "cell_type": "code",
     "collapsed": false,
     "input": [
      "51c95b1be7a05b27f6935471"
     ],
     "language": "python",
     "metadata": {},
     "outputs": []
    }
   ],
   "metadata": {}
  }
 ]
}