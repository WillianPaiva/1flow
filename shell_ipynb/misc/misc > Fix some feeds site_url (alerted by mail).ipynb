{
 "metadata": {
  "name": "misc > Fix some feeds site_url (alerted by mail)"
 },
 "nbformat": 3,
 "nbformat_minor": 0,
 "worksheets": [
  {
   "cells": [
    {
     "cell_type": "code",
     "collapsed": false,
     "input": [
      "from oneflow.core.models.nonrel import *"
     ],
     "language": "python",
     "metadata": {},
     "outputs": [],
     "prompt_number": 2
    },
    {
     "cell_type": "code",
     "collapsed": false,
     "input": [
      "closed_feeds = Feed.objects(closed=True)\n",
      "closed_feeds_count = closed_feeds.count()"
     ],
     "language": "python",
     "metadata": {},
     "outputs": [],
     "prompt_number": 3
    },
    {
     "cell_type": "code",
     "collapsed": false,
     "input": [
      "closed_feeds_count"
     ],
     "language": "python",
     "metadata": {},
     "outputs": [
      {
       "output_type": "pyout",
       "prompt_number": 4,
       "text": [
        "0"
       ]
      }
     ],
     "prompt_number": 4
    },
    {
     "cell_type": "code",
     "collapsed": false,
     "input": [
      "feed_ids = (\n",
      "    '51c95e35e7a05b27f695dd07', \n",
      "    '51c95e31e7a05b27f695da2a', \n",
      "    '51ca091de7a05b27f6aec50e', \n",
      "    '51ca07f6e7a05b27f6aeba96', \n",
      "    '51ca07ede7a05b27f6aeba1a',\n",
      "    '51c9f2d1e7a05b27f6a23a43',\n",
      "    '51c9d669e7a05b27f69fdd7a',\n",
      "    '51c66186e7a05b27f68ce4b3',\n",
      "    '51c95e36e7a05b27f695dd81',\n",
      ")\n",
      "\n",
      "for feed_id in feeds_ids:\n",
      "    try:    feed = Feed.objects.get(id=feed_id)\n",
      "    except: \n",
      "        print 'ERROR', feed_id\n",
      "        continue\n",
      "        \n",
      "    print 'BEFORE', feed.url, feed.site_url, feed.name\n",
      "    \n",
      "    splits = feed.url.split('/', 3)\n",
      "    feed.site_url = splits[0] + '//' + splits[2] + '/'\n",
      "    feed.save()\n",
      "    \n",
      "    print 'AFTER', feed.url, feed.site_url, feed.name\n"
     ],
     "language": "python",
     "metadata": {},
     "outputs": [
      {
       "output_type": "stream",
       "stream": "stdout",
       "text": [
        "http://feeds.feedburner.com/RebuildingMedia /home/corante/public_html/rebuildingmedia/ Rebuilding Media\n",
        "http://feeds.feedburner.com/RebuildingMedia http://feeds.feedburner.com/ Rebuilding Media\n",
        "http://www.naa.org/blog/digitaledge/rss.cfm /blog/digitaledge Digital Edge Blog\n",
        "http://www.naa.org/blog/digitaledge/rss.cfm http://www.naa.org/ Digital Edge Blog\n",
        "http://www.dailystar.com.lb/rss/reg/politics.xml /News/Middle-East.ashx The Daily Star >> News >> Middle East\n",
        "http://www.dailystar.com.lb/rss/reg/politics.xml http://www.dailystar.com.lb/ The Daily Star >> News >> Middle East\n",
        "http://biztalkblogs.com/RssDoc.xml www.BizTalkBlogs.com BizTalk Blogs\n",
        "http://biztalkblogs.com/RssDoc.xml http://biztalkblogs.com/ BizTalk Blogs\n",
        "http://avaxhome.org/ebooks/rss.xml /ebooks/rss.xml AvaxHome RSS:/ebooks\n",
        "http://avaxhome.org/ebooks/rss.xml http://avaxhome.org/ AvaxHome RSS:/ebooks\n",
        "http://feeds.backtype.com/comments?q=consumer+electronic+show http://www.backtype.com/comments?q=consumer electronic show Comment Search for \"consumer electronic show\"\n",
        "http://feeds.backtype.com/comments?q=consumer+electronic+show http://feeds.backtype.com/ Comment Search for \"consumer electronic show\"\n",
        "http://blog.nodejitsu.com/feed.xml blog.nodejitsu.com blog.nodejitsu.com\n",
        "http://blog.nodejitsu.com/feed.xml http://blog.nodejitsu.com/ blog.nodejitsu.com\n",
        "http://dev.licorn.org/blog?format=rss /blog Licorn Blog\n",
        "http://dev.licorn.org/blog?format=rss http://dev.licorn.org/ Licorn Blog\n",
        "http://www.slyck.com/slyckrss.xml www.slyck.com Slyck.com File-Sharing News And Information\n",
        "http://www.slyck.com/slyckrss.xml http://www.slyck.com/ Slyck.com File-Sharing News And Information\n"
       ]
      }
     ],
     "prompt_number": 23
    },
    {
     "cell_type": "code",
     "collapsed": false,
     "input": [],
     "language": "python",
     "metadata": {},
     "outputs": []
    }
   ],
   "metadata": {}
  }
 ]
}