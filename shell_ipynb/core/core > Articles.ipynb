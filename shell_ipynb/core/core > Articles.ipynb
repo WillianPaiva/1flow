{
 "metadata": {
  "name": ""
 },
 "nbformat": 3,
 "nbformat_minor": 0,
 "worksheets": [
  {
   "cells": [
    {
     "cell_type": "markdown",
     "metadata": {},
     "source": [
      "# Python imports / setup"
     ]
    },
    {
     "cell_type": "code",
     "collapsed": false,
     "input": [
      "from oneflow.core.models import *\n",
      "from oneflow.core.stats import *\n",
      "from oneflow.base.utils.dateutils import *\n",
      "\n",
      "from mongoengine.queryset import Q\n",
      "\n",
      "from statsd import statsd\n",
      "\n",
      "from oneflow import VERSION as version\n",
      "\n",
      "print u'1flow v%s, statsd %s' % (version, u', '.join(u'%s' % (v,) for k,v in statsd.__dict__.items() if k != '_sock'))"
     ],
     "language": "python",
     "metadata": {},
     "outputs": [
      {
       "output_type": "stream",
       "stream": "stderr",
       "text": [
        "Django found.\n"
       ]
      },
      {
       "output_type": "stream",
       "stream": "stderr",
       "text": [
        "Django found and fields and widgets loaded.\n"
       ]
      },
      {
       "output_type": "stream",
       "stream": "stdout",
       "text": [
        "1flow v0.26.7, statsd ('10.0.3.111', 8125), production\n"
       ]
      }
     ],
     "prompt_number": 1
    },
    {
     "cell_type": "markdown",
     "metadata": {},
     "source": [
      "## StatsD gauges synchronization"
     ]
    },
    {
     "cell_type": "code",
     "collapsed": false,
     "input": [
      "synchronize_statsd_articles_gauges(True)"
     ],
     "language": "python",
     "metadata": {},
     "outputs": [],
     "prompt_number": "*"
    },
    {
     "cell_type": "markdown",
     "metadata": {},
     "source": [
      "# Articles distribution"
     ]
    },
    {
     "cell_type": "code",
     "collapsed": false,
     "input": [
      "c1 = Article.objects(Q(content_error__exists=False)|Q(content_error=None))\n",
      "c2 = Article.objects(Q(url_error__exists=False)|Q(url_error=None))\n",
      "c1c = c1.count()\n",
      "c2c = c2.count()\n",
      "c1c, c2c"
     ],
     "language": "python",
     "metadata": {},
     "outputs": [
      {
       "metadata": {},
       "output_type": "pyout",
       "prompt_number": 2,
       "text": [
        "(1, 1)"
       ]
      }
     ],
     "prompt_number": 2
    },
    {
     "cell_type": "code",
     "collapsed": false,
     "input": [
      "c1c or c1.update(set__content_error=u'')\n",
      "c2c or c2.update(set__url_error=u'')"
     ],
     "language": "python",
     "metadata": {},
     "outputs": [
      {
       "metadata": {},
       "output_type": "pyout",
       "prompt_number": 3,
       "text": [
        "1"
       ]
      }
     ],
     "prompt_number": 3
    },
    {
     "cell_type": "markdown",
     "metadata": {},
     "source": [
      "## All empty"
     ]
    },
    {
     "cell_type": "code",
     "collapsed": false,
     "input": [
      "empty = Article.objects(content_type=0).no_cache()\n",
      "empty.count()"
     ],
     "language": "python",
     "metadata": {},
     "outputs": [
      {
       "metadata": {},
       "output_type": "pyout",
       "prompt_number": 19,
       "text": [
        "1970997"
       ]
      }
     ],
     "prompt_number": 19
    },
    {
     "cell_type": "code",
     "collapsed": false,
     "input": [
      "html = Article.objects(content_type=1).no_cache()\n",
      "html.count()"
     ],
     "language": "python",
     "metadata": {},
     "outputs": [
      {
       "metadata": {},
       "output_type": "pyout",
       "prompt_number": 5,
       "text": [
        "419"
       ]
      }
     ],
     "prompt_number": 5
    },
    {
     "cell_type": "code",
     "collapsed": false,
     "input": [
      "html_pending = html.filter(Q(duplicate_of__exists=False)|Q(duplicate_of=None), \n",
      "                           url_error=u'', content_error=u'', \n",
      "                           orphaned__ne=True, url_absolute=True)\n",
      "html_pending.count()"
     ],
     "language": "python",
     "metadata": {},
     "outputs": [
      {
       "metadata": {},
       "output_type": "pyout",
       "prompt_number": 6,
       "text": [
        "20"
       ]
      }
     ],
     "prompt_number": 6
    },
    {
     "cell_type": "markdown",
     "metadata": {},
     "source": [
      "## Pending conversion"
     ]
    },
    {
     "cell_type": "code",
     "collapsed": false,
     "input": [
      "pending = empty.filter(content_error=u'', url_error=u'', url_absolute=True)\n",
      "pending.count()"
     ],
     "language": "python",
     "metadata": {},
     "outputs": [
      {
       "metadata": {},
       "output_type": "pyout",
       "prompt_number": 7,
       "text": [
        "246841"
       ]
      }
     ],
     "prompt_number": 7
    },
    {
     "cell_type": "code",
     "collapsed": false,
     "input": [
      "duplicates = pending.filter(duplicate_of__ne=None)\n",
      "print duplicates.count(), u'\u2014 %.2f%%' % (duplicates.count() * 100.0 / pending.count())"
     ],
     "language": "python",
     "metadata": {},
     "outputs": [
      {
       "output_type": "stream",
       "stream": "stdout",
       "text": [
        "238507 "
       ]
      },
      {
       "output_type": "stream",
       "stream": "stdout",
       "text": [
        "\u2014 96.62%\n"
       ]
      }
     ],
     "prompt_number": 8
    },
    {
     "cell_type": "code",
     "collapsed": false,
     "input": [
      "orphaned = pending.filter(orphaned=True)\n",
      "orphaned.count()"
     ],
     "language": "python",
     "metadata": {},
     "outputs": [
      {
       "metadata": {},
       "output_type": "pyout",
       "prompt_number": 9,
       "text": [
        "0"
       ]
      }
     ],
     "prompt_number": 9
    },
    {
     "cell_type": "code",
     "collapsed": false,
     "input": [
      "really_pending = pending.filter(Q(duplicate_of__exists=False)|Q(duplicate_of=None), orphaned__ne=True)\n",
      "print u\">>> %s really remaining to convert \u2014 %.2f%%\" % (really_pending.count(), really_pending.count() * 100.0 / pending.count())"
     ],
     "language": "python",
     "metadata": {},
     "outputs": [
      {
       "output_type": "stream",
       "stream": "stdout",
       "text": [
        ">>> 8336 really remaining to convert \u2014 3.38%\n"
       ]
      }
     ],
     "prompt_number": 10
    },
    {
     "cell_type": "markdown",
     "metadata": {},
     "source": [
      "## Conversion errors"
     ]
    },
    {
     "cell_type": "code",
     "collapsed": false,
     "input": [
      "content_errors = empty.filter(content_error__ne=u'')\n",
      "content_errors.count()"
     ],
     "language": "python",
     "metadata": {},
     "outputs": [
      {
       "metadata": {},
       "output_type": "pyout",
       "prompt_number": 11,
       "text": [
        "291879"
       ]
      }
     ],
     "prompt_number": 11
    },
    {
     "cell_type": "code",
     "collapsed": false,
     "input": [
      "url_errors = empty.filter(url_error__ne=u'')\n",
      "url_errors.count()"
     ],
     "language": "python",
     "metadata": {},
     "outputs": [
      {
       "metadata": {},
       "output_type": "pyout",
       "prompt_number": 12,
       "text": [
        "74992"
       ]
      }
     ],
     "prompt_number": 12
    },
    {
     "cell_type": "markdown",
     "metadata": {},
     "source": [
      "## Un-cleaned absolutizations\n",
      "\n",
      "(should be 0 in OK conditions)"
     ]
    },
    {
     "cell_type": "code",
     "collapsed": false,
     "input": [
      "url_unclean = url_errors.filter(url_absolute=True)\n",
      "url_unclean.count()"
     ],
     "language": "python",
     "metadata": {},
     "outputs": [
      {
       "metadata": {},
       "output_type": "pyout",
       "prompt_number": 13,
       "text": [
        "0"
       ]
      }
     ],
     "prompt_number": 13
    },
    {
     "cell_type": "markdown",
     "metadata": {},
     "source": [
      "## All errors"
     ]
    },
    {
     "cell_type": "code",
     "collapsed": false,
     "input": [
      "all_content_errors = Article.objects(content_error__ne=u'')\n",
      "all_content_errors.count()"
     ],
     "language": "python",
     "metadata": {},
     "outputs": [
      {
       "metadata": {},
       "output_type": "pyout",
       "prompt_number": 14,
       "text": [
        "292012"
       ]
      }
     ],
     "prompt_number": 14
    },
    {
     "cell_type": "code",
     "collapsed": false,
     "input": [
      "all_url_errors = Article.objects(url_error__ne=u'')\n",
      "all_url_errors.count()"
     ],
     "language": "python",
     "metadata": {},
     "outputs": [
      {
       "metadata": {},
       "output_type": "pyout",
       "prompt_number": 15,
       "text": [
        "113601"
       ]
      }
     ],
     "prompt_number": 15
    },
    {
     "cell_type": "markdown",
     "metadata": {},
     "source": [
      "# Non-absolutized articles"
     ]
    },
    {
     "cell_type": "code",
     "collapsed": false,
     "input": [
      "nonabs = empty.filter(Q(duplicate_of__exists=False)|Q(duplicate_of=None), \n",
      "                         url_absolute__ne=True, url_error=u'', \n",
      "                         orphaned__ne=True)\n",
      "nonabs.count()"
     ],
     "language": "python",
     "metadata": {},
     "outputs": [
      {
       "metadata": {},
       "output_type": "pyout",
       "prompt_number": 21,
       "text": [
        "13545"
       ]
      }
     ],
     "prompt_number": 21
    },
    {
     "cell_type": "code",
     "collapsed": false,
     "input": [
      "with benchmark('Re-launch of %s non-absolutized articles in the background' % nonabs.count()):\n",
      "    for article in nonabs:\n",
      "        article_absolutize_url.apply_async((article.id, ), queue=\"swarm\")"
     ],
     "language": "python",
     "metadata": {},
     "outputs": [
      {
       "output_type": "stream",
       "stream": "stderr",
       "text": [
        "Re-launch of 13545 non-absolutized articles in the background started 2014-03-29 08:40, ran in 2 minutes.\n"
       ]
      }
     ],
     "prompt_number": 22
    },
    {
     "cell_type": "markdown",
     "metadata": {},
     "source": [
      "# Fetch really-pending"
     ]
    },
    {
     "cell_type": "code",
     "collapsed": false,
     "input": [
      "with benchmark(\"Re-fetch %s really pending\" % really_pending.count()):\n",
      "    for article in really_pending:\n",
      "        \n",
      "        # Send them to the background queue; CHECK ITS CURRENT LENGTH FIRST!!\n",
      "        #article_fetch_content.apply_async((article.id, ), queue='background')\n",
      "        \n",
      "        # Right into the fetch queue\n",
      "        article_fetch_content.delay(article.id)"
     ],
     "language": "python",
     "metadata": {},
     "outputs": [
      {
       "output_type": "stream",
       "stream": "stderr",
       "text": [
        "Re-fetch 308 really pending started 2013-10-06 21:27, ran in a second.\n"
       ]
      }
     ],
     "prompt_number": 96
    },
    {
     "cell_type": "code",
     "collapsed": false,
     "input": [
      "with benchmark(\"Markdownize %s HTML\" % html_pending.count()):\n",
      "    for article in html_pending:\n",
      "        article_fetch_content.apply_async((article.id, ), queue='background')"
     ],
     "language": "python",
     "metadata": {},
     "outputs": [
      {
       "output_type": "stream",
       "stream": "stderr",
       "text": [
        "Markdownize 3 HTML started 2013-10-06 21:27, ran in a moment.\n"
       ]
      }
     ],
     "prompt_number": 97
    },
    {
     "cell_type": "markdown",
     "metadata": {},
     "source": [
      "## Test"
     ]
    },
    {
     "cell_type": "code",
     "collapsed": false,
     "input": [
      "if False:\n",
      "    with benchmark(\"Re-fetch %s really pending\" % really_pending.count()):\n",
      "        for article in really_pending[:10]:\n",
      "            article.fetch_content()"
     ],
     "language": "python",
     "metadata": {},
     "outputs": [],
     "prompt_number": 98
    },
    {
     "cell_type": "markdown",
     "metadata": {},
     "source": [
      "# URL errors types"
     ]
    },
    {
     "cell_type": "code",
     "collapsed": false,
     "input": [
      "results, display = article_url_error_types_display()\n",
      "print display"
     ],
     "language": "python",
     "metadata": {},
     "outputs": [
      {
       "output_type": "stream",
       "stream": "stdout",
       "text": [
        ">> Url error types: 7 distinct on 113601 instances, computed in 28 seconds\n",
        "404 Not found: 70568\n",
        "Other socket or HTTP Error: 18556\n",
        "50x Internal error (temporary or not): 11080\n",
        "Network down or no route, or DNS lookup failed: 9339\n",
        "HTTPs certificate error: 3135\n",
        "Secure socket error / bad HTTPs: 922\n",
        "<NO_ERROR_STRING_PROVIDED>: 1\n",
        "\n",
        ">> to get them, stored by error kind:\n",
        "results.get(\"stored_instances\").get(\"Secure socket error / bad HTTPs\")\n",
        "results.get(\"stored_instances\").get(\"<NO_ERROR_STRING_PROVIDED>\")\n",
        "results.get(\"stored_instances\").get(\"Network down or no route, or DNS lookup failed\")\n",
        "results.get(\"stored_instances\").get(\"HTTPs certificate error\")\n",
        "results.get(\"stored_instances\").get(\"50x Internal error (temporary or not)\")\n",
        "results.get(\"stored_instances\").get(\"404 Not found\")\n",
        "results.get(\"stored_instances\").get(\"Other socket or HTTP Error\")\n"
       ]
      }
     ],
     "prompt_number": 17
    },
    {
     "cell_type": "code",
     "collapsed": false,
     "input": [
      "real = 0\n",
      "for article in results.get(\"stored_instances\").get(\"Network down or no route, or DNS lookup failed\"):\n",
      "    if not article.url_absolute:\n",
      "        real += 1\n",
      "        article_absolutize_url.apply_async((article.id, ), queue='background')\n",
      "print '>> %s/%s relaunched.' % (real, len(results.get(\"stored_instances\").get(\"Network down or no route, or DNS lookup failed\")))"
     ],
     "language": "python",
     "metadata": {},
     "outputs": [
      {
       "output_type": "stream",
       "stream": "stdout",
       "text": [
        ">> 8628/8628 relaunched.\n"
       ]
      }
     ],
     "prompt_number": 100
    },
    {
     "cell_type": "code",
     "collapsed": false,
     "input": [
      "real = 0\n",
      "for article in results.get(\"stored_instances\").get(\"50x Internal error (temporary or not)\"):\n",
      "    if not article.url_absolute:\n",
      "        real += 1\n",
      "        article_absolutize_url.apply_async((article.id, ), queue='background')\n",
      "print '>> %s/%s relaunched.' % (real, len(results.get(\"stored_instances\").get(\"50x Internal error (temporary or not)\")))"
     ],
     "language": "python",
     "metadata": {},
     "outputs": [
      {
       "output_type": "stream",
       "stream": "stdout",
       "text": [
        ">> 10471/10471 relaunched.\n"
       ]
      }
     ],
     "prompt_number": 101
    },
    {
     "cell_type": "code",
     "collapsed": false,
     "input": [
      "errs = set()\n",
      "for article in results.get(\"stored_instances\").get(\"Other socket or HTTP Error\"):\n",
      "    if article.url_error.startswith('HTTPConnectionPool'):\n",
      "        errs.add(article.url_error.split(\"'>:\", 1)[1][:30])\n",
      "len(errs), errs"
     ],
     "language": "python",
     "metadata": {},
     "outputs": [
      {
       "output_type": "pyout",
       "prompt_number": 20,
       "text": [
        "(8,\n",
        " set([u' [Errno 111] Connection refuse',\n",
        "      u' [Errno 104] Connection reset ',\n",
        "      u' [Errno 113] No route to host)',\n",
        "      u' [Errno 110] Connection timed ',\n",
        "      u' [Errno -3] Temporary failure ',\n",
        "      u' [Errno 101] Network is unreac',\n",
        "      u' [Errno -2] Name or service no',\n",
        "      u\" '')\"]))"
       ]
      }
     ],
     "prompt_number": 20
    },
    {
     "cell_type": "markdown",
     "metadata": {},
     "source": [
      "# Content errors"
     ]
    },
    {
     "cell_type": "code",
     "collapsed": false,
     "input": [
      "results, display = article_content_error_types_display()\n",
      "print display"
     ],
     "language": "python",
     "metadata": {},
     "outputs": [
      {
       "output_type": "stream",
       "stream": "stdout",
       "text": [
        ">> Content error types: 66 distinct on 292012 instances, computed in a minute\n",
        "Content is not text/html but audio/mpeg.: 229328\n",
        "list index out of range: 18492\n",
        "Encoding error: 17663\n",
        "Soft time limit exceeded: 14077\n",
        "'module' object has no attribute 'Strainer': 5045\n",
        "Python maximum recursion loop: 2897\n",
        "Other socket or HTTP Error: 1679\n",
        "Network down or no route, or DNS lookup failed: 1082\n",
        "Secure socket error / bad HTTPs: 476\n",
        "Content is not text/html but application/pdf.: 312\n",
        "Socket/urlopen error: 253\n",
        "HTTPs certificate error: 202\n",
        "Content is not text/html but unspecified.: 169\n",
        "Audio content instead of HTML article: 61\n",
        "Content is not text/html but text/plain; charset=utf-8.: 58\n",
        "'NoneType' object has no attribute 'findAll': 30\n",
        "Content is not text/html but .: 30\n",
        "timed out: 21\n",
        "Content is not text/html but image/jpeg.: 17\n",
        "Content is not text/html but text/plain.: 16\n",
        "must be encoded string without NULL bytes, not str: 12\n",
        "Content is not text/html but image/gif.: 11\n",
        "Content is not text/html but application/octet-stream.: 8\n",
        "Content is not text/html but image/png.: 7\n",
        "Content is not text/html but text/xml; charset=UTF-8.: 4\n",
        "Content is not text/html but application/xml.: 4\n",
        "Content is not text/html but application/atom+xml.: 4\n",
        "MongoDB Document validation error: 3\n",
        "Content is not text/html but application/atom+xml; charset=UTF-8.: 3\n",
        "Error 111 connecting 10.0.3.100:6379. Connection refused.: 3\n",
        "Content is not text/html but application/x-bittorrent.: 3\n",
        "Error 111 connecting 188.165.193.204:6379. Connection refused.: 2\n",
        "Content is not text/html but .pdf.: 2\n",
        "Received response with content-encoding: gzip, but failed to decode it.: 2\n",
        "Content is not text/html but application/pdf;charset=UTF-8.: 2\n",
        "Content is not text/html but text/xml; charset=utf-8.: 2\n",
        "Content is not text/html but text/xml.: 2\n",
        "PDF instead of HTML article: 2\n",
        "Content is not text/html but html/; charset=utf-8.: 1\n",
        "Content is not text/html but application/zip; charset=utf-8.: 1\n",
        "Content is not text/html but application/x-trash.: 1\n",
        "Content is not text/html but application/x-gzip.: 1\n",
        "invalid literal for int() with base 10: '15*': 1\n",
        "LOADING Redis is loading the dataset in memory: 1\n",
        "pop from empty list: 1\n",
        "Content is not text/html but text/plain; charset=ISO-8859-1.: 1\n",
        "No connection adapters were found for 'itmss://itunes.apple.com/us/artist/apple/id284417353?mt=12': 1\n",
        "Content is not text/html but text/plain;charset=utf-8.: 1\n",
        "Content is not text/html but application/xml;charset=utf-8.: 1\n",
        "Content is not text/html but application/x-shockwave-flash.: 1\n",
        "Content is not text/html but application/vnd.ms-powerpoint.: 1\n",
        "Content is not text/html but text/vnd.wap.wml; charset=utf-8.: 1\n",
        "Content is not text/html but text/plain; charset=UTF-8.: 1\n",
        "Content is not text/html but magnus-internal/parsed-html, text/html;charset=UTF-8.: 1\n",
        "Content is not text/html but application/xhtml+xml; charset=UTF-8.: 1\n",
        "Content is not text/html but text/plain; charset=iso-8859-1.: 1\n",
        "Content is not text/html but application/json; charset=utf-8.: 1\n",
        "Content is not text/html but application/x-tar.: 1\n",
        "404 Not found: 1\n",
        "('Received response with content-encoding: gzip, but failed to decode it.', error('Error -3 while decompressing: incorrect data check',)): 1\n",
        "Content is not text/html but text/javascript; charset=utf-8.: 1\n",
        "<NO_ERROR_STRING_PROVIDED>: 1\n",
        "invalid literal for int() with base 10: 'start': 1\n",
        "Failed to parse: Failed to parse: www.adobe.comhttp:: 1\n",
        "Content is not text/html but video/mp4.: 1\n",
        "Content is not text/html but application/msword.: 1\n",
        "\n",
        ">> to get them, stored by error kind:\n",
        "results.get(\"stored_instances\").get(\"Content is not text/html but text/xml; charset=UTF-8.\")\n",
        "results.get(\"stored_instances\").get(\"Content is not text/html but html/; charset=utf-8.\")\n",
        "results.get(\"stored_instances\").get(\"Error 111 connecting 188.165.193.204:6379. Connection refused.\")\n",
        "results.get(\"stored_instances\").get(\"Content is not text/html but text/plain.\")\n",
        "results.get(\"stored_instances\").get(\"Content is not text/html but application/zip; charset=utf-8.\")\n",
        "results.get(\"stored_instances\").get(\"Network down or no route, or DNS lookup failed\")\n",
        "results.get(\"stored_instances\").get(\"Content is not text/html but application/x-trash.\")\n",
        "results.get(\"stored_instances\").get(\"Content is not text/html but text/plain; charset=utf-8.\")\n",
        "results.get(\"stored_instances\").get(\"'NoneType' object has no attribute 'findAll'\")\n",
        "results.get(\"stored_instances\").get(\"Content is not text/html but application/x-gzip.\")\n",
        "results.get(\"stored_instances\").get(\"invalid literal for int() with base 10: '15*'\")\n",
        "results.get(\"stored_instances\").get(\"HTTPs certificate error\")\n",
        "results.get(\"stored_instances\").get(\"Content is not text/html but image/png.\")\n",
        "results.get(\"stored_instances\").get(\"Content is not text/html but application/xml.\")\n",
        "results.get(\"stored_instances\").get(\"Content is not text/html but application/octet-stream.\")\n",
        "results.get(\"stored_instances\").get(\"LOADING Redis is loading the dataset in memory\")\n",
        "results.get(\"stored_instances\").get(\"MongoDB Document validation error\")\n",
        "results.get(\"stored_instances\").get(\"pop from empty list\")\n",
        "results.get(\"stored_instances\").get(\"Content is not text/html but .pdf.\")\n",
        "results.get(\"stored_instances\").get(\"Other socket or HTTP Error\")\n",
        "results.get(\"stored_instances\").get(\"Content is not text/html but text/plain; charset=ISO-8859-1.\")\n",
        "results.get(\"stored_instances\").get(\"No connection adapters were found for 'itmss://itunes.apple.com/us/artist/apple/id284417353?mt=12'\")\n",
        "results.get(\"stored_instances\").get(\"Received response with content-encoding: gzip, but failed to decode it.\")\n",
        "results.get(\"stored_instances\").get(\"Content is not text/html but image/gif.\")\n",
        "results.get(\"stored_instances\").get(\"Content is not text/html but text/plain;charset=utf-8.\")\n",
        "results.get(\"stored_instances\").get(\"Content is not text/html but application/xml;charset=utf-8.\")\n",
        "results.get(\"stored_instances\").get(\"Encoding error\")\n",
        "results.get(\"stored_instances\").get(\"Content is not text/html but .\")\n",
        "results.get(\"stored_instances\").get(\"Content is not text/html but application/x-shockwave-flash.\")\n",
        "results.get(\"stored_instances\").get(\"Content is not text/html but application/atom+xml.\")\n",
        "results.get(\"stored_instances\").get(\"Content is not text/html but application/vnd.ms-powerpoint.\")\n",
        "results.get(\"stored_instances\").get(\"Content is not text/html but text/vnd.wap.wml; charset=utf-8.\")\n",
        "results.get(\"stored_instances\").get(\"Content is not text/html but text/plain; charset=UTF-8.\")\n",
        "results.get(\"stored_instances\").get(\"must be encoded string without NULL bytes, not str\")\n",
        "results.get(\"stored_instances\").get(\"Content is not text/html but magnus-internal/parsed-html, text/html;charset=UTF-8.\")\n",
        "results.get(\"stored_instances\").get(\"Content is not text/html but application/xhtml+xml; charset=UTF-8.\")\n",
        "results.get(\"stored_instances\").get(\"Secure socket error / bad HTTPs\")\n",
        "results.get(\"stored_instances\").get(\"Content is not text/html but application/pdf.\")\n",
        "results.get(\"stored_instances\").get(\"list index out of range\")\n",
        "results.get(\"stored_instances\").get(\"Content is not text/html but text/plain; charset=iso-8859-1.\")\n",
        "results.get(\"stored_instances\").get(\"Socket/urlopen error\")\n",
        "results.get(\"stored_instances\").get(\"Content is not text/html but application/json; charset=utf-8.\")\n",
        "results.get(\"stored_instances\").get(\"Soft time limit exceeded\")\n",
        "results.get(\"stored_instances\").get(\"Content is not text/html but application/x-tar.\")\n",
        "results.get(\"stored_instances\").get(\"Content is not text/html but application/atom+xml; charset=UTF-8.\")\n",
        "results.get(\"stored_instances\").get(\"Content is not text/html but application/pdf;charset=UTF-8.\")\n",
        "results.get(\"stored_instances\").get(\"404 Not found\")\n",
        "results.get(\"stored_instances\").get(\"'module' object has no attribute 'Strainer'\")\n",
        "results.get(\"stored_instances\").get(\"timed out\")\n",
        "results.get(\"stored_instances\").get(\"('Received response with content-encoding: gzip, but failed to decode it.', error('Error -3 while decompressing: incorrect data check',))\")\n",
        "results.get(\"stored_instances\").get(\"Content is not text/html but text/xml; charset=utf-8.\")\n",
        "results.get(\"stored_instances\").get(\"Error 111 connecting 10.0.3.100:6379. Connection refused.\")\n",
        "results.get(\"stored_instances\").get(\"Content is not text/html but audio/mpeg.\")\n",
        "results.get(\"stored_instances\").get(\"Content is not text/html but text/javascript; charset=utf-8.\")\n",
        "results.get(\"stored_instances\").get(\"<NO_ERROR_STRING_PROVIDED>\")\n",
        "results.get(\"stored_instances\").get(\"Content is not text/html but unspecified.\")\n",
        "results.get(\"stored_instances\").get(\"invalid literal for int() with base 10: 'start'\")\n",
        "results.get(\"stored_instances\").get(\"Failed to parse: Failed to parse: www.adobe.comhttp:\")\n",
        "results.get(\"stored_instances\").get(\"Content is not text/html but image/jpeg.\")\n",
        "results.get(\"stored_instances\").get(\"Content is not text/html but text/xml.\")\n",
        "results.get(\"stored_instances\").get(\"PDF instead of HTML article\")\n",
        "results.get(\"stored_instances\").get(\"Audio content instead of HTML article\")\n",
        "results.get(\"stored_instances\").get(\"Content is not text/html but application/x-bittorrent.\")\n",
        "results.get(\"stored_instances\").get(\"Content is not text/html but video/mp4.\")\n",
        "results.get(\"stored_instances\").get(\"Content is not text/html but application/msword.\")\n",
        "results.get(\"stored_instances\").get(\"Python maximum recursion loop\")\n"
       ]
      }
     ],
     "prompt_number": 18
    },
    {
     "cell_type": "code",
     "collapsed": false,
     "input": [
      "with benchmark():\n",
      "    for article in results.get(\"stored_instances\").get(\"'module' object has no attribute 'Strainer'\"):\n",
      "        article_fetch_content.apply_async((article.id, ), queue=\"fetch\")\n"
     ],
     "language": "python",
     "metadata": {},
     "outputs": [
      {
       "output_type": "stream",
       "stream": "stderr",
       "text": [
        "Generic benchmark started 2014-03-10 16:37, ran in 26 seconds.\n"
       ]
      }
     ],
     "prompt_number": 20
    },
    {
     "cell_type": "code",
     "collapsed": false,
     "input": [
      "with benchmark():\n",
      "    for article in results.get(\"stored_instances\").get(\"Soft time limit exceeded\"):\n",
      "        article_fetch_content.apply_async((article.id, ), queue=\"background\")"
     ],
     "language": "python",
     "metadata": {},
     "outputs": [
      {
       "output_type": "stream",
       "stream": "stderr",
       "text": [
        "Generic benchmark started 2014-03-10 16:45, ran in 51 seconds.\n"
       ]
      }
     ],
     "prompt_number": 21
    },
    {
     "cell_type": "code",
     "collapsed": false,
     "input": [
      "with benchmark():\n",
      "    for article in results.get(\"stored_instances\").get(\"Python maximum recursion loop\"):\n",
      "        article_fetch_content.apply_async((article.id, ), queue=\"background\")"
     ],
     "language": "python",
     "metadata": {},
     "outputs": [
      {
       "output_type": "stream",
       "stream": "stderr",
       "text": [
        "Generic benchmark started 2013-10-06 21:11, ran in 3 seconds.\n"
       ]
      }
     ],
     "prompt_number": 76
    },
    {
     "cell_type": "code",
     "collapsed": false,
     "input": [
      "special = Article.objects(content_error__ne=u'', url_absolute=False, url_error=u'')\n",
      "special.count()"
     ],
     "language": "python",
     "metadata": {},
     "outputs": [
      {
       "metadata": {},
       "output_type": "pyout",
       "prompt_number": 22,
       "text": [
        "1053"
       ]
      }
     ],
     "prompt_number": 22
    },
    {
     "cell_type": "code",
     "collapsed": false,
     "input": [
      "with benchmark():\n",
      "    for a in special:\n",
      "        article_absolutize_url.delay(a.id)"
     ],
     "language": "python",
     "metadata": {},
     "outputs": [],
     "prompt_number": 78
    },
    {
     "cell_type": "markdown",
     "metadata": {},
     "source": [
      "# Mutualized articles"
     ]
    },
    {
     "cell_type": "code",
     "collapsed": false,
     "input": [
      "mutualized_articles = {}\n",
      "for m_size in (2, 3, 4, 5, 6, 7, 8, 9, 10):\n",
      "    mutualized_articles[m_size] = Article.objects(feeds__size=m_size)\n",
      "    print '- %s feeds per article: %s' % (m_size, mutualized_articles[m_size].count())\n",
      "    for article in mutualized_articles[m_size][:2]:\n",
      "        print '    - #%s %s:\\n%s' % (article.id, article.title, '\\n'.join(('        - %s' % f ) for f in article.feeds))"
     ],
     "language": "python",
     "metadata": {},
     "outputs": [],
     "prompt_number": "*"
    },
    {
     "cell_type": "code",
     "collapsed": false,
     "input": [
      "a = Article.objects.get(id='5214b520a2463950af1a8f12')\n",
      "a, a.content_type, a.orphaned, a.duplicate_of"
     ],
     "language": "python",
     "metadata": {},
     "outputs": [
      {
       "output_type": "pyout",
       "prompt_number": 12,
       "text": [
        "(<Article: Google Maps int\u00e8gre les fonctionnalit\u00e9s de Waze (#5214b520a2463950af1a8f12) from http://www.begeek.fr/google-maps-integre-les-fonctionnalites-de-waze-101690>,\n",
        " 3,\n",
        " False,\n",
        " None)"
       ]
      }
     ],
     "prompt_number": 12
    },
    {
     "cell_type": "markdown",
     "metadata": {},
     "source": [
      "# Migrate `Article.feed` to `Article.feeds`"
     ]
    },
    {
     "cell_type": "code",
     "collapsed": false,
     "input": [
      "articles = Article.objects(Q(feeds__exists=False) | Q(feeds__size=0))\n",
      "\n",
      "changed = unchanged = crashed = 0\n",
      "\n",
      "with benchmark():\n",
      "    for article in articles.no_cache():\n",
      "        if article.feed:\n",
      "            try:\n",
      "                article.update(add_to_set__feeds=article.feed)\n",
      "            except:\n",
      "                crashed += 1\n",
      "            else:\n",
      "                article.update(set__feed=None)\n",
      "                changed += 1\n",
      "        else:\n",
      "            unchanged += 1\n",
      "print \">> %s processed, %s changed, %s unchanged, %s crashed\" % (changed + unchanged + crashed, changed, unchanged, crashed)"
     ],
     "language": "python",
     "metadata": {},
     "outputs": [
      {
       "output_type": "stream",
       "stream": "stderr",
       "text": [
        "Generic benchmark started 2013-08-26 13:40, ran in an hour.\n"
       ]
      },
      {
       "output_type": "stream",
       "stream": "stdout",
       "text": [
        ">> 2145334 processed, 2145086 changed, 248 unchanged, 0 crashed\n"
       ]
      }
     ],
     "prompt_number": 23
    },
    {
     "cell_type": "code",
     "collapsed": false,
     "input": [
      "import ast\n",
      "gr = []\n",
      "ogr = OriginalData.objects(Q(google_reader__ne=None) & (Q(google_reader_processed=False) | Q(google_reader_processed=None)))\n",
      "ogr.count()"
     ],
     "language": "python",
     "metadata": {},
     "outputs": [
      {
       "output_type": "pyout",
       "prompt_number": 16,
       "text": [
        "2051267"
       ]
      }
     ],
     "prompt_number": 16
    },
    {
     "cell_type": "code",
     "collapsed": false,
     "input": [
      "indexes = (1, 10, 11, 20, 22, 50, 55, 100, 110, 111, 200, 220, 222, 500, 550, 555, 1000, 1100, 1110, 1111, \n",
      "    2000, 2200, 2220, 2222, 3000, 3300, 3330, 3333, 5000, 5500, 5550, 5555, 10000, 11000, 11100, 11110, 11111, 20000, 22000, 22200, 22220, 22222,\n",
      "        10000, 110000, 111000, 111100, 111110, 111111, 200000, 220000, 222000, 222200, 222220, 222222, 500000, 550000, 555000, 555500, 555550, 555555)\n",
      "for x in indexes:\n",
      "    a = ogr[x]\n",
      "    gr.append((a.id, ast.literal_eval(a.google_reader)))"
     ],
     "language": "python",
     "metadata": {},
     "outputs": [],
     "prompt_number": "*"
    },
    {
     "cell_type": "code",
     "collapsed": false,
     "input": [
      "keys = set()\n",
      "okeys = {}\n",
      "\n",
      "for x in gr:\n",
      "    mykeys = x[1].keys()\n",
      "    \n",
      "    for k in mykeys:\n",
      "        keys.add(k)\n",
      "        \n",
      "        value = x[1].get(k)\n",
      "    \n",
      "        cur = okeys.get(k, set())\n",
      "        \n",
      "        if k in (u'summary', u'content', u'origin'):\n",
      "            print k, value.keys()\n",
      "            \n",
      "        try:\n",
      "            cur.union(set(value.keys()))\n",
      "\n",
      "        except Exception, e:\n",
      "            print e\n",
      "            #pass\n",
      "        \n",
      "        else:\n",
      "            okeys[k] = cur\n",
      "    \n",
      "keys, okeys"
     ],
     "language": "python",
     "metadata": {},
     "outputs": [],
     "prompt_number": "*"
    },
    {
     "cell_type": "markdown",
     "metadata": {},
     "source": [
      "# BIG RUN `article_postprocess_original_data()`\n",
      "\n",
      "Lanc\u00e9 le 20130827. 950007 t\u00e2ches lanc\u00e9es en 46 minutes.\n",
      "\n",
      "Dur\u00e9e du traitement inconnue (via `celery` c'est difficile de savoir), mais sup\u00e9rieure \u00e0 3h (tu m'\u00e9tonnes, \u00e7a se passe entre `orni` & `harvest`, avec les donn\u00e9es dans la base `archive` sur `harvest`."
     ]
    },
    {
     "cell_type": "code",
     "collapsed": false,
     "input": [
      "onfp = OriginalData.objects(feedparser__ne=None, feedparser_processed__ne=True)\n",
      "onfp.count()\n",
      "real = 0\n",
      "with benchmark():\n",
      "    for od in onfp:\n",
      "        if od.article.duplicate_of is None and not od.article.orphaned:\n",
      "            article_postprocess_original_data.apply_async((od.article.id, ), queue=\"swarm\")\n",
      "            real += 1\n",
      "'really done: %s' % real"
     ],
     "language": "python",
     "metadata": {},
     "outputs": [
      {
       "output_type": "pyout",
       "prompt_number": 2,
       "text": [
        "950007"
       ]
      }
     ],
     "prompt_number": 2
    },
    {
     "cell_type": "code",
     "collapsed": false,
     "input": [
      "onfp = OriginalData.objects(feedparser__ne=None, feedparser_processed__ne=True, duplicate_of=None, orphaned=False)\n",
      "onfp.count()"
     ],
     "language": "python",
     "metadata": {},
     "outputs": []
    },
    {
     "cell_type": "code",
     "collapsed": false,
     "input": [
      "limit=1000000\n",
      "duplicates = Article.objects(duplicate_of__ne=None).limit(limit).no_cache()\n",
      "orphaned   = Article.objects(orphaned=True).limit(limit).no_cache()\n",
      "\n",
      "with benchmark():\n",
      "    print duplicates.count(), orphaned.count()\n"
     ],
     "language": "python",
     "metadata": {},
     "outputs": [
      {
       "output_type": "stream",
       "stream": "stdout",
       "text": [
        "13288 "
       ]
      },
      {
       "output_type": "stream",
       "stream": "stderr",
       "text": [
        "Generic benchmark started 2013-09-10 00:39, ran in 19 seconds.\n"
       ]
      },
      {
       "output_type": "stream",
       "stream": "stdout",
       "text": [
        "449\n"
       ]
      }
     ],
     "prompt_number": 2
    },
    {
     "cell_type": "markdown",
     "metadata": {},
     "source": [
      "# Indexes"
     ]
    },
    {
     "cell_type": "code",
     "collapsed": false,
     "input": [
      "Article.ensure_indexes()"
     ],
     "language": "python",
     "metadata": {},
     "outputs": [],
     "prompt_number": 19
    },
    {
     "cell_type": "code",
     "collapsed": false,
     "input": [
      "Article.compare_indexes()"
     ],
     "language": "python",
     "metadata": {},
     "outputs": [
      {
       "output_type": "pyout",
       "prompt_number": 20,
       "text": [
        "{'extra': [[(u'date_published', 1)]], 'missing': []}"
       ]
      }
     ],
     "prompt_number": 20
    },
    {
     "cell_type": "code",
     "collapsed": false,
     "input": [
      "Read.ensure_index('user')"
     ],
     "language": "python",
     "metadata": {},
     "outputs": [
      {
       "output_type": "pyout",
       "prompt_number": 2,
       "text": [
        "u'user_1'"
       ]
      }
     ],
     "prompt_number": 2
    },
    {
     "cell_type": "code",
     "collapsed": false,
     "input": [
      "Article.ensure_index('duplicate_of')"
     ],
     "language": "python",
     "metadata": {},
     "outputs": [
      {
       "metadata": {},
       "output_type": "pyout",
       "prompt_number": 4,
       "text": [
        "u'duplicate_of_1'"
       ]
      }
     ],
     "prompt_number": 4
    },
    {
     "cell_type": "code",
     "collapsed": false,
     "input": [
      "with benchmark():\n",
      "    Article.ensure_index('source')"
     ],
     "language": "python",
     "metadata": {},
     "outputs": [
      {
       "output_type": "stream",
       "stream": "stderr",
       "text": [
        "Generic benchmark started 2013-10-01 09:20, ran in 15 seconds.\n"
       ]
      }
     ],
     "prompt_number": 5
    },
    {
     "cell_type": "code",
     "collapsed": false,
     "input": [
      "wikipedia = Article.objects(url__startswith=u'http://fr.wikipedia').no_cache(); count = wikipedia.count(); count"
     ],
     "language": "python",
     "metadata": {},
     "outputs": [
      {
       "metadata": {},
       "output_type": "pyout",
       "prompt_number": 2,
       "text": [
        "460034"
       ]
      }
     ],
     "prompt_number": 2
    },
    {
     "cell_type": "code",
     "collapsed": false,
     "input": [
      "with benchmark(\"delete %s\" % count):\n",
      "\n",
      "    for article in wikipedia:\n",
      "        article.delete()\n",
      "    "
     ],
     "language": "python",
     "metadata": {},
     "outputs": [],
     "prompt_number": "*"
    },
    {
     "cell_type": "code",
     "collapsed": false,
     "input": [],
     "language": "python",
     "metadata": {},
     "outputs": []
    }
   ],
   "metadata": {}
  }
 ]
}