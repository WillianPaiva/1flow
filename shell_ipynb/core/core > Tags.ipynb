{
 "metadata": {
  "name": ""
 },
 "nbformat": 3,
 "nbformat_minor": 0,
 "worksheets": [
  {
   "cells": [
    {
     "cell_type": "code",
     "collapsed": false,
     "input": [
      "from mongoengine.fields import DBRef\n",
      "from mongoengine.queryset import Q\n",
      "\n",
      "from oneflow.core.tasks import *\n",
      "from oneflow.core.models import *\n",
      "from oneflow.core.stats import *\n",
      "from oneflow.base.utils.dateutils import *\n",
      "\n",
      "from oneflow.base.utils.dateutils import now\n",
      "from oneflow import VERSION as version\n",
      "\n",
      "print '1flow v%s' % version"
     ],
     "language": "python",
     "metadata": {},
     "outputs": [
      {
       "output_type": "stream",
       "stream": "stderr",
       "text": [
        "Django found.\n"
       ]
      },
      {
       "output_type": "stream",
       "stream": "stderr",
       "text": [
        "Django found and fields and widgets loaded.\n"
       ]
      },
      {
       "output_type": "stream",
       "stream": "stdout",
       "text": [
        "1flow v0.25.12.2\n"
       ]
      }
     ],
     "prompt_number": 1
    },
    {
     "cell_type": "code",
     "collapsed": false,
     "input": [
      "Tag._get_collection().count()"
     ],
     "language": "python",
     "metadata": {},
     "outputs": [
      {
       "metadata": {},
       "output_type": "pyout",
       "prompt_number": 2,
       "text": [
        "571518"
       ]
      }
     ],
     "prompt_number": 2
    },
    {
     "cell_type": "code",
     "collapsed": false,
     "input": [
      "Folder.list_indexes()"
     ],
     "language": "python",
     "metadata": {},
     "outputs": [
      {
       "metadata": {},
       "output_type": "pyout",
       "prompt_number": 3,
       "text": [
        "[[('name', 1), ('owner', 1), ('parent', 1)], [(u'_id', 1)]]"
       ]
      }
     ],
     "prompt_number": 3
    },
    {
     "cell_type": "code",
     "collapsed": false,
     "input": [
      "synchronize_statsd_tags_gauges(full=True)"
     ],
     "language": "python",
     "metadata": {},
     "outputs": [
      {
       "output_type": "stream",
       "stream": "stderr",
       "text": [
        "synchronize statsd gauges for Tag.* started 2013-08-15 00:48, ran in a moment.\n"
       ]
      }
     ],
     "prompt_number": 3
    },
    {
     "cell_type": "code",
     "collapsed": false,
     "input": [
      "global_checker_task()"
     ],
     "language": "python",
     "metadata": {},
     "outputs": [
      {
       "metadata": {},
       "output_type": "pyout",
       "prompt_number": 22,
       "text": [
        "<AsyncResult: dc683a28-d981-479f-a721-672f213bf3d7>"
       ]
      }
     ],
     "prompt_number": 22
    },
    {
     "cell_type": "markdown",
     "metadata": {},
     "source": [
      "## Good & bad history\n",
      "\n",
      "    >> 2013-10-23 15:28:19.573172+00:00     all: 6054668     good: 2423783 40.03%     bad: 3630890 59.97%     diff: -5\n",
      "    >> 2013-10-23 15:48:30.134957+00:00     all: 6055647     good: 2425479 40.05%     bad: 3630244 59.95%     diff: -76\n",
      "    >> 2013-10-23 16:25:28.138271+00:00     all: 5957963     good: 2476557 41.57%     bad: 3481023 58.43%     diff: 383\n",
      "    >> 2013-10-23 16:32:05.792485+00:00     all: 5932345     good: 2485067 41.89%     bad: 3447381 58.11%     diff: -103\n",
      "    >> 2013-10-23 17:32:39.388388+00:00     all: 5661336     good: 2768218 48.90%     bad: 2890507 51.06%     diff: 2611\n",
      "    >> 2013-10-23 18:42:40.203940+00:00     all: 5309141     good: 2808502 52.90%     bad: 2502122 47.13%     diff: -1483\n",
      "    >> 2013-10-23 21:18:55.329526+00:00     all: 5314429     good: 2813090 52.93%     bad: 2502544 47.09%     diff: -1205\n",
      "    >> 2013-10-23 22:20:17.971187+00:00     all: 5316233     good: 3114275 58.58%     bad: 2201838 41.42%     diff: 120\n",
      "    >> 2013-10-24 08:17:51.611175+00:00     all: 5325612     good: 3257511 61.17%     bad: 2068115 38.83%     diff: -14\n",
      "    >> 2013-10-24 09:02:22.334031+00:00     all: 5326993     good: 3429256 64.38%     bad: 1897742 35.63%     diff: -5\n",
      "    >> 2013-10-24 11:55:21.774071+00:00     all: 5323456     good: 4007877 75.29%     bad: 1315405 24.71%     diff: 174\n",
      "    >> 2013-10-24 13:37:19.404195+00:00     all: 5307534     good: 4084549 76.96%     bad: 1222851 23.04%     diff: 134\n",
      "    >> 2013-10-24 16:08:35.750095+00:00     all: 5309745     good: 4334933 81.64%     bad: 974813 18.36%     diff: -1\n",
      "    >> 2013-10-24 16:41:26.607947+00:00     all: 5311436     good: 4373380 82.34%     bad: 938059 17.66%     diff: -3\n",
      "    >> 2013-10-25 05:28:38.863759+00:00     all: 5321041     good: 4388009 82.47%     bad: 933034 17.53%     diff: -2"
     ]
    },
    {
     "cell_type": "code",
     "collapsed": false,
     "input": [
      "all_reads  = Read._get_collection().count()\n",
      "good_reads = Read.objects(is_good=True).count()\n",
      "bad_reads  = Read.objects(Q(is_good__exists=False)|Q(is_good__ne=True)).count()\n",
      "\n",
      "print '>>', now(), '    all:', all_reads, '    good:', good_reads, u'%.2f%%' % (good_reads*100.0/all_reads), \\\n",
      "       '    bad:', bad_reads, u'%.2f%%' % (bad_reads*100.0/all_reads), '    diff:', all_reads - (good_reads+bad_reads)"
     ],
     "language": "python",
     "metadata": {},
     "outputs": [
      {
       "output_type": "stream",
       "stream": "stdout",
       "text": [
        ">> 2013-10-25 09:19:08.274453+00:00     all: 5328170     good: 4391582 82.42%     bad: 936609 17.58%     diff: -21\n"
       ]
      }
     ],
     "prompt_number": 3
    },
    {
     "cell_type": "code",
     "collapsed": false,
     "input": [
      "for user in User.objects(username__exists=False):\n",
      "    try:\n",
      "        user.post_create_task()\n",
      "    except:\n",
      "        user.delete()"
     ],
     "language": "python",
     "metadata": {},
     "outputs": [],
     "prompt_number": 20
    },
    {
     "cell_type": "code",
     "collapsed": false,
     "input": [
      "u = User.objects.get(username__icontains=u'lara') # Lara\n",
      "u, u.is_superuser, u.is_staff, u.permissions.read.full_text"
     ],
     "language": "python",
     "metadata": {},
     "outputs": [
      {
       "metadata": {},
       "output_type": "pyout",
       "prompt_number": 2,
       "text": [
        "(<User: lara.rouyres #526fc6c784cc176977c0b97d (Django ID: 434)>,\n",
        " False,\n",
        " False,\n",
        " True)"
       ]
      }
     ],
     "prompt_number": 2
    },
    {
     "cell_type": "code",
     "collapsed": false,
     "input": [
      "u = User.objects.get(username__icontains=u'karmak23'); u # Olive\n",
      "u, u.is_superuser, u.is_staff, u.permissions.read.full_text"
     ],
     "language": "python",
     "metadata": {},
     "outputs": [
      {
       "metadata": {},
       "output_type": "pyout",
       "prompt_number": 2,
       "text": [
        "(<User: karmak23 #51c66177e7a05b27f68ce435 (Django ID: 141)>,\n",
        " True,\n",
        " True,\n",
        " False)"
       ]
      }
     ],
     "prompt_number": 2
    },
    {
     "cell_type": "code",
     "collapsed": false,
     "input": [
      "u = User.objects.get(username__icontains=u'mchaignot'); u # Matthieu\n",
      "u, u.is_superuser, u.is_staff, u.permissions.read.full_text"
     ],
     "language": "python",
     "metadata": {},
     "outputs": [
      {
       "metadata": {},
       "output_type": "pyout",
       "prompt_number": 4,
       "text": [
        "(<User: mchaignot #51c71da1e7a05b27f691c7a1 (Django ID: 152)>,\n",
        " True,\n",
        " True,\n",
        " False)"
       ]
      }
     ],
     "prompt_number": 4
    },
    {
     "cell_type": "code",
     "collapsed": false,
     "input": [
      "u = User.objects.get(username__icontains=u'kirilulu'); u # Lulu\n",
      "u, u.is_superuser, u.is_staff, u.permissions.read.full_text"
     ],
     "language": "python",
     "metadata": {},
     "outputs": [
      {
       "metadata": {},
       "output_type": "pyout",
       "prompt_number": 6,
       "text": [
        "(<User: kirilulu #52711b0884cc1729eb1d12cb (Django ID: 437)>,\n",
        " False,\n",
        " False,\n",
        " True)"
       ]
      }
     ],
     "prompt_number": 6
    },
    {
     "cell_type": "code",
     "collapsed": false,
     "input": [
      "u = User.objects.get(username__icontains=u'cortes973'); u # Papa\n",
      "u, u.is_superuser, u.is_staff, u.permissions.read.full_text"
     ],
     "language": "python",
     "metadata": {},
     "outputs": [
      {
       "metadata": {},
       "output_type": "pyout",
       "prompt_number": 19,
       "text": [
        "(<User: alain.cortes973 #526e9f9f84cc17374f4df443 (Django ID: 433)>,\n",
        " False,\n",
        " False,\n",
        " True)"
       ]
      }
     ],
     "prompt_number": 19
    },
    {
     "cell_type": "code",
     "collapsed": false,
     "input": [
      "u.preferences.wizards.welcome_beta_shown = True\n",
      "u.preferences.save()"
     ],
     "language": "python",
     "metadata": {},
     "outputs": [
      {
       "metadata": {},
       "output_type": "pyout",
       "prompt_number": 4,
       "text": [
        "<Preferences: Preferences #526fc6c784cc176977c0b97c>"
       ]
      }
     ],
     "prompt_number": 4
    },
    {
     "cell_type": "code",
     "collapsed": false,
     "input": [
      "u.reads.count()"
     ],
     "language": "python",
     "metadata": {},
     "outputs": [
      {
       "metadata": {},
       "output_type": "pyout",
       "prompt_number": 6,
       "text": [
        "0"
       ]
      }
     ],
     "prompt_number": 6
    },
    {
     "cell_type": "code",
     "collapsed": false,
     "input": [
      "u.permissions.read.full_text=True\n",
      "u.save()"
     ],
     "language": "python",
     "metadata": {},
     "outputs": [
      {
       "metadata": {},
       "output_type": "pyout",
       "prompt_number": 18,
       "text": [
        "<User: alain.cortes973 #526e9f9f84cc17374f4df443 (Django ID: 433)>"
       ]
      }
     ],
     "prompt_number": 18
    },
    {
     "cell_type": "code",
     "collapsed": false,
     "input": [
      "u.check_subscriptions(extended_check=True)"
     ],
     "language": "python",
     "metadata": {},
     "outputs": [
      {
       "output_type": "stream",
       "stream": "stderr",
       "text": [
        "Checking subscription #526fc7d684cc176978f32cea failed\n",
        "Traceback (most recent call last):\n",
        "  File \"oneflow/core/models/nonrel/subscription.py\", line 508, in generic_check_subscriptions_method\n",
        "    extended_check=True)\n",
        "  File \"oneflow/core/models/nonrel/subscription.py\", line 265, in check_reads\n",
        "    for article in articles:\n",
        "  File \"/home/1flow/.virtualenvs/1flow/local/lib/python2.7/site-packages/mongoengine/queryset/queryset.py\", line 81, in _iter_results\n",
        "    self._populate_cache()\n",
        "  File \"/home/1flow/.virtualenvs/1flow/local/lib/python2.7/site-packages/mongoengine/queryset/queryset.py\", line 93, in _populate_cache\n",
        "    self._result_cache.append(self.next())\n",
        "  File \"/home/1flow/.virtualenvs/1flow/local/lib/python2.7/site-packages/mongoengine/queryset/base.py\", line 1127, in next\n",
        "    raw_doc = self._cursor.next()\n",
        "  File \"/home/1flow/.virtualenvs/1flow/local/lib/python2.7/site-packages/pymongo/cursor.py\", line 904, in next\n",
        "    if len(self.__data) or self._refresh():\n",
        "  File \"/home/1flow/.virtualenvs/1flow/local/lib/python2.7/site-packages/pymongo/cursor.py\", line 865, in _refresh\n",
        "    limit, self.__id))\n",
        "  File \"/home/1flow/.virtualenvs/1flow/local/lib/python2.7/site-packages/pymongo/cursor.py\", line 782, in __send_message\n",
        "    res = client._send_message_with_response(message, **kwargs)\n",
        "  File \"/home/1flow/.virtualenvs/1flow/local/lib/python2.7/site-packages/pymongo/mongo_client.py\", line 1042, in _send_message_with_response\n",
        "    response = self.__send_and_receive(message, sock_info)\n",
        "  File \"/home/1flow/.virtualenvs/1flow/local/lib/python2.7/site-packages/pymongo/mongo_client.py\", line 1020, in __send_and_receive\n",
        "    return self.__receive_message_on_socket(1, request_id, sock_info)\n",
        "  File \"/home/1flow/.virtualenvs/1flow/local/lib/python2.7/site-packages/pymongo/mongo_client.py\", line 1003, in __receive_message_on_socket\n",
        "    header = self.__receive_data_on_socket(16, sock_info)\n",
        "  File \"/home/1flow/.virtualenvs/1flow/local/lib/python2.7/site-packages/pymongo/mongo_client.py\", line 991, in __receive_data_on_socket\n",
        "    chunk = sock_info.sock.recv(length)\n",
        "KeyboardInterrupt\n"
       ]
      }
     ],
     "prompt_number": "*"
    },
    {
     "cell_type": "code",
     "collapsed": false,
     "input": [
      "w = u.web_import_subscription\n",
      "print u'%s: %s' % (w.name, w)"
     ],
     "language": "python",
     "metadata": {},
     "outputs": [
      {
       "output_type": "stream",
       "stream": "stdout",
       "text": [
        "\u00c9l\u00e9ments import\u00e9s: karmak23+\u00c9l\u00e9ments import\u00e9s de karmak23 (#5261bc6a84cc17323de9d409)\n"
       ]
      }
     ],
     "prompt_number": 10
    },
    {
     "cell_type": "code",
     "collapsed": false,
     "input": [
      "w.reads.count()"
     ],
     "language": "python",
     "metadata": {},
     "outputs": [
      {
       "metadata": {},
       "output_type": "pyout",
       "prompt_number": 25,
       "text": [
        "30"
       ]
      }
     ],
     "prompt_number": 25
    },
    {
     "cell_type": "code",
     "collapsed": false,
     "input": [
      "f = u.web_import_feed\n",
      "f, f.articles.count()"
     ],
     "language": "python",
     "metadata": {},
     "outputs": [
      {
       "metadata": {},
       "output_type": "pyout",
       "prompt_number": 12,
       "text": [
        "(<Feed: \u00c9l\u00e9ments import\u00e9s de karmak23 (#5261bc6a84cc17323de9d408)>, 30)"
       ]
      }
     ],
     "prompt_number": 12
    },
    {
     "cell_type": "code",
     "collapsed": false,
     "input": [
      "for i, a in enumerate(f.articles):\n",
      "    for r in a.reads:\n",
      "        r.set_subscriptions()\n",
      "    print '>>', i, a.id, a.title[:50], a.is_good, a.activate_reads(), a.reads.count(), a.reads(is_good=True).count()"
     ],
     "language": "python",
     "metadata": {},
     "outputs": [
      {
       "output_type": "stream",
       "stream": "stdout",
       "text": [
        ">> 0 521e27baa2463921e00c5b52 Selon une \u00e9tude, cr\u00e9er une entreprise en France n' True None 5 5\n",
        ">>"
       ]
      },
      {
       "output_type": "stream",
       "stream": "stdout",
       "text": [
        " 1 52260e25a246397858512049 Beyond Flat True None 4 4\n",
        ">>"
       ]
      },
      {
       "output_type": "stream",
       "stream": "stdout",
       "text": [
        " 2 5261c19d84cc17323b8125ee \u00c9l\u00e9ment import\u00e9 depuis http://plumechocolat.wordpr True None 1 1\n",
        ">>"
       ]
      },
      {
       "output_type": "stream",
       "stream": "stdout",
       "text": [
        " 3 5261c1b384cc17323b8125fc \u00c9l\u00e9ment import\u00e9 depuis http://www.gdelamarre.com/2 True None 1 1\n",
        ">>"
       ]
      },
      {
       "output_type": "stream",
       "stream": "stdout",
       "text": [
        " 4 5261c1b384cc17323b8125f4 \u00c9l\u00e9ment import\u00e9 depuis http://nzkoz.github.io/Mega True None 1 1\n",
        ">>"
       ]
      },
      {
       "output_type": "stream",
       "stream": "stdout",
       "text": [
        " 5 5261c1b384cc17323b81260c \u00c9l\u00e9ment import\u00e9 depuis http://devicenotready.com/p True None 1 1\n",
        ">>"
       ]
      },
      {
       "output_type": "stream",
       "stream": "stdout",
       "text": [
        " 6 5261c1b384cc17323b8125f6 \u00c9l\u00e9ment import\u00e9 depuis http://joel.is/post/5952526 True None 1 1\n",
        ">>"
       ]
      },
      {
       "output_type": "stream",
       "stream": "stdout",
       "text": [
        " 7 5261c1b384cc17323b812606 \u00c9l\u00e9ment import\u00e9 depuis https://medium.com/design-u True None 1 1\n",
        ">>"
       ]
      },
      {
       "output_type": "stream",
       "stream": "stdout",
       "text": [
        " 8 5261c1b384cc17323b812600 \u00c9l\u00e9ment import\u00e9 depuis http://www.economist.com/ne True None 1 1\n",
        ">>"
       ]
      },
      {
       "output_type": "stream",
       "stream": "stdout",
       "text": [
        " 9 5261c1b384cc17323b8125fa \u00c9l\u00e9ment import\u00e9 depuis http://www.stevenloria.com/ True None 1 1\n",
        ">>"
       ]
      },
      {
       "output_type": "stream",
       "stream": "stdout",
       "text": [
        " 10 5261c1b384cc17323b8125f8 \u00c9l\u00e9ment import\u00e9 depuis http://doc.ubuntu-fr.org/gi True None 1 1\n",
        ">>"
       ]
      },
      {
       "output_type": "stream",
       "stream": "stdout",
       "text": [
        " 11 5261c1b384cc17323b812604 \u00c9l\u00e9ment import\u00e9 depuis http://nicolasgallagher.com True None 1 1\n",
        ">>"
       ]
      },
      {
       "output_type": "stream",
       "stream": "stdout",
       "text": [
        " 12 5261c1b384cc17323b8125f2 \u00c9l\u00e9ment import\u00e9 depuis http://blog.sneawo.com/blog True None 1 1\n",
        ">>"
       ]
      },
      {
       "output_type": "stream",
       "stream": "stdout",
       "text": [
        " 13 5251806da246396fffd1d45b Five Best Personal Project Management Tools True None 8 "
       ]
      },
      {
       "output_type": "stream",
       "stream": "stdout",
       "text": [
        "8\n",
        ">>"
       ]
      },
      {
       "output_type": "stream",
       "stream": "stdout",
       "text": [
        " 14 526064ada246393e6e7282f0 \u2192 Feedly Adds Custom Sharing and \u201cPopular\u201d Section True None 2 2\n",
        ">>"
       ]
      },
      {
       "output_type": "stream",
       "stream": "stdout",
       "text": [
        " 15 526174cea2463917c6759acb [Interview] Comment Azendoo a d\u00e9pass\u00e9 les 100 000  True None 2 2\n",
        ">>"
       ]
      },
      {
       "output_type": "stream",
       "stream": "stdout",
       "text": [
        " 16 52624ad984cc17447acf3ad9 \u00c9l\u00e9ment import\u00e9 depuis http://tomdale.net/2013/09/ True None 1 1\n",
        ">>"
       ]
      },
      {
       "output_type": "stream",
       "stream": "stdout",
       "text": [
        " 17 52624ad984cc17447acf3adb \u00c9l\u00e9ment import\u00e9 depuis http://blog.hopefullyuseful True None 1 1\n",
        ">>"
       ]
      },
      {
       "output_type": "stream",
       "stream": "stdout",
       "text": [
        " 18 5262905784cc176bbf0d5eca \u00c9l\u00e9ment import\u00e9 depuis http://thomasvm.github.io/b True None 1 1\n",
        ">>"
       ]
      },
      {
       "output_type": "stream",
       "stream": "stdout",
       "text": [
        " 19 5262905784cc176bbf0d5ecc \u00c9l\u00e9ment import\u00e9 depuis http://dashboarddude.com/bl True None 1 1\n",
        ">>"
       ]
      },
      {
       "output_type": "stream",
       "stream": "stdout",
       "text": [
        " 20 5262905784cc176bbf0d5ec8 \u00c9l\u00e9ment import\u00e9 depuis http://www.lemonde.fr/techn True None 1 1\n",
        ">>"
       ]
      },
      {
       "output_type": "stream",
       "stream": "stdout",
       "text": [
        " 21 5262eadd84cc17144fa3f2a2 \u00c9l\u00e9ment import\u00e9 depuis http://www.youtube.com/watc True None 1 1\n",
        ">>"
       ]
      },
      {
       "output_type": "stream",
       "stream": "stdout",
       "text": [
        " 22 52638d8f771103575cc99bb4 Cerberus 0.9.0 - Nouvelle generation d'outil de te True None 2 2\n",
        ">>"
       ]
      },
      {
       "output_type": "stream",
       "stream": "stdout",
       "text": [
        " 23 5264d6c684cc172897c7f110 \u00c9l\u00e9ment import\u00e9 depuis http://uxmovement.com/forms True None 1 1\n",
        ">>"
       ]
      },
      {
       "output_type": "stream",
       "stream": "stdout",
       "text": [
        " 24 5265721aa2463976b0cc99a0 Hey software engineers, if you want the big bucks, True None 6 6\n",
        ">>"
       ]
      },
      {
       "output_type": "stream",
       "stream": "stdout",
       "text": [
        " 25 5266548584cc17493902105e \u00c9l\u00e9ment import\u00e9 depuis https://medium.com/weird-fu True None 1 1\n",
        ">>"
       ]
      },
      {
       "output_type": "stream",
       "stream": "stdout",
       "text": [
        " 26 52666cf584cc174935cbbfb9 \u00c9l\u00e9ment import\u00e9 depuis https://medium.com/i-m-h-o/ True None 1 1\n",
        ">>"
       ]
      },
      {
       "output_type": "stream",
       "stream": "stdout",
       "text": [
        " 27 52666e9e84cc174932a3a70e \u00c9l\u00e9ment import\u00e9 depuis http://bit.ly/Hc8cYm True None 1 1\n",
        ">>"
       ]
      },
      {
       "output_type": "stream",
       "stream": "stdout",
       "text": [
        " 28 5266e73984cc174935cbbfbb \u00c9l\u00e9ment import\u00e9 depuis http://getpocket.com/blog/2 True None 1 1\n",
        ">>"
       ]
      },
      {
       "output_type": "stream",
       "stream": "stdout",
       "text": [
        " 29 5266eff584cc174939021060 \u00c9l\u00e9ment import\u00e9 depuis http://blog.lefigaro.fr/med True None 1 1\n"
       ]
      }
     ],
     "prompt_number": 23
    },
    {
     "cell_type": "code",
     "collapsed": false,
     "input": [
      "a = Article.objects.get(id='5265721aa2463976b0cc99a0'); a"
     ],
     "language": "python",
     "metadata": {},
     "outputs": [
      {
       "metadata": {},
       "output_type": "pyout",
       "prompt_number": 17,
       "text": [
        "<Article: Hey software engineers, if you want the big bucks, think networking (#5265721aa2463976b0cc99a0) from http://gigaom.com/2013/10/21/hey-software-engineers-if-you-want-the-big-bucks-think-networking/>"
       ]
      }
     ],
     "prompt_number": 17
    },
    {
     "cell_type": "code",
     "collapsed": false,
     "input": [
      "[f.name for f in u.folders]"
     ],
     "language": "python",
     "metadata": {},
     "outputs": [
      {
       "metadata": {},
       "output_type": "pyout",
       "prompt_number": 8,
       "text": [
        "[u'Design',\n",
        " u'Kitesurf',\n",
        " u'\\xc9cologie, nature & \\xe9nergie',\n",
        " u'Photographie',\n",
        " u'Mariage',\n",
        " u'Mat\\xe9riel',\n",
        " u'Humour',\n",
        " u'Python',\n",
        " u'Apple & Mac',\n",
        " u'Linux & Ubuntu',\n",
        " u'Technologie',\n",
        " u'*BSD',\n",
        " u'Photographes fran\\xe7ais',\n",
        " u'Startups & entrepreunariat',\n",
        " u'Divers',\n",
        " u'G\\xe9n\\xe9raliste',\n",
        " u'Web, design or not',\n",
        " u'Codeurs']"
       ]
      }
     ],
     "prompt_number": 8
    },
    {
     "cell_type": "code",
     "collapsed": false,
     "input": [
      "f = Folder.objects(name=u'Sciences')"
     ],
     "language": "python",
     "metadata": {},
     "outputs": [],
     "prompt_number": 10
    },
    {
     "cell_type": "code",
     "collapsed": false,
     "input": [
      "f"
     ],
     "language": "python",
     "metadata": {},
     "outputs": [
      {
       "metadata": {},
       "output_type": "pyout",
       "prompt_number": 11,
       "text": [
        "[]"
       ]
      }
     ],
     "prompt_number": 11
    },
    {
     "cell_type": "code",
     "collapsed": false,
     "input": [
      "for r in a.reads:\n",
      "    r.set_subscriptions()"
     ],
     "language": "python",
     "metadata": {},
     "outputs": [],
     "prompt_number": 21
    },
    {
     "cell_type": "code",
     "collapsed": false,
     "input": [
      "r.subscriptions"
     ],
     "language": "python",
     "metadata": {},
     "outputs": [
      {
       "metadata": {},
       "output_type": "pyout",
       "prompt_number": 24,
       "text": [
        "[<Subscription: karmak23+\u00c9l\u00e9ments import\u00e9s de karmak23 (#5261bc6a84cc17323de9d409)>]"
       ]
      }
     ],
     "prompt_number": 24
    },
    {
     "cell_type": "code",
     "collapsed": false,
     "input": [
      "r.is_good"
     ],
     "language": "python",
     "metadata": {},
     "outputs": [
      {
       "metadata": {},
       "output_type": "pyout",
       "prompt_number": 28,
       "text": [
        "True"
       ]
      }
     ],
     "prompt_number": 28
    },
    {
     "cell_type": "code",
     "collapsed": false,
     "input": [
      "a.is_good"
     ],
     "language": "python",
     "metadata": {},
     "outputs": [
      {
       "metadata": {},
       "output_type": "pyout",
       "prompt_number": 25,
       "text": [
        "True"
       ]
      }
     ],
     "prompt_number": 25
    },
    {
     "cell_type": "code",
     "collapsed": false,
     "input": [
      "a.url_absolute"
     ],
     "language": "python",
     "metadata": {},
     "outputs": [
      {
       "metadata": {},
       "output_type": "pyout",
       "prompt_number": 19,
       "text": [
        "True"
       ]
      }
     ],
     "prompt_number": 19
    },
    {
     "cell_type": "code",
     "collapsed": false,
     "input": [
      "a.orphaned"
     ],
     "language": "python",
     "metadata": {},
     "outputs": [
      {
       "metadata": {},
       "output_type": "pyout",
       "prompt_number": 20,
       "text": [
        "False"
       ]
      }
     ],
     "prompt_number": 20
    },
    {
     "cell_type": "code",
     "collapsed": false,
     "input": [
      "a.duplicate_of"
     ],
     "language": "python",
     "metadata": {},
     "outputs": [],
     "prompt_number": 21
    },
    {
     "cell_type": "code",
     "collapsed": false,
     "input": [
      "a.content_type"
     ],
     "language": "python",
     "metadata": {},
     "outputs": [
      {
       "metadata": {},
       "output_type": "pyout",
       "prompt_number": 23,
       "text": [
        "0"
       ]
      }
     ],
     "prompt_number": 23
    },
    {
     "cell_type": "code",
     "collapsed": false,
     "input": [
      "a.fetch_content()"
     ],
     "language": "python",
     "metadata": {},
     "outputs": [
      {
       "output_type": "stream",
       "stream": "stderr",
       "text": [
        "Parsing text content for article \u00c9l\u00e9ment import\u00e9 depuis http://www.lemonde.fr/technologies/article/2013/07/02/prism-snowden-surveillance-de-la-nsa-tout-comprendre-en-6-etapes_3437984_651865.html (#5262905784cc176bbf0d5ec8) from http://www.lemonde.fr/technologies/article/2013/07/02/prism-snowden-surveillance-de-la-nsa-tout-comprendre-en-6-etapes_3437984_651865.html\u2026\n"
       ]
      },
      {
       "output_type": "stream",
       "stream": "stderr",
       "text": [
        "Starting new HTTP connection (1): www.lemonde.fr\n"
       ]
      },
      {
       "output_type": "stream",
       "stream": "stderr",
       "text": [
        "\"GET /technologies/article/2013/07/02/prism-snowden-surveillance-de-la-nsa-tout-comprendre-en-6-etapes_3437984_651865.html HTTP/1.1\" 200 26823\n"
       ]
      },
      {
       "output_type": "stream",
       "stream": "stderr",
       "text": [
        ">>> 14.000000: <div><span class=\"accroche\">D\u00e9j\u00e0 abonn\u00e9 au<br/>journal <em>Le Monde</em> ?</s\n"
       ]
      },
      {
       "output_type": "stream",
       "stream": "stderr",
       "text": [
        ">>> 2.000000: <a href=\"/international/article/2013/06/20/prism-l-operation-transparence-des-fi\n"
       ]
      },
      {
       "output_type": "stream",
       "stream": "stderr",
       "text": [
        ">>> 2.000000: <a href=\"http://www.guardian.co.uk/world/video/2013/jun/09/nsa-whistleblower-edw\n"
       ]
      },
      {
       "output_type": "stream",
       "stream": "stderr",
       "text": [
        ">>> 3.000000: <p class=\"copy\">\u00a9<span class=\"obf\" data-href=\"aHR0cDovL3d3dy5sZW1vbmRlLmZyL3Nlc\n"
       ]
      },
      {
       "output_type": "stream",
       "stream": "stderr",
       "text": [
        ">>> 12.000000: <p>Mais les activit\u00e9s de la NSA sont suspect\u00e9es d'<a class=\"lien_interne conju\n"
       ]
      },
      {
       "output_type": "stream",
       "stream": "stderr",
       "text": [
        ">>> 9.000000: <p>Le 1<sup>er</sup> ao\u00fbt, cinq semaines apr\u00e8s l'arriv\u00e9e de M. Snowden dans l\n"
       ]
      },
      {
       "output_type": "stream",
       "stream": "stderr",
       "text": [
        ">>> 10.000000: <p>L'enjeu est de taille pour ces services, qui <a href=\"/international/article/\n"
       ]
      },
      {
       "output_type": "stream",
       "stream": "stderr",
       "text": [
        ">>> 10.500000: <ul class=\"liste_chevron\"><li><a href=\"/technologies/article/2013/09/05/cybersur\n"
       ]
      },
      {
       "output_type": "stream",
       "stream": "stderr",
       "text": [
        ">>> 365.500000: <div class=\"container_18 clearfix\"><div class=\"grid_10 alpha prefix_1 suffix_1\">\n"
       ]
      },
      {
       "output_type": "stream",
       "stream": "stderr",
       "text": [
        ">>> 2.000000: <a href=\"/technologies/article/2013/09/06/cybersurveillance-les-etats-unis-tente\n"
       ]
      },
      {
       "output_type": "stream",
       "stream": "stderr",
       "text": [
        ">>> 4.000000: <p class=\"lire\">\u00a0Lire notre infographie : <a href=\"/international/infographie/2\n"
       ]
      },
      {
       "output_type": "stream",
       "stream": "stderr",
       "text": [
        ">>> 6.000000: <li class=\"clearfix\"><span class=\"identite\"><a href=\"/journaliste/michael-Szadko\n"
       ]
      },
      {
       "output_type": "stream",
       "stream": "stderr",
       "text": [
        ">>> 3.000000: <p><strong><a id=\"ancre6\">6. Qui est Edward Snowden ?</a></strong></p>\n"
       ]
      },
      {
       "output_type": "stream",
       "stream": "stderr",
       "text": [
        ">>> 4.000000: <li><a href=\"/technologies/article/2013/09/06/cybersurveillance-les-etats-unis-t\n"
       ]
      },
      {
       "output_type": "stream",
       "stream": "stderr",
       "text": [
        ">>> 487.500000: <article class=\"article article_normal\" itemscope=\"\" itemtype=\"http://schema.org\n"
       ]
      },
      {
       "output_type": "stream",
       "stream": "stderr",
       "text": [
        ">>> 15.000000: <p>L'Am\u00e9ricain a, depuis, re\u00e7u\u00a0<a href=\"/europe/article/2013/08/06/russie-sno\n"
       ]
      },
      {
       "output_type": "stream",
       "stream": "stderr",
       "text": [
        ">>> 228.500000: <body class=\"techno\"><p class=\"position_pub top habillage\" data-id=\"Top\"></p><di\n"
       ]
      },
      {
       "output_type": "stream",
       "stream": "stderr",
       "text": [
        ">>> 16.000000: <div class=\"bg_gris_moyen signature\"><ul class=\"liste_bordure\"><li class=\"clearf\n"
       ]
      },
      {
       "output_type": "stream",
       "stream": "stderr",
       "text": [
        ">>> 2.000000: <a href=\"/technologies/article/2013/09/05/cybersurveillance-la-nsa-a-contourne-l\n"
       ]
      },
      {
       "output_type": "stream",
       "stream": "stderr",
       "text": [
        ">>> 20.000000: <div class=\"grid_6 omega col_droite\"><p data-aj-uri=\"/ajah/5m/lemonde/www/Contro\n"
       ]
      },
      {
       "output_type": "stream",
       "stream": "stderr",
       "text": [
        ">>> 13.000000: <div><span class=\"titre\">Les rubriques du Monde.fr</span><span class=\"obf\" data-\n"
       ]
      },
      {
       "output_type": "stream",
       "stream": "stderr",
       "text": [
        ">>> 16.500000: <div class=\"contenu\"><ul class=\"liste_chevron\"><li><a href=\"/europe/article/2013\n"
       ]
      },
      {
       "output_type": "stream",
       "stream": "stderr",
       "text": [
        ">>> 3.000000: <a href=\"/technologies/article/2013/08/01/edward-snowden-a-obtenu-l-asile-tempor\n"
       ]
      },
      {
       "output_type": "stream",
       "stream": "stderr",
       "text": [
        ">>> 14.000000: <div><span class=\"titre\">Les services du Monde</span><span class=\"obf\" data-href\n"
       ]
      },
      {
       "output_type": "stream",
       "stream": "stderr",
       "text": [
        ">>> 11.000000: <p>Sit\u00f4t son identit\u00e9 connue, le 9 juin, Edward Snowden<strong> </strong>devie\n"
       ]
      },
      {
       "output_type": "stream",
       "stream": "stderr",
       "text": [
        ">>> 8.000000: <p><strong></strong>Le 6 et 7 juin, le <em>Guardian </em>et le <em><a class=\"lie\n"
       ]
      },
      {
       "output_type": "stream",
       "stream": "stderr",
       "text": [
        ">>> 2.000000: <a href=\"http://bugbrother.blog.lemonde.fr/2013/06/30/pourquoi-la-nsa-espionne-a\n"
       ]
      },
      {
       "output_type": "stream",
       "stream": "stderr",
       "text": [
        ">>> 2.000000: <a id=\"ancre7\">7. Pourquoi Edward Snowden s'est-il r\u00e9fugi\u00e9 \u00e0 Moscou ?</a>\n"
       ]
      },
      {
       "output_type": "stream",
       "stream": "stderr",
       "text": [
        ">>> 2.000000: <p class=\"bt\"><span class=\"btn\">S'abonner au Monde \u00e0 partir de 1 \u20ac</span></p>\n"
       ]
      },
      {
       "output_type": "stream",
       "stream": "stderr",
       "text": [
        ">>> 9.000000: <p><em></em> <em>\"Mon unique objectif est d'<a class=\"lien_interne conjug\" href=\n"
       ]
      },
      {
       "output_type": "stream",
       "stream": "stderr",
       "text": [
        ">>> 2.000000: <a href=\"http://www.latimes.com/news/politics/la-pn-snowden-nsa-secrets-thumb-dr\n"
       ]
      },
      {
       "output_type": "stream",
       "stream": "stderr",
       "text": [
        ">>> 7.000000: <p>Les premiers articles sur Prism faisaient \u00e9tat d'un <em>\"acc\u00e8s direct\" </em\n"
       ]
      },
      {
       "output_type": "stream",
       "stream": "stderr",
       "text": [
        ">>> 8.000000: <p>Edward Snowden effectue alors une demande d'asile <a class=\"lien_interne rub\"\n"
       ]
      },
      {
       "output_type": "stream",
       "stream": "stderr",
       "text": [
        ">>> 2.000000: <a href=\"/europe/article/2013/08/06/russie-snowden-courtise-pour-la-protection-d\n"
       ]
      },
      {
       "output_type": "stream",
       "stream": "stderr",
       "text": [
        ">>> 2.000000: <a href=\"#ancre5\">La NSA a-t-elle le droit de </a>\n"
       ]
      },
      {
       "output_type": "stream",
       "stream": "stderr",
       "text": [
        ">>> -14.500000: <div class=\"footer_gratuit txt3\"><a class=\"zone_abo\" href=\"http://www.lemonde.fr\n"
       ]
      },
      {
       "output_type": "stream",
       "stream": "stderr",
       "text": [
        ">>> 2.000000: <li><em><strong><strong><strong><a href=\"#ancre5\">La NSA a-t-elle le droit de </\n"
       ]
      },
      {
       "output_type": "stream",
       "stream": "stderr",
       "text": [
        ">>> -24.000000: <em><strong><a href=\"#ancre2\">Que reproche-t-on \u00e0 la NSA aujourd'hui ?</a></str\n"
       ]
      },
      {
       "output_type": "stream",
       "stream": "stderr",
       "text": [
        ">>> 18.500000: <div class=\"contenu\"><ul class=\"liste_chevron\"><li><a href=\"/technologies/articl\n"
       ]
      },
      {
       "output_type": "stream",
       "stream": "stderr",
       "text": [
        ">>> 10.000000: <p>La <a href=\"http://www.slate.com/articles/news_and_politics/jurisprudence/200\n"
       ]
      },
      {
       "output_type": "stream",
       "stream": "stderr",
       "text": [
        ">>> 4.000000: <p class=\"lire\">Lire : <a href=\"/technologies/article/2013/06/10/bataille-d-info\n"
       ]
      },
      {
       "output_type": "stream",
       "stream": "stderr",
       "text": [
        ">>> 2.000000: <a id=\"ancre6\">6. Qui est Edward Snowden ?</a>\n"
       ]
      },
      {
       "output_type": "stream",
       "stream": "stderr",
       "text": [
        ">>> 4.000000: <li><a href=\"/europe/article/2013/09/05/allo-la-nsa-pouvez-vous-m-aider-a-retrou\n"
       ]
      },
      {
       "output_type": "stream",
       "stream": "stderr",
       "text": [
        ">>> 12.000000: <p>Avant cela, cet informaticien avait travaill\u00e9 pour l'Agence centrale du rens\n"
       ]
      },
      {
       "output_type": "stream",
       "stream": "stderr",
       "text": [
        ">>> 3.000000: <a href=\"http://bigbrowser.blog.lemonde.fr/2013/09/11/arrose-arroseur-pour-la-ns\n"
       ]
      },
      {
       "output_type": "stream",
       "stream": "stderr",
       "text": [
        ">>> 2.000000: <p><em>Vous n'avez pas tout suivi ? Le Monde.fr <a class=\"lien_interne rub\" href\n"
       ]
      },
      {
       "output_type": "stream",
       "stream": "stderr",
       "text": [
        ">>> 2.000000: <a href=\"/technologies/article/2013/07/02/snowden-accuse-obama-de-faire-pression\n"
       ]
      },
      {
       "output_type": "stream",
       "stream": "stderr",
       "text": [
        ">>> 4.000000: <p class=\"lire\">Lire : <a href=\"/technologies/article/2013/07/31/l-outil-qui-per\n"
       ]
      },
      {
       "output_type": "stream",
       "stream": "stderr",
       "text": [
        ">>> 441.000000: <div class=\"global\"><p class=\"top_container_article\"></p><div class=\"container_1\n"
       ]
      },
      {
       "output_type": "stream",
       "stream": "stderr",
       "text": [
        ">>> 8.000000: <p>Dans un communiqu\u00e9, la NSA a mollement d\u00e9menti la collecte <em>\"arbitraire \n"
       ]
      },
      {
       "output_type": "stream",
       "stream": "stderr",
       "text": [
        ">>> 80.500000: <html lang=\"fr\"><body class=\"techno\"><p class=\"position_pub top habillage\" data-\n"
       ]
      },
      {
       "output_type": "stream",
       "stream": "stderr",
       "text": [
        ">>> 2.000000: <p><strong>2</strong><strong>. <a id=\"ancre2\"></a>Que reproche-t-on \u00e0 la NSA au\n"
       ]
      },
      {
       "output_type": "stream",
       "stream": "stderr",
       "text": [
        ">>> 2.000000: <ul class=\"liste_bordure\"><li class=\"clearfix\"><span class=\"identite\"><a href=\"/\n"
       ]
      },
      {
       "output_type": "stream",
       "stream": "stderr",
       "text": [
        ">>> 2.000000: <p class=\"index\">Index actualit\u00e9 : <a href=\"/index-rubriques/A/\">A</a> <a href=\n"
       ]
      },
      {
       "output_type": "stream",
       "stream": "stderr",
       "text": [
        ">>> -22.000000: <strong>Lire : <a href=\"/technologies/article/2013/08/01/edward-snowden-a-obtenu\n"
       ]
      },
      {
       "output_type": "stream",
       "stream": "stderr",
       "text": [
        ">>> 2.000000: <a class=\"tw13x13\" href=\"https://twitter.com/szadkowski_m\">Suivre ce journaliste\n"
       ]
      },
      {
       "output_type": "stream",
       "stream": "stderr",
       "text": [
        ">>> -23.000000: <strong><a id=\"ancre4\">4. Qu'est-ce que XKeyscore ?</a></strong>\n"
       ]
      },
      {
       "output_type": "stream",
       "stream": "stderr",
       "text": [
        ">>> 2.000000: <a href=\"http://www.monde-diplomatique.fr/mav/46/RIVIERE/m1\" target=\"_blank\">lar\n"
       ]
      },
      {
       "output_type": "stream",
       "stream": "stderr",
       "text": [
        ">>> 13.000000: <p>Prism est le nom du programme informatique mis en place par la NSA pour scann\n"
       ]
      },
      {
       "output_type": "stream",
       "stream": "stderr",
       "text": [
        ">>> 2.000000: <a id=\"ancre5\">5. La NSA a-t-elle le droit de </a>\n"
       ]
      },
      {
       "output_type": "stream",
       "stream": "stderr",
       "text": [
        ">>> 10.000000: <p>Si l'on en croit ce document de pr\u00e9sentation, dat\u00e9 de 2008, XKeyscore est c\n"
       ]
      },
      {
       "output_type": "stream",
       "stream": "stderr",
       "text": [
        ">>> 4.000000: <span class=\"suivre\"><strong class=\"txt1 txt_gris_moyen\">Suivre</strong><a class\n"
       ]
      },
      {
       "output_type": "stream",
       "stream": "stderr",
       "text": [
        ">>> 2.000000: <a href=\"http://www.newyorker.com/online/blogs/johncassidy/2013/06/why-edward-sn\n"
       ]
      },
      {
       "output_type": "stream",
       "stream": "stderr",
       "text": [
        ">>> 18.000000: <p>Selon les articles publi\u00e9s par les deux journaux, la NSA, de m\u00eame que le FB\n"
       ]
      },
      {
       "output_type": "stream",
       "stream": "stderr",
       "text": [
        ">>> 2.000000: <p class=\"lire\">Lire : <a href=\"/technologies/article/2013/06/12/pourquoi-stocke\n"
       ]
      },
      {
       "output_type": "stream",
       "stream": "stderr",
       "text": [
        ">>> -24.000000: <strong><strong><a href=\"#ancre7\">Pourquoi Edward Snowden est-il \u00e0 Moscou ?</a>\n"
       ]
      },
      {
       "output_type": "stream",
       "stream": "stderr",
       "text": [
        ">>> 2.000000: <a href=\"http://www.droit-technologie.org/actuality-427/echelon-le-projet-de-rap\n"
       ]
      },
      {
       "output_type": "stream",
       "stream": "stderr",
       "text": [
        ">>> 13.000000: <div class=\"bg_gris_moyen signature\"><ul class=\"liste_bordure\"><li class=\"clearf\n"
       ]
      },
      {
       "output_type": "stream",
       "stream": "stderr",
       "text": [
        ">>> 3.000000: <p><strong><a id=\"ancre4\">4. Qu'est-ce que XKeyscore ?</a></strong></p>\n"
       ]
      },
      {
       "output_type": "stream",
       "stream": "stderr",
       "text": [
        ">>> 8.000000: <p>De telles dispositions l\u00e9gales ont pu <a class=\"lien_interne conjug\" href=\"h\n"
       ]
      },
      {
       "output_type": "stream",
       "stream": "stderr",
       "text": [
        ">>> -57.500000: <div id=\"footer\"><div class=\"footer_gratuit txt3\"><a class=\"zone_abo\" href=\"http\n"
       ]
      },
      {
       "output_type": "stream",
       "stream": "stderr",
       "text": [
        ">>> 20.000000: <p>Apr\u00e8s plusieurs jours d'attente, le gouvernement \u00e9quatorien, qui a d\u00e9j\u00e0 o\n"
       ]
      },
      {
       "output_type": "stream",
       "stream": "stderr",
       "text": [
        ">>> 4.000000: <p><strong><a id=\"ancre5\">5. La NSA a-t-elle le droit de </a><a class=\"lien_inte\n"
       ]
      },
      {
       "output_type": "stream",
       "stream": "stderr",
       "text": [
        ">>> 2.000000: <a href=\"/international/infographie/2013/06/11/le-programme-prism-en-une-infogra\n"
       ]
      },
      {
       "output_type": "stream",
       "stream": "stderr",
       "text": [
        ">>> 2.000000: <li><span class=\"obf\" data-href=\"aHR0cDovL3d3dy5sZW1vbmRlLmZyL3dlYi9hYm9wYXBpZXI\n"
       ]
      },
      {
       "output_type": "stream",
       "stream": "stderr",
       "text": [
        ">>> 11.000000: <p>XKeyscore permet, par exemple, de <a class=\"lien_interne conjug\" href=\"http:/\n"
       ]
      },
      {
       "output_type": "stream",
       "stream": "stderr",
       "text": [
        ">>> 2.000000: <a href=\"http://www.slate.com/articles/news_and_politics/jurisprudence/2003/09/a\n"
       ]
      },
      {
       "output_type": "stream",
       "stream": "stderr",
       "text": [
        ">>> -33.000000: <div class=\"footer_bas\"><p class=\"sociaux\"><span>Suivez-nous</span><span class=\"\n"
       ]
      },
      {
       "output_type": "stream",
       "stream": "stderr",
       "text": [
        ">>> -37.000000: <div id=\"links_partenaires\"><span class=\"titre\">Sur le web</span><ul><li>\u203a <a \n"
       ]
      },
      {
       "output_type": "stream",
       "stream": "stderr",
       "text": [
        ">>> 3.000000: <p><strong><a id=\"ancre7\">7. Pourquoi Edward Snowden s'est-il r\u00e9fugi\u00e9 \u00e0 Mosco\n"
       ]
      },
      {
       "output_type": "stream",
       "stream": "stderr",
       "text": [
        ">>> -23.000000: <strong><a href=\"#ancre7\">Pourquoi Edward Snowden est-il \u00e0 Moscou ?</a></strong\n"
       ]
      },
      {
       "output_type": "stream",
       "stream": "stderr",
       "text": [
        ">>> 13.000000: <p>Ce faisant, il a rejoint le panth\u00e9on des d\u00e9fenseurs des <a class=\"lien_inte\n"
       ]
      },
      {
       "output_type": "stream",
       "stream": "stderr",
       "text": [
        ">>> 7.500000: <ul class=\"liste_chevron\"><li><a href=\"/europe/article/2013/09/05/allo-la-nsa-po\n"
       ]
      },
      {
       "output_type": "stream",
       "stream": "stderr",
       "text": [
        ">>> 4.000000: <p class=\"lire\">Lire : <a href=\"http://bugbrother.blog.lemonde.fr/2013/06/30/pou\n"
       ]
      },
      {
       "output_type": "stream",
       "stream": "stderr",
       "text": [
        ">>> 2.000000: <a href=\"/international/article/2013/06/06/l-operateur-telephonique-verizon-four\n"
       ]
      },
      {
       "output_type": "stream",
       "stream": "stderr",
       "text": [
        ">>> 6.000000: <p class=\"lire\">Lire : <a href=\"/technologies/article/2013/07/01/espionnage-amer\n"
       ]
      },
      {
       "output_type": "stream",
       "stream": "stderr",
       "text": [
        ">>> 2.000000: <p class=\"bloc_signature\"><span data-source=\"Le Monde.fr\" id=\"publisher\" itempro\n"
       ]
      },
      {
       "output_type": "stream",
       "stream": "stderr",
       "text": [
        ">>> 2.000000: <a class=\"avatar13x13\" href=\"/journaliste/damien-leloup/\" target=\"_blank\">Aller \n"
       ]
      },
      {
       "output_type": "stream",
       "stream": "stderr",
       "text": [
        ">>> 2.000000: <a href=\"/technologies/article/2013/08/07/affaire-snowden-barack-obama-annule-sa\n"
       ]
      },
      {
       "output_type": "stream",
       "stream": "stderr",
       "text": [
        ">>> -23.000000: <em>(<a class=\"lien_interne conjug\" href=\"http://conjugaison.lemonde.fr/conjugai\n"
       ]
      },
      {
       "output_type": "stream",
       "stream": "stderr",
       "text": [
        ">>> 2.000000: <p class=\"sociaux\"><span>Suivez-nous</span><span class=\"fb20x20 obf\" data-href=\"\n"
       ]
      },
      {
       "output_type": "stream",
       "stream": "stderr",
       "text": [
        ">>> -23.000000: <strong><a href=\"#ancre5\">La NSA a-t-elle le droit de </a><a class=\"lien_interne\n"
       ]
      },
      {
       "output_type": "stream",
       "stream": "stderr",
       "text": [
        ">>> 21.000000: <div class=\"deja_abonne\"><div><span class=\"accroche\">D\u00e9j\u00e0 abonn\u00e9 au<br/>journ\n"
       ]
      },
      {
       "output_type": "stream",
       "stream": "stderr",
       "text": [
        ">>> -24.000000: <strong><strong><a href=\"#ancre5\">La NSA a-t-elle le droit de </a><a class=\"lien\n"
       ]
      },
      {
       "output_type": "stream",
       "stream": "stderr",
       "text": [
        ">>> 10.000000: <p>Historiquement, les objectifs de la NSA ont toujours \u00e9t\u00e9 de nature militair\n"
       ]
      },
      {
       "output_type": "stream",
       "stream": "stderr",
       "text": [
        ">>> 6.000000: <li><a href=\"/economie/article/2013/08/25/la-vie-privee-un-obstacle-a-l-economie\n"
       ]
      },
      {
       "output_type": "stream",
       "stream": "stderr",
       "text": [
        ">>> 3.000000: <a href=\"/technologies/article/2013/07/01/espionnage-americain-le-point-sur-les-\n"
       ]
      },
      {
       "output_type": "stream",
       "stream": "stderr",
       "text": [
        ">>> 2.000000: <a href=\"http://www.theguardian.com/world/2013/jul/31/nsa-top-secret-program-onl\n"
       ]
      },
      {
       "output_type": "stream",
       "stream": "stderr",
       "text": [
        ">>> 2.000000: <p class=\"bt\"><span class=\"btn_abo obf\" data-href=\"L2Fiby8/YW1wO2NsZWY9QkxPQ0FCT\n"
       ]
      },
      {
       "output_type": "stream",
       "stream": "stderr",
       "text": [
        ">>> 7.000000: <p>Le fonctionnement pr\u00e9cis de Prism, cr\u00e9\u00e9 en 2007, n'est pas compl\u00e8tement c\n"
       ]
      },
      {
       "output_type": "stream",
       "stream": "stderr",
       "text": [
        ">>> 2.000000: <a href=\"#ancre2\">Que reproche-t-on \u00e0 la NSA aujourd'hui ?</a>\n"
       ]
      },
      {
       "output_type": "stream",
       "stream": "stderr",
       "text": [
        ">>> 2.000000: <a href=\"http://www.guardian.co.uk/world/2013/jul/02/ecuador-rafael-correa-snowd\n"
       ]
      },
      {
       "output_type": "stream",
       "stream": "stderr",
       "text": [
        ">>> 2.000000: <h2>La NSA, pour <a class=\"lien_interne\" href=\"http://www.lemonde.fr/sujet/57f5/\n"
       ]
      },
      {
       "output_type": "stream",
       "stream": "stderr",
       "text": [
        ">>> 7.000000: <p>Selon le cadre l\u00e9gislatif actuellement en vigueur aux Etats-Unis, oui. Le go\n"
       ]
      },
      {
       "output_type": "stream",
       "stream": "stderr",
       "text": [
        ">>> 4.500000: <p class=\"lire\"><strong>Lire : <a href=\"/technologies/article/2013/07/23/prism-e\n"
       ]
      },
      {
       "output_type": "stream",
       "stream": "stderr",
       "text": [
        ">>> 11.000000: <p><a href=\"/technologies/article/2013/06/23/edward-snowden-en-route-vers-moscou\n"
       ]
      },
      {
       "output_type": "stream",
       "stream": "stderr",
       "text": [
        ">>> 3.000000: <li class=\"clearfix\"><span class=\"identite\"><a href=\"/journaliste/damien-leloup/\n"
       ]
      },
      {
       "output_type": "stream",
       "stream": "stderr",
       "text": [
        ">>> 9.000000: <p>En 2012, le prolongement de la loi FISA dans sa forme actuelle (apr\u00e8s des mo\n"
       ]
      },
      {
       "output_type": "stream",
       "stream": "stderr",
       "text": [
        ">>> 2.000000: <a href=\"/europe/article/2013/09/05/allo-la-nsa-pouvez-vous-m-aider-a-retrouver-\n"
       ]
      },
      {
       "output_type": "stream",
       "stream": "stderr",
       "text": [
        ">>> 4.500000: <p class=\"lire\"><strong>Lire : <a href=\"/technologies/article/2013/08/01/edward-\n"
       ]
      },
      {
       "output_type": "stream",
       "stream": "stderr",
       "text": [
        ">>> 8.000000: <p>La quantit\u00e9 faramineuse de donn\u00e9es concern\u00e9es par ce programme oblige la N\n"
       ]
      },
      {
       "output_type": "stream",
       "stream": "stderr",
       "text": [
        ">>> -24.000000: <strong><strong><a href=\"#ancre4\">Qu'est-ce que XKeyscore ?</a></strong></strong\n"
       ]
      },
      {
       "output_type": "stream",
       "stream": "stderr",
       "text": [
        ">>> 2.000000: <a href=\"/technologies/article/2013/07/01/eelv-demande-a-la-france-d-accorder-l-\n"
       ]
      },
      {
       "output_type": "stream",
       "stream": "stderr",
       "text": [
        ">>> 2.000000: <span class=\"suivre\"><strong class=\"txt1 txt_gris_moyen\">Suivre</strong><a class\n"
       ]
      },
      {
       "output_type": "stream",
       "stream": "stderr",
       "text": [
        ">>> 21.000000: <aside class=\"bloc_base meme_sujet\"><span class=\"entete txt6\">Ecoutes num\u00e9rique\n"
       ]
      },
      {
       "output_type": "stream",
       "stream": "stderr",
       "text": [
        ">>> 2.000000: <a href=\"/technologies/article/2013/07/31/l-outil-qui-permet-a-la-nsa-d-examiner\n"
       ]
      },
      {
       "output_type": "stream",
       "stream": "stderr",
       "text": [
        ">>> 10.000000: <p><em>Les <a class=\"lien_interne rub\" href=\"http://www.lemonde.fr/services/\">se\n"
       ]
      },
      {
       "output_type": "stream",
       "stream": "stderr",
       "text": [
        ">>> 10.000000: <p>Les effectifs et les moyens de la NSA ne sont pas connus pr\u00e9cis\u00e9ment. Mais \n"
       ]
      },
      {
       "output_type": "stream",
       "stream": "stderr",
       "text": [
        ">>> 16.000000: <p>Malgr\u00e9 tout, les premi\u00e8res informations suffisent pour <a class=\"lien_inter\n"
       ]
      },
      {
       "output_type": "stream",
       "stream": "stderr",
       "text": [
        ">>> 2.000000: <a href=\"http://www.dni.gov/index.php/intelligence-community/members-of-the-ic\" \n"
       ]
      },
      {
       "output_type": "stream",
       "stream": "stderr",
       "text": [
        ">>> -23.000000: <strong><a id=\"ancre6\">6. Qui est Edward Snowden ?</a></strong>\n"
       ]
      },
      {
       "output_type": "stream",
       "stream": "stderr",
       "text": [
        ">>> 2.000000: <li><em><strong><strong><strong><strong><strong><a href=\"#ancre7\">Pourquoi Edwar\n"
       ]
      },
      {
       "output_type": "stream",
       "stream": "stderr",
       "text": [
        ">>> -23.000000: <strong><a id=\"ancre7\">7. Pourquoi Edward Snowden s'est-il r\u00e9fugi\u00e9 \u00e0 Moscou ?\n"
       ]
      },
      {
       "output_type": "stream",
       "stream": "stderr",
       "text": [
        ">>> 3.000000: <a href=\"/technologies/article/2013/07/23/prism-edward-snowden-un-mois-de-demand\n"
       ]
      },
      {
       "output_type": "stream",
       "stream": "stderr",
       "text": [
        ">>> 8.000000: <p><a href=\"/technologies/article/2013/07/01/espionnage-la-france-etait-aussi-ci\n"
       ]
      },
      {
       "output_type": "stream",
       "stream": "stderr",
       "text": [
        ">>> 2.000000: <p class=\"lire\">Lire : <a href=\"http://rezonances.blog.lemonde.fr/2013/06/10/est\n"
       ]
      },
      {
       "output_type": "stream",
       "stream": "stderr",
       "text": [
        ">>> 2.000000: <a href=\"#ancre4\">Qu'est-ce que XKeyscore ?</a>\n"
       ]
      },
      {
       "output_type": "stream",
       "stream": "stderr",
       "text": [
        ">>> 12.000000: <ol><li><em><a href=\"#ancre1\"><strong><strong>Qu'est-ce que la NSA ?</strong></s\n"
       ]
      },
      {
       "output_type": "stream",
       "stream": "stderr",
       "text": [
        ">>> 6.000000: <p>Ces premi\u00e8res r\u00e9v\u00e9lations ont \u00e9t\u00e9 suivies d'autres mises en cause dans d\n"
       ]
      },
      {
       "output_type": "stream",
       "stream": "stderr",
       "text": [
        ">>> 2.000000: <ul><li><span class=\"obf\" data-href=\"aHR0cDovL3d3dy5sZW1vbmRlLmZyL3dlYi9hYm9wYXB\n"
       ]
      },
      {
       "output_type": "stream",
       "stream": "stderr",
       "text": [
        ">>> -23.000000: <strong><a href=\"#ancre2\">Que reproche-t-on \u00e0 la NSA aujourd'hui ?</a></strong>\n"
       ]
      },
      {
       "output_type": "stream",
       "stream": "stderr",
       "text": [
        ">>> 2.000000: <a id=\"ancre4\">4. Qu'est-ce que XKeyscore ?</a>\n"
       ]
      },
      {
       "output_type": "stream",
       "stream": "stderr",
       "text": [
        ">>> -22.000000: <strong>Lire : <a href=\"/technologies/article/2013/07/23/prism-edward-snowden-un\n"
       ]
      },
      {
       "output_type": "stream",
       "stream": "stderr",
       "text": [
        ">>> 701.500000: <div class=\"contenu_article\" id=\"articleBody\"><p><em>Les <a class=\"lien_interne \n"
       ]
      },
      {
       "output_type": "stream",
       "stream": "stderr",
       "text": [
        ">>> 2.000000: <li><em><strong><strong><strong><a href=\"#ancre4\">Qu'est-ce que XKeyscore ?</a><\n"
       ]
      },
      {
       "output_type": "stream",
       "stream": "stderr",
       "text": [
        ">>> 3.000000: <a href=\"/economie/article/2013/08/25/la-vie-privee-un-obstacle-a-l-economie-num\n"
       ]
      },
      {
       "output_type": "stream",
       "stream": "stderr",
       "text": [
        ">>> 2.000000: <a href=\"/technologies/article/2013/06/14/surveillance-d-internet-la-vie-privee-\n"
       ]
      },
      {
       "output_type": "stream",
       "stream": "stderr",
       "text": [
        ">>> 16.000000: <a class=\"zone_abo\" href=\"http://www.lemonde.fr/abo/?clef=LT_FOOTERHOMENEA\"><div\n"
       ]
      },
      {
       "output_type": "stream",
       "stream": "stderr",
       "text": [
        ">>> 2.000000: <p class=\"pictos\"><span class=\"text\">Retrouvez le meilleur de notre communaut\u00e9<\n"
       ]
      },
      {
       "output_type": "stream",
       "stream": "stderr",
       "text": [
        ">>> 13.000000: <p>Le <em>Guardian</em> <a href=\"http://www.theguardian.com/world/2013/jul/31/ns\n"
       ]
      },
      {
       "output_type": "stream",
       "stream": "stderr",
       "text": [
        ">>> 6.000000: <li><a href=\"http://bigbrowser.blog.lemonde.fr/2013/09/11/arrose-arroseur-pour-l\n"
       ]
      },
      {
       "output_type": "stream",
       "stream": "stderr",
       "text": [
        ">>> 4.000000: <li><a href=\"/technologies/article/2013/09/05/cybersurveillance-la-nsa-a-contour\n"
       ]
      },
      {
       "output_type": "stream",
       "stream": "stderr",
       "text": [
        ">>> -23.000000: <strong><a id=\"ancre5\">5. La NSA a-t-elle le droit de </a><a class=\"lien_interne\n"
       ]
      },
      {
       "output_type": "stream",
       "stream": "stderr",
       "text": [
        ">>> 14.000000: <div class=\"sociaux\"><p class=\"entete\">Nous suivre</p><p class=\"pictos\"><span cl\n"
       ]
      },
      {
       "output_type": "stream",
       "stream": "stderr",
       "text": [
        ">>> 2.000000: <a href=\"#ancre7\">Pourquoi Edward Snowden est-il \u00e0 Moscou ?</a>\n"
       ]
      },
      {
       "output_type": "stream",
       "stream": "stderr",
       "text": [
        ">>> 327.000000: <div class=\"grid_10 alpha prefix_1 suffix_1\"><article class=\"article article_nor\n"
       ]
      },
      {
       "output_type": "stream",
       "stream": "stderr",
       "text": [
        ">>> 2.000000: <li><em><strong><a href=\"#ancre2\">Que reproche-t-on \u00e0 la NSA aujourd'hui ?</a><\n"
       ]
      },
      {
       "output_type": "stream",
       "stream": "stderr",
       "text": [
        ">>> 11.000000: <p><strong></strong>Edward Snowden est un citoyen am\u00e9ricain de 30 ans, \u00e0 l'ori\n"
       ]
      },
      {
       "output_type": "stream",
       "stream": "stderr",
       "text": [
        ">>> 4.000000: <p class=\"contenu\"><span>Le monde abonnements</span>Profitez du journal o\u00f9 et q\n"
       ]
      },
      {
       "output_type": "stream",
       "stream": "stderr",
       "text": [
        ">>> 2.000000: <a href=\"http://www.npr.org/2013/06/10/190453533/fisa-court-has-approved-majorit\n"
       ]
      },
      {
       "output_type": "stream",
       "stream": "stderr",
       "text": [
        ">>> 6.000000: <p class=\"description\">Journal d'information en ligne, Le Monde.fr offre \u00e0 ses \n"
       ]
      },
      {
       "output_type": "stream",
       "stream": "stderr",
       "text": [
        ">>> 20.000000: <div class=\"abonnement\"><p class=\"contenu\"><span>Le monde abonnements</span>Prof\n"
       ]
      },
      {
       "output_type": "stream",
       "stream": "stderr",
       "text": [
        ">>> 8.000000: <p>Elles ont ouvert la voie \u00e0 l'actuelle surveillance \u00e0 grande \u00e9chelle des co\n"
       ]
      },
      {
       "output_type": "stream",
       "stream": "stderr",
       "text": [
        ">>> 2.000000: <a class=\"avatar13x13\" href=\"/journaliste/michael-Szadkowski/\" target=\"_blank\">A\n"
       ]
      },
      {
       "output_type": "stream",
       "stream": "stderr",
       "text": [
        ">>> -26.000000: <div class=\"footer_listes\"><div><span class=\"titre\">Les rubriques du Monde.fr</s\n"
       ]
      },
      {
       "output_type": "stream",
       "stream": "stderr",
       "text": [
        ">>> 4.000000: <ul class=\"liste_bordure\"><li class=\"clearfix\"><span class=\"identite\"><a href=\"/\n"
       ]
      },
      {
       "output_type": "stream",
       "stream": "stderr",
       "text": [
        ">>> 13.000000: <div class=\"rubriques_liees\"><a href=\"/reseaux-sociaux/\">R\u00e9seaux sociaux</a> \ufffd\n"
       ]
      },
      {
       "output_type": "stream",
       "stream": "stderr",
       "text": [
        ">>> -23.000000: <strong><a href=\"#ancre4\">Qu'est-ce que XKeyscore ?</a></strong>\n"
       ]
      },
      {
       "output_type": "stream",
       "stream": "stderr",
       "text": [
        ">>> 14.000000: <div><span class=\"titre\">Les sites du Groupe</span><span class=\"obf\" data-href=\"\n"
       ]
      },
      {
       "output_type": "stream",
       "stream": "stderr",
       "text": [
        ">>> 2.000000: <a href=\"/technologies/article/2013/06/10/bataille-d-informations-autour-de-l-ou\n"
       ]
      },
      {
       "output_type": "stream",
       "stream": "stderr",
       "text": [
        "Converting article \u00c9l\u00e9ment import\u00e9 depuis http://www.lemonde.fr/technologies/article/2013/07/02/prism-snowden-surveillance-de-la-nsa-tout-comprendre-en-6-etapes_3437984_651865.html (#5262905784cc176bbf0d5ec8) from http://www.lemonde.fr/technologies/article/2013/07/02/prism-snowden-surveillance-de-la-nsa-tout-comprendre-en-6-etapes_3437984_651865.html to markdown\u2026\n"
       ]
      },
      {
       "output_type": "stream",
       "stream": "stderr",
       "text": [
        "Article.find_image() needs love, disabled for now.\n"
       ]
      },
      {
       "output_type": "stream",
       "stream": "stderr",
       "text": [
        "Done parsing content for article \u00c9l\u00e9ment import\u00e9 depuis http://www.lemonde.fr/technologies/article/2013/07/02/prism-snowden-surveillance-de-la-nsa-tout-comprendre-en-6-etapes_3437984_651865.html (#5262905784cc176bbf0d5ec8) from http://www.lemonde.fr/technologies/article/2013/07/02/prism-snowden-surveillance-de-la-nsa-tout-comprendre-en-6-etapes_3437984_651865.html.\n"
       ]
      }
     ],
     "prompt_number": 24
    },
    {
     "cell_type": "code",
     "collapsed": false,
     "input": [],
     "language": "python",
     "metadata": {},
     "outputs": []
    }
   ],
   "metadata": {}
  }
 ]
}