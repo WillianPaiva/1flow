{
 "metadata": {
  "name": ""
 },
 "nbformat": 3,
 "nbformat_minor": 0,
 "worksheets": [
  {
   "cells": [
    {
     "cell_type": "markdown",
     "metadata": {},
     "source": [
      "# Python imports / setup"
     ]
    },
    {
     "cell_type": "code",
     "collapsed": false,
     "input": [
      "from oneflow.core.models.nonrel import *\n",
      "from oneflow.core.stats import *\n",
      "from oneflow.base.utils.dateutils import *\n",
      "\n",
      "from mongoengine.queryset import Q\n",
      "from statsd import statsd\n",
      "\n",
      "from oneflow import VERSION as version\n",
      "print u'1flow v%s, statsd %s' % (version, u', '.join(u'%s' % (v,) for k,v in statsd.__dict__.items() if k != '_sock'))"
     ],
     "language": "python",
     "metadata": {},
     "outputs": [],
     "prompt_number": 14
    },
    {
     "cell_type": "code",
     "collapsed": false,
     "input": [
      "u = User.objects.get(username='fyouzan')"
     ],
     "language": "python",
     "metadata": {},
     "outputs": [],
     "prompt_number": 15
    },
    {
     "cell_type": "code",
     "collapsed": false,
     "input": [
      "u.subscriptions"
     ],
     "language": "python",
     "metadata": {},
     "outputs": [
      {
       "metadata": {},
       "output_type": "pyout",
       "prompt_number": 16,
       "text": [
        "[<Subscription: fyouzan+1flow news (#53444a7b84cc174933ca2b67)>, <Subscription: fyouzan+General-RFI (#53444c2b84cc174931c44e0c)>, <Subscription: fyouzan+Florent Youzan (#5344542784cc174933ca2b6a)>]"
       ]
      }
     ],
     "prompt_number": 16
    },
    {
     "cell_type": "code",
     "collapsed": false,
     "input": [
      "for sub in u.subscriptions:\n",
      "    print '>>', sub, sub.feed, sub.feed.closed"
     ],
     "language": "python",
     "metadata": {},
     "outputs": [
      {
       "output_type": "stream",
       "stream": "stdout",
       "text": [
        ">> fyouzan+1flow news (#53444a7b84cc174933ca2b67) 1flow news (#51c66183e7a05b27f68ce43a) False\n",
        ">> fyouzan+General-RFI (#53444c2b84cc174931c44e0c) General-RFI (#53444c2b84cc174931c44e0b) False\n",
        ">> fyouzan+Florent Youzan (#5344542784cc174933ca2b6a) Florent Youzan (#5344534f84cc17493598ee55) False\n"
       ]
      }
     ],
     "prompt_number": 17
    },
    {
     "cell_type": "code",
     "collapsed": false,
     "input": [
      "Subscription.objects.get(id='533936d084cc17567215b88b').delete()"
     ],
     "language": "python",
     "metadata": {},
     "outputs": [],
     "prompt_number": 10
    },
    {
     "cell_type": "code",
     "collapsed": false,
     "input": [
      "u.check_subscriptions(True, extended_check=True)"
     ],
     "language": "python",
     "metadata": {},
     "outputs": [
      {
       "output_type": "stream",
       "stream": "stderr",
       "text": [
        "Checked subscription #53444a7b84cc174933ca2b67. 55/1 non-existing/re-checked, 53/2 read/unread and 0 not created.\n"
       ]
      },
      {
       "output_type": "stream",
       "stream": "stderr",
       "text": [
        "Checked subscription #53444c2b84cc174931c44e0c. 0/11 non-existing/re-checked, 0/0 read/unread and 0 not created.\n"
       ]
      },
      {
       "output_type": "stream",
       "stream": "stderr",
       "text": [
        "Checked subscription #5344542784cc174933ca2b6a. 13/0 non-existing/re-checked, 13/0 read/unread and 0 not created.\n"
       ]
      },
      {
       "output_type": "stream",
       "stream": "stderr",
       "text": [
        "Checked User #534448be84cc1749385425d5 with 3 subscriptions. Totals: 68/12 non-existing/re-checked reads, 66/2 read/unread and 0 not created.\n"
       ]
      }
     ],
     "prompt_number": 18
    },
    {
     "cell_type": "code",
     "collapsed": false,
     "input": [
      "for s in u.subscriptions:\n",
      "    if s.name is None:\n",
      "        print s.id"
     ],
     "language": "python",
     "metadata": {},
     "outputs": [],
     "prompt_number": 9
    },
    {
     "cell_type": "code",
     "collapsed": false,
     "input": [
      "s = Subscription.objects.get(id='526299fc84cc176bbf0d5ecf')"
     ],
     "language": "python",
     "metadata": {},
     "outputs": [],
     "prompt_number": 4
    },
    {
     "cell_type": "code",
     "collapsed": false,
     "input": [
      "u.web_import_subscription.reads"
     ],
     "language": "python",
     "metadata": {},
     "outputs": [
      {
       "metadata": {},
       "output_type": "pyout",
       "prompt_number": 16,
       "text": [
        "[<Read: mchaignot #51c71da1e7a05b27f691c7a1 (Django ID: 152)\u221e\u00c9l\u00e9ment import\u00e9 depuis http://www.voici.fr/news-people/actu-people/michel-delpech-raconte-son-combat-difficile-contre-la-maladie-508360 (#5262b3f084cc177cc2264e35) from http://www.voici.fr/news-people/actu-people/michel-delpech-raconte-son-combat-difficile-contre-la-maladie-508360 (#5262b40384cc177cc2264e36) unread 0.0>]"
       ]
      }
     ],
     "prompt_number": 16
    },
    {
     "cell_type": "code",
     "collapsed": false,
     "input": [
      "u.web_import_subscription.feed.articles[0].feeds"
     ],
     "language": "python",
     "metadata": {},
     "outputs": [
      {
       "metadata": {},
       "output_type": "pyout",
       "prompt_number": 17,
       "text": [
        "[<Feed: \u00c9l\u00e9ments import\u00e9s de mchaignot (#526299fc84cc176bbf0d5ece)>]"
       ]
      }
     ],
     "prompt_number": 17
    },
    {
     "cell_type": "code",
     "collapsed": false,
     "input": [
      "s.name = u'\u00c9l\u00e9ments import\u00e9s'\n",
      "s.save()"
     ],
     "language": "python",
     "metadata": {},
     "outputs": [
      {
       "metadata": {},
       "output_type": "pyout",
       "prompt_number": 6,
       "text": [
        "<Subscription: mchaignot+\u00c9l\u00e9ments import\u00e9s de mchaignot (#526299fc84cc176bbf0d5ecf)>"
       ]
      }
     ],
     "prompt_number": 6
    },
    {
     "cell_type": "markdown",
     "metadata": {},
     "source": [
      "# Fetch *unparsed* articles\n",
      "\n",
      "**NOTE**: re-enable content parsing in http://1flow.io/admin/constance/config/ first!!\n",
      "\n",
      "## If there is only a few"
     ]
    },
    {
     "cell_type": "code",
     "collapsed": false,
     "input": [
      "html_articles = Article.objects(content_type=1)\n",
      "remaining = html_articles.filter(Q(content_error='') & Q(url_error=''))\n",
      "html_articles.count(), remaining.count()\n"
     ],
     "language": "python",
     "metadata": {},
     "outputs": [
      {
       "output_type": "pyout",
       "prompt_number": 2,
       "text": [
        "(906, 313)"
       ]
      }
     ],
     "prompt_number": 2
    },
    {
     "cell_type": "code",
     "collapsed": false,
     "input": [
      "with benchmark('html errors'):\n",
      "    for article in html_articles:\n",
      "        #print article.id, article.url, article.content_error[:50]\n",
      "        if article.url.startswith('http://feedproxy.google.com'):\n",
      "            article.absolutize_url()\n",
      "        \n",
      "        if article.content_error.startswith('SoftTime'):\n",
      "            print article.id, article.url, len(article.content)\n",
      "            #article.convert_to_markdown()\n",
      "        #article.convert_to_markdown()\n",
      "#    print article.url_error, article.id, article.orphaned"
     ],
     "language": "python",
     "metadata": {},
     "outputs": []
    },
    {
     "cell_type": "code",
     "collapsed": false,
     "input": [
      "with benchmark('html conversion'):\n",
      "    for article in remaining:\n",
      "        print article.id, article.url, article.content_type, article.content_error, article.url_error, len(article.content)\n",
      "        article.convert_to_markdown()\n",
      "#    print article.url_error, article.id, article.orphaned"
     ],
     "language": "python",
     "metadata": {},
     "outputs": []
    },
    {
     "cell_type": "markdown",
     "metadata": {},
     "source": [
      "## If there are a lot"
     ]
    },
    {
     "cell_type": "code",
     "collapsed": false,
     "input": [
      "# NOTE: re-enable content parsing in constance first!!\n",
      "\n",
      "with no_dereference(Article) as Article:\n",
      "    unparsed = Article.objects(content_type__exists=False).no_cache()\n",
      "    start_time = pytime.time()\n",
      "    last_time = start_time\n",
      "    \n",
      "for run in xrange(1000):    \n",
      "    for article in unparsed[run*1000:(run+1)*1000]:\n",
      "        article.fetch_content.apply_async((), queue='fetch')\n",
      "    \n",
      "    if run % 100 == 0:\n",
      "        print '%s >> loop #%s launched in %s' % (now().isoformat(), run, naturaldelta(pytime.time()-start_time))\n",
      "    \n",
      "print '%s >> %s loops launched in %s' % (now().isoformat(), run, naturaldelta(pytime.time()-start_time))"
     ],
     "language": "python",
     "metadata": {},
     "outputs": [
      {
       "output_type": "stream",
       "stream": "stdout",
       "text": [
        "Loop #0 launched in a second\n",
        "Loop #100 launched in 3 minutes"
       ]
      }
     ],
     "prompt_number": "*"
    },
    {
     "cell_type": "code",
     "collapsed": false,
     "input": [
      "unparsed.count()"
     ],
     "language": "python",
     "metadata": {},
     "outputs": [
      {
       "output_type": "pyout",
       "prompt_number": 23,
       "text": [
        "353814"
       ]
      }
     ],
     "prompt_number": 23
    },
    {
     "cell_type": "code",
     "collapsed": false,
     "input": [
      "a = unparsed[0]"
     ],
     "language": "python",
     "metadata": {},
     "outputs": [],
     "prompt_number": 24
    },
    {
     "cell_type": "code",
     "collapsed": false,
     "input": [
      "a.content_error"
     ],
     "language": "python",
     "metadata": {},
     "outputs": [],
     "prompt_number": 25
    },
    {
     "cell_type": "markdown",
     "metadata": {},
     "source": [
      "# Archiving of original data\n",
      "\n",
      "**NOTE**: the *move* sections have been run in `byobu` in production, to avoid network connection problems. I keep them here just for future reference."
     ]
    },
    {
     "cell_type": "code",
     "collapsed": false,
     "input": [
      "feedp = Article.objects(feedparser_original_data__exists=True).no_cache()\n",
      "with benchmark():\n",
      "    feedp.count()"
     ],
     "language": "python",
     "metadata": {},
     "outputs": [
      {
       "output_type": "pyout",
       "prompt_number": 2,
       "text": [
        "540593"
       ]
      }
     ],
     "prompt_number": 2
    },
    {
     "cell_type": "code",
     "collapsed": false,
     "input": [
      "grp = Article.objects(google_reader_original_data__exists=True).no_cache()\n",
      "with benchmark():\n",
      "    print grp.count()"
     ],
     "language": "python",
     "metadata": {},
     "outputs": [
      {
       "output_type": "stream",
       "stream": "stderr",
       "text": [
        "Generic benchmark started 2013-08-12 18:15, ran in 4 minutes.\n"
       ]
      },
      {
       "output_type": "stream",
       "stream": "stdout",
       "text": [
        "2051267\n"
       ]
      }
     ],
     "prompt_number": 4
    },
    {
     "cell_type": "code",
     "collapsed": false,
     "input": [
      "with benchmark('Moving %s feedparser data' % feedp.count()):\n",
      "    for article in feedp:\n",
      "        article.add_original_data('feedparser', article.feedparser_original_data)\n",
      "        del article.feedparser_original_data\n",
      "        try:\n",
      "            article.save()\n",
      "        except:\n",
      "            pass"
     ],
     "language": "python",
     "metadata": {},
     "outputs": []
    },
    {
     "cell_type": "code",
     "collapsed": false,
     "input": [
      "with benchmark('Moving %s Google Reader data' % grp.count()):\n",
      "    for article in grp:\n",
      "        article.add_original_data('google_reader', unicode(article.google_reader_original_data))\n",
      "        del article.google_reader_original_data\n",
      "        try:\n",
      "            article.save()\n",
      "        except:\n",
      "            pass"
     ],
     "language": "python",
     "metadata": {},
     "outputs": []
    },
    {
     "cell_type": "markdown",
     "metadata": {},
     "source": [
      "## In-error articles"
     ]
    },
    {
     "cell_type": "code",
     "collapsed": false,
     "input": [
      "Article.objects(url_error=None).update(set__url_error=''), Article.objects(content_error=None).update(set__content_error='')"
     ],
     "language": "python",
     "metadata": {},
     "outputs": [
      {
       "output_type": "pyout",
       "prompt_number": 3,
       "text": [
        "(0, 5970)"
       ]
      }
     ],
     "prompt_number": 3
    },
    {
     "cell_type": "code",
     "collapsed": false,
     "input": [
      "results, display = article_content_error_types_display()\n",
      "print display"
     ],
     "language": "python",
     "metadata": {},
     "outputs": [
      {
       "output_type": "stream",
       "stream": "stdout",
       "text": [
        ">> Content error types: 20 distinct on 9976 instances, computed in 2 seconds\n",
        "list index out of range: 2795\n",
        "Other socket or HTTP Error: 2793\n",
        "Soft time limit exceeded: 1257\n",
        "Encoding error: 1058\n",
        "Python maximum recursion loop: 594\n",
        "Secure socket error / bad HTTPs: 447\n",
        "Audio content instead of HTML article: 305\n",
        "timed out: 145\n",
        "'NoneType' object has no attribute 'findAll': 140\n",
        "HTTPs certificate error: 125\n",
        "Socket/urlopen error: 104\n",
        "No encoding specified server side: 98\n",
        "PDF instead of HTML article: 91\n",
        "Received response with content-encoding: gzip, but failed to decode it.: 8\n",
        "need more than 1 value to unpack: 6\n",
        "Image instead of HTML article: 6\n",
        "invalid literal for int() with base 10: 'start': 1\n",
        "Failed to parse: Failed to parse: www.adobe.comhttp:: 1\n",
        "'': 1\n",
        "too many values to unpack: 1\n",
        "\n",
        ">> to get them, stored by error kind:\n",
        "results.get(\"stored_instances\").get(\"timed out\")\n",
        "results.get(\"stored_instances\").get(\"need more than 1 value to unpack\")\n",
        "results.get(\"stored_instances\").get(\"Secure socket error / bad HTTPs\")\n",
        "results.get(\"stored_instances\").get(\"invalid literal for int() with base 10: 'start'\")\n",
        "results.get(\"stored_instances\").get(\"Received response with content-encoding: gzip, but failed to decode it.\")\n",
        "results.get(\"stored_instances\").get(\"Failed to parse: Failed to parse: www.adobe.comhttp:\")\n",
        "results.get(\"stored_instances\").get(\"HTTPs certificate error\")\n",
        "results.get(\"stored_instances\").get(\"''\")\n",
        "results.get(\"stored_instances\").get(\"Image instead of HTML article\")\n",
        "results.get(\"stored_instances\").get(\"Encoding error\")\n",
        "results.get(\"stored_instances\").get(\"too many values to unpack\")\n",
        "results.get(\"stored_instances\").get(\"Audio content instead of HTML article\")\n",
        "results.get(\"stored_instances\").get(\"No encoding specified server side\")\n",
        "results.get(\"stored_instances\").get(\"'NoneType' object has no attribute 'findAll'\")\n",
        "results.get(\"stored_instances\").get(\"Soft time limit exceeded\")\n",
        "results.get(\"stored_instances\").get(\"PDF instead of HTML article\")\n",
        "results.get(\"stored_instances\").get(\"Socket/urlopen error\")\n",
        "results.get(\"stored_instances\").get(\"Other socket or HTTP Error\")\n",
        "results.get(\"stored_instances\").get(\"list index out of range\")\n",
        "results.get(\"stored_instances\").get(\"Python maximum recursion loop\")\n"
       ]
      }
     ],
     "prompt_number": 34
    },
    {
     "cell_type": "code",
     "collapsed": false,
     "input": [
      "for article in results.get(\"stored_instances\").get(\"could not connect to 188.165.193.204:27017: timed out\"):\n",
      "    article.fetch_content.apply_async((True,))"
     ],
     "language": "python",
     "metadata": {},
     "outputs": [],
     "prompt_number": 20
    },
    {
     "cell_type": "code",
     "collapsed": false,
     "input": [
      "for article in results.get(\"stored_instances\").get(\"Tried to save duplicate unique keys (E11000 duplicate key error index: \"\n",
      "\"oneflow.web_site.$url_1  dup key: { : \\\"http://www.librarystuff.net\\\" })\"):\n",
      "    article.fetch_content.apply_async((True,))"
     ],
     "language": "python",
     "metadata": {},
     "outputs": [],
     "prompt_number": 23
    },
    {
     "cell_type": "code",
     "collapsed": false,
     "input": [
      "for article in results.get(\"stored_instances\").get(\"''\"):\n",
      "    article.fetch_content.apply_async((True,))"
     ],
     "language": "python",
     "metadata": {},
     "outputs": [],
     "prompt_number": 30
    },
    {
     "cell_type": "code",
     "collapsed": false,
     "input": [
      "to_start = 1000\n",
      "started = 0\n",
      "seen_articles = []\n",
      "\n",
      "for bunch in (ares.get('error_articles'), ares.get('error2_articles')):\n",
      "    for article in bunch:\n",
      "        if article.id in seen_articles:\n",
      "            continue\n",
      "        \n",
      "        seen_articles.append(article.id)\n",
      "        \n",
      "        #if article.content_error.startswith('feed() got'):\n",
      "        if True:\n",
      "            #print '>> starting', article.id\n",
      "            article.fetch_content.apply_async((True,), queue='low')\n",
      "            started += 1\n",
      "            if started == to_start:\n",
      "                break\n",
      "    if started == to_start:\n",
      "        break"
     ],
     "language": "python",
     "metadata": {},
     "outputs": [],
     "prompt_number": 31
    },
    {
     "cell_type": "markdown",
     "metadata": {},
     "source": [
      "## Re-fetch of specific-error articles"
     ]
    },
    {
     "cell_type": "code",
     "collapsed": false,
     "input": [
      "for article in utf8_errors:\n",
      "    article.fetch_content.apply_async((True,), queue='low')"
     ],
     "language": "python",
     "metadata": {},
     "outputs": [],
     "prompt_number": 27
    },
    {
     "cell_type": "code",
     "collapsed": false,
     "input": [
      "# Send the timeout errors to the low-priority queue\n",
      "for article in timeout_errors:\n",
      "    article.fetch_content.apply_async((True,), queue='low')"
     ],
     "language": "python",
     "metadata": {},
     "outputs": [],
     "prompt_number": 4
    },
    {
     "cell_type": "code",
     "collapsed": false,
     "input": [
      "Article.ensure_index('date_published')"
     ],
     "language": "python",
     "metadata": {},
     "outputs": [
      {
       "output_type": "pyout",
       "prompt_number": 17,
       "text": [
        "u'date_published_1'"
       ]
      }
     ],
     "prompt_number": 17
    },
    {
     "cell_type": "code",
     "collapsed": false,
     "input": [
      "a = Article.objects.get(id='51c95e99e7a05b27f696e11d')\n",
      "a.content_type"
     ],
     "language": "python",
     "metadata": {},
     "outputs": [
      {
       "output_type": "pyout",
       "prompt_number": 9,
       "text": [
        "0"
       ]
      }
     ],
     "prompt_number": 9
    },
    {
     "cell_type": "code",
     "collapsed": false,
     "input": [
      "a.content_type"
     ],
     "language": "python",
     "metadata": {},
     "outputs": [
      {
       "output_type": "pyout",
       "prompt_number": 52,
       "text": [
        "0"
       ]
      }
     ],
     "prompt_number": 52
    },
    {
     "cell_type": "code",
     "collapsed": false,
     "input": [
      "a.fetch_content()"
     ],
     "language": "python",
     "metadata": {},
     "outputs": [],
     "prompt_number": 10
    },
    {
     "cell_type": "code",
     "collapsed": false,
     "input": [
      "a.content_error"
     ],
     "language": "python",
     "metadata": {},
     "outputs": [
      {
       "output_type": "pyout",
       "prompt_number": 11,
       "text": [
        "u''"
       ]
      }
     ],
     "prompt_number": 11
    },
    {
     "cell_type": "code",
     "collapsed": false,
     "input": [
      "a.url_error"
     ],
     "language": "python",
     "metadata": {},
     "outputs": [
      {
       "output_type": "pyout",
       "prompt_number": 12,
       "text": [
        "u''"
       ]
      }
     ],
     "prompt_number": 12
    },
    {
     "cell_type": "code",
     "collapsed": false,
     "input": [
      "a.orphaned, a.url"
     ],
     "language": "python",
     "metadata": {},
     "outputs": [
      {
       "output_type": "pyout",
       "prompt_number": 14,
       "text": [
        "(False, u'http://thisispaper.com/Yvonne-Kwok-Graduation-Collection')"
       ]
      }
     ],
     "prompt_number": 14
    },
    {
     "cell_type": "code",
     "collapsed": false,
     "input": [
      "created = True\n",
      "mutualized = False"
     ],
     "language": "python",
     "metadata": {},
     "outputs": [],
     "prompt_number": 6
    },
    {
     "cell_type": "code",
     "collapsed": false,
     "input": [
      "created or (None if mutualized else False)\n"
     ],
     "language": "python",
     "metadata": {},
     "outputs": [
      {
       "output_type": "pyout",
       "prompt_number": 8,
       "text": [
        "True"
       ]
      }
     ],
     "prompt_number": 8
    },
    {
     "cell_type": "code",
     "collapsed": false,
     "input": [
      "'%+g|g' % (3)"
     ],
     "language": "python",
     "metadata": {},
     "outputs": [
      {
       "output_type": "pyout",
       "prompt_number": 2,
       "text": [
        "'+3|g'"
       ]
      }
     ],
     "prompt_number": 2
    },
    {
     "cell_type": "code",
     "collapsed": false,
     "input": [
      "count = 0\n",
      "\n",
      "with benchmark('clean None tags'):\n",
      "    for article in Article.objects(tags__contains=None).no_cache():\n",
      "        try:\n",
      "            article.tags.remove(None)\n",
      "        except ValueError:\n",
      "            pass\n",
      "        else:\n",
      "            article.save()\n",
      "            count += 1\n",
      "    print 'cleaned %s articles'"
     ],
     "language": "python",
     "metadata": {},
     "outputs": [],
     "prompt_number": "*"
    },
    {
     "cell_type": "markdown",
     "metadata": {},
     "source": [
      "# Markdown link reparsing (v1->v2)"
     ]
    },
    {
     "cell_type": "code",
     "collapsed": false,
     "input": [
      "with benchmark('post-process markdown links'):\n",
      "    for article in Article.objects.filter(content_type__in=(CONTENT_TYPE_MARKDOWN, CONTENT_TYPE_MARKDOWN_V1)).no_cache():\n",
      "        article.postprocess_markdown_links()"
     ],
     "language": "python",
     "metadata": {},
     "outputs": [],
     "prompt_number": "*"
    },
    {
     "cell_type": "code",
     "collapsed": false,
     "input": [
      "Article.objects.filter(content_type=CONTENT_TYPE_MARKDOWN_V1).count()"
     ],
     "language": "python",
     "metadata": {},
     "outputs": [
      {
       "output_type": "pyout",
       "prompt_number": 2,
       "text": [
        "10"
       ]
      }
     ],
     "prompt_number": 2
    },
    {
     "cell_type": "code",
     "collapsed": false,
     "input": [
      "Article.objects.filter(content_type=CONTENT_TYPE_HTML).count()"
     ],
     "language": "python",
     "metadata": {},
     "outputs": [
      {
       "output_type": "pyout",
       "prompt_number": 3,
       "text": [
        "348"
       ]
      }
     ],
     "prompt_number": 3
    },
    {
     "cell_type": "code",
     "collapsed": false,
     "input": [
      "Article.objects.filter(content_type=CONTENT_TYPE_NONE).count()"
     ],
     "language": "python",
     "metadata": {},
     "outputs": [
      {
       "output_type": "pyout",
       "prompt_number": 4,
       "text": [
        "86513"
       ]
      }
     ],
     "prompt_number": 4
    },
    {
     "cell_type": "code",
     "collapsed": false,
     "input": [
      "Article.objects.filter(content_type=CONTENT_TYPE_MARKDOWN).count()"
     ],
     "language": "python",
     "metadata": {},
     "outputs": [
      {
       "output_type": "pyout",
       "prompt_number": 5,
       "text": [
        "2792168"
       ]
      }
     ],
     "prompt_number": 5
    },
    {
     "cell_type": "code",
     "collapsed": false,
     "input": [
      "Article.objects.filter(url_error__ne='').count()"
     ],
     "language": "python",
     "metadata": {},
     "outputs": [
      {
       "output_type": "pyout",
       "prompt_number": 6,
       "text": [
        "88686"
       ]
      }
     ],
     "prompt_number": 6
    },
    {
     "cell_type": "code",
     "collapsed": false,
     "input": [
      "a = Article.objects.filter(url_error__ne='').distinct(field=\"url_error\")"
     ],
     "language": "python",
     "metadata": {},
     "outputs": [],
     "prompt_number": 7
    },
    {
     "cell_type": "code",
     "collapsed": false,
     "input": [
      "len(a)"
     ],
     "language": "python",
     "metadata": {},
     "outputs": [
      {
       "output_type": "pyout",
       "prompt_number": 8,
       "text": [
        "86706"
       ]
      }
     ],
     "prompt_number": 8
    },
    {
     "cell_type": "code",
     "collapsed": false,
     "input": [
      "Article.objects(content_error=None).count()"
     ],
     "language": "python",
     "metadata": {},
     "outputs": [
      {
       "output_type": "pyout",
       "prompt_number": 9,
       "text": [
        "1"
       ]
      }
     ],
     "prompt_number": 9
    },
    {
     "cell_type": "code",
     "collapsed": false,
     "input": [
      "for article in Article.objects(content_error=None):\n",
      "    article.update(set__content_error='')"
     ],
     "language": "python",
     "metadata": {},
     "outputs": [],
     "prompt_number": 11
    },
    {
     "cell_type": "code",
     "collapsed": false,
     "input": [
      "Article.objects(url_error=None).count()"
     ],
     "language": "python",
     "metadata": {},
     "outputs": [
      {
       "output_type": "pyout",
       "prompt_number": 12,
       "text": [
        "2"
       ]
      }
     ],
     "prompt_number": 12
    },
    {
     "cell_type": "code",
     "collapsed": false,
     "input": [
      "for article in Article.objects(url_error=None):\n",
      "    article.update(set__url_error='')"
     ],
     "language": "python",
     "metadata": {},
     "outputs": [],
     "prompt_number": 13
    },
    {
     "cell_type": "code",
     "collapsed": false,
     "input": [
      "articles = Article.objects(Q(feeds__exists=False) | Q(feeds__size=0))\n",
      "articles.count()"
     ],
     "language": "python",
     "metadata": {},
     "outputs": [
      {
       "output_type": "pyout",
       "prompt_number": 7,
       "text": [
        "248"
       ]
      }
     ],
     "prompt_number": 7
    },
    {
     "cell_type": "code",
     "collapsed": false,
     "input": [
      "gr = fp = gr2 = fp2 = nothing = 0\n",
      "\n",
      "for article in articles:\n",
      "    if article.original_data.feedparser:\n",
      "        fp += 1\n",
      "    elif article.feedparser_original_data:\n",
      "        fp2 +=  1\n",
      "    elif article.original_data.google_reader:\n",
      "        gr += 1\n",
      "    elif article.google_reader_original_data:\n",
      "        gr2 += 1\n",
      "    else:\n",
      "        nothing += 1\n",
      "\n",
      "print '>> GR %s / %s, FP %s / %s, nothing %s' % (gr, gr2, fp, fp2, nothing)"
     ],
     "language": "python",
     "metadata": {},
     "outputs": [
      {
       "output_type": "stream",
       "stream": "stdout",
       "text": [
        ">> GR 2 / 0, FP 0 / 0, nothing 246\n"
       ]
      }
     ],
     "prompt_number": 16
    },
    {
     "cell_type": "code",
     "collapsed": false,
     "input": [
      "a = articles[0]\n",
      "a, a.date_added, a.date_published, a.orphaned, a.url_absolute, a.feed, a.feeds, a.feedparser_original_data, a.google_reader_original_data, a.original_data.feedparser_hydrated, a.original_data.google_reader"
     ],
     "language": "python",
     "metadata": {},
     "outputs": [
      {
       "output_type": "pyout",
       "prompt_number": 9,
       "text": [
        "(<Article: Re\u00a0: Meiling's galerie (#51fa3d7b77110359d6277a99) from http://forums.mangas-fr.com/index.php/topic,43083.msg1333716.html#msg1333716>,\n",
        " datetime.datetime(2013, 8, 1, 10, 50, 35, 790000, tzinfo=<bson.tz_util.FixedOffset object at 0x3d53d10>),\n",
        " None,\n",
        " False,\n",
        " True,\n",
        " None,\n",
        " [],\n",
        " None,\n",
        " None,\n",
        " None,\n",
        " None)"
       ]
      }
     ],
     "prompt_number": 9
    },
    {
     "cell_type": "code",
     "collapsed": false,
     "input": [
      "agr = Article.objects(google_reader_original_data__ne=None)\n",
      "agr.count()"
     ],
     "language": "python",
     "metadata": {},
     "outputs": [
      {
       "output_type": "pyout",
       "prompt_number": 8,
       "text": [
        "0"
       ]
      }
     ],
     "prompt_number": 8
    },
    {
     "cell_type": "code",
     "collapsed": false,
     "input": [
      "afp = Article.objects(feedparser_original_data__ne=None)\n",
      "afp.count()"
     ],
     "language": "python",
     "metadata": {},
     "outputs": [
      {
       "output_type": "pyout",
       "prompt_number": 9,
       "text": [
        "0"
       ]
      }
     ],
     "prompt_number": 9
    },
    {
     "cell_type": "code",
     "collapsed": false,
     "input": [
      "failed_add = []\n",
      "failed_del = []\n",
      "\n",
      "with benchmark('Moving %s Google Reader data' % agr.count()):\n",
      "    for article in agr:\n",
      "        try:\n",
      "            article.add_original_data('google_reader', unicode(article.google_reader_original_data))\n",
      "        except:\n",
      "            failed_add.append(article)\n",
      "            LOGGER.exception(\"%s AOD failed\", article)\n",
      "        else:\n",
      "            try:\n",
      "                article.update(set__google_reader_original_data=None)\n",
      "            except:\n",
      "                failed_del.append(article)\n",
      "                LOGGER.exception('%s GRD failed')"
     ],
     "language": "python",
     "metadata": {},
     "outputs": [
      {
       "output_type": "stream",
       "stream": "stderr",
       "text": [
        "Moving 554 Google Reader data started 2013-08-26 17:14, ran in 4 seconds.\n"
       ]
      }
     ],
     "prompt_number": 5
    },
    {
     "cell_type": "code",
     "collapsed": false,
     "input": [
      "atn = Article.objects(tags__contains=None)"
     ],
     "language": "python",
     "metadata": {},
     "outputs": [],
     "prompt_number": 14
    },
    {
     "cell_type": "code",
     "collapsed": false,
     "input": [
      "atn.count()"
     ],
     "language": "python",
     "metadata": {},
     "outputs": [
      {
       "output_type": "pyout",
       "prompt_number": 15,
       "text": [
        "2405810"
       ]
      }
     ],
     "prompt_number": 15
    },
    {
     "cell_type": "markdown",
     "metadata": {},
     "source": [
      "# Article.tags migration\n",
      "\n",
      "cf. `docs/Replacing_GenericReferenceField_Live.md`."
     ]
    },
    {
     "cell_type": "code",
     "collapsed": false,
     "input": [
      "ListField"
     ],
     "language": "python",
     "metadata": {},
     "outputs": [
      {
       "output_type": "pyout",
       "prompt_number": 6,
       "text": [
        "mongoengine.fields.ListField"
       ]
      }
     ],
     "prompt_number": 6
    },
    {
     "cell_type": "code",
     "collapsed": false,
     "input": [
      "# create a temporary class on the same collection that can handle\n",
      "# the \"old way\" and will be used to migrate to a temporary field.\n",
      "class ArticlesOldTags(Document):\n",
      "    date_added = DateTimeField()\n",
      "    date_published = DateTimeField()\n",
      "    title = StringField()\n",
      "    tags = ListField(GenericReferenceField())\n",
      "    meta = {\n",
      "        'collection': 'article'\n",
      "    }\n",
      "    \n",
      "problems = []"
     ],
     "language": "python",
     "metadata": {},
     "outputs": [],
     "prompt_number": 19
    },
    {
     "cell_type": "code",
     "collapsed": false,
     "input": [
      "# Find all articles with the \"old\" GenericReferenceField, via JS because\n",
      "# we cannot search via standard queries: either the new or the old classes\n",
      "# will fail when they encounter the old/new field values.\n",
      "aotids = ArticlesOldTags.objects(__raw__={\"tags\": {\"$elemMatch\" : {\"_cls\": \"Tag\"}}, \"$isolated\" : True}).no_cache()\n"
     ],
     "language": "python",
     "metadata": {},
     "outputs": [],
     "prompt_number": 24
    },
    {
     "cell_type": "code",
     "collapsed": false,
     "input": [
      "aotids.count()"
     ],
     "language": "python",
     "metadata": {},
     "outputs": [
      {
       "output_type": "pyout",
       "prompt_number": 25,
       "text": [
        "0"
       ]
      }
     ],
     "prompt_number": 25
    },
    {
     "cell_type": "code",
     "collapsed": false,
     "input": [
      "print '{ \"_id\": { \"$oid\": { \"$in\": [%s] } } }' % ','.join(('\"%s\"' % a.id) for a in aotids)"
     ],
     "language": "python",
     "metadata": {},
     "outputs": [
      {
       "output_type": "stream",
       "stream": "stdout",
       "text": [
        "{ \"_id\": { \"$oid\": { \"$in\": [\"5230ccf028b4150cba331b39\",\"5230ccf428b4150cba331b3c\",\"5230cd0128b4150cb6331b3a\",\"5230cd3028b4150cb0331b3a\",\"5230cd3128b4150ca3331b73\",\"5230cd3928b4150ca3331b78\",\"5230cd3e28b4150ca3331b7e\",\"5230cd3f28b4150cb0331b3e\",\"5230cd4028b4150ca3331b82\",\"5230cd4128b4150cb0331b42\",\"5230cd4328b4150ca3331b86\",\"5230cd4528b4150ca3331b8a\",\"5230cd4528b4150cb0331b46\",\"5230cd4928b4150ca3331b8e\",\"5230cd4b28b4150cb0331b4d\",\"5230cd4b28b4150ca3331b92\",\"5230cd4d28b4150cb0331b50\",\"5230cd4e28b4150ca3331b96\",\"5230cd5128b4150cb0331b53\",\"5230cd5428b4150ca3331b9a\",\"5230cd5628b4150cb0331b56\",\"5230cd5a28b4150ca3331b9e\",\"5230cd6128b4150ca3331ba5\",\"5230cd6628b4150ca3331ba9\",\"5230cd6e28b4150ca3331bad\"] } } }\n"
       ]
      }
     ],
     "prompt_number": 14
    },
    {
     "cell_type": "code",
     "collapsed": false,
     "input": [
      "print '\\n'.join(str(a.date_added) for a in aotids)"
     ],
     "language": "python",
     "metadata": {},
     "outputs": [
      {
       "output_type": "stream",
       "stream": "stdout",
       "text": [
        "2013-09-11 20:05:04.696000+00:00\n",
        "2013-09-11 20:05:08.237000+00:00\n",
        "2013-09-11 20:05:21.634000+00:00\n",
        "2013-09-11 20:06:08.547000+00:00\n",
        "2013-09-11 20:06:09.300000+00:00\n",
        "2013-09-11 20:06:17.816000+00:00\n",
        "2013-09-11 20:06:22.205000+00:00\n",
        "2013-09-11 20:06:23.786000+00:00\n",
        "2013-09-11 20:06:24.928000+00:00\n",
        "2013-09-11 20:06:25.571000+00:00\n",
        "2013-09-11 20:06:27.868000+00:00\n",
        "2013-09-11 20:06:29.881000+00:00\n",
        "2013-09-11 20:06:29.992000+00:00\n",
        "2013-09-11 20:06:33.029000+00:00\n",
        "2013-09-11 20:06:35.759000+00:00\n",
        "2013-09-11 20:06:35.916000+00:00\n",
        "2013-09-11 20:06:37.865000+00:00\n",
        "2013-09-11 20:06:38.236000+00:00\n",
        "2013-09-11 20:06:41.547000+00:00\n",
        "2013-09-11 20:06:44.152000+00:00\n",
        "2013-09-11 20:06:46.541000+00:00\n",
        "2013-09-11 20:06:50.391000+00:00\n",
        "2013-09-11 20:06:57.836000+00:00\n",
        "2013-09-11 20:07:02.815000+00:00\n",
        "2013-09-11 20:07:10.671000+00:00\n"
       ]
      }
     ],
     "prompt_number": 17
    },
    {
     "cell_type": "code",
     "collapsed": false,
     "input": [
      "# Do the replacement, live. Try to avoid hitting the database, but\n",
      "# this *will* hit it a lot, whatever you do. In developement, 50k\n",
      "# articles total, 11k to migrate: ~40 seconds for each operation.\n",
      "with benchmark(\"migrate %s Article.tags\" % aotids.count()):\n",
      "    for old_article in aotids:\n",
      "        tags = old_article.tags\n",
      "        old_article.update(__raw__={\"$unset\": {\"tags\": True}})\n",
      "        Article.objects.get(id=old_article.id).update(set__tags=tags)"
     ],
     "language": "python",
     "metadata": {},
     "outputs": [
      {
       "output_type": "stream",
       "stream": "stderr",
       "text": [
        "migrate 25 Article.tags started 2013-09-12 08:11, ran in 3 seconds.\n"
       ]
      }
     ],
     "prompt_number": 23
    },
    {
     "cell_type": "code",
     "collapsed": false,
     "input": [
      "ArticlesOldTags.objects(new_tags__exists=True).count(), len(problems)"
     ],
     "language": "python",
     "metadata": {},
     "outputs": [
      {
       "output_type": "pyout",
       "prompt_number": 22,
       "text": [
        "0"
       ]
      }
     ],
     "prompt_number": 22
    },
    {
     "cell_type": "code",
     "collapsed": false,
     "input": [
      "with open('/home/1flow/migrate_problems.log', 'wb') as f:\n",
      "    f.write(u'\\n'.join(u'%s: %s' % (x, y) for x, y in problems))"
     ],
     "language": "python",
     "metadata": {},
     "outputs": [],
     "prompt_number": 26
    },
    {
     "cell_type": "markdown",
     "metadata": {},
     "source": [
      "# Other "
     ]
    },
    {
     "cell_type": "code",
     "collapsed": false,
     "input": [],
     "language": "python",
     "metadata": {},
     "outputs": []
    }
   ],
   "metadata": {}
  }
 ]
}