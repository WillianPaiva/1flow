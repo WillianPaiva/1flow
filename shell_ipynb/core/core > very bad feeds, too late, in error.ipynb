{
 "metadata": {
  "name": "core > very bad feeds, too late, in error"
 },
 "nbformat": 3,
 "nbformat_minor": 0,
 "worksheets": [
  {
   "cells": [
    {
     "cell_type": "markdown",
     "metadata": {},
     "source": [
      "# Python imports"
     ]
    },
    {
     "cell_type": "code",
     "collapsed": false,
     "input": [
      "import uuid\n",
      "import time as pytime\n",
      "import operator\n",
      "\n",
      "\n",
      "from django.utils.html import urlize\n",
      "from constance import config\n",
      "from IPython.display import display_pretty, display_html, display_jpeg, display_png, display_json, display_latex, display_svg\n",
      "from mongoengine.queryset import Q\n",
      "\n",
      "from oneflow.core.models import *\n",
      "from oneflow.base.utils.dateutils import *\n",
      "\n",
      "def html(thing):\n",
      "    display_html(thing, raw=True)\n",
      "\n",
      "def urlblank(text):\n",
      "    return urlize(text).replace('<a ', '<a target=\"_blank\" ')"
     ],
     "language": "python",
     "metadata": {},
     "outputs": [],
     "prompt_number": 1
    },
    {
     "cell_type": "markdown",
     "metadata": {},
     "source": [
      "# Analysis"
     ]
    },
    {
     "cell_type": "code",
     "collapsed": false,
     "input": [
      "open_feeds = Feed.objects(Q(closed=False) | Q(closed__exists=False))\n",
      "open_feeds_count = open_feeds.count()\n",
      "open_feeds_count"
     ],
     "language": "python",
     "metadata": {},
     "outputs": [
      {
       "output_type": "pyout",
       "prompt_number": 2,
       "text": [
        "4076"
       ]
      }
     ],
     "prompt_number": 2
    },
    {
     "cell_type": "code",
     "collapsed": false,
     "input": [
      "lower_value = None\n",
      "loop_count = 0 \n",
      "fetched_feeds = 0\n",
      "periods_feeds = []\n",
      "delta_lengths = (\n",
      "    timedelta(seconds=config.FEED_FETCH_DEFAULT_INTERVAL),\n",
      "    timedelta(seconds=config.FEED_FETCH_DEFAULT_INTERVAL * 2),    \n",
      "    timedelta(seconds=config.FEED_FETCH_DEFAULT_INTERVAL * 6),    \n",
      "    timedelta(seconds=config.FEED_FETCH_DEFAULT_INTERVAL * 12),    \n",
      "    timedelta(days=1),\n",
      "    timedelta(days=2),\n",
      "    timedelta(days=3),\n",
      "    timedelta(days=4),\n",
      "    timedelta(days=5),\n",
      "    timedelta(days=6),\n",
      "    timedelta(days=7),\n",
      "    timedelta(days=10),\n",
      "    None\n",
      ")\n",
      "\n",
      "for delta in delta_lengths:\n",
      "    \n",
      "    upper_value = (now() - delta) if delta else None\n",
      "    \n",
      "    if lower_value is None:\n",
      "        kwargs = {'last_fetch__gt': upper_value}\n",
      "        \n",
      "    elif upper_value is None:\n",
      "        kwargs = {'last_fetch__lte': lower_value}\n",
      "        \n",
      "    else:\n",
      "        kwargs = {'last_fetch__lte': lower_value, 'last_fetch__gt': upper_value}\n",
      "\n",
      "    feeds = Feed.objects(**kwargs)\n",
      "    count = feeds.count()\n",
      "    percent = count * 100.0 / open_feeds_count\n",
      "    avg_interval = sum(f.fetch_interval for f in feeds) * 1.0 / (count or 1.0)\n",
      "\n",
      "    print '%s feeds (%.1f%%) fetched' % (count, percent),\n",
      "    \n",
      "    if lower_value is None:\n",
      "         print 'less than %s ago' % naturaldelta(upper_value),\n",
      "    \n",
      "    elif upper_value is None:\n",
      "        print 'more than %s ago' % naturaldelta(lower_value),\n",
      "    \n",
      "    else:\n",
      "        print 'between %s and %s ago' % (naturaldelta(lower_value), naturaldelta(upper_value)),\n",
      "    \n",
      "    print \", avg fetch interval: %s             \u2014 in periods_feeds[%s]\" % (naturaldelta(avg_interval), loop_count)\n",
      "    \n",
      "    periods_feeds.append(feeds)\n",
      "    fetched_feeds += count\n",
      "    lower_value = upper_value\n",
      "    loop_count += 1\n",
      "\n",
      "if fetched_feeds == open_feeds_count:\n",
      "    print '\\n>>> All open feeds are beiing fetched.'\n",
      "else:\n",
      "    print '%s total feeds fetched, out of %s open feeds.' % (fetched_feeds, open_feeds_count)\n",
      "    "
     ],
     "language": "python",
     "metadata": {},
     "outputs": [
      {
       "output_type": "stream",
       "stream": "stdout",
       "text": [
        "2833 feeds (69.5%) fetched less than an hour ago , avg fetch interval: an hour             \u2014 in periods_feeds[0]\n",
        "73 feeds (1.8%) fetched between an hour and 2 hours ago , avg fetch interval: 3 hours             \u2014 in periods_feeds[1]\n",
        "747 feeds (18.3%) fetched"
       ]
      },
      {
       "output_type": "stream",
       "stream": "stdout",
       "text": [
        " between 2 hours and 6 hours ago , avg fetch interval: 6 hours             \u2014 in periods_feeds[2]\n",
        "381 feeds (9.3%) fetched between 6 hours and 12 hours ago , avg fetch interval: 8 hours             \u2014 in periods_feeds[3]\n",
        "39 feeds (1.0%) fetched"
       ]
      },
      {
       "output_type": "stream",
       "stream": "stdout",
       "text": [
        " between 12 hours and a day ago , avg fetch interval: 8 hours             \u2014 in periods_feeds[4]\n",
        "2 feeds (0.0%) fetched between a day and 2 days ago , avg fetch interval: 3 hours             \u2014 in periods_feeds[5]\n",
        "0 feeds (0.0%) fetched between 2 days and 3 days ago , avg fetch interval: a moment             \u2014 in periods_feeds[6]\n",
        "0 feeds (0.0%) fetched between 3 days and 4 days ago , avg fetch interval: a moment             \u2014 in periods_feeds[7]\n",
        "0 feeds (0.0%) fetched between 4 days and 5 days ago , avg fetch interval: a moment             \u2014 in periods_feeds[8]\n",
        "4 feeds (0.1%) fetched between 5 days and 6 days ago , avg fetch interval: an hour             \u2014 in periods_feeds[9]\n",
        "0 feeds (0.0%) fetched between 6 days and 7 days ago , avg fetch interval: a moment             \u2014 in periods_feeds[10]\n",
        "0 feeds (0.0%) fetched between 7 days and 10 days ago , avg fetch interval: a moment             \u2014 in periods_feeds[11]\n",
        "1 feeds (0.0%) fetched more than 10 days ago , avg fetch interval: an hour             \u2014 in periods_feeds[12]\n",
        "4080 total feeds fetched, out of 4076 open feeds.\n"
       ]
      }
     ],
     "prompt_number": 3
    },
    {
     "cell_type": "markdown",
     "metadata": {},
     "source": [
      "# Display bad feeds"
     ]
    },
    {
     "cell_type": "code",
     "collapsed": false,
     "input": [
      "html('<ul>')\n",
      "for feed in periods_feeds[8]:\n",
      "    html(u'<li><a href=\"http://1flow.io/admin/models/feed/{feed.id}/\" target=\"_blank\">{feed.name}</a>'\n",
      "         u'\u2014 {url}<ul><li>interval: {feed.fetch_interval}, fetched {last}, '\n",
      "         u'{feed.recent_articles_count}/{feed.all_articles_count} articles</li>'\n",
      "         u'<li>{feed.errors}<li></ul></li>'.format(\n",
      "            feed=feed, url=urlblank(feed.url), last=naturaltime(feed.last_fetch)))\n",
      "html('</ul>')"
     ],
     "language": "python",
     "metadata": {},
     "outputs": [
      {
       "html": [
        "<ul>"
       ],
       "output_type": "display_data"
      },
      {
       "html": [
        "<li><a href=\"http://1flow.io/admin/models/feed/51c95e31e7a05b27f695da2a/\" target=\"_blank\">Digital Edge Blog</a>\u2014 <a target=\"_blank\" href=\"http://www.naa.org/blog/digitaledge/rss.cfm\">http://www.naa.org/blog/digitaledge/rss.cfm</a><ul><li>interval: 3600, fetched 4 days ago, 0/0 articles</li><li>[]<li></ul></li>"
       ],
       "output_type": "display_data"
      },
      {
       "html": [
        "<li><a href=\"http://1flow.io/admin/models/feed/51c66196e7a05b27f68ce87b/\" target=\"_blank\">Surfrider Foundation</a>\u2014 <a target=\"_blank\" href=\"http://www.surfrider.eu/en/accueil/rss.xml\">http://www.surfrider.eu/en/accueil/rss.xml</a><ul><li>interval: 3600, fetched 4 days ago, 37/311 articles</li><li>[u'document declared as us-ascii, but parsed as utf-8 @@2013-07-16T23:29:53.365335+00:00']<li></ul></li>"
       ],
       "output_type": "display_data"
      },
      {
       "html": [
        "<li><a href=\"http://1flow.io/admin/models/feed/51ca2046e7a05b27f6b23d19/\" target=\"_blank\">BEZDNA.SU</a>\u2014 <a target=\"_blank\" href=\"http://bezdna.su/rss.php\">http://bezdna.su/rss.php</a><ul><li>interval: 3600, fetched 4 days ago, 400/1127 articles</li><li>[u'document declared as us-ascii, but parsed as windows-1251 @@2013-07-16T23:29:54.165297+00:00']<li></ul></li>"
       ],
       "output_type": "display_data"
      },
      {
       "html": [
        "<li><a href=\"http://1flow.io/admin/models/feed/51c71da2e7a05b27f691c803/\" target=\"_blank\">ZDNet</a>\u2014 <a target=\"_blank\" href=\"http://www.zdnet.fr/feeds/rss/actualites/\">http://www.zdnet.fr/feeds/rss/actualites/</a><ul><li>interval: 3600, fetched 4 days ago, 118/146 articles</li><li>[u'text/html; charset=UTF-8 is not an XML media type @@2013-07-16T23:29:53.522603+00:00']<li></ul></li>"
       ],
       "output_type": "display_data"
      },
      {
       "html": [
        "<li><a href=\"http://1flow.io/admin/models/feed/51c66185e7a05b27f68ce485/\" target=\"_blank\">Le flux RSS DTC</a>\u2014 <a target=\"_blank\" href=\"http://danstonchat.com/rss.xml\">http://danstonchat.com/rss.xml</a><ul><li>interval: 3600, fetched 4 days ago, 509/7862 articles</li><li>[]<li></ul></li>"
       ],
       "output_type": "display_data"
      },
      {
       "html": [
        "<li><a href=\"http://1flow.io/admin/models/feed/51c71da2e7a05b27f691c7c6/\" target=\"_blank\">FredCavazza.net</a>\u2014 <a target=\"_blank\" href=\"http://www.fredcavazza.net/feed/\">http://www.fredcavazza.net/feed/</a><ul><li>interval: 3600, fetched 4 days ago, 2/59 articles</li><li>[]<li></ul></li>"
       ],
       "output_type": "display_data"
      },
      {
       "html": [
        "<li><a href=\"http://1flow.io/admin/models/feed/51c71da2e7a05b27f691c7c8/\" target=\"_blank\">Freenews</a>\u2014 <a target=\"_blank\" href=\"http://www.freenews.fr/feeds/rss.php\">http://www.freenews.fr/feeds/rss.php</a><ul><li>interval: 3600, fetched 4 days ago, 42/46 articles</li><li>[]<li></ul></li>"
       ],
       "output_type": "display_data"
      },
      {
       "html": [
        "<li><a href=\"http://1flow.io/admin/models/feed/51c7db90e7a05b27f691dd16/\" target=\"_blank\">ploum.net | ploum.net</a>\u2014 <a target=\"_blank\" href=\"http://ploum.net/feed\">http://ploum.net/feed</a><ul><li>interval: 3600, fetched 4 days ago, 4/66 articles</li><li>[u'text/html; charset=UTF-8 is not an XML media type @@2013-07-16T23:30:01.387606+00:00']<li></ul></li>"
       ],
       "output_type": "display_data"
      },
      {
       "html": [
        "<li><a href=\"http://1flow.io/admin/models/feed/51c95e31e7a05b27f695da48/\" target=\"_blank\">eMarketer Articles</a>\u2014 <a target=\"_blank\" href=\"http://feeds.emarketer.com/Articles.xml?src=rss_top_right_newsltr\">http://feeds.emarketer.com/Articles.xml?src=rss_top_right_newsltr</a><ul><li>interval: 3600, fetched 4 days ago, 27/27 articles</li><li>[u'document declared as us-ascii, but parsed as utf-8 @@2013-07-16T23:30:00.117741+00:00']<li></ul></li>"
       ],
       "output_type": "display_data"
      },
      {
       "html": [
        "<li><a href=\"http://1flow.io/admin/models/feed/51c95b44e7a05b27f693b9c6/\" target=\"_blank\">Actualit\u00e9 Tom's Hardware FR</a>\u2014 <a target=\"_blank\" href=\"http://www.presence-pc.com/rss.xml\">http://www.presence-pc.com/rss.xml</a><ul><li>interval: 3600, fetched 4 days ago, 436/851 articles</li><li>[u'text/html; charset=UTF-8 is not an XML media type @@2013-07-16T23:30:01.093741+00:00']<li></ul></li>"
       ],
       "output_type": "display_data"
      },
      {
       "html": [
        "<li><a href=\"http://1flow.io/admin/models/feed/51c95e33e7a05b27f695db18/\" target=\"_blank\">I, Cringely @ PBS.org</a>\u2014 <a target=\"_blank\" href=\"http://www.pbs.org/cringely/pulpit/rss2.xml\">http://www.pbs.org/cringely/pulpit/rss2.xml</a><ul><li>interval: 3600, fetched 4 days ago, 0/15 articles</li><li>[u'document declared as us-ascii, but parsed as utf-8 @@2013-07-16T23:30:04.309234+00:00']<li></ul></li>"
       ],
       "output_type": "display_data"
      },
      {
       "html": [
        "<li><a href=\"http://1flow.io/admin/models/feed/51c95e34e7a05b27f695dc87/\" target=\"_blank\">Magazine Publishers of America: Latest News</a>\u2014 <a target=\"_blank\" href=\"http://www.magazine.org/rssHome.xml\">http://www.magazine.org/rssHome.xml</a><ul><li>interval: 3600, fetched 4 days ago, 0/0 articles</li><li>[u'text/html; charset=utf-8 is not an XML media type @@2013-07-16T23:30:05.272752+00:00']<li></ul></li>"
       ],
       "output_type": "display_data"
      },
      {
       "html": [
        "<li><a href=\"http://1flow.io/admin/models/feed/51c95e36e7a05b27f695de0d/\" target=\"_blank\">The Kelsey Group Blog</a>\u2014 <a target=\"_blank\" href=\"http://206.106.174.250/blog/RSS2.asp?action=category&ci=1\">http://206.106.174.250/blog/RSS2.asp?action=category&ci=1</a><ul><li>interval: 3600, fetched 4 days ago, 10/10 articles</li><li>[u'document declared as US-ASCII, but parsed as ISO-8859-2 @@2013-07-16T23:30:07.797298+00:00']<li></ul></li>"
       ],
       "output_type": "display_data"
      },
      {
       "html": [
        "<li><a href=\"http://1flow.io/admin/models/feed/51c95e37e7a05b27f695deb3/\" target=\"_blank\">What's New from the Newspaper Association of America</a>\u2014 <a target=\"_blank\" href=\"http://www.naa.org/naa.rss.xml\">http://www.naa.org/naa.rss.xml</a><ul><li>interval: 3600, fetched 4 days ago, 0/0 articles</li><li>[u'text/html is not an XML media type @@2013-07-16T23:30:05.501714+00:00']<li></ul></li>"
       ],
       "output_type": "display_data"
      },
      {
       "html": [
        "<li><a href=\"http://1flow.io/admin/models/feed/51c95e38e7a05b27f695df50/\" target=\"_blank\">Wired News: Technology</a>\u2014 <a target=\"_blank\" href=\"http://www.wired.com/rss/technology.xml\">http://www.wired.com/rss/technology.xml</a><ul><li>interval: 3600, fetched 4 days ago, 0/0 articles</li><li>[u'text/html;charset=UTF-8 is not an XML media type @@2013-07-16T23:30:05.773227+00:00']<li></ul></li>"
       ],
       "output_type": "display_data"
      },
      {
       "html": [
        "<li><a href=\"http://1flow.io/admin/models/feed/51c95e37e7a05b27f695de62/\" target=\"_blank\">Univers Freebox</a>\u2014 <a target=\"_blank\" href=\"http://www.universfreebox.com/backend.php?id_rubrique=6\">http://www.universfreebox.com/backend.php?id_rubrique=6</a><ul><li>interval: 3600, fetched 4 days ago, 23/23 articles</li><li>[u'document declared as us-ascii, but parsed as iso-8859-1 @@2013-07-16T23:30:06.673255+00:00']<li></ul></li>"
       ],
       "output_type": "display_data"
      },
      {
       "html": [
        "<li><a href=\"http://1flow.io/admin/models/feed/51c95e37e7a05b27f695de5e/\" target=\"_blank\">Univers Freebox</a>\u2014 <a target=\"_blank\" href=\"http://www.universfreebox.com/backend.php?id_rubrique=29\">http://www.universfreebox.com/backend.php?id_rubrique=29</a><ul><li>interval: 3600, fetched 4 days ago, 49/49 articles</li><li>[]<li></ul></li>"
       ],
       "output_type": "display_data"
      },
      {
       "html": [
        "<li><a href=\"http://1flow.io/admin/models/feed/51c95e37e7a05b27f695de59/\" target=\"_blank\">Univers Freebox</a>\u2014 <a target=\"_blank\" href=\"http://www.universfreebox.com/backend.php?id_rubrique=1\">http://www.universfreebox.com/backend.php?id_rubrique=1</a><ul><li>interval: 3600, fetched 4 days ago, 23/23 articles</li><li>[]<li></ul></li>"
       ],
       "output_type": "display_data"
      },
      {
       "html": [
        "<li><a href=\"http://1flow.io/admin/models/feed/51c95e37e7a05b27f695de66/\" target=\"_blank\">Unshelved</a>\u2014 <a target=\"_blank\" href=\"http://www.unshelved.com/rss.aspx\">http://www.unshelved.com/rss.aspx</a><ul><li>interval: 3600, fetched 4 days ago, 25/25 articles</li><li>[]<li></ul></li>"
       ],
       "output_type": "display_data"
      },
      {
       "html": [
        "<li><a href=\"http://1flow.io/admin/models/feed/51c95e38e7a05b27f695dfe2/\" target=\"_blank\">ZDNet News</a>\u2014 <a target=\"_blank\" href=\"http://www.zdnet.fr/feeds/rss/actualites/?l=20\">http://www.zdnet.fr/feeds/rss/actualites/?l=20</a><ul><li>interval: 3600, fetched 4 days ago, 39/39 articles</li><li>[]<li></ul></li>"
       ],
       "output_type": "display_data"
      },
      {
       "html": [
        "<li><a href=\"http://1flow.io/admin/models/feed/51c95e36e7a05b27f695de49/\" target=\"_blank\">Toutelatele.com</a>\u2014 <a target=\"_blank\" href=\"http://www.toutelatele.com/backend.php3\">http://www.toutelatele.com/backend.php3</a><ul><li>interval: 3600, fetched 4 days ago, 0/272 articles</li><li>[]<li></ul></li>"
       ],
       "output_type": "display_data"
      },
      {
       "html": [
        "<li><a href=\"http://1flow.io/admin/models/feed/51c95e3ce7a05b27f695e7db/\" target=\"_blank\">Vigicrues : Rhin GCA</a>\u2014 <a target=\"_blank\" href=\"http://www.vigicrues.gouv.fr/rss/?codeTron=SA13\">http://www.vigicrues.gouv.fr/rss/?codeTron=SA13</a><ul><li>interval: 3600, fetched 4 days ago, 1/2 articles</li><li>[]<li></ul></li>"
       ],
       "output_type": "display_data"
      },
      {
       "html": [
        "<li><a href=\"http://1flow.io/admin/models/feed/51c96d24e7a05b27f698f886/\" target=\"_blank\">Les nuits de Lavige</a>\u2014 <a target=\"_blank\" href=\"http://radiofrance-podcast.net/podcast09/rss_11528.xml\">http://radiofrance-podcast.net/podcast09/rss_11528.xml</a><ul><li>interval: 3600, fetched 4 days ago, 0/59 articles</li><li>[u'text/html; charset=iso-8859-1 is not an XML media type @@2013-07-16T23:30:08.657621+00:00']<li></ul></li>"
       ],
       "output_type": "display_data"
      },
      {
       "html": [
        "<li><a href=\"http://1flow.io/admin/models/feed/51c9c1e9e7a05b27f69b0ebc/\" target=\"_blank\">ESC Gaming Tournament</a>\u2014 <a target=\"_blank\" href=\"http://www.esc-gaming-tournament.com/feeds/posts/default\">http://www.esc-gaming-tournament.com/feeds/posts/default</a><ul><li>interval: 3600, fetched 4 days ago, 0/1 articles</li><li>[]<li></ul></li>"
       ],
       "output_type": "display_data"
      },
      {
       "html": [
        "<li><a href=\"http://1flow.io/admin/models/feed/51c9729be7a05b27f6992290/\" target=\"_blank\">Sustainablog</a>\u2014 <a target=\"_blank\" href=\"http://sustainablog.org/feed/\">http://sustainablog.org/feed/</a><ul><li>interval: 3600, fetched 4 days ago, 0/1 articles</li><li>[u'<unknown>:11:2: mismatched tag @@2013-07-16T23:30:10.501640+00:00']<li></ul></li>"
       ],
       "output_type": "display_data"
      },
      {
       "html": [
        "<li><a href=\"http://1flow.io/admin/models/feed/51c9d40be7a05b27f69b3c15/\" target=\"_blank\">Librairie du commerce international - UBIFRANCE</a>\u2014 <a target=\"_blank\" href=\"http://www.ubifrance.fr/rss/librairie.aspx\">http://www.ubifrance.fr/rss/librairie.aspx</a><ul><li>interval: 3600, fetched 4 days ago, 833/2609 articles</li><li>[u'document declared as us-ascii, but parsed as utf-8 @@2013-07-16T23:30:11.129239+00:00']<li></ul></li>"
       ],
       "output_type": "display_data"
      },
      {
       "html": [
        "<li><a href=\"http://1flow.io/admin/models/feed/51c9d5b3e7a05b27f69e7ef6/\" target=\"_blank\">Shacknews</a>\u2014 <a target=\"_blank\" href=\"http://www.shacknews.com/rss?recent_articles=1\">http://www.shacknews.com/rss?recent_articles=1</a><ul><li>interval: 3600, fetched 4 days ago, 2699/12065 articles</li><li>[u'document declared as us-ascii, but parsed as iso-8859-1 @@2013-07-16T23:30:11.256787+00:00']<li></ul></li>"
       ],
       "output_type": "display_data"
      },
      {
       "html": [
        "<li><a href=\"http://1flow.io/admin/models/feed/51c9d668e7a05b27f69fdcfc/\" target=\"_blank\">A List Apart: The Full Feed</a>\u2014 <a target=\"_blank\" href=\"http://www.alistapart.com/rss.xml\">http://www.alistapart.com/rss.xml</a><ul><li>interval: 3600, fetched 4 days ago, 0/185 articles</li><li>[]<li></ul></li>"
       ],
       "output_type": "display_data"
      },
      {
       "html": [
        "<li><a href=\"http://1flow.io/admin/models/feed/51c9d673e7a05b27f69fe12f/\" target=\"_blank\">Node.js Blog</a>\u2014 <a target=\"_blank\" href=\"http://blog.nodejs.org/feed/\">http://blog.nodejs.org/feed/</a><ul><li>interval: 3600, fetched 4 days ago, 4/4 articles</li><li>[u'document declared as us-ascii, but parsed as utf-8 @@2013-07-16T23:30:13.556865+00:00']<li></ul></li>"
       ],
       "output_type": "display_data"
      },
      {
       "html": [
        "<li><a href=\"http://1flow.io/admin/models/feed/51c9d671e7a05b27f69fdeeb/\" target=\"_blank\">HTML5Rocks - Posts & Tutorials</a>\u2014 <a target=\"_blank\" href=\"http://www.html5rocks.com/tutorials/index.xml\">http://www.html5rocks.com/tutorials/index.xml</a><ul><li>interval: 3600, fetched 4 days ago, 0/20 articles</li><li>[u'document declared as utf-8, application/atom+xml, but parsed as utf-8 @@2013-07-16T23:30:11.849220+00:00']<li></ul></li>"
       ],
       "output_type": "display_data"
      },
      {
       "html": [
        "<li><a href=\"http://1flow.io/admin/models/feed/51c9f2cde7a05b27f6a23376/\" target=\"_blank\">[>WiziShop] Conseils et e-commerce</a>\u2014 <a target=\"_blank\" href=\"http://rssblog.wizishop.com/Wizishop\">http://rssblog.wizishop.com/Wizishop</a><ul><li>interval: 3600, fetched 4 days ago, 48/195 articles</li><li>[]<li></ul></li>"
       ],
       "output_type": "display_data"
      },
      {
       "html": [
        "<li><a href=\"http://1flow.io/admin/models/feed/51c9f2cee7a05b27f6a23451/\" target=\"_blank\">Blagues de Geek - le RSS !</a>\u2014 <a target=\"_blank\" href=\"http://www.blaguesdegeek.com/rss2.php\">http://www.blaguesdegeek.com/rss2.php</a><ul><li>interval: 3600, fetched 4 days ago, 0/5 articles</li><li>[]<li></ul></li>"
       ],
       "output_type": "display_data"
      },
      {
       "html": [
        "<li><a href=\"http://1flow.io/admin/models/feed/51c9d669e7a05b27f69fdd7a/\" target=\"_blank\">blog.nodejitsu.com</a>\u2014 <a target=\"_blank\" href=\"http://blog.nodejitsu.com/feed.xml\">http://blog.nodejitsu.com/feed.xml</a><ul><li>interval: 3600, fetched 4 days ago, 18/106 articles</li><li>[]<li></ul></li>"
       ],
       "output_type": "display_data"
      },
      {
       "html": [
        "<li><a href=\"http://1flow.io/admin/models/feed/51c9f2d3e7a05b27f6a23db1/\" target=\"_blank\">Dialed In (MP3)</a>\u2014 <a target=\"_blank\" href=\"http://dialedinpodcast.cnet.com/\">http://dialedinpodcast.cnet.com/</a><ul><li>interval: 3600, fetched 4 days ago, 0/0 articles</li><li>[u'<unknown>:11:2: mismatched tag @@2013-07-16T23:30:15.157637+00:00']<li></ul></li>"
       ],
       "output_type": "display_data"
      },
      {
       "html": [
        "<li><a href=\"http://1flow.io/admin/models/feed/51c9f2d4e7a05b27f6a23e04/\" target=\"_blank\">HBH News Feed</a>\u2014 <a target=\"_blank\" href=\"http://www.hellboundhackers.org/news/rss.xml\">http://www.hellboundhackers.org/news/rss.xml</a><ul><li>interval: 3600, fetched 4 days ago, 0/0 articles</li><li>[u'text/html; charset=iso-8859-1 is not an XML media type @@2013-07-16T23:30:15.313332+00:00']<li></ul></li>"
       ],
       "output_type": "display_data"
      },
      {
       "html": [
        "<li><a href=\"http://1flow.io/admin/models/feed/51c9f2d4e7a05b27f6a23e12/\" target=\"_blank\">Instapaper: HTML5 & CSS3</a>\u2014 <a target=\"_blank\" href=\"http://www.instapaper.com/folder/378166/rss/719604/h9IRhs3lOu9U3VUKDTV9nYtqUE\">http://www.instapaper.com/folder/378166/rss/719604/h9IRhs3lOu9U3VUKDTV9nYtqUE</a><ul><li>interval: 3600, fetched 4 days ago, 0/10 articles</li><li>[u'text/html; charset=utf-8 is not an XML media type @@2013-07-16T23:30:16.197968+00:00']<li></ul></li>"
       ],
       "output_type": "display_data"
      },
      {
       "html": [
        "<li><a href=\"http://1flow.io/admin/models/feed/51c9f2d4e7a05b27f6a23e14/\" target=\"_blank\">Instapaper: JavaScript</a>\u2014 <a target=\"_blank\" href=\"http://www.instapaper.com/folder/378167/rss/719604/h9IRhs3lOu9U3VUKDTV9nYtqUE\">http://www.instapaper.com/folder/378167/rss/719604/h9IRhs3lOu9U3VUKDTV9nYtqUE</a><ul><li>interval: 3600, fetched 4 days ago, 0/10 articles</li><li>[u'text/html; charset=utf-8 is not an XML media type @@2013-07-16T23:30:16.721195+00:00']<li></ul></li>"
       ],
       "output_type": "display_data"
      },
      {
       "html": [
        "<li><a href=\"http://1flow.io/admin/models/feed/51c9f2d5e7a05b27f6a23e47/\" target=\"_blank\">La cr\u00e9ation de Windows 7</a>\u2014 <a target=\"_blank\" href=\"http://blogs.msdn.com/error-notfound.aspx?aspxerrorpath=/b/ie/e7fr/atom.aspx\">http://blogs.msdn.com/error-notfound.aspx?aspxerrorpath=/b/ie/e7fr/atom.aspx</a><ul><li>interval: 3600, fetched 4 days ago, 0/0 articles</li><li>[]<li></ul></li>"
       ],
       "output_type": "display_data"
      },
      {
       "html": [
        "<li><a href=\"http://1flow.io/admin/models/feed/51c9f2d6e7a05b27f6a23e6f/\" target=\"_blank\">Logiciel (Mac)</a>\u2014 <a target=\"_blank\" href=\"http://madfilm2.com/v2/index.php/logiciel-mac?format=feed&type=rss\">http://madfilm2.com/v2/index.php/logiciel-mac?format=feed&type=rss</a><ul><li>interval: 3600, fetched 4 days ago, 0/0 articles</li><li>[u'text/html; charset=utf-8 is not an XML media type @@2013-07-16T23:30:18.313771+00:00']<li></ul></li>"
       ],
       "output_type": "display_data"
      },
      {
       "html": [
        "<li><a href=\"http://1flow.io/admin/models/feed/51c9f2d6e7a05b27f6a23ea4/\" target=\"_blank\">News et articles clubic</a>\u2014 <a target=\"_blank\" href=\"http://www.clubic.com/articles.rss?delete=1\">http://www.clubic.com/articles.rss?delete=1</a><ul><li>interval: 3600, fetched 4 days ago, 0/0 articles</li><li>[u'text/html; charset=utf-8 is not an XML media type @@2013-07-16T23:30:19.264730+00:00']<li></ul></li>"
       ],
       "output_type": "display_data"
      },
      {
       "html": [
        "<li><a href=\"http://1flow.io/admin/models/feed/51c9f2d7e7a05b27f6a23ee2/\" target=\"_blank\">RSD</a>\u2014 <a target=\"_blank\" href=\"http://www.blogger.com/rsd.g?blogID=5257504379924813482\">http://www.blogger.com/rsd.g?blogID=5257504379924813482</a><ul><li>interval: 3600, fetched 4 days ago, 0/0 articles</li><li>[u'text/html; charset=UTF-8 is not an XML media type @@2013-07-16T23:30:19.733773+00:00']<li></ul></li>"
       ],
       "output_type": "display_data"
      },
      {
       "html": [
        "<li><a href=\"http://1flow.io/admin/models/feed/51c9f2d8e7a05b27f6a23f05/\" target=\"_blank\">Sous-titres Jouteya</a>\u2014 <a target=\"_blank\" href=\"http://www.jouteya.net/Michael-Jackson/subs_rss.php\">http://www.jouteya.net/Michael-Jackson/subs_rss.php</a><ul><li>interval: 3600, fetched 4 days ago, 0/0 articles</li><li>[u'text/html; charset=iso-8859-1 is not an XML media type @@2013-07-16T23:30:20.817206+00:00']<li></ul></li>"
       ],
       "output_type": "display_data"
      },
      {
       "html": [
        "<li><a href=\"http://1flow.io/admin/models/feed/51c9f2d8e7a05b27f6a23f0d/\" target=\"_blank\">Stanimir Stoyanov\\'s Blog</a>\u2014 <a target=\"_blank\" href=\"http://winjade.net/blogs/\">http://winjade.net/blogs/</a><ul><li>interval: 3600, fetched 4 days ago, 0/0 articles</li><li>[u'text/html is not an XML media type @@2013-07-16T23:30:21.643392+00:00']<li></ul></li>"
       ],
       "output_type": "display_data"
      },
      {
       "html": [
        "<li><a href=\"http://1flow.io/admin/models/feed/51c9f2d9e7a05b27f6a23f2d/\" target=\"_blank\">Terra Pixela</a>\u2014 <a target=\"_blank\" href=\"http://www.terrapixela.com/feed\">http://www.terrapixela.com/feed</a><ul><li>interval: 3600, fetched 4 days ago, 0/0 articles</li><li>[u'text/html; charset=utf-8 is not an XML media type @@2013-07-16T23:30:21.933233+00:00']<li></ul></li>"
       ],
       "output_type": "display_data"
      },
      {
       "html": [
        "<li><a href=\"http://1flow.io/admin/models/feed/51c9f2dae7a05b27f6a23fa5/\" target=\"_blank\">Ziki - Vos notifications</a>\u2014 <a target=\"_blank\" href=\"http://www.ziki.com/fr/account/notifications?aid=22254&zkey=ab76eef5c9a1e63978068b7ee289d108\">http://www.ziki.com/fr/account/notifications?aid=22254&zkey=ab76eef5c9a1e63978068b7ee289d108</a><ul><li>interval: 3600, fetched 4 days ago, 0/0 articles</li><li>[u'document declared as us-ascii, but parsed as ISO-8859-2 @@2013-07-16T23:30:24.115461+00:00']<li></ul></li>"
       ],
       "output_type": "display_data"
      },
      {
       "html": [
        "<li><a href=\"http://1flow.io/admin/models/feed/51ca0086e7a05b27f6a3295d/\" target=\"_blank\">BizCity</a>\u2014 <a target=\"_blank\" href=\"http://www.bizcity.ro/syndication/rss.php\">http://www.bizcity.ro/syndication/rss.php</a><ul><li>interval: 3600, fetched 4 days ago, 223/10332 articles</li><li>[]<li></ul></li>"
       ],
       "output_type": "display_data"
      },
      {
       "html": [
        "<li><a href=\"http://1flow.io/admin/models/feed/51ca0086e7a05b27f6a32971/\" target=\"_blank\">Coding Horror</a>\u2014 <a target=\"_blank\" href=\"http://www.codinghorror.com/blog/index.xml\">http://www.codinghorror.com/blog/index.xml</a><ul><li>interval: 3600, fetched 4 days ago, 0/380 articles</li><li>[]<li></ul></li>"
       ],
       "output_type": "display_data"
      },
      {
       "html": [
        "<li><a href=\"http://1flow.io/admin/models/feed/51ca0086e7a05b27f6a32989/\" target=\"_blank\">Dilbert Daily Strip</a>\u2014 <a target=\"_blank\" href=\"http://feed.dilbert.com/dilbert/daily_strip\">http://feed.dilbert.com/dilbert/daily_strip</a><ul><li>interval: 3600, fetched 4 days ago, 166/919 articles</li><li>[]<li></ul></li>"
       ],
       "output_type": "display_data"
      },
      {
       "html": [
        "<li><a href=\"http://1flow.io/admin/models/feed/51ca0088e7a05b27f6a32bd3/\" target=\"_blank\">Mute magazine - Culture and politics after the net</a>\u2014 <a target=\"_blank\" href=\"http://www.metamute.org/en/node/feed\">http://www.metamute.org/en/node/feed</a><ul><li>interval: 3600, fetched 4 days ago, 0/132 articles</li><li>[u'<unknown>:103:915: not well-formed (invalid token) @@2013-07-16T23:30:28.725252+00:00']<li></ul></li>"
       ],
       "output_type": "display_data"
      },
      {
       "html": [
        "<li><a href=\"http://1flow.io/admin/models/feed/51ca008ae7a05b27f6a330d2/\" target=\"_blank\">The Venus Project Blog</a>\u2014 <a target=\"_blank\" href=\"http://thevenusproject.com/blog/feed/\">http://thevenusproject.com/blog/feed/</a><ul><li>interval: 3600, fetched 4 days ago, 0/44 articles</li><li>[u'text/html; charset=utf-8 is not an XML media type @@2013-07-16T23:30:27.213382+00:00']<li></ul></li>"
       ],
       "output_type": "display_data"
      },
      {
       "html": [
        "<li><a href=\"http://1flow.io/admin/models/feed/51ca00ade7a05b27f6a3939d/\" target=\"_blank\">INCIDENTAL COMICS</a>\u2014 <a target=\"_blank\" href=\"http://thoughtballoonhelium.blogspot.com/feeds/posts/default\">http://thoughtballoonhelium.blogspot.com/feeds/posts/default</a><ul><li>interval: 3600, fetched 4 days ago, 0/1 articles</li><li>[]<li></ul></li>"
       ],
       "output_type": "display_data"
      },
      {
       "html": [
        "<li><a href=\"http://1flow.io/admin/models/feed/51ca0088e7a05b27f6a32cd6/\" target=\"_blank\">Noutati Fonduri Structurale - Informatie in sprijinul ideii tale</a>\u2014 <a target=\"_blank\" href=\"http://www.fonduri-structurale.ro/rss.aspx\">http://www.fonduri-structurale.ro/rss.aspx</a><ul><li>interval: 3600, fetched 4 days ago, 985/10878 articles</li><li>[]<li></ul></li>"
       ],
       "output_type": "display_data"
      },
      {
       "html": [
        "<li><a href=\"http://1flow.io/admin/models/feed/51ca00cce7a05b27f6a3ee6e/\" target=\"_blank\">Inima Bac\u0103ului</a>\u2014 <a target=\"_blank\" href=\"http://www.inimabacaului.ro/feeds/posts/default\">http://www.inimabacaului.ro/feeds/posts/default</a><ul><li>interval: 3600, fetched 4 days ago, 0/6 articles</li><li>[]<li></ul></li>"
       ],
       "output_type": "display_data"
      },
      {
       "html": [
        "<li><a href=\"http://1flow.io/admin/models/feed/51c9d5b3e7a05b27f69e7ef0/\" target=\"_blank\">Saturday Morning Breakfast Cereal</a>\u2014 <a target=\"_blank\" href=\"http://www.smbc-comics.com/rss.php\">http://www.smbc-comics.com/rss.php</a><ul><li>interval: 3600, fetched 4 days ago, 167/1332 articles</li><li>[]<li></ul></li>"
       ],
       "output_type": "display_data"
      },
      {
       "html": [
        "<li><a href=\"http://1flow.io/admin/models/feed/51ca01ade7a05b27f6a62d30/\" target=\"_blank\">Web Upd8 - Ubuntu / Linux blog</a>\u2014 <a target=\"_blank\" href=\"http://webupd8.blogspot.com/feeds/posts/default\">http://webupd8.blogspot.com/feeds/posts/default</a><ul><li>interval: 3600, fetched 4 days ago, 0/1 articles</li><li>[u'<unknown>:11:2: mismatched tag @@2013-07-16T23:30:33.158970+00:00']<li></ul></li>"
       ],
       "output_type": "display_data"
      },
      {
       "html": [
        "<li><a href=\"http://1flow.io/admin/models/feed/51ca01b6e7a05b27f6a63f76/\" target=\"_blank\">Random Etc.</a>\u2014 <a target=\"_blank\" href=\"http://www.processingblogs.org/feed/\">http://www.processingblogs.org/feed/</a><ul><li>interval: 3600, fetched 4 days ago, 0/15 articles</li><li>[]<li></ul></li>"
       ],
       "output_type": "display_data"
      },
      {
       "html": [
        "<li><a href=\"http://1flow.io/admin/models/feed/51ca01d6e7a05b27f6a68d90/\" target=\"_blank\">linux360 Feed Aggregator</a>\u2014 <a target=\"_blank\" href=\"http://planet.linux360.ro/rss20.xml\">http://planet.linux360.ro/rss20.xml</a><ul><li>interval: 3600, fetched 4 days ago, 23/87 articles</li><li>[]<li></ul></li>"
       ],
       "output_type": "display_data"
      },
      {
       "html": [
        "<li><a href=\"http://1flow.io/admin/models/feed/51ca07c8e7a05b27f6aea147/\" target=\"_blank\">1UP  RSS feed</a>\u2014 <a target=\"_blank\" href=\"http://rss.1up.com/rss?x=1\">http://rss.1up.com/rss?x=1</a><ul><li>interval: 3600, fetched 4 days ago, 116/373 articles</li><li>[u'document declared as us-ascii, but parsed as iso-8859-1 @@2013-07-16T23:30:32.580727+00:00']<li></ul></li>"
       ],
       "output_type": "display_data"
      },
      {
       "html": [
        "<li><a href=\"http://1flow.io/admin/models/feed/51ca07cce7a05b27f6aea9b6/\" target=\"_blank\">A Daily Dose of Architecture</a>\u2014 <a target=\"_blank\" href=\"http://archidose.blogspot.com/atom.xml\">http://archidose.blogspot.com/atom.xml</a><ul><li>interval: 3600, fetched 4 days ago, 177/200 articles</li><li>[u'<unknown>:11:2: mismatched tag @@2013-07-16T23:30:33.577241+00:00']<li></ul></li>"
       ],
       "output_type": "display_data"
      },
      {
       "html": [
        "<li><a href=\"http://1flow.io/admin/models/feed/51ca07cce7a05b27f6aeaa1f/\" target=\"_blank\">A List Apart</a>\u2014 <a target=\"_blank\" href=\"http://www.alistapart.com/site/rss\">http://www.alistapart.com/site/rss</a><ul><li>interval: 3600, fetched 4 days ago, 0/0 articles</li><li>[]<li></ul></li>"
       ],
       "output_type": "display_data"
      },
      {
       "html": [
        "<li><a href=\"http://1flow.io/admin/models/feed/51ca07d2e7a05b27f6aeb8ce/\" target=\"_blank\">Accessibility in the News</a>\u2014 <a target=\"_blank\" href=\"http://ncdae.org/rss/ncdaenews.xml\">http://ncdae.org/rss/ncdaenews.xml</a><ul><li>interval: 3600, fetched 4 days ago, 0/0 articles</li><li>[u'text/html; charset=iso-8859-1 is not an XML media type @@2013-07-16T23:30:32.169239+00:00']<li></ul></li>"
       ],
       "output_type": "display_data"
      },
      {
       "html": [
        "<li><a href=\"http://1flow.io/admin/models/feed/51ca07d5e7a05b27f6aeb936/\" target=\"_blank\">Afraid to Trade.com Blog</a>\u2014 <a target=\"_blank\" href=\"http://blog.afraidtotrade.com/feed/\">http://blog.afraidtotrade.com/feed/</a><ul><li>interval: 3600, fetched 4 days ago, 0/0 articles</li><li>[]<li></ul></li>"
       ],
       "output_type": "display_data"
      },
      {
       "html": [
        "<li><a href=\"http://1flow.io/admin/models/feed/51ca07d9e7a05b27f6aeb951/\" target=\"_blank\">Al-Ahram Weekly Online</a>\u2014 <a target=\"_blank\" href=\"http://weekly.ahram.org.eg/front.xml\">http://weekly.ahram.org.eg/front.xml</a><ul><li>interval: 3600, fetched 4 days ago, 0/0 articles</li><li>[u'text/html is not an XML media type @@2013-07-16T23:30:33.888206+00:00']<li></ul></li>"
       ],
       "output_type": "display_data"
      },
      {
       "html": [
        "<li><a href=\"http://1flow.io/admin/models/feed/51ca07dbe7a05b27f6aeb95d/\" target=\"_blank\">All Categories - Browse - gigapedia.org</a>\u2014 <a target=\"_blank\" href=\"http://gigapedia.org/feeds.rss\">http://gigapedia.org/feeds.rss</a><ul><li>interval: 3600, fetched 4 days ago, 0/0 articles</li><li>[u'text/html; charset=UTF-8 is not an XML media type @@2013-07-16T23:30:34.225321+00:00']<li></ul></li>"
       ],
       "output_type": "display_data"
      },
      {
       "html": [
        "<li><a href=\"http://1flow.io/admin/models/feed/51ca07e3e7a05b27f6aeb9ab/\" target=\"_blank\">Anthropology of Sound</a>\u2014 <a target=\"_blank\" href=\"http://www.soundstudies.info/feed/\">http://www.soundstudies.info/feed/</a><ul><li>interval: 3600, fetched 4 days ago, 0/0 articles</li><li>[u'<urlopen error [Errno -2] Name or service not known> @@2013-07-16T23:30:34.483794+00:00']<li></ul></li>"
       ],
       "output_type": "display_data"
      },
      {
       "html": [
        "<li><a href=\"http://1flow.io/admin/models/feed/51ca07e8e7a05b27f6aeb9e2/\" target=\"_blank\">ASIFA-Hollywood Animation Archive</a>\u2014 <a target=\"_blank\" href=\"http://www.animationarchive.org/atom.xml\">http://www.animationarchive.org/atom.xml</a><ul><li>interval: 3600, fetched 4 days ago, 0/0 articles</li><li>[u'text/html; charset=iso-8859-1 is not an XML media type @@2013-07-16T23:30:37.297376+00:00']<li></ul></li>"
       ],
       "output_type": "display_data"
      },
      {
       "html": [
        "<li><a href=\"http://1flow.io/admin/models/feed/51ca07e7e7a05b27f6aeb9e0/\" target=\"_blank\">AsiaMedia Southeast Asia News</a>\u2014 <a target=\"_blank\" href=\"http://www.asiamedia.ucla.edu/rss/rss-southeastasia.asp\">http://www.asiamedia.ucla.edu/rss/rss-southeastasia.asp</a><ul><li>interval: 3600, fetched 4 days ago, 0/15 articles</li><li>[u'text/html is not an XML media type @@2013-07-16T23:30:39.689578+00:00']<li></ul></li>"
       ],
       "output_type": "display_data"
      },
      {
       "html": [
        "<li><a href=\"http://1flow.io/admin/models/feed/51ca07ece7a05b27f6aeba16/\" target=\"_blank\">AutoWeek - Latest Car News Feed</a>\u2014 <a target=\"_blank\" href=\"http://www.autoweek.com/apps/pbcs.dll/section?category=rss01\">http://www.autoweek.com/apps/pbcs.dll/section?category=rss01</a><ul><li>interval: 3600, fetched 4 days ago, 64/64 articles</li><li>[]<li></ul></li>"
       ],
       "output_type": "display_data"
      },
      {
       "html": [
        "<li><a href=\"http://1flow.io/admin/models/feed/51ca07e4e7a05b27f6aeb9bf/\" target=\"_blank\">Archinect.com Feed</a>\u2014 <a target=\"_blank\" href=\"http://archinect.com/news.xml\">http://archinect.com/news.xml</a><ul><li>interval: 3600, fetched 4 days ago, 65/65 articles</li><li>[]<li></ul></li>"
       ],
       "output_type": "display_data"
      },
      {
       "html": [
        "<li><a href=\"http://1flow.io/admin/models/feed/51ca07f3e7a05b27f6aeba70/\" target=\"_blank\">BerryReview</a>\u2014 <a target=\"_blank\" href=\"http://rss.berryreview.com/Berryreview\">http://rss.berryreview.com/Berryreview</a><ul><li>interval: 3600, fetched 4 days ago, 0/0 articles</li><li>[u'<unknown>:11:2: mismatched tag @@2013-07-16T23:30:41.962893+00:00']<li></ul></li>"
       ],
       "output_type": "display_data"
      },
      {
       "html": [
        "<li><a href=\"http://1flow.io/admin/models/feed/51ca07f4e7a05b27f6aeba80/\" target=\"_blank\">Bike Snob NYC</a>\u2014 <a target=\"_blank\" href=\"http://bikesnobnyc.blogspot.com/feeds/posts/default\">http://bikesnobnyc.blogspot.com/feeds/posts/default</a><ul><li>interval: 3600, fetched 4 days ago, 0/0 articles</li><li>[u'<unknown>:11:2: mismatched tag @@2013-07-16T23:30:41.509236+00:00']<li></ul></li>"
       ],
       "output_type": "display_data"
      },
      {
       "html": [
        "<li><a href=\"http://1flow.io/admin/models/feed/51ca07f4e7a05b27f6aeba82/\" target=\"_blank\">Bill Cara</a>\u2014 <a target=\"_blank\" href=\"http://www.billcara.com/atom.xml\">http://www.billcara.com/atom.xml</a><ul><li>interval: 3600, fetched 4 days ago, 0/0 articles</li><li>[u'text/html is not an XML media type @@2013-07-16T23:30:39.971125+00:00']<li></ul></li>"
       ],
       "output_type": "display_data"
      },
      {
       "html": [
        "<li><a href=\"http://1flow.io/admin/models/feed/51ca07f6e7a05b27f6aeba92/\" target=\"_blank\">bit-tech.net News Feed</a>\u2014 <a target=\"_blank\" href=\"http://www.bit-tech.net/xml/news.rss\">http://www.bit-tech.net/xml/news.rss</a><ul><li>interval: 3600, fetched 4 days ago, 0/0 articles</li><li>[]<li></ul></li>"
       ],
       "output_type": "display_data"
      },
      {
       "html": [
        "<li><a href=\"http://1flow.io/admin/models/feed/51ca07f7e7a05b27f6aebaa0/\" target=\"_blank\">BlackBerry Cool</a>\u2014 <a target=\"_blank\" href=\"http://www.blackberrycool.com/feed/\">http://www.blackberrycool.com/feed/</a><ul><li>interval: 3600, fetched 4 days ago, 0/0 articles</li><li>[]<li></ul></li>"
       ],
       "output_type": "display_data"
      },
      {
       "html": [
        "<li><a href=\"http://1flow.io/admin/models/feed/51ca07f8e7a05b27f6aebaa6/\" target=\"_blank\">BLACKFIVE</a>\u2014 <a target=\"_blank\" href=\"http://www.blackfive.net/main/atom.xml\">http://www.blackfive.net/main/atom.xml</a><ul><li>interval: 3600, fetched 4 days ago, 0/0 articles</li><li>[u'<unknown>:11:2: mismatched tag @@2013-07-16T23:30:41.725242+00:00']<li></ul></li>"
       ],
       "output_type": "display_data"
      },
      {
       "html": [
        "<li><a href=\"http://1flow.io/admin/models/feed/51ca07f9e7a05b27f6aebab6/\" target=\"_blank\">Blog of Soh Tanaka</a>\u2014 <a target=\"_blank\" href=\"http://www.sohtanaka.com/feed/\">http://www.sohtanaka.com/feed/</a><ul><li>interval: 3600, fetched 4 days ago, 0/0 articles</li><li>[u'text/html; charset=iso-8859-1 is not an XML media type @@2013-07-16T23:30:41.209230+00:00']<li></ul></li>"
       ],
       "output_type": "display_data"
      },
      {
       "html": [
        "<li><a href=\"http://1flow.io/admin/models/feed/51ca07fae7a05b27f6aebaba/\" target=\"_blank\">BLOG.FASHIONBUSINESSREPORT.COM</a>\u2014 <a target=\"_blank\" href=\"http://blog.fashionbusinessreport.com/rss2.aspx\">http://blog.fashionbusinessreport.com/rss2.aspx</a><ul><li>interval: 3600, fetched 4 days ago, 0/0 articles</li><li>[u'<unknown>:21:64: not well-formed (invalid token) @@2013-07-16T23:30:41.988113+00:00']<li></ul></li>"
       ],
       "output_type": "display_data"
      },
      {
       "html": [
        "<li><a href=\"http://1flow.io/admin/models/feed/51ca07f2e7a05b27f6aeba68/\" target=\"_blank\">Benno's Blog</a>\u2014 <a target=\"_blank\" href=\"http://benno.id.au/blog/feed/\">http://benno.id.au/blog/feed/</a><ul><li>interval: 3600, fetched 4 days ago, 6/10 articles</li><li>[]<li></ul></li>"
       ],
       "output_type": "display_data"
      },
      {
       "html": [
        "<li><a href=\"http://1flow.io/admin/models/feed/51ca07ffe7a05b27f6aebaed/\" target=\"_blank\">brand-m</a>\u2014 <a target=\"_blank\" href=\"http://www.brand-m.biz/feed\">http://www.brand-m.biz/feed</a><ul><li>interval: 3600, fetched 4 days ago, 37/37 articles</li><li>[]<li></ul></li>"
       ],
       "output_type": "display_data"
      },
      {
       "html": [
        "<li><a href=\"http://1flow.io/admin/models/feed/51ca0806e7a05b27f6aebb3f/\" target=\"_blank\">Centauri Dreams</a>\u2014 <a target=\"_blank\" href=\"http://www.centauri-dreams.org/?feed=rss2\">http://www.centauri-dreams.org/?feed=rss2</a><ul><li>interval: 3600, fetched 4 days ago, 0/0 articles</li><li>[u'<unknown>:11:2: mismatched tag @@2013-07-16T23:30:47.393001+00:00']<li></ul></li>"
       ],
       "output_type": "display_data"
      },
      {
       "html": [
        "<li><a href=\"http://1flow.io/admin/models/feed/51ca07f6e7a05b27f6aeba98/\" target=\"_blank\">BizTalk Server Team Blog</a>\u2014 <a target=\"_blank\" href=\"http://blogs.msdn.com/biztalk_server_team_blog/rss.xml\">http://blogs.msdn.com/biztalk_server_team_blog/rss.xml</a><ul><li>interval: 3600, fetched 4 days ago, 12/26 articles</li><li>[]<li></ul></li>"
       ],
       "output_type": "display_data"
      },
      {
       "html": [
        "<li><a href=\"http://1flow.io/admin/models/feed/51ca080de7a05b27f6aebb90/\" target=\"_blank\">Comic RSS Feed</a>\u2014 <a target=\"_blank\" href=\"http://www.themysticalforestzone.com/insonicnia/inc/feed.php\">http://www.themysticalforestzone.com/insonicnia/inc/feed.php</a><ul><li>interval: 3600, fetched 4 days ago, 0/0 articles</li><li>[u'text/html is not an XML media type @@2013-07-16T23:30:48.116986+00:00']<li></ul></li>"
       ],
       "output_type": "display_data"
      },
      {
       "html": [
        "<li><a href=\"http://1flow.io/admin/models/feed/51ca0800e7a05b27f6aebb03/\" target=\"_blank\">brooklynvegan</a>\u2014 <a target=\"_blank\" href=\"http://www.brooklynvegan.com/atom.xml\">http://www.brooklynvegan.com/atom.xml</a><ul><li>interval: 3600, fetched 4 days ago, 114/114 articles</li><li>[]<li></ul></li>"
       ],
       "output_type": "display_data"
      },
      {
       "html": [
        "<li><a href=\"http://1flow.io/admin/models/feed/51ca0813e7a05b27f6aebbcf/\" target=\"_blank\">Corporate Identity Portal Nachrichten</a>\u2014 <a target=\"_blank\" href=\"http://www.ci-portal.de/index.php?id=185&type=100\">http://www.ci-portal.de/index.php?id=185&type=100</a><ul><li>interval: 3600, fetched 4 days ago, 0/0 articles</li><li>[u\"HTTP Error 301: Moved Permanently - Redirection to url 'feed://www.ci-portal.de/feed/' is not allowed @@2013-07-16T23:30:48.938382+00:00\"]<li></ul></li>"
       ],
       "output_type": "display_data"
      },
      {
       "html": [
        "<li><a href=\"http://1flow.io/admin/models/feed/51ca081ce7a05b27f6aebc29/\" target=\"_blank\">DailySnap.com</a>\u2014 <a target=\"_blank\" href=\"http://www.dailysnap.com/rss.xml\">http://www.dailysnap.com/rss.xml</a><ul><li>interval: 3600, fetched 4 days ago, 0/0 articles</li><li>[]<li></ul></li>"
       ],
       "output_type": "display_data"
      },
      {
       "html": [
        "<li><a href=\"http://1flow.io/admin/models/feed/51ca081be7a05b27f6aebc1d/\" target=\"_blank\">Daily MTG</a>\u2014 <a target=\"_blank\" href=\"http://www.wizards.com/rss.asp?x=magic\">http://www.wizards.com/rss.asp?x=magic</a><ul><li>interval: 3600, fetched 4 days ago, 28/28 articles</li><li>[]<li></ul></li>"
       ],
       "output_type": "display_data"
      },
      {
       "html": [
        "<li><a href=\"http://1flow.io/admin/models/feed/51ca0824e7a05b27f6aebc6e/\" target=\"_blank\">Dienekes\u2019 Anthropology Blog</a>\u2014 <a target=\"_blank\" href=\"http://dienekes.blogspot.com/feeds/posts/default\">http://dienekes.blogspot.com/feeds/posts/default</a><ul><li>interval: 3600, fetched 4 days ago, 0/0 articles</li><li>[]<li></ul></li>"
       ],
       "output_type": "display_data"
      },
      {
       "html": [
        "<li><a href=\"http://1flow.io/admin/models/feed/51ca0826e7a05b27f6aebc7e/\" target=\"_blank\">Dilbert</a>\u2014 <a target=\"_blank\" href=\"http://www.caesar.nl/CaesarRSS/DilbertRSS.aspx\">http://www.caesar.nl/CaesarRSS/DilbertRSS.aspx</a><ul><li>interval: 3600, fetched 4 days ago, 0/0 articles</li><li>[u'text/html; charset=utf-8 is not an XML media type @@2013-07-16T23:30:53.233259+00:00']<li></ul></li>"
       ],
       "output_type": "display_data"
      },
      {
       "html": [
        "<li><a href=\"http://1flow.io/admin/models/feed/51ca0827e7a05b27f6aebc8f/\" target=\"_blank\">DIYPhotography.net -DIY Photography and Studio Lighting</a>\u2014 <a target=\"_blank\" href=\"http://www.diyphotography.net/node/feed\">http://www.diyphotography.net/node/feed</a><ul><li>interval: 3600, fetched 4 days ago, 0/0 articles</li><li>[u'<unknown>:11:2: mismatched tag @@2013-07-16T23:30:56.131846+00:00']<li></ul></li>"
       ],
       "output_type": "display_data"
      },
      {
       "html": [
        "<li><a href=\"http://1flow.io/admin/models/feed/51ca0829e7a05b27f6aebca1/\" target=\"_blank\">DomainNews - Domain Name News, The Domain Industry News, ICANN News, Registry News, Domainer News, Domain</a>\u2014 <a target=\"_blank\" href=\"http://www.domainnews.com/feed/rss/\">http://www.domainnews.com/feed/rss/</a><ul><li>interval: 3600, fetched 4 days ago, 0/0 articles</li><li>[u'text/html; charset=utf-8 is not an XML media type @@2013-07-16T23:30:54.613231+00:00']<li></ul></li>"
       ],
       "output_type": "display_data"
      },
      {
       "html": [
        "<li><a href=\"http://1flow.io/admin/models/feed/51ca0833e7a05b27f6aebd00/\" target=\"_blank\">EnviroLink News Service</a>\u2014 <a target=\"_blank\" href=\"http://www.envirolink.org/environews.rss\">http://www.envirolink.org/environews.rss</a><ul><li>interval: 3600, fetched 4 days ago, 0/0 articles</li><li>[u'text/html is not an XML media type @@2013-07-16T23:30:56.769320+00:00']<li></ul></li>"
       ],
       "output_type": "display_data"
      },
      {
       "html": [
        "<li><a href=\"http://1flow.io/admin/models/feed/51ca0830e7a05b27f6aebcf1/\" target=\"_blank\">eMarketer Articles and Newsroom Posts</a>\u2014 <a target=\"_blank\" href=\"http://feeds.emarketer.com/Articles.xml\">http://feeds.emarketer.com/Articles.xml</a><ul><li>interval: 3600, fetched 4 days ago, 12/12 articles</li><li>[u'document declared as us-ascii, but parsed as utf-8 @@2013-07-16T23:30:57.009364+00:00']<li></ul></li>"
       ],
       "output_type": "display_data"
      },
      {
       "html": [
        "<li><a href=\"http://1flow.io/admin/models/feed/51ca0834e7a05b27f6aebd18/\" target=\"_blank\">EUobserver.com - Headline News</a>\u2014 <a target=\"_blank\" href=\"http://euobserver.com/9/?rss=1\">http://euobserver.com/9/?rss=1</a><ul><li>interval: 3600, fetched 4 days ago, 0/0 articles</li><li>[u'text/html; charset=utf-8 is not an XML media type @@2013-07-16T23:30:57.685991+00:00']<li></ul></li>"
       ],
       "output_type": "display_data"
      },
      {
       "html": [
        "<li><a href=\"http://1flow.io/admin/models/feed/51ca0835e7a05b27f6aebd1e/\" target=\"_blank\">Everblue</a>\u2014 <a target=\"_blank\" href=\"http://everblue-comic.com/feed/\">http://everblue-comic.com/feed/</a><ul><li>interval: 3600, fetched 4 days ago, 0/0 articles</li><li>[u'text/html; charset=iso-8859-1 is not an XML media type @@2013-07-16T23:30:57.441232+00:00']<li></ul></li>"
       ],
       "output_type": "display_data"
      },
      {
       "html": [
        "<li><a href=\"http://1flow.io/admin/models/feed/51ca083ae7a05b27f6aebd64/\" target=\"_blank\">Feministe</a>\u2014 <a target=\"_blank\" href=\"http://www.feministe.us/blog/feed/\">http://www.feministe.us/blog/feed/</a><ul><li>interval: 3600, fetched 4 days ago, 0/0 articles</li><li>[]<li></ul></li>"
       ],
       "output_type": "display_data"
      },
      {
       "html": [
        "<li><a href=\"http://1flow.io/admin/models/feed/51ca0838e7a05b27f6aebd52/\" target=\"_blank\">Fat Cyclist</a>\u2014 <a target=\"_blank\" href=\"http://www.fatcyclist.com/feed/\">http://www.fatcyclist.com/feed/</a><ul><li>interval: 3600, fetched 4 days ago, 14/14 articles</li><li>[u'text/html; charset=UTF-8 is not an XML media type @@2013-07-16T23:31:01.120462+00:00']<li></ul></li>"
       ],
       "output_type": "display_data"
      },
      {
       "html": [
        "<li><a href=\"http://1flow.io/admin/models/feed/51ca0839e7a05b27f6aebd5e/\" target=\"_blank\">Featured Crockpot Slow Cooker Recipes at CDKitchen.com</a>\u2014 <a target=\"_blank\" href=\"http://crockpot.cdkitchen.com/recipes/rss/newrecipes_rss2.xml\">http://crockpot.cdkitchen.com/recipes/rss/newrecipes_rss2.xml</a><ul><li>interval: 3600, fetched 4 days ago, 39/39 articles</li><li>[]<li></ul></li>"
       ],
       "output_type": "display_data"
      },
      {
       "html": [
        "<li><a href=\"http://1flow.io/admin/models/feed/51ca0840e7a05b27f6aebda7/\" target=\"_blank\">FOREX.com's Weekly Strategy</a>\u2014 <a target=\"_blank\" href=\"http://www.forex.com/weekly.xml\">http://www.forex.com/weekly.xml</a><ul><li>interval: 3600, fetched 4 days ago, 1/1 articles</li><li>[]<li></ul></li>"
       ],
       "output_type": "display_data"
      },
      {
       "html": [
        "<li><a href=\"http://1flow.io/admin/models/feed/51ca0841e7a05b27f6aebdb1/\" target=\"_blank\">FOXSports.com News for NFL</a>\u2014 <a target=\"_blank\" href=\"http://msn.foxsports.com/feedout/syndicatedContent?categoryId=5\">http://msn.foxsports.com/feedout/syndicatedContent?categoryId=5</a><ul><li>interval: 3600, fetched 4 days ago, 18/18 articles</li><li>[u'text/html is not an XML media type @@2013-07-16T23:31:01.401379+00:00']<li></ul></li>"
       ],
       "output_type": "display_data"
      },
      {
       "html": [
        "<li><a href=\"http://1flow.io/admin/models/feed/51ca0842e7a05b27f6aebdbc/\" target=\"_blank\">Free exchange</a>\u2014 <a target=\"_blank\" href=\"http://www.economist.com/blogs/freeexchange/atom.xml\">http://www.economist.com/blogs/freeexchange/atom.xml</a><ul><li>interval: 3600, fetched 4 days ago, 28/28 articles</li><li>[u'text/html; charset=utf-8 is not an XML media type @@2013-07-16T23:31:03.453399+00:00']<li></ul></li>"
       ],
       "output_type": "display_data"
      },
      {
       "html": [
        "<li><a href=\"http://1flow.io/admin/models/feed/51ca0845e7a05b27f6aebdde/\" target=\"_blank\">Gambit</a>\u2014 <a target=\"_blank\" href=\"http://gambit.blogs.nytimes.com/rss2.xml\">http://gambit.blogs.nytimes.com/rss2.xml</a><ul><li>interval: 3600, fetched 4 days ago, 0/15 articles</li><li>[]<li></ul></li>"
       ],
       "output_type": "display_data"
      },
      {
       "html": [
        "<li><a href=\"http://1flow.io/admin/models/feed/51ca082ee7a05b27f6aebcd9/\" target=\"_blank\">Education Week American Education News Site of Record</a>\u2014 <a target=\"_blank\" href=\"http://www.edweek.org/ew/rss1.xml\">http://www.edweek.org/ew/rss1.xml</a><ul><li>interval: 3600, fetched 4 days ago, 0/146 articles</li><li>[u'document declared as us-ascii, but parsed as utf-8 @@2013-07-16T23:31:04.813040+00:00']<li></ul></li>"
       ],
       "output_type": "display_data"
      },
      {
       "html": [
        "<li><a href=\"http://1flow.io/admin/models/feed/51ca0845e7a05b27f6aebdd2/\" target=\"_blank\">futuregirl craft blog</a>\u2014 <a target=\"_blank\" href=\"http://www.futuregirl.com/craft_blog/atom.xml\">http://www.futuregirl.com/craft_blog/atom.xml</a><ul><li>interval: 3600, fetched 4 days ago, 28/28 articles</li><li>[]<li></ul></li>"
       ],
       "output_type": "display_data"
      },
      {
       "html": [
        "<li><a href=\"http://1flow.io/admin/models/feed/51ca0848e7a05b27f6aebdfc/\" target=\"_blank\">GEO.de</a>\u2014 <a target=\"_blank\" href=\"http://img.geo.de/rss/GEO/index.xml\">http://img.geo.de/rss/GEO/index.xml</a><ul><li>interval: 3600, fetched 4 days ago, 21/21 articles</li><li>[u'document declared as us-ascii, but parsed as iso-8859-1 @@2013-07-16T23:31:05.612776+00:00']<li></ul></li>"
       ],
       "output_type": "display_data"
      },
      {
       "html": [
        "<li><a href=\"http://1flow.io/admin/models/feed/51ca0848e7a05b27f6aebdfe/\" target=\"_blank\">GEO.de</a>\u2014 <a target=\"_blank\" href=\"http://www.geo.de/rss/GEO/index.xml\">http://www.geo.de/rss/GEO/index.xml</a><ul><li>interval: 3600, fetched 4 days ago, 16/16 articles</li><li>[u'document declared as us-ascii, but parsed as iso-8859-1 @@2013-07-16T23:31:06.033233+00:00']<li></ul></li>"
       ],
       "output_type": "display_data"
      },
      {
       "html": [
        "<li><a href=\"http://1flow.io/admin/models/feed/51ca084ce7a05b27f6aebe2d/\" target=\"_blank\">Google Code Blog</a>\u2014 <a target=\"_blank\" href=\"http://googlecode.blogspot.com/atom.xml\">http://googlecode.blogspot.com/atom.xml</a><ul><li>interval: 3600, fetched 4 days ago, 0/0 articles</li><li>[]<li></ul></li>"
       ],
       "output_type": "display_data"
      },
      {
       "html": [
        "<li><a href=\"http://1flow.io/admin/models/feed/51ca084ce7a05b27f6aebe2f/\" target=\"_blank\">Google Developers Blog</a>\u2014 <a target=\"_blank\" href=\"http://code.google.com/feeds/updates.xml\">http://code.google.com/feeds/updates.xml</a><ul><li>interval: 3600, fetched 4 days ago, 0/0 articles</li><li>[u'<unknown>:11:2: mismatched tag @@2013-07-16T23:31:08.707471+00:00']<li></ul></li>"
       ],
       "output_type": "display_data"
      },
      {
       "html": [
        "<li><a href=\"http://1flow.io/admin/models/feed/51ca084de7a05b27f6aebe38/\" target=\"_blank\">Google Webmaster Central Blog</a>\u2014 <a target=\"_blank\" href=\"http://googlewebmastercentral.blogspot.com/atom.xml\">http://googlewebmastercentral.blogspot.com/atom.xml</a><ul><li>interval: 3600, fetched 4 days ago, 0/0 articles</li><li>[u'<unknown>:11:2: mismatched tag @@2013-07-16T23:31:08.553243+00:00']<li></ul></li>"
       ],
       "output_type": "display_data"
      },
      {
       "html": [
        "<li><a href=\"http://1flow.io/admin/models/feed/51ca0846e7a05b27f6aebde4/\" target=\"_blank\">GameKnot online chess news</a>\u2014 <a target=\"_blank\" href=\"http://gameknot.com/rss_news.pl\">http://gameknot.com/rss_news.pl</a><ul><li>interval: 3600, fetched 4 days ago, 34/34 articles</li><li>[u'document declared as us-ascii, but parsed as iso-8859-1 @@2013-07-16T23:31:08.405230+00:00']<li></ul></li>"
       ],
       "output_type": "display_data"
      },
      {
       "html": [
        "<li><a href=\"http://1flow.io/admin/models/feed/51ca0858e7a05b27f6aebe91/\" target=\"_blank\">How to Avoid the Bummer Life</a>\u2014 <a target=\"_blank\" href=\"http://www.howtoavoidthebummerlife.com/weblog/atom.xml\">http://www.howtoavoidthebummerlife.com/weblog/atom.xml</a><ul><li>interval: 3600, fetched 4 days ago, 0/0 articles</li><li>[u'text/html; charset=iso-8859-1 is not an XML media type @@2013-07-16T23:31:09.717317+00:00']<li></ul></li>"
       ],
       "output_type": "display_data"
      },
      {
       "html": [
        "<li><a href=\"http://1flow.io/admin/models/feed/51ca085ee7a05b27f6aebeb7/\" target=\"_blank\">IEBlog</a>\u2014 <a target=\"_blank\" href=\"http://blogs.msdn.com/ie/rss.xml\">http://blogs.msdn.com/ie/rss.xml</a><ul><li>interval: 3600, fetched 4 days ago, 24/24 articles</li><li>[]<li></ul></li>"
       ],
       "output_type": "display_data"
      },
      {
       "html": [
        "<li><a href=\"http://1flow.io/admin/models/feed/51ca0872e7a05b27f6aebf58/\" target=\"_blank\">JREF News</a>\u2014 <a target=\"_blank\" href=\"http://www.randi.org/joom/index2.php?option=com_rss&feed=RSS2.0&no_html=1\">http://www.randi.org/joom/index2.php?option=com_rss&feed=RSS2.0&no_html=1</a><ul><li>interval: 3600, fetched 4 days ago, 0/0 articles</li><li>[]<li></ul></li>"
       ],
       "output_type": "display_data"
      },
      {
       "html": [
        "<li><a href=\"http://1flow.io/admin/models/feed/51ca0877e7a05b27f6aebf8c/\" target=\"_blank\">Lalai LOADED</a>\u2014 <a target=\"_blank\" href=\"http://lalai.net/feed/\">http://lalai.net/feed/</a><ul><li>interval: 3600, fetched 4 days ago, 0/0 articles</li><li>[u'text/html; charset=utf-8 is not an XML media type @@2013-07-16T23:31:12.170897+00:00']<li></ul></li>"
       ],
       "output_type": "display_data"
      },
      {
       "html": [
        "<li><a href=\"http://1flow.io/admin/models/feed/51ca0875e7a05b27f6aebf77/\" target=\"_blank\">Klona : ShiftyLook.com</a>\u2014 <a target=\"_blank\" href=\"http://www.shiftylook.com/comics/rss/klonoa\">http://www.shiftylook.com/comics/rss/klonoa</a><ul><li>interval: 3600, fetched 4 days ago, 0/10 articles</li><li>[u'text/html; charset=UTF-8 is not an XML media type @@2013-07-16T23:31:12.897076+00:00']<li></ul></li>"
       ],
       "output_type": "display_data"
      },
      {
       "html": [
        "<li><a href=\"http://1flow.io/admin/models/feed/51ca087de7a05b27f6aebfcf/\" target=\"_blank\">Little Hokum Rag</a>\u2014 <a target=\"_blank\" href=\"http://amycrehore.blogspot.com/feeds/posts/default\">http://amycrehore.blogspot.com/feeds/posts/default</a><ul><li>interval: 3600, fetched 4 days ago, 0/0 articles</li><li>[u'<unknown>:11:2: mismatched tag @@2013-07-16T23:31:14.164763+00:00']<li></ul></li>"
       ],
       "output_type": "display_data"
      },
      {
       "html": [
        "<li><a href=\"http://1flow.io/admin/models/feed/51ca0872e7a05b27f6aebf56/\" target=\"_blank\">jQuery Forum</a>\u2014 <a target=\"_blank\" href=\"http://forum.jquery.com/feed\">http://forum.jquery.com/feed</a><ul><li>interval: 3600, fetched 4 days ago, 347/347 articles</li><li>[]<li></ul></li>"
       ],
       "output_type": "display_data"
      },
      {
       "html": [
        "<li><a href=\"http://1flow.io/admin/models/feed/51ca0880e7a05b27f6aebff5/\" target=\"_blank\">MacOSXHints.com</a>\u2014 <a target=\"_blank\" href=\"http://www.macosxhints.com/backend/geeklog.rdf\">http://www.macosxhints.com/backend/geeklog.rdf</a><ul><li>interval: 3600, fetched 4 days ago, 24/24 articles</li><li>[u'document declared as us-ascii, but parsed as iso-8859-1 @@2013-07-16T23:31:17.931534+00:00']<li></ul></li>"
       ],
       "output_type": "display_data"
      },
      {
       "html": [
        "<li><a href=\"http://1flow.io/admin/models/feed/51ca0876e7a05b27f6aebf84/\" target=\"_blank\">KurzweilAI \u00bb Blog</a>\u2014 <a target=\"_blank\" href=\"http://www.kurzweilai.net/blog/feed/atom\">http://www.kurzweilai.net/blog/feed/atom</a><ul><li>interval: 3600, fetched 4 days ago, 37/50 articles</li><li>[u'<unknown>:1907:481: not well-formed (invalid token) @@2013-07-16T23:31:23.976097+00:00']<li></ul></li>"
       ],
       "output_type": "display_data"
      },
      {
       "html": [
        "<li><a href=\"http://1flow.io/admin/models/feed/51ca0941e7a05b27f6aec5b0/\" target=\"_blank\">The Wotch</a>\u2014 <a target=\"_blank\" href=\"http://www.thewotch.com/feed.php\">http://www.thewotch.com/feed.php</a><ul><li>interval: 3600, fetched 4 days ago, 10/10 articles</li><li>[]<li></ul></li>"
       ],
       "output_type": "display_data"
      },
      {
       "html": [
        "<li><a href=\"http://1flow.io/admin/models/feed/51ca094de7a05b27f6aec5d2/\" target=\"_blank\">Timbuktu Chronicles</a>\u2014 <a target=\"_blank\" href=\"http://timbuktuchronicles.blogspot.com/atom.xml\">http://timbuktuchronicles.blogspot.com/atom.xml</a><ul><li>interval: 3600, fetched 4 days ago, 0/0 articles</li><li>[]<li></ul></li>"
       ],
       "output_type": "display_data"
      },
      {
       "html": [
        "<li><a href=\"http://1flow.io/admin/models/feed/51ca095ae7a05b27f6aec62e/\" target=\"_blank\">Understanding Google Places & Local Search</a>\u2014 <a target=\"_blank\" href=\"http://blumenthals.com/blog/feed/\">http://blumenthals.com/blog/feed/</a><ul><li>interval: 3600, fetched 4 days ago, 0/0 articles</li><li>[]<li></ul></li>"
       ],
       "output_type": "display_data"
      },
      {
       "html": [
        "<li><a href=\"http://1flow.io/admin/models/feed/51ca0951e7a05b27f6aec5f1/\" target=\"_blank\">Top Questions - Social Sound Design</a>\u2014 <a target=\"_blank\" href=\"http://socialsounddesign.com/feeds\">http://socialsounddesign.com/feeds</a><ul><li>interval: 3600, fetched 4 days ago, 61/87 articles</li><li>[]<li></ul></li>"
       ],
       "output_type": "display_data"
      },
      {
       "html": [
        "<li><a href=\"http://1flow.io/admin/models/feed/51ca0965e7a05b27f6aec658/\" target=\"_blank\">VIBEcomic RSS</a>\u2014 <a target=\"_blank\" href=\"http://www.vibecomic.com/rss.xml\">http://www.vibecomic.com/rss.xml</a><ul><li>interval: 3600, fetched 4 days ago, 0/0 articles</li><li>[u'text/html; charset=iso-8859-1 is not an XML media type @@2013-07-16T23:31:22.878214+00:00']<li></ul></li>"
       ],
       "output_type": "display_data"
      },
      {
       "html": [
        "<li><a href=\"http://1flow.io/admin/models/feed/51ca0944e7a05b27f6aec5b2/\" target=\"_blank\">TheaterMania.com</a>\u2014 <a target=\"_blank\" href=\"http://www.theatermania.com/rss.xml\">http://www.theatermania.com/rss.xml</a><ul><li>interval: 3600, fetched 4 days ago, 75/75 articles</li><li>[u'document declared as us-ascii, but parsed as utf-8 @@2013-07-16T23:31:24.345270+00:00']<li></ul></li>"
       ],
       "output_type": "display_data"
      },
      {
       "html": [
        "<li><a href=\"http://1flow.io/admin/models/feed/51ca096ce7a05b27f6aec687/\" target=\"_blank\">Waveformless</a>\u2014 <a target=\"_blank\" href=\"http://waveformless.blogspot.com/feeds/posts/default\">http://waveformless.blogspot.com/feeds/posts/default</a><ul><li>interval: 3600, fetched 4 days ago, 0/0 articles</li><li>[u'<unknown>:11:2: mismatched tag @@2013-07-16T23:31:26.061231+00:00']<li></ul></li>"
       ],
       "output_type": "display_data"
      },
      {
       "html": [
        "<li><a href=\"http://1flow.io/admin/models/feed/51ca0972e7a05b27f6aec6ad/\" target=\"_blank\">Well</a>\u2014 <a target=\"_blank\" href=\"http://well.blogs.nytimes.com/feed/\">http://well.blogs.nytimes.com/feed/</a><ul><li>interval: 3600, fetched 4 days ago, 33/33 articles</li><li>[u'text/html; charset=UTF-8 is not an XML media type @@2013-07-16T23:31:28.149250+00:00']<li></ul></li>"
       ],
       "output_type": "display_data"
      },
      {
       "html": [
        "<li><a href=\"http://1flow.io/admin/models/feed/51ca097ee7a05b27f6aec714/\" target=\"_blank\">www.wwf.de: Aktuelle Nachrichten</a>\u2014 <a target=\"_blank\" href=\"http://www.wwf.de/presse/rss.xml\">http://www.wwf.de/presse/rss.xml</a><ul><li>interval: 3600, fetched 4 days ago, 11/11 articles</li><li>[u'document declared as us-ascii, but parsed as utf-8 @@2013-07-16T23:31:29.287482+00:00']<li></ul></li>"
       ],
       "output_type": "display_data"
      },
      {
       "html": [
        "<li><a href=\"http://1flow.io/admin/models/feed/51ca08e7e7a05b27f6aec3c6/\" target=\"_blank\">Seth's Blog</a>\u2014 <a target=\"_blank\" href=\"http://sethgodin.typepad.com/seths_blog/atom.xml\">http://sethgodin.typepad.com/seths_blog/atom.xml</a><ul><li>interval: 3600, fetched 4 days ago, 0/1 articles</li><li>[u'<unknown>:16:67: mismatched tag @@2013-07-16T23:31:30.553456+00:00']<li></ul></li>"
       ],
       "output_type": "display_data"
      },
      {
       "html": [
        "<li><a href=\"http://1flow.io/admin/models/feed/51ca0975e7a05b27f6aec6d1/\" target=\"_blank\">Windows Server Blog</a>\u2014 <a target=\"_blank\" href=\"http://blogs.technet.com/windowsserver/rss.xml\">http://blogs.technet.com/windowsserver/rss.xml</a><ul><li>interval: 3600, fetched 4 days ago, 26/26 articles</li><li>[u'document declared as us-ascii, but parsed as utf-8 @@2013-07-16T23:31:33.013224+00:00']<li></ul></li>"
       ],
       "output_type": "display_data"
      },
      {
       "html": [
        "<li><a href=\"http://1flow.io/admin/models/feed/51ca2046e7a05b27f6b23d2c/\" target=\"_blank\">DRIVE.RU</a>\u2014 <a target=\"_blank\" href=\"http://www.drive.ru/export/rss.xml\">http://www.drive.ru/export/rss.xml</a><ul><li>interval: 3600, fetched 4 days ago, 799/799 articles</li><li>[u'<unknown>:11:2: mismatched tag @@2013-07-16T23:31:30.437660+00:00']<li></ul></li>"
       ],
       "output_type": "display_data"
      },
      {
       "html": [
        "<li><a href=\"http://1flow.io/admin/models/feed/51ca098fe7a05b27f6aec740/\" target=\"_blank\">ZDNet | The Ed Bott Report Blog RSS</a>\u2014 <a target=\"_blank\" href=\"http://blogs.zdnet.com/Bott/wp-rss2.php\">http://blogs.zdnet.com/Bott/wp-rss2.php</a><ul><li>interval: 3600, fetched 4 days ago, 21/21 articles</li><li>[u'document declared as us-ascii, but parsed as utf-8 @@2013-07-16T23:31:33.683866+00:00']<li></ul></li>"
       ],
       "output_type": "display_data"
      },
      {
       "html": [
        "<li><a href=\"http://1flow.io/admin/models/feed/51ca0979e7a05b27f6aec6f0/\" target=\"_blank\">WordPress Planet</a>\u2014 <a target=\"_blank\" href=\"http://planet.wordpress.org/feed/\">http://planet.wordpress.org/feed/</a><ul><li>interval: 3600, fetched 4 days ago, 77/77 articles</li><li>[u'document declared as us-ascii, but parsed as utf-8 @@2013-07-16T23:31:33.672189+00:00']<li></ul></li>"
       ],
       "output_type": "display_data"
      },
      {
       "html": [
        "<li><a href=\"http://1flow.io/admin/models/feed/51ca2047e7a05b27f6b23ecc/\" target=\"_blank\">\u041f\u0443\u0431\u043b\u0438\u043a\u0430\u0446\u0438\u0438 / Hi-Tech@Mail.ru</a>\u2014 <a target=\"_blank\" href=\"http://hi-tech.mail.ru/rss/all/\">http://hi-tech.mail.ru/rss/all/</a><ul><li>interval: 3600, fetched 4 days ago, 1469/2258 articles</li><li>[]<li></ul></li>"
       ],
       "output_type": "display_data"
      },
      {
       "html": [
        "<li><a href=\"http://1flow.io/admin/models/feed/51ca2047e7a05b27f6b23f0d/\" target=\"_blank\">\u0422\u043e\u043f-30 \u043f\u043e\u0441\u0442\u043e\u0432</a>\u2014 <a target=\"_blank\" href=\"http://top.artlebedev.ru/rss/\">http://top.artlebedev.ru/rss/</a><ul><li>interval: 3600, fetched 4 days ago, 2190/2260 articles</li><li>[]<li></ul></li>"
       ],
       "output_type": "display_data"
      },
      {
       "html": [
        "<li><a href=\"http://1flow.io/admin/models/feed/51ca23f2e7a05b27f6b67f09/\" target=\"_blank\">LAUGHSPIN</a>\u2014 <a target=\"_blank\" href=\"http://www.laughspin.com/feed/\">http://www.laughspin.com/feed/</a><ul><li>interval: 3600, fetched 4 days ago, 572/2737 articles</li><li>[u'document declared as us-ascii, but parsed as utf-8 @@2013-07-16T23:31:35.421300+00:00']<li></ul></li>"
       ],
       "output_type": "display_data"
      },
      {
       "html": [
        "<li><a href=\"http://1flow.io/admin/models/feed/51ca23f2e7a05b27f6b67f15/\" target=\"_blank\">NY Voice: Sound of the City</a>\u2014 <a target=\"_blank\" href=\"http://blogs.villagevoice.com/music/rss.xml\">http://blogs.villagevoice.com/music/rss.xml</a><ul><li>interval: 3600, fetched 4 days ago, 678/7956 articles</li><li>[]<li></ul></li>"
       ],
       "output_type": "display_data"
      },
      {
       "html": [
        "<li><a href=\"http://1flow.io/admin/models/feed/51ca23f2e7a05b27f6b67f56/\" target=\"_blank\">The Classical: Articles</a>\u2014 <a target=\"_blank\" href=\"http://theclassical.org/rss/articles/all\">http://theclassical.org/rss/articles/all</a><ul><li>interval: 3600, fetched 4 days ago, 195/752 articles</li><li>[u'text/html; charset=utf-8 is not an XML media type @@2013-07-16T23:31:35.785239+00:00']<li></ul></li>"
       ],
       "output_type": "display_data"
      },
      {
       "html": [
        "<li><a href=\"http://1flow.io/admin/models/feed/51ca2622e7a05b27f6ba1b99/\" target=\"_blank\">Mirth Magazine</a>\u2014 <a target=\"_blank\" href=\"http://mirthmag.com/feed/\">http://mirthmag.com/feed/</a><ul><li>interval: 3600, fetched 4 days ago, 0/5 articles</li><li>[u'text/html; charset=utf-8 is not an XML media type @@2013-07-16T23:31:36.129027+00:00']<li></ul></li>"
       ],
       "output_type": "display_data"
      },
      {
       "html": [
        "<li><a href=\"http://1flow.io/admin/models/feed/51ca266ae7a05b27f6ba7bda/\" target=\"_blank\">Goldstar New York</a>\u2014 <a target=\"_blank\" href=\"http://feeds.goldstar.com/goldstar-new-york\">http://feeds.goldstar.com/goldstar-new-york</a><ul><li>interval: 3600, fetched 4 days ago, 0/2 articles</li><li>[u'<unknown>:11:2: mismatched tag @@2013-07-16T23:31:37.877297+00:00']<li></ul></li>"
       ],
       "output_type": "display_data"
      },
      {
       "html": [
        "<li><a href=\"http://1flow.io/admin/models/feed/51ca2670e7a05b27f6ba830b/\" target=\"_blank\">iTnews</a>\u2014 <a target=\"_blank\" href=\"http://www.itnews.com.au/Rss/Rss.aspx\">http://www.itnews.com.au/Rss/Rss.aspx</a><ul><li>interval: 3600, fetched 4 days ago, 0/3 articles</li><li>[u'text/html is not an XML media type @@2013-07-16T23:31:38.501113+00:00']<li></ul></li>"
       ],
       "output_type": "display_data"
      },
      {
       "html": [
        "<li><a href=\"http://1flow.io/admin/models/feed/51ca266ee7a05b27f6ba8015/\" target=\"_blank\">All Shook Down</a>\u2014 <a target=\"_blank\" href=\"http://blogs.sfweekly.com/shookdown/rss.xml\">http://blogs.sfweekly.com/shookdown/rss.xml</a><ul><li>interval: 3600, fetched 4 days ago, 33/45 articles</li><li>[u'document declared as us-ascii, but parsed as utf-8 @@2013-07-16T23:31:39.153025+00:00']<li></ul></li>"
       ],
       "output_type": "display_data"
      },
      {
       "html": [
        "<li><a href=\"http://1flow.io/admin/models/feed/51ca2678e7a05b27f6ba901b/\" target=\"_blank\">SFoodie</a>\u2014 <a target=\"_blank\" href=\"http://blogs.sfweekly.com/foodie/rss.xml\">http://blogs.sfweekly.com/foodie/rss.xml</a><ul><li>interval: 3600, fetched 4 days ago, 35/53 articles</li><li>[]<li></ul></li>"
       ],
       "output_type": "display_data"
      },
      {
       "html": [
        "<li><a href=\"http://1flow.io/admin/models/feed/51ca26e5e7a05b27f6bb2eb7/\" target=\"_blank\">DAILY SYDNEY: Get to know Sydney&#39;s subculture</a>\u2014 <a target=\"_blank\" href=\"http://www.dailysydney.com/feeds/posts/default?alt=rss\">http://www.dailysydney.com/feeds/posts/default?alt=rss</a><ul><li>interval: 3600, fetched 4 days ago, 0/2 articles</li><li>[]<li></ul></li>"
       ],
       "output_type": "display_data"
      },
      {
       "html": [
        "<li><a href=\"http://1flow.io/admin/models/feed/51ca272be7a05b27f6bb99f8/\" target=\"_blank\">Latest News</a>\u2014 <a target=\"_blank\" href=\"http://www.itwire.com/index2.php?option=com_rss&feed=RSS2.0&no_html=1\">http://www.itwire.com/index2.php?option=com_rss&feed=RSS2.0&no_html=1</a><ul><li>interval: 3600, fetched 4 days ago, 0/2 articles</li><li>[u'text/html; charset=utf-8 is not an XML media type @@2013-07-16T23:31:42.480489+00:00']<li></ul></li>"
       ],
       "output_type": "display_data"
      },
      {
       "html": [
        "<li><a href=\"http://1flow.io/admin/models/feed/51ca2720e7a05b27f6bb8977/\" target=\"_blank\">Drowned In Sound // Feed</a>\u2014 <a target=\"_blank\" href=\"http://drownedinsound.com/feeds/all/feed.xml\">http://drownedinsound.com/feeds/all/feed.xml</a><ul><li>interval: 3600, fetched 4 days ago, 35/71 articles</li><li>[]<li></ul></li>"
       ],
       "output_type": "display_data"
      },
      {
       "html": [
        "<li><a href=\"http://1flow.io/admin/models/feed/51ca2736e7a05b27f6bbacf3/\" target=\"_blank\">Sixshot.com Urban</a>\u2014 <a target=\"_blank\" href=\"http://www.sixshot.com/newsfeed/rssnews.asp\">http://www.sixshot.com/newsfeed/rssnews.asp</a><ul><li>interval: 3600, fetched 4 days ago, 0/3 articles</li><li>[u'text/html; charset=iso-8859-1 is not an XML media type @@2013-07-16T23:31:41.745909+00:00']<li></ul></li>"
       ],
       "output_type": "display_data"
      },
      {
       "html": [
        "<li><a href=\"http://1flow.io/admin/models/feed/51ca2735e7a05b27f6bbacae/\" target=\"_blank\">Festival Preview - Your first stop for live music events</a>\u2014 <a target=\"_blank\" href=\"http://www.festivalpreview.com/beta/rss.xml\">http://www.festivalpreview.com/beta/rss.xml</a><ul><li>interval: 3600, fetched 4 days ago, 0/2 articles</li><li>[]<li></ul></li>"
       ],
       "output_type": "display_data"
      },
      {
       "html": [
        "<li><a href=\"http://1flow.io/admin/models/feed/51ca2785e7a05b27f6bc292a/\" target=\"_blank\">Burntpiano</a>\u2014 <a target=\"_blank\" href=\"http://burntpiano.com/feed/\">http://burntpiano.com/feed/</a><ul><li>interval: 3600, fetched 4 days ago, 0/3 articles</li><li>[u'text/html; charset=utf-8 is not an XML media type @@2013-07-16T23:31:42.262891+00:00']<li></ul></li>"
       ],
       "output_type": "display_data"
      },
      {
       "html": [
        "<li><a href=\"http://1flow.io/admin/models/feed/51ca2787e7a05b27f6bc2ccd/\" target=\"_blank\">Network2 Blog</a>\u2014 <a target=\"_blank\" href=\"http://blog.network2.tv/feed/\">http://blog.network2.tv/feed/</a><ul><li>interval: 3600, fetched 4 days ago, 0/1 articles</li><li>[u'text/html is not an XML media type @@2013-07-16T23:31:43.237222+00:00']<li></ul></li>"
       ],
       "output_type": "display_data"
      },
      {
       "html": [
        "<li><a href=\"http://1flow.io/admin/models/feed/51ca278fe7a05b27f6bc3679/\" target=\"_blank\">Businesshackers - only leading startups</a>\u2014 <a target=\"_blank\" href=\"http://www.businesshackers.com/feed/atom/\">http://www.businesshackers.com/feed/atom/</a><ul><li>interval: 3600, fetched 4 days ago, 0/2 articles</li><li>[]<li></ul></li>"
       ],
       "output_type": "display_data"
      },
      {
       "html": [
        "<li><a href=\"http://1flow.io/admin/models/feed/51cad28ee7a05b27f6bdd967/\" target=\"_blank\">Bitsplitting.org</a>\u2014 <a target=\"_blank\" href=\"http://bitsplitting.org/feed/\">http://bitsplitting.org/feed/</a><ul><li>interval: 3600, fetched 4 days ago, 24/35 articles</li><li>[u'document declared as us-ascii, but parsed as utf-8 @@2013-07-16T23:31:43.902064+00:00']<li></ul></li>"
       ],
       "output_type": "display_data"
      },
      {
       "html": [
        "<li><a href=\"http://1flow.io/admin/models/feed/51cad28fe7a05b27f6bdd97d/\" target=\"_blank\">Daniel Jalkut</a>\u2014 <a target=\"_blank\" href=\"http://www.red-sweater.com/blog/feed\">http://www.red-sweater.com/blog/feed</a><ul><li>interval: 3600, fetched 4 days ago, 6/176 articles</li><li>[u'document declared as us-ascii, but parsed as utf-8 @@2013-07-16T23:31:44.253242+00:00']<li></ul></li>"
       ],
       "output_type": "display_data"
      },
      {
       "html": [
        "<li><a href=\"http://1flow.io/admin/models/feed/51cad290e7a05b27f6bddc8e/\" target=\"_blank\">iPhone.AppStorm</a>\u2014 <a target=\"_blank\" href=\"http://iphone.appstorm.net/feed/\">http://iphone.appstorm.net/feed/</a><ul><li>interval: 3600, fetched 4 days ago, 262/1979 articles</li><li>[u'<unknown>:11:2: mismatched tag @@2013-07-16T23:31:51.270959+00:00']<li></ul></li>"
       ],
       "output_type": "display_data"
      },
      {
       "html": [
        "<li><a href=\"http://1flow.io/admin/models/feed/51ca57f9e7a05b27f6bcfc04/\" target=\"_blank\">PhoneArena</a>\u2014 <a target=\"_blank\" href=\"http://www.phonearena.com/feed\">http://www.phonearena.com/feed</a><ul><li>interval: 3600, fetched 4 days ago, 440/441 articles</li><li>[]<li></ul></li>"
       ],
       "output_type": "display_data"
      },
      {
       "html": [
        "<li><a href=\"http://1flow.io/admin/models/feed/51cad28fe7a05b27f6bddae4/\" target=\"_blank\">Ihnatko@Times</a>\u2014 <a target=\"_blank\" href=\"http://www.suntimes.com/rss/?path=/suntimes/technology/ihnatko\">http://www.suntimes.com/rss/?path=/suntimes/technology/ihnatko</a><ul><li>interval: 3600, fetched 4 days ago, 21/274 articles</li><li>[]<li></ul></li>"
       ],
       "output_type": "display_data"
      },
      {
       "html": [
        "<li><a href=\"http://1flow.io/admin/models/feed/51cad28ee7a05b27f6bdd95e/\" target=\"_blank\">BBC Sport - Football</a>\u2014 <a target=\"_blank\" href=\"http://feeds.bbci.co.uk/sport/0/football/rss.xml\">http://feeds.bbci.co.uk/sport/0/football/rss.xml</a><ul><li>interval: 3600, fetched 4 days ago, 5788/17699 articles</li><li>[]<li></ul></li>"
       ],
       "output_type": "display_data"
      },
      {
       "html": [
        "<li><a href=\"http://1flow.io/admin/models/feed/51cad291e7a05b27f6bdde66/\" target=\"_blank\">MacLife Reviews</a>\u2014 <a target=\"_blank\" href=\"http://www.maclife.com/articles/22/feed\">http://www.maclife.com/articles/22/feed</a><ul><li>interval: 3600, fetched 4 days ago, 455/2590 articles</li><li>[u'text/html; charset=utf-8 is not an XML media type @@2013-07-16T23:31:47.221246+00:00']<li></ul></li>"
       ],
       "output_type": "display_data"
      },
      {
       "html": [
        "<li><a href=\"http://1flow.io/admin/models/feed/51cad292e7a05b27f6bde19c/\" target=\"_blank\">RAPPAMELO</a>\u2014 <a target=\"_blank\" href=\"http://rappamelo.com/feed/\">http://rappamelo.com/feed/</a><ul><li>interval: 3600, fetched 4 days ago, 306/2630 articles</li><li>[u'<unknown>:11:2: mismatched tag @@2013-07-16T23:31:47.101222+00:00']<li></ul></li>"
       ],
       "output_type": "display_data"
      },
      {
       "html": [
        "<li><a href=\"http://1flow.io/admin/models/feed/51cad292e7a05b27f6bde0da/\" target=\"_blank\">OS X Daily</a>\u2014 <a target=\"_blank\" href=\"http://osxdaily.com/feed/\">http://osxdaily.com/feed/</a><ul><li>interval: 3600, fetched 4 days ago, 320/4068 articles</li><li>[u'document declared as us-ascii, but parsed as utf-8 @@2013-07-16T23:31:49.260813+00:00']<li></ul></li>"
       ],
       "output_type": "display_data"
      },
      {
       "html": [
        "<li><a href=\"http://1flow.io/admin/models/feed/51cad291e7a05b27f6bddeec/\" target=\"_blank\">MacUpdate</a>\u2014 <a target=\"_blank\" href=\"https://www.macupdate.com/members/wartchlist_rss/251021:6dbaf3d36743d7be235c5a0235037182\">https://www.macupdate.com/members/wartchlist_rss/251021:6dbaf3d36743d7be235c5a0235037182</a><ul><li>interval: 3600, fetched 4 days ago, 78/78 articles</li><li>[u'document declared as us-ascii, but parsed as utf-8 @@2013-07-16T23:31:50.060889+00:00']<li></ul></li>"
       ],
       "output_type": "display_data"
      },
      {
       "html": [
        "<li><a href=\"http://1flow.io/admin/models/feed/51cad293e7a05b27f6bde5ac/\" target=\"_blank\">Webin Blog</a>\u2014 <a target=\"_blank\" href=\"http://webinhq.com/blog/rss\">http://webinhq.com/blog/rss</a><ul><li>interval: 3600, fetched 4 days ago, 3/3 articles</li><li>[]<li></ul></li>"
       ],
       "output_type": "display_data"
      },
      {
       "html": [
        "<li><a href=\"http://1flow.io/admin/models/feed/51cd3d98e7a05b27f6d0e582/\" target=\"_blank\">Apprendre la photo</a>\u2014 <a target=\"_blank\" href=\"http://apprendre-la-photo.fr/feed/\">http://apprendre-la-photo.fr/feed/</a><ul><li>interval: 3600, fetched 4 days ago, 18/181 articles</li><li>[]<li></ul></li>"
       ],
       "output_type": "display_data"
      },
      {
       "html": [
        "<li><a href=\"http://1flow.io/admin/models/feed/51cd3d98e7a05b27f6d0e5cd/\" target=\"_blank\">Juste Sublime</a>\u2014 <a target=\"_blank\" href=\"http://www.justesublime.fr/feed/\">http://www.justesublime.fr/feed/</a><ul><li>interval: 3600, fetched 4 days ago, 112/606 articles</li><li>[]<li></ul></li>"
       ],
       "output_type": "display_data"
      },
      {
       "html": [
        "<li><a href=\"http://1flow.io/admin/models/feed/51cd3d98e7a05b27f6d0e5ef/\" target=\"_blank\">Le Blog de Madame C</a>\u2014 <a target=\"_blank\" href=\"http://leblogdemadamec.fr/accueil/feed/\">http://leblogdemadamec.fr/accueil/feed/</a><ul><li>interval: 3600, fetched 4 days ago, 0/200 articles</li><li>[u'<unknown>:34:138: not well-formed (invalid token) @@2013-07-16T23:31:53.428791+00:00']<li></ul></li>"
       ],
       "output_type": "display_data"
      },
      {
       "html": [
        "<li><a href=\"http://1flow.io/admin/models/feed/51c7db90e7a05b27f691dd18/\" target=\"_blank\">Presse-Citron</a>\u2014 <a target=\"_blank\" href=\"http://www.presse-citron.net/feed\">http://www.presse-citron.net/feed</a><ul><li>interval: 3600, fetched 4 days ago, 589/591 articles</li><li>[]<li></ul></li>"
       ],
       "output_type": "display_data"
      },
      {
       "html": [
        "<li><a href=\"http://1flow.io/admin/models/feed/51cd3d99e7a05b27f6d0e7c1/\" target=\"_blank\">Trendy Wedding</a>\u2014 <a target=\"_blank\" href=\"http://www.trendyweddingleblog.com/feeds/posts/default\">http://www.trendyweddingleblog.com/feeds/posts/default</a><ul><li>interval: 3600, fetched 4 days ago, 59/576 articles</li><li>[]<li></ul></li>"
       ],
       "output_type": "display_data"
      },
      {
       "html": [
        "<li><a href=\"http://1flow.io/admin/models/feed/51c66184e7a05b27f68ce45e/\" target=\"_blank\">Flysurf.com news channel</a>\u2014 <a target=\"_blank\" href=\"http://www.flysurf.com/kitenews.rss\">http://www.flysurf.com/kitenews.rss</a><ul><li>interval: 3600, fetched 4 days ago, 317/1750 articles</li><li>[]<li></ul></li>"
       ],
       "output_type": "display_data"
      },
      {
       "html": [
        "<li><a href=\"http://1flow.io/admin/models/feed/51c95e39e7a05b27f695e152/\" target=\"_blank\">Minimalissimo</a>\u2014 <a target=\"_blank\" href=\"http://minimalissimo.com/feed/\">http://minimalissimo.com/feed/</a><ul><li>interval: 3600, fetched 4 days ago, 163/984 articles</li><li>[u'<unknown>:11:2: mismatched tag @@2013-07-16T23:31:55.009235+00:00']<li></ul></li>"
       ],
       "output_type": "display_data"
      },
      {
       "html": [
        "<li><a href=\"http://1flow.io/admin/models/feed/51c95e4de7a05b27f6961690/\" target=\"_blank\">Marco.org</a>\u2014 <a target=\"_blank\" href=\"http://www.marco.org/rss\">http://www.marco.org/rss</a><ul><li>interval: 3600, fetched 4 days ago, 162/1894 articles</li><li>[]<li></ul></li>"
       ],
       "output_type": "display_data"
      },
      {
       "html": [
        "<li><a href=\"http://1flow.io/admin/models/feed/51c95e9fe7a05b27f696f2b9/\" target=\"_blank\">WBD \u2014 WEBDRAMA.ORG</a>\u2014 <a target=\"_blank\" href=\"http://webdrama.org/archiv/?feed=rss2\">http://webdrama.org/archiv/?feed=rss2</a><ul><li>interval: 3600, fetched 4 days ago, 0/5 articles</li><li>[]<li></ul></li>"
       ],
       "output_type": "display_data"
      },
      {
       "html": [
        "<li><a href=\"http://1flow.io/admin/models/feed/51c95e9fe7a05b27f696f303/\" target=\"_blank\">REYNALD DROUHIN  | Recherches | Esquisses | Documents</a>\u2014 <a target=\"_blank\" href=\"http://reynald.incident.net/feed/\">http://reynald.incident.net/feed/</a><ul><li>interval: 3600, fetched 4 days ago, 0/1 articles</li><li>[u'text/html; charset=iso-8859-1 is not an XML media type @@2013-07-16T23:31:54.365236+00:00']<li></ul></li>"
       ],
       "output_type": "display_data"
      },
      {
       "html": [
        "<li><a href=\"http://1flow.io/admin/models/feed/51c95ebce7a05b27f6973a45/\" target=\"_blank\">Les news aeiou de fluctuat.net</a>\u2014 <a target=\"_blank\" href=\"http://www.fluctuat.net/blog/aeiou.xml\">http://www.fluctuat.net/blog/aeiou.xml</a><ul><li>interval: 3600, fetched 4 days ago, 0/2 articles</li><li>[u'text/html; charset=iso-8859-1 is not an XML media type @@2013-07-16T23:31:54.555230+00:00']<li></ul></li>"
       ],
       "output_type": "display_data"
      },
      {
       "html": [
        "<li><a href=\"http://1flow.io/admin/models/feed/51c96c57e7a05b27f698b3c0/\" target=\"_blank\">ADEME - Toute l&#39;actualit\u00e9</a>\u2014 <a target=\"_blank\" href=\"http://www2.ademe.fr/rss/RSS_ADEME_16262.xml\">http://www2.ademe.fr/rss/RSS_ADEME_16262.xml</a><ul><li>interval: 3600, fetched 4 days ago, 0/20 articles</li><li>[u'document declared as us-ascii, but parsed as iso-8859-1 @@2013-07-16T23:31:56.281343+00:00']<li></ul></li>"
       ],
       "output_type": "display_data"
      },
      {
       "html": [
        "<li><a href=\"http://1flow.io/admin/models/feed/51c97298e7a05b27f6992109/\" target=\"_blank\">Le Criirem</a>\u2014 <a target=\"_blank\" href=\"http://www.criirem.ouvaton.org/spip.php?page=backend\">http://www.criirem.ouvaton.org/spip.php?page=backend</a><ul><li>interval: 3600, fetched 4 days ago, 0/1 articles</li><li>[]<li></ul></li>"
       ],
       "output_type": "display_data"
      },
      {
       "html": [
        "<li><a href=\"http://1flow.io/admin/models/feed/51c9c1e9e7a05b27f69b0ede/\" target=\"_blank\">The Greatest beginning</a>\u2014 <a target=\"_blank\" href=\"http://tony2tones.blogspot.com/feeds/posts/default\">http://tony2tones.blogspot.com/feeds/posts/default</a><ul><li>interval: 3600, fetched 4 days ago, 10/70 articles</li><li>[]<li></ul></li>"
       ],
       "output_type": "display_data"
      },
      {
       "html": [
        "<li><a href=\"http://1flow.io/admin/models/feed/51c9c1e9e7a05b27f69b0ed8/\" target=\"_blank\">News de Manga Sanctuary</a>\u2014 <a target=\"_blank\" href=\"http://www.manga-sanctuary.com/RSS/news.xml\">http://www.manga-sanctuary.com/RSS/news.xml</a><ul><li>interval: 3600, fetched 4 days ago, 891/1463 articles</li><li>[]<li></ul></li>"
       ],
       "output_type": "display_data"
      },
      {
       "html": [
        "<li><a href=\"http://1flow.io/admin/models/feed/51c9d40ce7a05b27f69b3c33/\" target=\"_blank\">Tnooz</a>\u2014 <a target=\"_blank\" href=\"http://feeds.tnooz.com/tnooz\">http://feeds.tnooz.com/tnooz</a><ul><li>interval: 3600, fetched 4 days ago, 858/3515 articles</li><li>[u'<unknown>:11:2: mismatched tag @@2013-07-16T23:31:59.713232+00:00']<li></ul></li>"
       ],
       "output_type": "display_data"
      },
      {
       "html": [
        "<li><a href=\"http://1flow.io/admin/models/feed/51c9d5b3e7a05b27f69e7e96/\" target=\"_blank\">A List Apart</a>\u2014 <a target=\"_blank\" href=\"http://www.alistapart.com/feed/rss.xml\">http://www.alistapart.com/feed/rss.xml</a><ul><li>interval: 3600, fetched 4 days ago, 191/323 articles</li><li>[u'<unknown>:11:2: mismatched tag @@2013-07-16T23:32:01.349929+00:00']<li></ul></li>"
       ],
       "output_type": "display_data"
      },
      {
       "html": [
        "<li><a href=\"http://1flow.io/admin/models/feed/51c9d5b3e7a05b27f69e7ea4/\" target=\"_blank\">BBC Formula 1</a>\u2014 <a target=\"_blank\" href=\"http://newsrss.bbc.co.uk/rss/sportonline_world_edition/motorsport/formula_one/rss.xml\">http://newsrss.bbc.co.uk/rss/sportonline_world_edition/motorsport/formula_one/rss.xml</a><ul><li>interval: 3600, fetched 4 days ago, 487/3295 articles</li><li>[u'document declared as us-ascii, but parsed as utf-8 @@2013-07-16T23:32:01.333252+00:00']<li></ul></li>"
       ],
       "output_type": "display_data"
      },
      {
       "html": [
        "<li><a href=\"http://1flow.io/admin/models/feed/51ca0808e7a05b27f6aebb4d/\" target=\"_blank\">Chemistry World RSS</a>\u2014 <a target=\"_blank\" href=\"http://www.rsc.org/chemistryworld/cwlatestnews.xml\">http://www.rsc.org/chemistryworld/cwlatestnews.xml</a><ul><li>interval: 3600, fetched 4 days ago, 65/66 articles</li><li>[]<li></ul></li>"
       ],
       "output_type": "display_data"
      },
      {
       "html": [
        "<li><a href=\"http://1flow.io/admin/models/feed/51c9d5b3e7a05b27f69e7ed0/\" target=\"_blank\">Google Code Blog</a>\u2014 <a target=\"_blank\" href=\"http://googlecode.blogspot.com/feeds/posts/default\">http://googlecode.blogspot.com/feeds/posts/default</a><ul><li>interval: 3600, fetched 4 days ago, 73/692 articles</li><li>[]<li></ul></li>"
       ],
       "output_type": "display_data"
      },
      {
       "html": [
        "<li><a href=\"http://1flow.io/admin/models/feed/51c9d5b3e7a05b27f69e7ef8/\" target=\"_blank\">ShiftyLook Comics</a>\u2014 <a target=\"_blank\" href=\"http://www.shiftylook.com/comics/rss\">http://www.shiftylook.com/comics/rss</a><ul><li>interval: 3600, fetched 4 days ago, 387/849 articles</li><li>[u'text/html; charset=UTF-8 is not an XML media type @@2013-07-16T23:32:00.484885+00:00']<li></ul></li>"
       ],
       "output_type": "display_data"
      },
      {
       "html": [
        "<li><a href=\"http://1flow.io/admin/models/feed/51ca0828e7a05b27f6aebc99/\" target=\"_blank\">DOGHOUSE</a>\u2014 <a target=\"_blank\" href=\"http://thedoghousediaries.com/feed\">http://thedoghousediaries.com/feed</a><ul><li>interval: 3600, fetched 4 days ago, 11/12 articles</li><li>[u'text/html; charset=UTF-8 is not an XML media type @@2013-07-16T23:32:02.427597+00:00']<li></ul></li>"
       ],
       "output_type": "display_data"
      },
      {
       "html": [
        "<li><a href=\"http://1flow.io/admin/models/feed/51ca0829e7a05b27f6aebca9/\" target=\"_blank\">Dot Earth</a>\u2014 <a target=\"_blank\" href=\"http://dotearth.blogs.nytimes.com/rss2.xml\">http://dotearth.blogs.nytimes.com/rss2.xml</a><ul><li>interval: 3600, fetched 4 days ago, 16/17 articles</li><li>[]<li></ul></li>"
       ],
       "output_type": "display_data"
      },
      {
       "html": [
        "<li><a href=\"http://1flow.io/admin/models/feed/51ca0829e7a05b27f6aebca7/\" target=\"_blank\">Dot Earth</a>\u2014 <a target=\"_blank\" href=\"http://dotearth.blogs.nytimes.com/feed/\">http://dotearth.blogs.nytimes.com/feed/</a><ul><li>interval: 3600, fetched 4 days ago, 2/2 articles</li><li>[u'text/html; charset=UTF-8 is not an XML media type @@2013-07-16T23:32:01.005232+00:00']<li></ul></li>"
       ],
       "output_type": "display_data"
      },
      {
       "html": [
        "<li><a href=\"http://1flow.io/admin/models/feed/51ca0867e7a05b27f6aebee9/\" target=\"_blank\">Instructables: exploring</a>\u2014 <a target=\"_blank\" href=\"http://www.instructables.com/tag/type:instructable/rss.xml\">http://www.instructables.com/tag/type:instructable/rss.xml</a><ul><li>interval: 3600, fetched 4 days ago, 554/555 articles</li><li>[u'text/html is not an XML media type @@2013-07-16T23:32:01.457400+00:00']<li></ul></li>"
       ],
       "output_type": "display_data"
      },
      {
       "html": [
        "<li><a href=\"http://1flow.io/admin/models/feed/51ca086be7a05b27f6aebf0b/\" target=\"_blank\">IT infrastructure news</a>\u2014 <a target=\"_blank\" href=\"http://rss.techtarget.com/185.xml\">http://rss.techtarget.com/185.xml</a><ul><li>interval: 3600, fetched 4 days ago, 20/20 articles</li><li>[]<li></ul></li>"
       ],
       "output_type": "display_data"
      },
      {
       "html": [
        "<li><a href=\"http://1flow.io/admin/models/feed/51ca0884e7a05b27f6aec02a/\" target=\"_blank\">Mark's Blog</a>\u2014 <a target=\"_blank\" href=\"http://blogs.technet.com/markrussinovich/rss.xml\">http://blogs.technet.com/markrussinovich/rss.xml</a><ul><li>interval: 3600, fetched 4 days ago, 0/25 articles</li><li>[]<li></ul></li>"
       ],
       "output_type": "display_data"
      },
      {
       "html": [
        "<li><a href=\"http://1flow.io/admin/models/feed/51ca0883e7a05b27f6aec022/\" target=\"_blank\">MarketingProfs Daily Fix Blog</a>\u2014 <a target=\"_blank\" href=\"http://www.mpdailyfix.com/index.xml\">http://www.mpdailyfix.com/index.xml</a><ul><li>interval: 3600, fetched 4 days ago, 0/0 articles</li><li>[]<li></ul></li>"
       ],
       "output_type": "display_data"
      },
      {
       "html": [
        "<li><a href=\"http://1flow.io/admin/models/feed/51ca08d0e7a05b27f6aec338/\" target=\"_blank\">Renewable Energy News - RenewableEnergyWorld.com</a>\u2014 <a target=\"_blank\" href=\"http://www.renewableenergyaccess.com/rss/renews.rss\">http://www.renewableenergyaccess.com/rss/renews.rss</a><ul><li>interval: 3600, fetched 4 days ago, 53/53 articles</li><li>[u'document declared as us-ascii, but parsed as utf-8 @@2013-07-16T23:32:03.813300+00:00']<li></ul></li>"
       ],
       "output_type": "display_data"
      },
      {
       "html": [
        "<li><a href=\"http://1flow.io/admin/models/feed/51ca093be7a05b27f6aec580/\" target=\"_blank\">The Rhizome Frontpage RSS</a>\u2014 <a target=\"_blank\" href=\"http://rhizome.org/syndicate/fp.rss\">http://rhizome.org/syndicate/fp.rss</a><ul><li>interval: 3600, fetched 4 days ago, 0/0 articles</li><li>[u'<unknown>:5:0: syntax error @@2013-07-16T23:32:05.749616+00:00']<li></ul></li>"
       ],
       "output_type": "display_data"
      },
      {
       "html": [
        "<li><a href=\"http://1flow.io/admin/models/feed/51ca093de7a05b27f6aec590/\" target=\"_blank\">the style files</a>\u2014 <a target=\"_blank\" href=\"http://style-files.com/feed/\">http://style-files.com/feed/</a><ul><li>interval: 3600, fetched 4 days ago, 0/0 articles</li><li>[u'<unknown>:11:2: mismatched tag @@2013-07-16T23:32:08.300940+00:00']<li></ul></li>"
       ],
       "output_type": "display_data"
      },
      {
       "html": [
        "<li><a href=\"http://1flow.io/admin/models/feed/51ca082be7a05b27f6aebcb9/\" target=\"_blank\">e-Autosound</a>\u2014 <a target=\"_blank\" href=\"http://www.e-autosound.de/feed/\">http://www.e-autosound.de/feed/</a><ul><li>interval: 3600, fetched 4 days ago, 0/0 articles</li><li>[u'text/html; charset=iso-8859-1 is not an XML media type @@2013-07-16T23:32:08.152217+00:00']<li></ul></li>"
       ],
       "output_type": "display_data"
      },
      {
       "html": [
        "<li><a href=\"http://1flow.io/admin/models/feed/51ca086ee7a05b27f6aebf35/\" target=\"_blank\">JNJ BTW</a>\u2014 <a target=\"_blank\" href=\"http://jnjbtw.com/?feed=rss2\">http://jnjbtw.com/?feed=rss2</a><ul><li>interval: 3600, fetched 4 days ago, 0/0 articles</li><li>[]<li></ul></li>"
       ],
       "output_type": "display_data"
      },
      {
       "html": [
        "<li><a href=\"http://1flow.io/admin/models/feed/51ca090ee7a05b27f6aec4a9/\" target=\"_blank\">SynthGear</a>\u2014 <a target=\"_blank\" href=\"http://www.synthgear.com/feed/\">http://www.synthgear.com/feed/</a><ul><li>interval: 3600, fetched 4 days ago, 0/0 articles</li><li>[]<li></ul></li>"
       ],
       "output_type": "display_data"
      },
      {
       "html": [
        "<li><a href=\"http://1flow.io/admin/models/feed/51ca0902e7a05b27f6aec486/\" target=\"_blank\">Strobist</a>\u2014 <a target=\"_blank\" href=\"http://strobist.blogspot.com/feeds/posts/default\">http://strobist.blogspot.com/feeds/posts/default</a><ul><li>interval: 3600, fetched 4 days ago, 0/0 articles</li><li>[u'<unknown>:11:2: mismatched tag @@2013-07-16T23:32:10.408452+00:00']<li></ul></li>"
       ],
       "output_type": "display_data"
      },
      {
       "html": [
        "<li><a href=\"http://1flow.io/admin/models/feed/51ca090fe7a05b27f6aec4af/\" target=\"_blank\">Tablet PC Talk News</a>\u2014 <a target=\"_blank\" href=\"http://www.tabletpctalk.com/scripts/newspro/news.xml\">http://www.tabletpctalk.com/scripts/newspro/news.xml</a><ul><li>interval: 3600, fetched 4 days ago, 0/5 articles</li><li>[u'document declared as us-ascii, but parsed as iso-8859-1 @@2013-07-16T23:32:10.842290+00:00']<li></ul></li>"
       ],
       "output_type": "display_data"
      },
      {
       "html": [
        "<li><a href=\"http://1flow.io/admin/models/feed/51ca0911e7a05b27f6aec4bd/\" target=\"_blank\">TasteSpotting</a>\u2014 <a target=\"_blank\" href=\"http://www.tastespotting.com/rss\">http://www.tastespotting.com/rss</a><ul><li>interval: 3600, fetched 4 days ago, 0/311 articles</li><li>[u'application/octet-stream is not an XML media type @@2013-07-16T23:32:11.318241+00:00']<li></ul></li>"
       ],
       "output_type": "display_data"
      },
      {
       "html": [
        "<li><a href=\"http://1flow.io/admin/models/feed/51ca08fce7a05b27f6aec462/\" target=\"_blank\">Squid Ninja RSS Kicker</a>\u2014 <a target=\"_blank\" href=\"http://www.squidninja.com/rss-kicker.xml\">http://www.squidninja.com/rss-kicker.xml</a><ul><li>interval: 3600, fetched 4 days ago, 0/1 articles</li><li>[u'<unknown>:18:9: not well-formed (invalid token) @@2013-07-16T23:32:11.109249+00:00']<li></ul></li>"
       ],
       "output_type": "display_data"
      },
      {
       "html": [
        "<li><a href=\"http://1flow.io/admin/models/feed/51ca08ffe7a05b27f6aec470/\" target=\"_blank\">Stephen W. Thomas BizTalk Blog</a>\u2014 <a target=\"_blank\" href=\"http://geekswithblogs.net/sthomas/Rss.aspx\">http://geekswithblogs.net/sthomas/Rss.aspx</a><ul><li>interval: 3600, fetched 4 days ago, 0/0 articles</li><li>[u'text/html is not an XML media type @@2013-07-16T23:32:11.426290+00:00']<li></ul></li>"
       ],
       "output_type": "display_data"
      },
      {
       "html": [
        "<li><a href=\"http://1flow.io/admin/models/feed/51ca08f0e7a05b27f6aec40a/\" target=\"_blank\">Snafu News: Grim Tales From Down Below</a>\u2014 <a target=\"_blank\" href=\"http://www.snafu-comics.com/feed.php?comic_id=12\">http://www.snafu-comics.com/feed.php?comic_id=12</a><ul><li>interval: 3600, fetched 4 days ago, 11/11 articles</li><li>[u'document declared as us-ascii, but parsed as iso-8859-1 @@2013-07-16T23:32:12.369241+00:00']<li></ul></li>"
       ],
       "output_type": "display_data"
      },
      {
       "html": [
        "<li><a href=\"http://1flow.io/admin/models/feed/51ca0910e7a05b27f6aec4b5/\" target=\"_blank\">tagesschau.de - Die Nachrichten der ARD</a>\u2014 <a target=\"_blank\" href=\"http://www3.tagesschau.de/xml/tagesschau-meldungen/\">http://www3.tagesschau.de/xml/tagesschau-meldungen/</a><ul><li>interval: 3600, fetched 4 days ago, 0/170 articles</li><li>[u'text/html; charset=utf-8 is not an XML media type @@2013-07-16T23:32:12.481266+00:00']<li></ul></li>"
       ],
       "output_type": "display_data"
      },
      {
       "html": [
        "<li><a href=\"http://1flow.io/admin/models/feed/51ca08ece7a05b27f6aec3ec/\" target=\"_blank\">Sister Claire</a>\u2014 <a target=\"_blank\" href=\"http://www.sisterclaire.com/feed/\">http://www.sisterclaire.com/feed/</a><ul><li>interval: 3600, fetched 4 days ago, 0/0 articles</li><li>[u'text/html; charset=iso-8859-1 is not an XML media type @@2013-07-16T23:32:13.144181+00:00']<li></ul></li>"
       ],
       "output_type": "display_data"
      },
      {
       "html": [
        "<li><a href=\"http://1flow.io/admin/models/feed/51ca08e9e7a05b27f6aec3d8/\" target=\"_blank\">ShiftyLook Comics</a>\u2014 <a target=\"_blank\" href=\"http://www.shiftylook.com/comics/rss/wondermomo\">http://www.shiftylook.com/comics/rss/wondermomo</a><ul><li>interval: 3600, fetched 4 days ago, 0/9 articles</li><li>[u'text/html; charset=UTF-8 is not an XML media type @@2013-07-16T23:32:13.933265+00:00']<li></ul></li>"
       ],
       "output_type": "display_data"
      },
      {
       "html": [
        "<li><a href=\"http://1flow.io/admin/models/feed/51ca08e8e7a05b27f6aec3d2/\" target=\"_blank\">Shanghaiist</a>\u2014 <a target=\"_blank\" href=\"http://www.shanghaiist.com/index.rdf\">http://www.shanghaiist.com/index.rdf</a><ul><li>interval: 3600, fetched 4 days ago, 0/0 articles</li><li>[]<li></ul></li>"
       ],
       "output_type": "display_data"
      },
      {
       "html": [
        "<li><a href=\"http://1flow.io/admin/models/feed/51ca08e3e7a05b27f6aec3ab/\" target=\"_blank\">SearchNetworking: News on networking, mobility and voice</a>\u2014 <a target=\"_blank\" href=\"http://rss.techtarget.com/42.xml\">http://rss.techtarget.com/42.xml</a><ul><li>interval: 3600, fetched 4 days ago, 5/20 articles</li><li>[u'text/html is not an XML media type @@2013-07-16T23:32:14.749239+00:00']<li></ul></li>"
       ],
       "output_type": "display_data"
      },
      {
       "html": [
        "<li><a href=\"http://1flow.io/admin/models/feed/51ca08e7e7a05b27f6aec3c8/\" target=\"_blank\">Seth's Blog</a>\u2014 <a target=\"_blank\" href=\"http://sethgodin.typepad.com/seths_blog/index.rdf\">http://sethgodin.typepad.com/seths_blog/index.rdf</a><ul><li>interval: 3600, fetched 4 days ago, 0/0 articles</li><li>[u'<unknown>:16:67: mismatched tag @@2013-07-16T23:32:16.653237+00:00']<li></ul></li>"
       ],
       "output_type": "display_data"
      },
      {
       "html": [
        "<li><a href=\"http://1flow.io/admin/models/feed/51ca08e4e7a05b27f6aec3af/\" target=\"_blank\">SearchWindowsServer: Expert advice on Windows-based systems and hardware</a>\u2014 <a target=\"_blank\" href=\"http://rss.techtarget.com/43.xml\">http://rss.techtarget.com/43.xml</a><ul><li>interval: 3600, fetched 4 days ago, 20/20 articles</li><li>[u'text/html is not an XML media type @@2013-07-16T23:32:16.253297+00:00']<li></ul></li>"
       ],
       "output_type": "display_data"
      },
      {
       "html": [
        "<li><a href=\"http://1flow.io/admin/models/feed/51ca08d0e7a05b27f6aec336/\" target=\"_blank\">Remote Desktop Services (Terminal Services) Team Blog</a>\u2014 <a target=\"_blank\" href=\"http://blogs.msdn.com/ts/rss.xml\">http://blogs.msdn.com/ts/rss.xml</a><ul><li>interval: 3600, fetched 4 days ago, 13/26 articles</li><li>[u'document declared as us-ascii, but parsed as utf-8 @@2013-07-16T23:32:20.358286+00:00']<li></ul></li>"
       ],
       "output_type": "display_data"
      },
      {
       "html": [
        "<li><a href=\"http://1flow.io/admin/models/feed/51ca08cde7a05b27f6aec320/\" target=\"_blank\">Recipe of the Day from RealSimple.com</a>\u2014 <a target=\"_blank\" href=\"http://rss.realsimple.com/web/realsimple/rss/recipes/index.xml\">http://rss.realsimple.com/web/realsimple/rss/recipes/index.xml</a><ul><li>interval: 3600, fetched 4 days ago, 0/0 articles</li><li>[]<li></ul></li>"
       ],
       "output_type": "display_data"
      },
      {
       "html": [
        "<li><a href=\"http://1flow.io/admin/models/feed/51ca08d0e7a05b27f6aec32c/\" target=\"_blank\">Refinery29</a>\u2014 <a target=\"_blank\" href=\"http://www.refinery29.com/index.xml\">http://www.refinery29.com/index.xml</a><ul><li>interval: 3600, fetched 4 days ago, 387/387 articles</li><li>[u'text/html; charset=utf-8 is not an XML media type @@2013-07-16T23:32:21.681247+00:00']<li></ul></li>"
       ],
       "output_type": "display_data"
      },
      {
       "html": [
        "<li><a href=\"http://1flow.io/admin/models/feed/51ca08c0e7a05b27f6aec2c5/\" target=\"_blank\">Proceedings of the National Academy of Sciences</a>\u2014 <a target=\"_blank\" href=\"http://www.pnas.org/rss/current.xml\">http://www.pnas.org/rss/current.xml</a><ul><li>interval: 3600, fetched 4 days ago, 0/178 articles</li><li>[u'document declared as us-ascii, but parsed as utf-8 @@2013-07-16T23:32:23.130647+00:00']<li></ul></li>"
       ],
       "output_type": "display_data"
      },
      {
       "html": [
        "<li><a href=\"http://1flow.io/admin/models/feed/51ca08c0e7a05b27f6aec2c3/\" target=\"_blank\">Primewares - Latest programs</a>\u2014 <a target=\"_blank\" href=\"http://www.all4you.dk/FreewareWorld/rss.php\">http://www.all4you.dk/FreewareWorld/rss.php</a><ul><li>interval: 3600, fetched 4 days ago, 0/0 articles</li><li>[]<li></ul></li>"
       ],
       "output_type": "display_data"
      },
      {
       "html": [
        "<li><a href=\"http://1flow.io/admin/models/feed/51ca08bbe7a05b27f6aec294/\" target=\"_blank\">POPsickleSTRIP</a>\u2014 <a target=\"_blank\" href=\"http://rss.popstrip.com/\">http://rss.popstrip.com/</a><ul><li>interval: 3600, fetched 4 days ago, 6/6 articles</li><li>[u'text/html is not an XML media type @@2013-07-16T23:32:22.376300+00:00']<li></ul></li>"
       ],
       "output_type": "display_data"
      },
      {
       "html": [
        "<li><a href=\"http://1flow.io/admin/models/feed/51ca08b8e7a05b27f6aec278/\" target=\"_blank\">Playbill.com : Combined Feed</a>\u2014 <a target=\"_blank\" href=\"http://www.playbill.com/rss/articles.asp?FEATURE_TYPE=Combined_Feed\">http://www.playbill.com/rss/articles.asp?FEATURE_TYPE=Combined_Feed</a><ul><li>interval: 3600, fetched 4 days ago, 234/234 articles</li><li>[u'text/html; charset=ISO-8859-1 is not an XML media type @@2013-07-16T23:32:23.514049+00:00']<li></ul></li>"
       ],
       "output_type": "display_data"
      },
      {
       "html": [
        "<li><a href=\"http://1flow.io/admin/models/feed/51ca08b2e7a05b27f6aec237/\" target=\"_blank\">PharmaGossip</a>\u2014 <a target=\"_blank\" href=\"http://pharmagossip.blogspot.com/feeds/posts/default\">http://pharmagossip.blogspot.com/feeds/posts/default</a><ul><li>interval: 3600, fetched 4 days ago, 0/0 articles</li><li>[u'<unknown>:11:2: mismatched tag @@2013-07-16T23:32:26.171883+00:00']<li></ul></li>"
       ],
       "output_type": "display_data"
      },
      {
       "html": [
        "<li><a href=\"http://1flow.io/admin/models/feed/51ca08b0e7a05b27f6aec20f/\" target=\"_blank\">PEA Soup</a>\u2014 <a target=\"_blank\" href=\"http://peasoup.typepad.com/peasoup/atom.xml\">http://peasoup.typepad.com/peasoup/atom.xml</a><ul><li>interval: 3600, fetched 4 days ago, 0/0 articles</li><li>[u'<unknown>:11:2: mismatched tag @@2013-07-16T23:32:27.732469+00:00']<li></ul></li>"
       ],
       "output_type": "display_data"
      },
      {
       "html": [
        "<li><a href=\"http://1flow.io/admin/models/feed/51ca08b0e7a05b27f6aec207/\" target=\"_blank\">Paul Krugman</a>\u2014 <a target=\"_blank\" href=\"http://krugman.blogs.nytimes.com/rss2.xml\">http://krugman.blogs.nytimes.com/rss2.xml</a><ul><li>interval: 3600, fetched 4 days ago, 31/31 articles</li><li>[u'<unknown>:26:2: mismatched tag @@2013-07-16T23:32:27.529155+00:00']<li></ul></li>"
       ],
       "output_type": "display_data"
      },
      {
       "html": [
        "<li><a href=\"http://1flow.io/admin/models/feed/51ca08afe7a05b27f6aec201/\" target=\"_blank\">Parenting.com: Mom Tips and Expert Advice</a>\u2014 <a target=\"_blank\" href=\"http://rss.parenting.com/web/parenting/rss/rssfeed/index.xml\">http://rss.parenting.com/web/parenting/rss/rssfeed/index.xml</a><ul><li>interval: 3600, fetched 4 days ago, 3/3 articles</li><li>[u'text/html; charset=utf-8 is not an XML media type @@2013-07-16T23:32:28.680519+00:00']<li></ul></li>"
       ],
       "output_type": "display_data"
      },
      {
       "html": [
        "<li><a href=\"http://1flow.io/admin/models/feed/51ca08ade7a05b27f6aec1e9/\" target=\"_blank\">Outside Innovation</a>\u2014 <a target=\"_blank\" href=\"http://outsideinnovation.blogs.com/pseybold/atom.xml\">http://outsideinnovation.blogs.com/pseybold/atom.xml</a><ul><li>interval: 3600, fetched 4 days ago, 0/0 articles</li><li>[]<li></ul></li>"
       ],
       "output_type": "display_data"
      },
      {
       "html": [
        "<li><a href=\"http://1flow.io/admin/models/feed/51ca08ade7a05b27f6aec1e3/\" target=\"_blank\">Orange Crate Art</a>\u2014 <a target=\"_blank\" href=\"http://mleddy.blogspot.com/feeds/posts/default\">http://mleddy.blogspot.com/feeds/posts/default</a><ul><li>interval: 3600, fetched 4 days ago, 0/0 articles</li><li>[u'<unknown>:11:2: mismatched tag @@2013-07-16T23:32:28.084049+00:00']<li></ul></li>"
       ],
       "output_type": "display_data"
      },
      {
       "html": [
        "<li><a href=\"http://1flow.io/admin/models/feed/51ca08abe7a05b27f6aec1c9/\" target=\"_blank\">On the Runway</a>\u2014 <a target=\"_blank\" href=\"http://runway.blogs.nytimes.com/feed/\">http://runway.blogs.nytimes.com/feed/</a><ul><li>interval: 3600, fetched 4 days ago, 24/24 articles</li><li>[u'text/html; charset=UTF-8 is not an XML media type @@2013-07-16T23:32:29.370046+00:00']<li></ul></li>"
       ],
       "output_type": "display_data"
      },
      {
       "html": [
        "<li><a href=\"http://1flow.io/admin/models/feed/51ca08a1e7a05b27f6aec168/\" target=\"_blank\">NoGodBlog.com - Limited to 8 last days</a>\u2014 <a target=\"_blank\" href=\"http://www.atheists.org/nogodblog/xmlsrv/atom.php?blog=2\">http://www.atheists.org/nogodblog/xmlsrv/atom.php?blog=2</a><ul><li>interval: 3600, fetched 4 days ago, 0/0 articles</li><li>[u'text/html is not an XML media type @@2013-07-16T23:32:31.717090+00:00']<li></ul></li>"
       ],
       "output_type": "display_data"
      },
      {
       "html": [
        "<li><a href=\"http://1flow.io/admin/models/feed/51ca089ee7a05b27f6aec14c/\" target=\"_blank\">News Tom's Hardware</a>\u2014 <a target=\"_blank\" href=\"http://www.tomshardware.co.uk/feeds/1664-rss2-tom-s-hardware-uk.xml\">http://www.tomshardware.co.uk/feeds/1664-rss2-tom-s-hardware-uk.xml</a><ul><li>interval: 3600, fetched 4 days ago, 30/30 articles</li><li>[u'text/html; charset=UTF-8 is not an XML media type @@2013-07-16T23:32:34.117226+00:00']<li></ul></li>"
       ],
       "output_type": "display_data"
      },
      {
       "html": [
        "<li><a href=\"http://1flow.io/admin/models/feed/51ca089be7a05b27f6aec132/\" target=\"_blank\">Neuroscience Gateway</a>\u2014 <a target=\"_blank\" href=\"http://www.brainatlas.org/aba/rss.rdf\">http://www.brainatlas.org/aba/rss.rdf</a><ul><li>interval: 3600, fetched 4 days ago, 0/0 articles</li><li>[]<li></ul></li>"
       ],
       "output_type": "display_data"
      },
      {
       "html": [
        "<li><a href=\"http://1flow.io/admin/models/feed/51ca088ee7a05b27f6aec09d/\" target=\"_blank\">Modern Art Notes</a>\u2014 <a target=\"_blank\" href=\"http://www.artsjournal.com/man/rss.xml\">http://www.artsjournal.com/man/rss.xml</a><ul><li>interval: 3600, fetched 4 days ago, 0/0 articles</li><li>[u'text/html is not an XML media type @@2013-07-16T23:32:34.624826+00:00']<li></ul></li>"
       ],
       "output_type": "display_data"
      },
      {
       "html": [
        "<li><a href=\"http://1flow.io/admin/models/feed/51ca0889e7a05b27f6aec069/\" target=\"_blank\">Microsoft Robotics Blog</a>\u2014 <a target=\"_blank\" href=\"http://blogs.msdn.com/msroboticsstudio/rss.xml\">http://blogs.msdn.com/msroboticsstudio/rss.xml</a><ul><li>interval: 3600, fetched 4 days ago, 0/25 articles</li><li>[u'document declared as us-ascii, but parsed as utf-8 @@2013-07-16T23:32:36.410949+00:00']<li></ul></li>"
       ],
       "output_type": "display_data"
      },
      {
       "html": [
        "<li><a href=\"http://1flow.io/admin/models/feed/51ca0885e7a05b27f6aec031/\" target=\"_blank\">Massive Pwnage</a>\u2014 <a target=\"_blank\" href=\"http://www.massivepwnage.com/feed/\">http://www.massivepwnage.com/feed/</a><ul><li>interval: 3600, fetched 4 days ago, 0/0 articles</li><li>[u'<unknown>:11:2: mismatched tag @@2013-07-16T23:32:36.063531+00:00']<li></ul></li>"
       ],
       "output_type": "display_data"
      },
      {
       "html": [
        "<li><a href=\"http://1flow.io/admin/models/feed/51ca0889e7a05b27f6aec067/\" target=\"_blank\">Microsoft Research News and Highlights</a>\u2014 <a target=\"_blank\" href=\"http://research.microsoft.com/rss/news.xml\">http://research.microsoft.com/rss/news.xml</a><ul><li>interval: 3600, fetched 4 days ago, 25/25 articles</li><li>[]<li></ul></li>"
       ],
       "output_type": "display_data"
      },
      {
       "html": [
        "<li><a href=\"http://1flow.io/admin/models/feed/51ca0883e7a05b27f6aec01e/\" target=\"_blank\">Mark Bittman</a>\u2014 <a target=\"_blank\" href=\"http://bitten.blogs.nytimes.com/feed/\">http://bitten.blogs.nytimes.com/feed/</a><ul><li>interval: 3600, fetched 4 days ago, 10/10 articles</li><li>[u'text/html; charset=UTF-8 is not an XML media type @@2013-07-16T23:32:36.708323+00:00']<li></ul></li>"
       ],
       "output_type": "display_data"
      },
      {
       "html": [
        "<li><a href=\"http://1flow.io/admin/models/feed/51ca089ae7a05b27f6aec122/\" target=\"_blank\">Network World NetFlash</a>\u2014 <a target=\"_blank\" href=\"http://www.networkworld.com/netflash.rss\">http://www.networkworld.com/netflash.rss</a><ul><li>interval: 3600, fetched 4 days ago, 0/72 articles</li><li>[u'text/plain; charset=UTF-8 is not an XML media type @@2013-07-16T23:32:42.034084+00:00']<li></ul></li>"
       ],
       "output_type": "display_data"
      },
      {
       "html": [
        "<li><a href=\"http://1flow.io/admin/models/feed/51ca089be7a05b27f6aec134/\" target=\"_blank\">New & Updated Freeware</a>\u2014 <a target=\"_blank\" href=\"http://www.fwnetwork.com/freeware/rss_main_home_new/all/\">http://www.fwnetwork.com/freeware/rss_main_home_new/all/</a><ul><li>interval: 3600, fetched 4 days ago, 0/0 articles</li><li>[u'text/html; charset=iso-8859-1 is not an XML media type @@2013-07-16T23:32:42.722757+00:00']<li></ul></li>"
       ],
       "output_type": "display_data"
      },
      {
       "html": [
        "<li><a href=\"http://1flow.io/admin/models/feed/51ca0896e7a05b27f6aec0f7/\" target=\"_blank\">National Geographic News</a>\u2014 <a target=\"_blank\" href=\"http://news.nationalgeographic.com/index.rss\">http://news.nationalgeographic.com/index.rss</a><ul><li>interval: 3600, fetched 4 days ago, 52/52 articles</li><li>[u'document declared as us-ascii, but parsed as utf-8 @@2013-07-16T23:32:43.043167+00:00']<li></ul></li>"
       ],
       "output_type": "display_data"
      },
      {
       "html": [
        "<li><a href=\"http://1flow.io/admin/models/feed/51ca0899e7a05b27f6aec120/\" target=\"_blank\">Network Monitor</a>\u2014 <a target=\"_blank\" href=\"http://blogs.technet.com/netmon/rss.xml\">http://blogs.technet.com/netmon/rss.xml</a><ul><li>interval: 3600, fetched 4 days ago, 1/25 articles</li><li>[u'document declared as us-ascii, but parsed as utf-8 @@2013-07-16T23:32:46.361615+00:00']<li></ul></li>"
       ],
       "output_type": "display_data"
      },
      {
       "html": [
        "<li><a href=\"http://1flow.io/admin/models/feed/51ca0894e7a05b27f6aec0e9/\" target=\"_blank\">MyRecipes: Dinner Tonight RSS Feed</a>\u2014 <a target=\"_blank\" href=\"http://rss.cookinglight.com/web/cooking/rss/dinnertonight/index.xml\">http://rss.cookinglight.com/web/cooking/rss/dinnertonight/index.xml</a><ul><li>interval: 3600, fetched 4 days ago, 0/0 articles</li><li>[u'<unknown>:11:2: mismatched tag @@2013-07-16T23:32:44.777381+00:00']<li></ul></li>"
       ],
       "output_type": "display_data"
      },
      {
       "html": [
        "<li><a href=\"http://1flow.io/admin/models/feed/51c71da2e7a05b27f691c7ef/\" target=\"_blank\">PowerPoint Ninja Blog - Tips & Tricks for Effective Business Presentations</a>\u2014 <a target=\"_blank\" href=\"http://www.powerpointninja.com/feed/\">http://www.powerpointninja.com/feed/</a><ul><li>interval: 3600, fetched 4 days ago, 0/0 articles</li><li>[]<li></ul></li>"
       ],
       "output_type": "display_data"
      },
      {
       "html": [
        "<li><a href=\"http://1flow.io/admin/models/feed/51c71da2e7a05b27f691c7f3/\" target=\"_blank\">RichCommerce.fr</a>\u2014 <a target=\"_blank\" href=\"http://www.richcommerce.fr/feed/\">http://www.richcommerce.fr/feed/</a><ul><li>interval: 3600, fetched 4 days ago, 10/10 articles</li><li>[u'document declared as us-ascii, but parsed as utf-8 @@2013-07-16T23:29:53.657215+00:00']<li></ul></li>"
       ],
       "output_type": "display_data"
      },
      {
       "html": [
        "<li><a href=\"http://1flow.io/admin/models/feed/51c66184e7a05b27f68ce460/\" target=\"_blank\">French Wedding Photographer Paris Loire vallee Cote d'azur ...</a>\u2014 <a target=\"_blank\" href=\"http://www.olivierlalinweddings.com/feed/\">http://www.olivierlalinweddings.com/feed/</a><ul><li>interval: 3600, fetched 4 days ago, 0/9 articles</li><li>[u'text/html; charset=iso-8859-1 is not an XML media type @@2013-07-16T23:29:55.249156+00:00']<li></ul></li>"
       ],
       "output_type": "display_data"
      },
      {
       "html": [
        "<li><a href=\"http://1flow.io/admin/models/feed/51c7db91e7a05b27f691dd36/\" target=\"_blank\">UXUI</a>\u2014 <a target=\"_blank\" href=\"http://uxui.fr/feed/\">http://uxui.fr/feed/</a><ul><li>interval: 3600, fetched 4 days ago, 0/58 articles</li><li>[u'<unknown>:11:2: mismatched tag @@2013-07-16T23:29:55.573176+00:00']<li></ul></li>"
       ],
       "output_type": "display_data"
      },
      {
       "html": [
        "<li><a href=\"http://1flow.io/admin/models/feed/51c71da2e7a05b27f691c7c4/\" target=\"_blank\">Entreprise20.fr</a>\u2014 <a target=\"_blank\" href=\"http://www.entreprise20.fr/feed/\">http://www.entreprise20.fr/feed/</a><ul><li>interval: 3600, fetched 4 days ago, 1/33 articles</li><li>[u'document declared as us-ascii, but parsed as utf-8 @@2013-07-16T23:29:56.449482+00:00']<li></ul></li>"
       ],
       "output_type": "display_data"
      },
      {
       "html": [
        "<li><a href=\"http://1flow.io/admin/models/feed/51c71da2e7a05b27f691c7ea/\" target=\"_blank\">MediasSociaux.fr</a>\u2014 <a target=\"_blank\" href=\"http://www.mediassociaux.fr/feed/\">http://www.mediassociaux.fr/feed/</a><ul><li>interval: 3600, fetched 4 days ago, 11/11 articles</li><li>[u'document declared as us-ascii, but parsed as utf-8 @@2013-07-16T23:29:56.469219+00:00']<li></ul></li>"
       ],
       "output_type": "display_data"
      },
      {
       "html": [
        "<li><a href=\"http://1flow.io/admin/models/feed/51c71da2e7a05b27f691c7d4/\" target=\"_blank\">Inside Search</a>\u2014 <a target=\"_blank\" href=\"http://insidesearch.blogspot.com/feeds/posts/default\">http://insidesearch.blogspot.com/feeds/posts/default</a><ul><li>interval: 3600, fetched 4 days ago, 14/149 articles</li><li>[u'<unknown>:11:2: mismatched tag @@2013-07-16T23:29:56.857229+00:00']<li></ul></li>"
       ],
       "output_type": "display_data"
      },
      {
       "html": [
        "<li><a href=\"http://1flow.io/admin/models/feed/51c7db90e7a05b27f691dcc8/\" target=\"_blank\">500px</a>\u2014 <a target=\"_blank\" href=\"http://feed.500px.com/500px-editors\">http://feed.500px.com/500px-editors</a><ul><li>interval: 3600, fetched 4 days ago, 0/1614 articles</li><li>[u'<unknown>:11:2: mismatched tag @@2013-07-16T23:29:56.977255+00:00']<li></ul></li>"
       ],
       "output_type": "display_data"
      },
      {
       "html": [
        "<li><a href=\"http://1flow.io/admin/models/feed/51c7db90e7a05b27f691dce4/\" target=\"_blank\">Fredzone</a>\u2014 <a target=\"_blank\" href=\"http://www.fredzone.org/feed/\">http://www.fredzone.org/feed/</a><ul><li>interval: 3600, fetched 4 days ago, 0/2352 articles</li><li>[u'<unknown>:11:2: mismatched tag @@2013-07-16T23:29:57.692623+00:00']<li></ul></li>"
       ],
       "output_type": "display_data"
      },
      {
       "html": [
        "<li><a href=\"http://1flow.io/admin/models/feed/51c95e30e7a05b27f695d865/\" target=\"_blank\">Billets de blog mis en avant - mediachroniques</a>\u2014 <a target=\"_blank\" href=\"http://mediachroniques.ning.com/profiles/blog/feed?promoted=1&xn_auth=no\">http://mediachroniques.ning.com/profiles/blog/feed?promoted=1&xn_auth=no</a><ul><li>interval: 3600, fetched 4 days ago, 0/0 articles</li><li>[u'no Content-type specified @@2013-07-16T23:29:57.757172+00:00']<li></ul></li>"
       ],
       "output_type": "display_data"
      },
      {
       "html": [
        "<li><a href=\"http://1flow.io/admin/models/feed/51c95b45e7a05b27f693bbd9/\" target=\"_blank\">Notes d'un \u00e9conomiste</a>\u2014 <a target=\"_blank\" href=\"http://www.leconomiste-notes.fr/dotclear/rss.php\">http://www.leconomiste-notes.fr/dotclear/rss.php</a><ul><li>interval: 3600, fetched 4 days ago, 0/0 articles</li><li>[u'text/html; charset=iso-8859-1 is not an XML media type @@2013-07-16T23:29:57.977225+00:00']<li></ul></li>"
       ],
       "output_type": "display_data"
      },
      {
       "html": [
        "<li><a href=\"http://1flow.io/admin/models/feed/51c95b45e7a05b27f693baf3/\" target=\"_blank\">Les Num\u00e9riques</a>\u2014 <a target=\"_blank\" href=\"http://www.lesnumeriques.com/rss.xml\">http://www.lesnumeriques.com/rss.xml</a><ul><li>interval: 3600, fetched 4 days ago, 400/604 articles</li><li>[u'<unknown>:6:14: undefined entity @@2013-07-16T23:29:58.245208+00:00']<li></ul></li>"
       ],
       "output_type": "display_data"
      },
      {
       "html": [
        "<li><a href=\"http://1flow.io/admin/models/feed/51c69dade7a05b27f6909c68/\" target=\"_blank\">BBC News - Home</a>\u2014 <a target=\"_blank\" href=\"http://feeds.bbci.co.uk/news/rss.xml\">http://feeds.bbci.co.uk/news/rss.xml</a><ul><li>interval: 3600, fetched 4 days ago, 864/1316 articles</li><li>[u'document declared as us-ascii, but parsed as utf-8 @@2013-07-16T23:29:58.477197+00:00']<li></ul></li>"
       ],
       "output_type": "display_data"
      },
      {
       "html": [
        "<li><a href=\"http://1flow.io/admin/models/feed/51c95b1ae7a05b27f693506e/\" target=\"_blank\">Globenet - breves</a>\u2014 <a target=\"_blank\" href=\"http://www.globenet.org/spip.php?page=rss-breves\">http://www.globenet.org/spip.php?page=rss-breves</a><ul><li>interval: 3600, fetched 4 days ago, 3/22 articles</li><li>[u'text/html; charset=utf-8 is not an XML media type @@2013-07-16T23:29:58.933194+00:00']<li></ul></li>"
       ],
       "output_type": "display_data"
      },
      {
       "html": [
        "<li><a href=\"http://1flow.io/admin/models/feed/51c95e30e7a05b27f695d8f7/\" target=\"_blank\">businessMOBILE.fr: Solutions mobiles</a>\u2014 <a target=\"_blank\" href=\"http://www.businessmobile.fr/flux/rss/solutions-mobiles/\">http://www.businessmobile.fr/flux/rss/solutions-mobiles/</a><ul><li>interval: 3600, fetched 4 days ago, 41/41 articles</li><li>[u'text/html; charset=UTF-8 is not an XML media type @@2013-07-16T23:29:59.204119+00:00']<li></ul></li>"
       ],
       "output_type": "display_data"
      },
      {
       "html": [
        "<li><a href=\"http://1flow.io/admin/models/feed/51c95e30e7a05b27f695d849/\" target=\"_blank\">Agence Bibliosurf.com</a>\u2014 <a target=\"_blank\" href=\"http://www.bibliobernt.net/spip.php?page=backend\">http://www.bibliobernt.net/spip.php?page=backend</a><ul><li>interval: 3600, fetched 4 days ago, 0/0 articles</li><li>[u'document declared as us-ascii, but parsed as utf-8 @@2013-07-16T23:29:59.464591+00:00']<li></ul></li>"
       ],
       "output_type": "display_data"
      },
      {
       "html": [
        "<li><a href=\"http://1flow.io/admin/models/feed/51c7db90e7a05b27f691dd1c/\" target=\"_blank\">ReadWrite</a>\u2014 <a target=\"_blank\" href=\"http://readwrite.com/main/feed/articles.xml\">http://readwrite.com/main/feed/articles.xml</a><ul><li>interval: 3600, fetched 4 days ago, 55/804 articles</li><li>[u'document declared as us-ascii, but parsed as utf-8 @@2013-07-16T23:30:01.858258+00:00']<li></ul></li>"
       ],
       "output_type": "display_data"
      },
      {
       "html": [
        "<li><a href=\"http://1flow.io/admin/models/feed/51c66185e7a05b27f68ce464/\" target=\"_blank\">GreenIT.fr</a>\u2014 <a target=\"_blank\" href=\"http://greenit.fr/frontpage/feed\">http://greenit.fr/frontpage/feed</a><ul><li>interval: 3600, fetched 4 days ago, 102/2054 articles</li><li>[u'<unknown>:6:36: undefined entity @@2013-07-16T23:32:46.881246+00:00']<li></ul></li>"
       ],
       "output_type": "display_data"
      },
      {
       "html": [
        "<li><a href=\"http://1flow.io/admin/models/feed/51c69dade7a05b27f6909cdc/\" target=\"_blank\">Manpower.fr - Offres Aquitaine</a>\u2014 <a target=\"_blank\" href=\"http://www.manpower.fr/emploi/rss/offresRss.action?idRegion=101\">http://www.manpower.fr/emploi/rss/offresRss.action?idRegion=101</a><ul><li>interval: 3600, fetched 4 days ago, 487/487 articles</li><li>[u'<unknown>:43:2: mismatched tag @@2013-07-16T23:32:48.061233+00:00']<li></ul></li>"
       ],
       "output_type": "display_data"
      },
      {
       "html": [
        "<li><a href=\"http://1flow.io/admin/models/feed/51ca0086e7a05b27f6a32973/\" target=\"_blank\">comics.cevamarunt.ro</a>\u2014 <a target=\"_blank\" href=\"http://comics.cevamarunt.ro/feed/\">http://comics.cevamarunt.ro/feed/</a><ul><li>interval: 3600, fetched 4 days ago, 18/589 articles</li><li>[u'<unknown>:11:2: mismatched tag @@2013-07-16T23:32:51.194790+00:00']<li></ul></li>"
       ],
       "output_type": "display_data"
      },
      {
       "html": [
        "<li><a href=\"http://1flow.io/admin/models/feed/51c6619de7a05b27f68cea11/\" target=\"_blank\">Tom's Hardware - Actualit\u00e9 mat\u00e9riel informatique, multim\u00e9dia, Internet</a>\u2014 <a target=\"_blank\" href=\"http://www.tomshardware.fr/feeds/rss2/tom-s-hardware-fr,1-1.xml\">http://www.tomshardware.fr/feeds/rss2/tom-s-hardware-fr,1-1.xml</a><ul><li>interval: 3600, fetched 4 days ago, 945/21191 articles</li><li>[u'text/html; charset=UTF-8 is not an XML media type @@2013-07-16T23:32:53.311525+00:00']<li></ul></li>"
       ],
       "output_type": "display_data"
      },
      {
       "html": [
        "<li><a href=\"http://1flow.io/admin/models/feed/51c7db90e7a05b27f691dcf0/\" target=\"_blank\">Korben (to be merged with 51c9f2cde7a05b27f6a23360, merge subscribers)</a>\u2014 <a target=\"_blank\" href=\"http://feeds.feedburner.com/KorbensBlog-UpgradeYourMind\">http://feeds.feedburner.com/KorbensBlog-UpgradeYourMind</a><ul><li>interval: 3600, fetched 4 days ago, 201/203 articles</li><li>[u'<unknown>:11:2: mismatched tag @@2013-07-16T23:32:54.458858+00:00']<li></ul></li>"
       ],
       "output_type": "display_data"
      },
      {
       "html": [
        "</ul>"
       ],
       "output_type": "display_data"
      }
     ],
     "prompt_number": 8
    },
    {
     "cell_type": "code",
     "collapsed": false,
     "input": [],
     "language": "python",
     "metadata": {},
     "outputs": []
    }
   ],
   "metadata": {}
  }
 ]
}