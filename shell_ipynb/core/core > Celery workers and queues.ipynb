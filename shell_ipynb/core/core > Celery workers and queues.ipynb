{
 "metadata": {
  "name": ""
 },
 "nbformat": 3,
 "nbformat_minor": 0,
 "worksheets": [
  {
   "cells": [
    {
     "cell_type": "markdown",
     "metadata": {},
     "source": [
      "# Python Imports & setup"
     ]
    },
    {
     "cell_type": "code",
     "collapsed": false,
     "input": [
      "import os\n",
      "import itertools\n",
      "import requests\n",
      "import simplejson as json\n",
      "from django.conf import settings\n",
      "\n",
      "from mongoengine import Document\n",
      "from oneflow.core.models.nonrel import *\n",
      "\n",
      "ftot=lambda x: '\\n'.join('    %s: %s' % (l,w) for (l,w) in sorted(x.iteritems()))\n",
      "    \n",
      "from celery import Celery\n",
      "from celery.events.state import State\n",
      "from celery.task.control import inspect, revoke\n",
      "\n",
      "i = inspect()\n",
      "registered_tasks = i.registered_tasks()\n",
      "\n",
      "\n",
      "#from flower.app import Flower\n",
      "#from flower.command import options, define\n",
      "#from flower.models import TaskModel\n",
      "#options.broker_api = settings.BROKER_URL\n",
      "#app = Flower(options=options)\n",
      "#app.start()    "
     ],
     "language": "python",
     "metadata": {},
     "outputs": [],
     "prompt_number": 1
    },
    {
     "cell_type": "markdown",
     "metadata": {},
     "source": [
      "# Tasks names"
     ]
    },
    {
     "cell_type": "code",
     "collapsed": false,
     "input": [
      "tasks_names = []\n",
      "\n",
      "for k, v in registered_tasks.iteritems():\n",
      "    for tn in v:\n",
      "        if tn not in tasks_names:\n",
      "            tasks_names.append(tn)\n",
      "            \n",
      "print '\\n\\n' + ',\\n'.join(x for x in sorted(tasks_names) if not x.startswith('celery') and not x.startswith('raven')) + '\\n\\n'"
     ],
     "language": "python",
     "metadata": {},
     "outputs": [
      {
       "output_type": "stream",
       "stream": "stdout",
       "text": [
        "\n",
        "\n",
        "Article.absolutize_url,\n",
        "Article.fetch_content,\n",
        "Article.find_image,\n",
        "Article.post_create,\n",
        "Article.postprocess_original_data,\n",
        "Article.replace_duplicate_everywhere,\n",
        "Author.post_create,\n",
        "Feed.refresh,\n",
        "Feed.update_all_articles_count,\n",
        "Feed.update_latest_article_date_published,\n",
        "Feed.update_recent_articles_count,\n",
        "Feed.update_subscriptions_count,\n",
        "Tag.post_create,\n",
        "Tag.replace_duplicate_everywhere,\n",
        "User.post_create,\n",
        "WebSite.post_create,\n",
        "oneflow.base.tasks.celery_beat_test,\n",
        "oneflow.base.tasks.refresh_access_tokens,\n",
        "oneflow.core.tasks.archive_articles,\n",
        "oneflow.core.tasks.archive_documents,\n",
        "oneflow.core.tasks.clean_obsolete_redis_keys,\n",
        "oneflow.core.tasks.global_feeds_checker,\n",
        "oneflow.core.tasks.import_google_reader_articles,\n",
        "oneflow.core.tasks.import_google_reader_begin,\n",
        "oneflow.core.tasks.import_google_reader_starred,\n",
        "oneflow.core.tasks.refresh_all_feeds,\n",
        "oneflow.landing.tasks.background_post_register_actions\n",
        "\n",
        "\n"
       ]
      }
     ],
     "prompt_number": 77
    },
    {
     "cell_type": "markdown",
     "metadata": {},
     "source": [
      "## Scheduled tasks"
     ]
    },
    {
     "cell_type": "code",
     "collapsed": false,
     "input": [
      "print ',\\n'.join('%s: %s scheduled task(s)' % (k, len(v)) for (k,v) in sorted(i.scheduled().iteritems()))"
     ],
     "language": "python",
     "metadata": {},
     "outputs": [
      {
       "output_type": "stream",
       "stream": "stdout",
       "text": [
        "worker-01-high.1flow.io: 0 scheduled task(s),\n",
        "worker-02-clean.1flow.io: 0 scheduled task(s),\n",
        "worker-02-high.1flow.io: 0 scheduled task(s),\n",
        "worker-02-swarm.1flow.io: 0 scheduled task(s),\n",
        "worker-03-fetch.1flow.io: 0 scheduled task(s),\n",
        "worker-03-medium.1flow.io: 0 scheduled task(s),\n",
        "worker-04-fetch.1flow.io: 0 scheduled task(s),\n",
        "worker-04-medium.1flow.io: 0 scheduled task(s),\n",
        "worker-05-low.1flow.io: 0 scheduled task(s),\n",
        "worker-05-swarm.1flow.io: 0 scheduled task(s),\n",
        "worker-06-background.1flow.io: 0 scheduled task(s),\n",
        "worker-06-fetch.1flow.io: 0 scheduled task(s)\n"
       ]
      }
     ],
     "prompt_number": 78
    },
    {
     "cell_type": "code",
     "collapsed": false,
     "input": [
      "#i.scheduled()"
     ],
     "language": "python",
     "metadata": {},
     "outputs": [],
     "prompt_number": 79
    },
    {
     "cell_type": "markdown",
     "metadata": {},
     "source": [
      "## Active tasks"
     ]
    },
    {
     "cell_type": "code",
     "collapsed": false,
     "input": [
      "print ',\\n'.join('%s: %s active task(s)' % (k, len(v)) for (k,v) in sorted(i.active().iteritems()))"
     ],
     "language": "python",
     "metadata": {},
     "outputs": [
      {
       "output_type": "stream",
       "stream": "stdout",
       "text": [
        "worker-01-high.1flow.io: 0 active task(s),\n",
        "worker-02-clean.1flow.io: 0 active task(s),\n",
        "worker-02-high.1flow.io: 0 active task(s),\n",
        "worker-02-swarm.1flow.io: 0 active task(s),\n",
        "worker-03-fetch.1flow.io: 0 active task(s),\n",
        "worker-03-medium.1flow.io: 0 active task(s),\n",
        "worker-04-fetch.1flow.io: 0 active task(s),\n",
        "worker-04-medium.1flow.io: 1 active task(s),\n",
        "worker-05-low.1flow.io: 0 active task(s),\n",
        "worker-05-swarm.1flow.io: 0 active task(s),\n",
        "worker-06-background.1flow.io: 18 active task(s),\n",
        "worker-06-fetch.1flow.io: 0 active task(s)\n"
       ]
      }
     ],
     "prompt_number": 80
    },
    {
     "cell_type": "markdown",
     "metadata": {},
     "source": [
      "## Reserved tasks"
     ]
    },
    {
     "cell_type": "code",
     "collapsed": false,
     "input": [
      "print ',\\n'.join('%s: %s reserved task(s)' % (k, len(v)) for (k,v) in sorted(i.reserved().iteritems()))"
     ],
     "language": "python",
     "metadata": {},
     "outputs": [
      {
       "output_type": "stream",
       "stream": "stdout",
       "text": [
        "worker-01-high.1flow.io: 0 reserved task(s),\n",
        "worker-02-clean.1flow.io: 0 reserved task(s),\n",
        "worker-02-high.1flow.io: 0 reserved task(s),\n",
        "worker-02-swarm.1flow.io: 0 reserved task(s),\n",
        "worker-03-fetch.1flow.io: 6 reserved task(s),\n",
        "worker-03-medium.1flow.io: 0 reserved task(s),\n",
        "worker-04-fetch.1flow.io: 24 reserved task(s),\n",
        "worker-04-medium.1flow.io: 0 reserved task(s),\n",
        "worker-05-low.1flow.io: 0 reserved task(s),\n",
        "worker-05-swarm.1flow.io: 0 reserved task(s),\n",
        "worker-06-background.1flow.io: 0 reserved task(s),\n",
        "worker-06-fetch.1flow.io: 12 reserved task(s)\n"
       ]
      }
     ],
     "prompt_number": 81
    },
    {
     "cell_type": "markdown",
     "metadata": {},
     "source": [
      "### Revoke reseved tasks\n",
      "\n",
      "So that non-existing tasks blocking the workers just vanish."
     ]
    },
    {
     "cell_type": "code",
     "collapsed": false,
     "input": [
      "for worker, tasks in i.reserved().iteritems():\n",
      "    if 'fetch' in worker:\n",
      "        for task in tasks:\n",
      "            revoke(task['id'])"
     ],
     "language": "python",
     "metadata": {},
     "outputs": [],
     "prompt_number": 82
    },
    {
     "cell_type": "markdown",
     "metadata": {},
     "source": [
      "## Active queues"
     ]
    },
    {
     "cell_type": "code",
     "collapsed": false,
     "input": [
      "print ',\\n'.join('%s: %s queue(s) handled by worker' % (k, len(v)) for (k,v) in sorted(i.active_queues().iteritems()))"
     ],
     "language": "python",
     "metadata": {},
     "outputs": [
      {
       "output_type": "stream",
       "stream": "stdout",
       "text": [
        "fetch.worker-02.1flow.io: 3 queue(s) handled by worker,\n",
        "high.worker-01.1flow.io: 1 queue(s) handled by worker,\n",
        "low.worker-05.1flow.io: 3 queue(s) handled by worker,\n",
        "medium.worker-03.1flow.io: 2 queue(s) handled by worker,\n",
        "swarm.worker-02.1flow.io: 2 queue(s) handled by worker\n"
       ]
      }
     ],
     "prompt_number": 7
    },
    {
     "cell_type": "markdown",
     "metadata": {},
     "source": [
      "## Worker done count by task"
     ]
    },
    {
     "cell_type": "code",
     "collapsed": false,
     "input": [
      "print '\\n'.join('%s:\\n%s' % (k, ftot(v['total'])) for (k, v) in sorted(i.stats().iteritems()))"
     ],
     "language": "python",
     "metadata": {},
     "outputs": [
      {
       "output_type": "stream",
       "stream": "stdout",
       "text": [
        "fetch.worker-02.1flow.io:\n",
        "    Article.fetch_content: 15\n",
        "    Feed.refresh: 108\n",
        "    oneflow.core.tasks.refresh_all_feeds: 1\n",
        "high.worker-01.1flow.io:\n",
        "    Article.post_create: 122\n",
        "    Author.post_create: 16\n",
        "    Tag.post_create: 56\n",
        "low.worker-05.1flow.io:\n",
        "    Article.fetch_content: 26\n",
        "    Article.postprocess_original_data: 229\n",
        "medium.worker-03.1flow.io:\n",
        "    Article.fetch_content: 2\n",
        "    Feed.refresh: 37\n",
        "swarm.worker-02.1flow.io:\n",
        "    Article.absolutize_url: 22\n"
       ]
      }
     ],
     "prompt_number": 8
    },
    {
     "cell_type": "markdown",
     "metadata": {},
     "source": [
      "# Deep inspection"
     ]
    },
    {
     "cell_type": "markdown",
     "metadata": {},
     "source": [
      "## First version\n",
      "\n",
      "NOTE: doesn't iterate all tasks, only reserved. If tasks have ETA (via countdown), they can't be gotten that way."
     ]
    },
    {
     "cell_type": "code",
     "collapsed": false,
     "input": [
      "for worker, tasks in itertools.chain(i.reserved().iteritems(), i.active().iteritems()):\n",
      "    for task in tasks:\n",
      "        if task['args'].startswith('(<Article: '):\n",
      "            revoke(task['id'], terminate=True)\n",
      "            print u'RVK %s@%s, %s, %s ' % (task['id'], worker, task['name'], task['args'][:40])\n",
      "    "
     ],
     "language": "python",
     "metadata": {},
     "outputs": []
    },
    {
     "cell_type": "markdown",
     "metadata": {},
     "source": [
      "## Flower's version\n",
      "\n",
      "Thanks to https://github.com/mher/flower/issues/129"
     ]
    },
    {
     "cell_type": "code",
     "collapsed": false,
     "input": [
      "with open('articles-to-process.ids', 'rb') as f:\n",
      "    to_fetch_final = set(x.strip() for x in f.readlines())"
     ],
     "language": "python",
     "metadata": {},
     "outputs": [],
     "prompt_number": 2
    },
    {
     "cell_type": "code",
     "collapsed": false,
     "input": [
      "with open('revoked-tasks.ids', 'rb') as f:\n",
      "    all_revoked = set(x.strip() for x in f.readlines())"
     ],
     "language": "python",
     "metadata": {},
     "outputs": [],
     "prompt_number": 3
    },
    {
     "cell_type": "code",
     "collapsed": false,
     "input": [
      "revoked = counter = last_revoked = 0\n",
      "\n",
      "tasks    = requests.get('http://flower.1flow.net/api/tasks?limit=100000&state=RECEIVED', \n",
      "                        auth=('obi1', 'kenobi')).json()\n",
      "to_fetch = []\n",
      "\n",
      "for tid, task in tasks.iteritems():\n",
      "    last_revoked = revoked\n",
      "    \n",
      "    if task['name'] == 'Article.fetch_content' and task['args'].startswith('(<Article: '):\n",
      "        revoke(tid, terminate=True)\n",
      "        article_id = task['args'].split(' (#', 1)[1][:24]\n",
      "        #print u'RVK %s@%s>%s, %s ' % (tid, task['hostname'].split('.', 1)[0], article_id, task['args'][:70])\n",
      "        to_fetch.append(article_id)\n",
      "        all_revoked.add(tid)\n",
      "        revoked += 1\n",
      "        \n",
      "    counter += 1\n",
      "    \n",
      "    if revoked != last_revoked and (revoked % 100) == 0:\n",
      "        print '>> %s/%s done\u2026' % (revoked, counter)\n",
      "        \n",
      "to_fetch_final = to_fetch_final.union(set(to_fetch))\n",
      "\n",
      "print '\\n\\n>> Revoked %s/%s tasks (total %s/%s)' % (revoked, counter, len(all_revoked), len(to_fetch_final))"
     ],
     "language": "python",
     "metadata": {},
     "outputs": [
      {
       "output_type": "stream",
       "stream": "stderr",
       "text": [
        "Starting new HTTP connection (1): flower.1flow.net\n"
       ]
      },
      {
       "output_type": "stream",
       "stream": "stderr",
       "text": [
        "\"GET /api/tasks?limit=100000&state=RECEIVED HTTP/1.1\" 200 81230\n"
       ]
      },
      {
       "output_type": "stream",
       "stream": "stdout",
       "text": [
        "\n",
        "\n",
        ">> Revoked 2/94 tasks (total 3062/2178)\n"
       ]
      }
     ],
     "prompt_number": 18
    },
    {
     "cell_type": "code",
     "collapsed": false,
     "input": [
      "print u'\\n'.join(u'>> revoked on %s: %s' % (k, len(v)) for k, v in i.revoked().iteritems())"
     ],
     "language": "python",
     "metadata": {},
     "outputs": [
      {
       "output_type": "stream",
       "stream": "stdout",
       "text": [
        ">> revoked on worker-05-swarm.1flow.io: 3062\n",
        ">> revoked on worker-04-medium.1flow.io: 3062\n",
        ">> revoked on worker-03-fetch.1flow.io: 3062\n",
        ">> revoked on worker-02-clean.1flow.io: 3062\n",
        ">> revoked on worker-06-low.1flow.io: 3062\n",
        ">> revoked on worker-02-swarm.1flow.io: 3062\n",
        ">> revoked on worker-04-fetch.1flow.io: 3062\n",
        ">> revoked on worker-05-low.1flow.io: 3062\n",
        ">> revoked on worker-06-fetch.1flow.io: 3062\n",
        ">> revoked on worker-06-background.1flow.io: 3062\n",
        ">> revoked on worker-03-medium.1flow.io: 3062\n",
        ">> revoked on worker-01-high.1flow.io: 3062\n"
       ]
      }
     ],
     "prompt_number": 21
    },
    {
     "cell_type": "code",
     "collapsed": false,
     "input": [
      "for tid in all_revoked:\n",
      "    revoke(tid, terminate=True) # , signal=9"
     ],
     "language": "python",
     "metadata": {},
     "outputs": [],
     "prompt_number": 20
    },
    {
     "cell_type": "code",
     "collapsed": false,
     "input": [
      "with open('revoked-tasks.ids', 'wb') as f:\n",
      "    f.write(u'\\n'.join(all_revoked) + u'\\n')"
     ],
     "language": "python",
     "metadata": {},
     "outputs": [],
     "prompt_number": 22
    },
    {
     "cell_type": "code",
     "collapsed": false,
     "input": [
      "with open('articles-to-process.ids', 'wb') as f:\n",
      "    f.write(u'\\n'.join(to_fetch_final) + u'\\n')"
     ],
     "language": "python",
     "metadata": {},
     "outputs": [],
     "prompt_number": 23
    },
    {
     "cell_type": "code",
     "collapsed": false,
     "input": [
      "settings.BROKER_URL"
     ],
     "language": "python",
     "metadata": {},
     "outputs": [
      {
       "metadata": {},
       "output_type": "pyout",
       "prompt_number": 24,
       "text": [
        "'redis://188.165.193.204:6379/1'"
       ]
      }
     ],
     "prompt_number": 24
    },
    {
     "cell_type": "code",
     "collapsed": false,
     "input": [
      "for aid in to_fetch_final:\n",
      "    article_fetch_content.apply_async((aid, ), queue='background')"
     ],
     "language": "python",
     "metadata": {},
     "outputs": [
      {
       "ename": "KeyboardInterrupt",
       "evalue": "",
       "output_type": "pyerr",
       "traceback": [
        "\u001b[1;31m---------------------------------------------------------------------------\u001b[0m\n\u001b[1;31mKeyboardInterrupt\u001b[0m                         Traceback (most recent call last)",
        "\u001b[1;32m<ipython-input-19-72ea1d9b9497>\u001b[0m in \u001b[0;36m<module>\u001b[1;34m()\u001b[0m\n\u001b[0;32m      1\u001b[0m \u001b[1;32mfor\u001b[0m \u001b[0maid\u001b[0m \u001b[1;32min\u001b[0m \u001b[0mto_fetch_final\u001b[0m\u001b[1;33m:\u001b[0m\u001b[1;33m\u001b[0m\u001b[0m\n\u001b[1;32m----> 2\u001b[1;33m     \u001b[0marticle_fetch_content\u001b[0m\u001b[1;33m.\u001b[0m\u001b[0mapply_async\u001b[0m\u001b[1;33m(\u001b[0m\u001b[1;33m(\u001b[0m\u001b[0maid\u001b[0m\u001b[1;33m,\u001b[0m \u001b[1;33m)\u001b[0m\u001b[1;33m,\u001b[0m \u001b[0mqueue\u001b[0m\u001b[1;33m=\u001b[0m\u001b[1;34m'background'\u001b[0m\u001b[1;33m)\u001b[0m\u001b[1;33m\u001b[0m\u001b[0m\n\u001b[0m",
        "\u001b[1;32m/home/1flow/.virtualenvs/1flow/local/lib/python2.7/site-packages/celery/app/task.pyc\u001b[0m in \u001b[0;36mapply_async\u001b[1;34m(self, args, kwargs, task_id, producer, connection, router, link, link_error, publisher, add_to_parent, **options)\u001b[0m\n\u001b[0;32m    472\u001b[0m                                      \u001b[0mcallbacks\u001b[0m\u001b[1;33m=\u001b[0m\u001b[0mmaybe_list\u001b[0m\u001b[1;33m(\u001b[0m\u001b[0mlink\u001b[0m\u001b[1;33m)\u001b[0m\u001b[1;33m,\u001b[0m\u001b[1;33m\u001b[0m\u001b[0m\n\u001b[0;32m    473\u001b[0m                                      \u001b[0merrbacks\u001b[0m\u001b[1;33m=\u001b[0m\u001b[0mmaybe_list\u001b[0m\u001b[1;33m(\u001b[0m\u001b[0mlink_error\u001b[0m\u001b[1;33m)\u001b[0m\u001b[1;33m,\u001b[0m\u001b[1;33m\u001b[0m\u001b[0m\n\u001b[1;32m--> 474\u001b[1;33m                                      **options)\n\u001b[0m\u001b[0;32m    475\u001b[0m         \u001b[0mresult\u001b[0m \u001b[1;33m=\u001b[0m \u001b[0mself\u001b[0m\u001b[1;33m.\u001b[0m\u001b[0mAsyncResult\u001b[0m\u001b[1;33m(\u001b[0m\u001b[0mtask_id\u001b[0m\u001b[1;33m)\u001b[0m\u001b[1;33m\u001b[0m\u001b[0m\n\u001b[0;32m    476\u001b[0m         \u001b[1;32mif\u001b[0m \u001b[0madd_to_parent\u001b[0m\u001b[1;33m:\u001b[0m\u001b[1;33m\u001b[0m\u001b[0m\n",
        "\u001b[1;32m/home/1flow/.virtualenvs/1flow/local/lib/python2.7/site-packages/celery/app/amqp.pyc\u001b[0m in \u001b[0;36mpublish_task\u001b[1;34m(self, task_name, task_args, task_kwargs, countdown, eta, task_id, group_id, taskset_id, expires, exchange, exchange_type, event_dispatcher, retry, retry_policy, queue, now, retries, chord, callbacks, errbacks, routing_key, serializer, delivery_mode, compression, declare, **kwargs)\u001b[0m\n\u001b[0;32m    270\u001b[0m                     \u001b[1;34m'routing_key'\u001b[0m\u001b[1;33m:\u001b[0m \u001b[0mrouting_key\u001b[0m\u001b[1;33m,\u001b[0m\u001b[1;33m\u001b[0m\u001b[0m\n\u001b[0;32m    271\u001b[0m                 },\n\u001b[1;32m--> 272\u001b[1;33m                 \u001b[0mself\u001b[0m\u001b[1;33m,\u001b[0m \u001b[0mretry\u001b[0m\u001b[1;33m=\u001b[0m\u001b[0mretry\u001b[0m\u001b[1;33m,\u001b[0m \u001b[0mretry_policy\u001b[0m\u001b[1;33m=\u001b[0m\u001b[0mretry_policy\u001b[0m\u001b[1;33m,\u001b[0m\u001b[1;33m\u001b[0m\u001b[0m\n\u001b[0m\u001b[0;32m    273\u001b[0m             )\n\u001b[0;32m    274\u001b[0m         \u001b[1;32mreturn\u001b[0m \u001b[0mtask_id\u001b[0m\u001b[1;33m\u001b[0m\u001b[0m\n",
        "\u001b[1;32m/home/1flow/.virtualenvs/1flow/local/lib/python2.7/site-packages/celery/events/__init__.pyc\u001b[0m in \u001b[0;36mpublish\u001b[1;34m(self, type, fields, producer, retry, retry_policy)\u001b[0m\n\u001b[0;32m    131\u001b[0m                 \u001b[0mretry_policy\u001b[0m\u001b[1;33m=\u001b[0m\u001b[0mretry_policy\u001b[0m\u001b[1;33m,\u001b[0m\u001b[1;33m\u001b[0m\u001b[0m\n\u001b[0;32m    132\u001b[0m                 \u001b[0mdeclare\u001b[0m\u001b[1;33m=\u001b[0m\u001b[1;33m[\u001b[0m\u001b[0mexchange\u001b[0m\u001b[1;33m]\u001b[0m\u001b[1;33m,\u001b[0m\u001b[1;33m\u001b[0m\u001b[0m\n\u001b[1;32m--> 133\u001b[1;33m                 \u001b[0mserializer\u001b[0m\u001b[1;33m=\u001b[0m\u001b[0mself\u001b[0m\u001b[1;33m.\u001b[0m\u001b[0mserializer\u001b[0m\u001b[1;33m,\u001b[0m\u001b[1;33m\u001b[0m\u001b[0m\n\u001b[0m\u001b[0;32m    134\u001b[0m             )\n\u001b[0;32m    135\u001b[0m \u001b[1;33m\u001b[0m\u001b[0m\n",
        "\u001b[1;32m/home/1flow/.virtualenvs/1flow/local/lib/python2.7/site-packages/kombu/messaging.pyc\u001b[0m in \u001b[0;36mpublish\u001b[1;34m(self, body, routing_key, delivery_mode, mandatory, immediate, priority, content_type, content_encoding, serializer, headers, compression, exchange, retry, retry_policy, declare, **properties)\u001b[0m\n\u001b[0;32m    162\u001b[0m         return publish(body, priority, content_type,\n\u001b[0;32m    163\u001b[0m                        \u001b[0mcontent_encoding\u001b[0m\u001b[1;33m,\u001b[0m \u001b[0mheaders\u001b[0m\u001b[1;33m,\u001b[0m \u001b[0mproperties\u001b[0m\u001b[1;33m,\u001b[0m\u001b[1;33m\u001b[0m\u001b[0m\n\u001b[1;32m--> 164\u001b[1;33m                        routing_key, mandatory, immediate, exchange, declare)\n\u001b[0m\u001b[0;32m    165\u001b[0m \u001b[1;33m\u001b[0m\u001b[0m\n\u001b[0;32m    166\u001b[0m     def _publish(self, body, priority, content_type, content_encoding,\n",
        "\u001b[1;32m/home/1flow/.virtualenvs/1flow/local/lib/python2.7/site-packages/kombu/connection.pyc\u001b[0m in \u001b[0;36m_ensured\u001b[1;34m(*args, **kwargs)\u001b[0m\n\u001b[0;32m    451\u001b[0m             \u001b[1;32mfor\u001b[0m \u001b[0mretries\u001b[0m \u001b[1;32min\u001b[0m \u001b[0mcount\u001b[0m\u001b[1;33m(\u001b[0m\u001b[1;36m0\u001b[0m\u001b[1;33m)\u001b[0m\u001b[1;33m:\u001b[0m  \u001b[1;31m# for infinity\u001b[0m\u001b[1;33m\u001b[0m\u001b[0m\n\u001b[0;32m    452\u001b[0m                 \u001b[1;32mtry\u001b[0m\u001b[1;33m:\u001b[0m\u001b[1;33m\u001b[0m\u001b[0m\n\u001b[1;32m--> 453\u001b[1;33m                     \u001b[1;32mreturn\u001b[0m \u001b[0mfun\u001b[0m\u001b[1;33m(\u001b[0m\u001b[1;33m*\u001b[0m\u001b[0margs\u001b[0m\u001b[1;33m,\u001b[0m \u001b[1;33m**\u001b[0m\u001b[0mkwargs\u001b[0m\u001b[1;33m)\u001b[0m\u001b[1;33m\u001b[0m\u001b[0m\n\u001b[0m\u001b[0;32m    454\u001b[0m                 \u001b[1;32mexcept\u001b[0m \u001b[0mself\u001b[0m\u001b[1;33m.\u001b[0m\u001b[0mrecoverable_connection_errors\u001b[0m\u001b[1;33m,\u001b[0m \u001b[0mexc\u001b[0m\u001b[1;33m:\u001b[0m\u001b[1;33m\u001b[0m\u001b[0m\n\u001b[0;32m    455\u001b[0m                     \u001b[1;32mif\u001b[0m \u001b[0mgot_connection\u001b[0m\u001b[1;33m:\u001b[0m\u001b[1;33m\u001b[0m\u001b[0m\n",
        "\u001b[1;32m/home/1flow/.virtualenvs/1flow/local/lib/python2.7/site-packages/kombu/messaging.pyc\u001b[0m in \u001b[0;36m_publish\u001b[1;34m(self, body, priority, content_type, content_encoding, headers, properties, routing_key, mandatory, immediate, exchange, declare)\u001b[0m\n\u001b[0;32m    178\u001b[0m             \u001b[0mmessage\u001b[0m\u001b[1;33m,\u001b[0m\u001b[1;33m\u001b[0m\u001b[0m\n\u001b[0;32m    179\u001b[0m             \u001b[0mexchange\u001b[0m\u001b[1;33m=\u001b[0m\u001b[0mexchange\u001b[0m\u001b[1;33m,\u001b[0m \u001b[0mrouting_key\u001b[0m\u001b[1;33m=\u001b[0m\u001b[0mrouting_key\u001b[0m\u001b[1;33m,\u001b[0m\u001b[1;33m\u001b[0m\u001b[0m\n\u001b[1;32m--> 180\u001b[1;33m             \u001b[0mmandatory\u001b[0m\u001b[1;33m=\u001b[0m\u001b[0mmandatory\u001b[0m\u001b[1;33m,\u001b[0m \u001b[0mimmediate\u001b[0m\u001b[1;33m=\u001b[0m\u001b[0mimmediate\u001b[0m\u001b[1;33m,\u001b[0m\u001b[1;33m\u001b[0m\u001b[0m\n\u001b[0m\u001b[0;32m    181\u001b[0m         )\n\u001b[0;32m    182\u001b[0m \u001b[1;33m\u001b[0m\u001b[0m\n",
        "\u001b[1;32m/home/1flow/.virtualenvs/1flow/local/lib/python2.7/site-packages/kombu/transport/virtual/__init__.pyc\u001b[0m in \u001b[0;36mbasic_publish\u001b[1;34m(self, message, exchange, routing_key, **kwargs)\u001b[0m\n\u001b[0;32m    467\u001b[0m         \u001b[0mprops\u001b[0m\u001b[1;33m[\u001b[0m\u001b[1;34m'delivery_tag'\u001b[0m\u001b[1;33m]\u001b[0m \u001b[1;33m=\u001b[0m \u001b[0mself\u001b[0m\u001b[1;33m.\u001b[0m\u001b[0m_next_delivery_tag\u001b[0m\u001b[1;33m(\u001b[0m\u001b[1;33m)\u001b[0m\u001b[1;33m\u001b[0m\u001b[0m\n\u001b[0;32m    468\u001b[0m         self.typeof(exchange).deliver(message,\n\u001b[1;32m--> 469\u001b[1;33m                                       exchange, routing_key, **kwargs)\n\u001b[0m\u001b[0;32m    470\u001b[0m \u001b[1;33m\u001b[0m\u001b[0m\n\u001b[0;32m    471\u001b[0m     \u001b[1;32mdef\u001b[0m \u001b[0mbasic_consume\u001b[0m\u001b[1;33m(\u001b[0m\u001b[0mself\u001b[0m\u001b[1;33m,\u001b[0m \u001b[0mqueue\u001b[0m\u001b[1;33m,\u001b[0m \u001b[0mno_ack\u001b[0m\u001b[1;33m,\u001b[0m \u001b[0mcallback\u001b[0m\u001b[1;33m,\u001b[0m \u001b[0mconsumer_tag\u001b[0m\u001b[1;33m,\u001b[0m \u001b[1;33m**\u001b[0m\u001b[0mkwargs\u001b[0m\u001b[1;33m)\u001b[0m\u001b[1;33m:\u001b[0m\u001b[1;33m\u001b[0m\u001b[0m\n",
        "\u001b[1;32m/home/1flow/.virtualenvs/1flow/local/lib/python2.7/site-packages/kombu/transport/virtual/exchange.pyc\u001b[0m in \u001b[0;36mdeliver\u001b[1;34m(self, message, exchange, routing_key, **kwargs)\u001b[0m\n\u001b[0;32m    125\u001b[0m     \u001b[1;32mdef\u001b[0m \u001b[0mdeliver\u001b[0m\u001b[1;33m(\u001b[0m\u001b[0mself\u001b[0m\u001b[1;33m,\u001b[0m \u001b[0mmessage\u001b[0m\u001b[1;33m,\u001b[0m \u001b[0mexchange\u001b[0m\u001b[1;33m,\u001b[0m \u001b[0mrouting_key\u001b[0m\u001b[1;33m,\u001b[0m \u001b[1;33m**\u001b[0m\u001b[0mkwargs\u001b[0m\u001b[1;33m)\u001b[0m\u001b[1;33m:\u001b[0m\u001b[1;33m\u001b[0m\u001b[0m\n\u001b[0;32m    126\u001b[0m         \u001b[1;32mif\u001b[0m \u001b[0mself\u001b[0m\u001b[1;33m.\u001b[0m\u001b[0mchannel\u001b[0m\u001b[1;33m.\u001b[0m\u001b[0msupports_fanout\u001b[0m\u001b[1;33m:\u001b[0m\u001b[1;33m\u001b[0m\u001b[0m\n\u001b[1;32m--> 127\u001b[1;33m             \u001b[0mself\u001b[0m\u001b[1;33m.\u001b[0m\u001b[0mchannel\u001b[0m\u001b[1;33m.\u001b[0m\u001b[0m_put_fanout\u001b[0m\u001b[1;33m(\u001b[0m\u001b[0mexchange\u001b[0m\u001b[1;33m,\u001b[0m \u001b[0mmessage\u001b[0m\u001b[1;33m,\u001b[0m \u001b[1;33m**\u001b[0m\u001b[0mkwargs\u001b[0m\u001b[1;33m)\u001b[0m\u001b[1;33m\u001b[0m\u001b[0m\n\u001b[0m\u001b[0;32m    128\u001b[0m \u001b[1;33m\u001b[0m\u001b[0m\n\u001b[0;32m    129\u001b[0m \u001b[1;33m\u001b[0m\u001b[0m\n",
        "\u001b[1;32m/home/1flow/.virtualenvs/1flow/local/lib/python2.7/site-packages/kombu/transport/redis.pyc\u001b[0m in \u001b[0;36m_put_fanout\u001b[1;34m(self, exchange, message, **kwargs)\u001b[0m\n\u001b[0;32m    538\u001b[0m         \u001b[1;34m\"\"\"Deliver fanout message.\"\"\"\u001b[0m\u001b[1;33m\u001b[0m\u001b[0m\n\u001b[0;32m    539\u001b[0m         \u001b[1;32mwith\u001b[0m \u001b[0mself\u001b[0m\u001b[1;33m.\u001b[0m\u001b[0mconn_or_acquire\u001b[0m\u001b[1;33m(\u001b[0m\u001b[1;33m)\u001b[0m \u001b[1;32mas\u001b[0m \u001b[0mclient\u001b[0m\u001b[1;33m:\u001b[0m\u001b[1;33m\u001b[0m\u001b[0m\n\u001b[1;32m--> 540\u001b[1;33m             \u001b[0mclient\u001b[0m\u001b[1;33m.\u001b[0m\u001b[0mpublish\u001b[0m\u001b[1;33m(\u001b[0m\u001b[0mexchange\u001b[0m\u001b[1;33m,\u001b[0m \u001b[0mdumps\u001b[0m\u001b[1;33m(\u001b[0m\u001b[0mmessage\u001b[0m\u001b[1;33m)\u001b[0m\u001b[1;33m)\u001b[0m\u001b[1;33m\u001b[0m\u001b[0m\n\u001b[0m\u001b[0;32m    541\u001b[0m \u001b[1;33m\u001b[0m\u001b[0m\n\u001b[0;32m    542\u001b[0m     \u001b[1;32mdef\u001b[0m \u001b[0m_new_queue\u001b[0m\u001b[1;33m(\u001b[0m\u001b[0mself\u001b[0m\u001b[1;33m,\u001b[0m \u001b[0mqueue\u001b[0m\u001b[1;33m,\u001b[0m \u001b[0mauto_delete\u001b[0m\u001b[1;33m=\u001b[0m\u001b[0mFalse\u001b[0m\u001b[1;33m,\u001b[0m \u001b[1;33m**\u001b[0m\u001b[0mkwargs\u001b[0m\u001b[1;33m)\u001b[0m\u001b[1;33m:\u001b[0m\u001b[1;33m\u001b[0m\u001b[0m\n",
        "\u001b[1;32m/home/1flow/.virtualenvs/1flow/local/lib/python2.7/site-packages/anyjson/__init__.pyc\u001b[0m in \u001b[0;36mdumps\u001b[1;34m(value)\u001b[0m\n\u001b[0;32m    139\u001b[0m     \u001b[1;32mdef\u001b[0m \u001b[0mdumps\u001b[0m\u001b[1;33m(\u001b[0m\u001b[0mvalue\u001b[0m\u001b[1;33m)\u001b[0m\u001b[1;33m:\u001b[0m\u001b[1;33m\u001b[0m\u001b[0m\n\u001b[0;32m    140\u001b[0m         \u001b[1;34m\"\"\"Deserialize JSON-encoded object to a Python object.\"\"\"\u001b[0m\u001b[1;33m\u001b[0m\u001b[0m\n\u001b[1;32m--> 141\u001b[1;33m         \u001b[1;32mreturn\u001b[0m \u001b[0mimplementation\u001b[0m\u001b[1;33m.\u001b[0m\u001b[0mdumps\u001b[0m\u001b[1;33m(\u001b[0m\u001b[0mvalue\u001b[0m\u001b[1;33m)\u001b[0m\u001b[1;33m\u001b[0m\u001b[0m\n\u001b[0m\u001b[0;32m    142\u001b[0m     \u001b[0mserialize\u001b[0m \u001b[1;33m=\u001b[0m \u001b[0mdumps\u001b[0m\u001b[1;33m\u001b[0m\u001b[0m\n",
        "\u001b[1;32m/home/1flow/.virtualenvs/1flow/local/lib/python2.7/site-packages/anyjson/__init__.pyc\u001b[0m in \u001b[0;36mdumps\u001b[1;34m(self, data)\u001b[0m\n\u001b[0;32m     81\u001b[0m         \u001b[1;32mreturn\u001b[0m \u001b[0msys\u001b[0m\u001b[1;33m.\u001b[0m\u001b[0mmodules\u001b[0m\u001b[1;33m[\u001b[0m\u001b[0mmodname\u001b[0m\u001b[1;33m]\u001b[0m\u001b[1;33m\u001b[0m\u001b[0m\n\u001b[0;32m     82\u001b[0m \u001b[1;33m\u001b[0m\u001b[0m\n\u001b[1;32m---> 83\u001b[1;33m     \u001b[1;32mdef\u001b[0m \u001b[0mdumps\u001b[0m\u001b[1;33m(\u001b[0m\u001b[0mself\u001b[0m\u001b[1;33m,\u001b[0m \u001b[0mdata\u001b[0m\u001b[1;33m)\u001b[0m\u001b[1;33m:\u001b[0m\u001b[1;33m\u001b[0m\u001b[0m\n\u001b[0m\u001b[0;32m     84\u001b[0m         \"\"\"Serialize the datastructure to json. Returns a string. Raises\n\u001b[0;32m     85\u001b[0m         TypeError if the object could not be serialized.\"\"\"\n",
        "\u001b[1;31mKeyboardInterrupt\u001b[0m: "
       ]
      }
     ],
     "prompt_number": 19
    },
    {
     "cell_type": "markdown",
     "metadata": {},
     "source": [
      "# Revoke Feed.refresh"
     ]
    },
    {
     "cell_type": "code",
     "collapsed": false,
     "input": [
      "revoked = counter = last_revoked = 0\n",
      "\n",
      "tasks    = requests.get('http://flower.1flow.net/api/tasks?limit=15000', \n",
      "                        auth=('obi1', 'kenobi')).json()\n",
      "\n",
      "for tid, task in tasks.iteritems():\n",
      "    last_revoked = revoked\n",
      "    \n",
      "    if task['name'] == 'Feed.refresh':\n",
      "        revoke(tid, terminate=True)\n",
      "        revoked += 1\n",
      "        \n",
      "    counter += 1\n",
      "    \n",
      "    if revoked != last_revoked and (revoked % 500) == 0:\n",
      "        print '>> %s/%s done\u2026' % (revoked, counter)\n",
      "        \n",
      "print '\\n\\n>> Revoked %s/%s tasks' % (revoked, counter)"
     ],
     "language": "python",
     "metadata": {},
     "outputs": [
      {
       "output_type": "stream",
       "stream": "stderr",
       "text": [
        "Starting new HTTP connection (1): flower.1flow.net\n"
       ]
      },
      {
       "output_type": "stream",
       "stream": "stderr",
       "text": [
        "\"GET /api/tasks?limit=15000 HTTP/1.1\" 200 9066509\n"
       ]
      },
      {
       "output_type": "stream",
       "stream": "stdout",
       "text": [
        ">> 500/550 done\u2026\n",
        ">> 1000/1106 done\u2026"
       ]
      },
      {
       "output_type": "stream",
       "stream": "stdout",
       "text": [
        "\n",
        ">> 1500/1661 done\u2026"
       ]
      },
      {
       "output_type": "stream",
       "stream": "stdout",
       "text": [
        "\n",
        ">> 2000/2235 done\u2026"
       ]
      },
      {
       "output_type": "stream",
       "stream": "stdout",
       "text": [
        "\n",
        ">> 2500/2786 done\u2026"
       ]
      },
      {
       "output_type": "stream",
       "stream": "stdout",
       "text": [
        "\n",
        ">> 3000/3336 done\u2026"
       ]
      },
      {
       "output_type": "stream",
       "stream": "stdout",
       "text": [
        "\n",
        ">> 3500/3883 done\u2026"
       ]
      },
      {
       "output_type": "stream",
       "stream": "stdout",
       "text": [
        "\n",
        ">> 4000/4426 done\u2026"
       ]
      },
      {
       "output_type": "stream",
       "stream": "stdout",
       "text": [
        "\n",
        ">> 4500/4976 done\u2026"
       ]
      },
      {
       "output_type": "stream",
       "stream": "stdout",
       "text": [
        "\n",
        ">> 5000/5519 done\u2026"
       ]
      },
      {
       "output_type": "stream",
       "stream": "stdout",
       "text": [
        "\n",
        ">> 5500/6072 done\u2026"
       ]
      },
      {
       "output_type": "stream",
       "stream": "stdout",
       "text": [
        "\n",
        ">> 6000/6619 done\u2026"
       ]
      },
      {
       "output_type": "stream",
       "stream": "stdout",
       "text": [
        "\n",
        ">> 6500/7182 done\u2026"
       ]
      },
      {
       "output_type": "stream",
       "stream": "stdout",
       "text": [
        "\n",
        ">> 7000/7742 done\u2026"
       ]
      },
      {
       "output_type": "stream",
       "stream": "stdout",
       "text": [
        "\n",
        ">> 7500/8293 done\u2026"
       ]
      },
      {
       "output_type": "stream",
       "stream": "stdout",
       "text": [
        "\n",
        ">> 8000/8856 done\u2026"
       ]
      },
      {
       "output_type": "stream",
       "stream": "stdout",
       "text": [
        "\n",
        ">> 8500/9405 done\u2026"
       ]
      },
      {
       "output_type": "stream",
       "stream": "stdout",
       "text": [
        "\n",
        ">> 9000/9979 done\u2026"
       ]
      },
      {
       "output_type": "stream",
       "stream": "stdout",
       "text": [
        "\n",
        "\n",
        "\n",
        ">> Revoked 9018/10000 tasks\n"
       ]
      }
     ],
     "prompt_number": 13
    },
    {
     "cell_type": "code",
     "collapsed": false,
     "input": [
      "import celery.result \n",
      "import celery.task.control"
     ],
     "language": "python",
     "metadata": {},
     "outputs": [],
     "prompt_number": 31
    },
    {
     "cell_type": "code",
     "collapsed": false,
     "input": [
      "r = celery.result.AsyncResult('abdeb1f2-bc16-4f63-93c4-207dc7eebc11')"
     ],
     "language": "python",
     "metadata": {},
     "outputs": [],
     "prompt_number": 27
    },
    {
     "cell_type": "code",
     "collapsed": false,
     "input": [
      "r.status"
     ],
     "language": "python",
     "metadata": {},
     "outputs": [
      {
       "metadata": {},
       "output_type": "pyout",
       "prompt_number": 28,
       "text": [
        "'SUCCESS'"
       ]
      }
     ],
     "prompt_number": 28
    },
    {
     "cell_type": "code",
     "collapsed": false,
     "input": [
      "i."
     ],
     "language": "python",
     "metadata": {},
     "outputs": [
      {
       "ename": "TypeError",
       "evalue": "'NoneType' object is not callable",
       "output_type": "pyerr",
       "traceback": [
        "\u001b[1;31m---------------------------------------------------------------------------\u001b[0m\n\u001b[1;31mTypeError\u001b[0m                                 Traceback (most recent call last)",
        "\u001b[1;32m<ipython-input-30-d8138a1c91bb>\u001b[0m in \u001b[0;36m<module>\u001b[1;34m()\u001b[0m\n\u001b[1;32m----> 1\u001b[1;33m \u001b[0mr\u001b[0m\u001b[1;33m.\u001b[0m\u001b[0mtask_name\u001b[0m\u001b[1;33m(\u001b[0m\u001b[1;33m)\u001b[0m\u001b[1;33m\u001b[0m\u001b[0m\n\u001b[0m",
        "\u001b[1;31mTypeError\u001b[0m: 'NoneType' object is not callable"
       ]
      }
     ],
     "prompt_number": 30
    },
    {
     "cell_type": "code",
     "collapsed": false,
     "input": [],
     "language": "python",
     "metadata": {},
     "outputs": []
    }
   ],
   "metadata": {}
  }
 ]
}