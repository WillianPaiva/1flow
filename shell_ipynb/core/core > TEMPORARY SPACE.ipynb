{
 "metadata": {
  "name": ""
 },
 "nbformat": 3,
 "nbformat_minor": 0,
 "worksheets": [
  {
   "cells": [
    {
     "cell_type": "code",
     "collapsed": false,
     "input": [
      "from mongoengine.queryset import Q\n",
      "from statsd import statsd\n",
      "\n",
      "from oneflow.core.stats import *\n",
      "from oneflow.core.tasks import *\n",
      "from oneflow.core.models.nonrel import *\n",
      "from oneflow.base.utils.dateutils import *\n",
      "\n",
      "from oneflow import VERSION as version\n",
      "print u'1flow v%s, statsd %s' % (version, u', '.join(u'%s' % (v,) for k,v in statsd.__dict__.items() if k != '_sock'))"
     ],
     "language": "python",
     "metadata": {},
     "outputs": [
      {
       "output_type": "stream",
       "stream": "stderr",
       "text": [
        "Django found.\n"
       ]
      },
      {
       "output_type": "stream",
       "stream": "stderr",
       "text": [
        "Django found and fields and widgets loaded.\n"
       ]
      },
      {
       "output_type": "stream",
       "stream": "stdout",
       "text": [
        "1flow v0.26.7, statsd ('10.0.3.111', 8125), production\n"
       ]
      }
     ],
     "prompt_number": 1
    },
    {
     "cell_type": "code",
     "collapsed": false,
     "input": [
      "a = Article.objects.get(url='http://www.nytimes.com/2013/10/25/technology/amazons-revenue-soars-but-no-profit-in-sight.html?partner=rss&emc=rss')\n",
      "a.duplicate_of"
     ],
     "language": "python",
     "metadata": {},
     "outputs": [
      {
       "metadata": {},
       "output_type": "pyout",
       "prompt_number": 19,
       "text": [
        "<Article: Amazon\u2019s Revenue Soars, but No Profit in\u2026 (#5269854ca246394ea0ceacfd) from http://www.nytimes.com/2013/10/25/technology/amazons-revenue-soars-but-no-profit-in-sight.html?partner=rss&emc=rss&_r=0>"
       ]
      }
     ],
     "prompt_number": 19
    },
    {
     "cell_type": "code",
     "collapsed": false,
     "input": [
      "# Warning, this one will hurt a lot (the web browser and the DB)\n",
      "\n",
      "with benchmark():\n",
      "    for article in Article.objects(duplicate_of__exists=True).order_by('-id'):\n",
      "        article.duplicate_of.replace_duplicate_everywhere(article)"
     ],
     "language": "python",
     "metadata": {},
     "outputs": []
    },
    {
     "cell_type": "code",
     "collapsed": false,
     "input": [
      "u = User.objects.get(username='karmak23')\n",
      "u, u.web_import_feed.restricted"
     ],
     "language": "python",
     "metadata": {},
     "outputs": [
      {
       "metadata": {},
       "output_type": "pyout",
       "prompt_number": 2,
       "text": [
        "(<User: karmak23 #51c66177e7a05b27f68ce435 (Django ID: 141)>, False)"
       ]
      }
     ],
     "prompt_number": 2
    },
    {
     "cell_type": "code",
     "collapsed": false,
     "input": [
      "u.check_subscriptions(extended_check=True)"
     ],
     "language": "python",
     "metadata": {},
     "outputs": [
      {
       "output_type": "stream",
       "stream": "stderr",
       "text": [
        "Checked subscription #5327fe3484cc174db1fefb49. 61/0 non-existing/re-checked, 61/0 read/unread and 0 not created.\n"
       ]
      },
      {
       "output_type": "stream",
       "stream": "stderr",
       "text": [
        "Checked subscription #5327fe3484cc174db1fefb4a. 40/0 non-existing/re-checked, 40/0 read/unread and 0 not created.\n"
       ]
      },
      {
       "output_type": "stream",
       "stream": "stderr",
       "text": [
        "Checked subscription #5327fe3484cc174db1fefb4b. 195/0 non-existing/re-checked, 193/2 read/unread and 0 not created.\n"
       ]
      },
      {
       "output_type": "stream",
       "stream": "stderr",
       "text": [
        "Checked subscription #5327fe3484cc174db1fefb4c. 477/0 non-existing/re-checked, 475/2 read/unread and 0 not created.\n"
       ]
      },
      {
       "output_type": "stream",
       "stream": "stderr",
       "text": [
        "Checked subscription #5327fe3484cc174db1fefb4d. 59/0 non-existing/re-checked, 59/0 read/unread and 0 not created.\n"
       ]
      },
      {
       "output_type": "stream",
       "stream": "stderr",
       "text": [
        "Checked subscription #5327fe3584cc174db1fefb4e. 313/0 non-existing/re-checked, 312/1 read/unread and 0 not created.\n"
       ]
      },
      {
       "output_type": "stream",
       "stream": "stderr",
       "text": [
        "Checked subscription #5327fe3584cc174db1fefb4f. 13/0 non-existing/re-checked, 13/0 read/unread and 0 not created.\n"
       ]
      },
      {
       "output_type": "stream",
       "stream": "stderr",
       "text": [
        "Checked User #5326f19884cc174db86a6694 with 7 subscriptions. Totals: 1158/0 non-existing/re-checked reads, 1153/5 read/unread and 0 not created.\n"
       ]
      }
     ],
     "prompt_number": 5
    },
    {
     "cell_type": "code",
     "collapsed": false,
     "input": [
      "for sub in u.subscriptions.filter(name__icontains=\"L'Equipe\"):\n",
      "    sub.delete()"
     ],
     "language": "python",
     "metadata": {},
     "outputs": [],
     "prompt_number": 6
    },
    {
     "cell_type": "code",
     "collapsed": false,
     "input": [
      " u.subscriptions.filter(name__icontains=\"L'Equipe\")"
     ],
     "language": "python",
     "metadata": {},
     "outputs": [
      {
       "metadata": {},
       "output_type": "pyout",
       "prompt_number": 5,
       "text": [
        "[<Subscription: karmak23+L'Equipe.fr Actu Football (#52ab8f1184cc1764afa1cfa0)>, <Subscription: karmak23+L'Equipe.fr Actu Transferts (#52ab8f1b84cc1764afa1cfa4)>, <Subscription: karmak23+L'Equipe.fr Actu Auto-Moto (#52ab8f2084cc1764afa1cfa6)>, <Subscription: karmak23+L'Equipe.fr Actu Formule 1 (#52ab8f2484cc1764afa1cfa8)>, <Subscription: karmak23+L'Equipe.fr Actu Rallye (#52ab8f2a84cc1764a02a80c8)>, <Subscription: karmak23+L'Equipe.fr Actu Moto (#52ab8f2f84cc1764a02a80ca)>, <Subscription: karmak23+L'Equipe.fr Actu Tennis (#52ab8f3a84cc1764a02a80cc)>, <Subscription: karmak23+L'Equipe.fr Actu Golf (#52ab8f3f84cc1764a02a80ce)>, <Subscription: karmak23+L'Equipe.fr Actu Rugby (#52ab8f4584cc1764a02a80d0)>, <Subscription: karmak23+L'Equipe.fr Actu Basket (#52ab8f4a84cc1764a02a80d2)>, <Subscription: karmak23+L'Equipe.fr Actu Handball (#52ab8f7084cc1764a02a80d4)>, <Subscription: karmak23+L'Equipe.fr Actu Cyclisme (#52ab8f7484cc1764b1eb27cd)>, <Subscription: karmak23+L'Equipe.fr Actu Judo (#52ab8f7884cc1764a02a80d6)>, <Subscription: karmak23+L'Equipe.fr Actu Ski (#52ab8f7c84cc1764a02a80d8)>, <Subscription: karmak23+L'Equipe.fr Actu Athl\u00e9tisme (#52ab8f8184cc1764a02a80da)>, <Subscription: karmak23+L'Equipe.fr Actu Volley (#52ab8fb684cc1764a02a80dc)>, <Subscription: karmak23+L'Equipe.fr Actu Escrime (#52ab8fb884cc1764a02a80de)>, <Subscription: karmak23+L'Equipe.fr Actu Natation (#52ab8fb984cc1764a02a80e0)>, <Subscription: karmak23+L'Equipe.fr Actu Voile (#52ab8fbb84cc1764a02a80e2)>]"
       ]
      }
     ],
     "prompt_number": 5
    },
    {
     "cell_type": "code",
     "collapsed": false,
     "input": [
      "for u in User.objects.all():\n",
      "    u.web_import_feed.update(set__restricted=True)"
     ],
     "language": "python",
     "metadata": {},
     "outputs": [],
     "prompt_number": 4
    },
    {
     "cell_type": "code",
     "collapsed": false,
     "input": [
      "f = Feed(name='test internal+restricted', url='http://1flow.io/blogtest', restricted=True, is_internal=True).save()"
     ],
     "language": "python",
     "metadata": {},
     "outputs": [],
     "prompt_number": 6
    },
    {
     "cell_type": "code",
     "collapsed": false,
     "input": [
      "f.restricted"
     ],
     "language": "python",
     "metadata": {},
     "outputs": [
      {
       "metadata": {},
       "output_type": "pyout",
       "prompt_number": 7,
       "text": [
        "True"
       ]
      }
     ],
     "prompt_number": 7
    },
    {
     "cell_type": "code",
     "collapsed": false,
     "input": [
      "done = set()"
     ],
     "language": "python",
     "metadata": {},
     "outputs": []
    },
    {
     "cell_type": "code",
     "collapsed": false,
     "input": [
      "with benchmark():\n",
      "    #reads = Read.objects(is_read__ne=True).order_by('-id').limit(100000)\n",
      "    #count = reads.count()\n",
      "    articles = Article.objects().order_by('-id').limit(100000)\n",
      "    count = articles.count()\n",
      "    \n",
      "    for article in articles:\n",
      "        if unicode(article.id) not in done and article.is_good:\n",
      "            try:\n",
      "                article.prefill_cache()\n",
      "                \n",
      "            except:\n",
      "                #print '>> PB on read #%s, article #%s' % (read.id, read.article.id)\n",
      "                print '>> PB on article #%s' % article.id\n",
      "\n",
      "            done.add(unicode(article.id))\n",
      "\n",
      "        if len(done) % 100 == 0:\n",
      "            print '>> %s/%s done\u2026' % (len(done), count)\n",
      "        "
     ],
     "language": "python",
     "metadata": {},
     "outputs": []
    },
    {
     "cell_type": "code",
     "collapsed": false,
     "input": [
      "s1 = Subscription.objects.get(id=\"5261bc6a84cc17323de9d409\"); s1"
     ],
     "language": "python",
     "metadata": {},
     "outputs": [
      {
       "metadata": {},
       "output_type": "pyout",
       "prompt_number": 5,
       "text": [
        "<Subscription: karmak23+\u00c9l\u00e9ments import\u00e9s de karmak23 (#5261bc6a84cc17323de9d409)>"
       ]
      }
     ],
     "prompt_number": 5
    },
    {
     "cell_type": "code",
     "collapsed": false,
     "input": [
      "s2 = Subscription.objects.get(id=\"526299fc84cc176bbf0d5ecf\"); s2"
     ],
     "language": "python",
     "metadata": {},
     "outputs": [
      {
       "metadata": {},
       "output_type": "pyout",
       "prompt_number": 6,
       "text": [
        "<Subscription: mchaignot+\u00c9l\u00e9ments import\u00e9s de mchaignot (#526299fc84cc176bbf0d5ecf)>"
       ]
      }
     ],
     "prompt_number": 6
    },
    {
     "cell_type": "code",
     "collapsed": false,
     "input": [
      "s1.user"
     ],
     "language": "python",
     "metadata": {},
     "outputs": [
      {
       "metadata": {},
       "output_type": "pyout",
       "prompt_number": 7,
       "text": [
        "<User: karmak23 #51c66177e7a05b27f68ce435 (Django ID: 141)>"
       ]
      }
     ],
     "prompt_number": 7
    },
    {
     "cell_type": "code",
     "collapsed": false,
     "input": [
      "s2.user"
     ],
     "language": "python",
     "metadata": {},
     "outputs": [
      {
       "metadata": {},
       "output_type": "pyout",
       "prompt_number": 8,
       "text": [
        "<User: mchaignot #51c71da1e7a05b27f691c7a1 (Django ID: 152)>"
       ]
      }
     ],
     "prompt_number": 8
    },
    {
     "cell_type": "code",
     "collapsed": false,
     "input": [
      "s1.user.web_import_feed, s1.user.web_import_feed.good_articles_count"
     ],
     "language": "python",
     "metadata": {},
     "outputs": [
      {
       "metadata": {},
       "output_type": "pyout",
       "prompt_number": 13,
       "text": [
        "(<Feed: \u00c9l\u00e9ments import\u00e9s de karmak23 (#5261bc6a84cc17323de9d408)>, 254)"
       ]
      }
     ],
     "prompt_number": 13
    },
    {
     "cell_type": "code",
     "collapsed": false,
     "input": [
      "s2.user.web_import_subscription.feed"
     ],
     "language": "python",
     "metadata": {},
     "outputs": [
      {
       "metadata": {},
       "output_type": "pyout",
       "prompt_number": 15,
       "text": [
        "<Feed: \u00c9l\u00e9ments import\u00e9s de mchaignot (#526299fc84cc176bbf0d5ece)>"
       ]
      }
     ],
     "prompt_number": 15
    },
    {
     "cell_type": "code",
     "collapsed": false,
     "input": [
      "a = Article.objects.get(id='52cda683a24639759269828d')"
     ],
     "language": "python",
     "metadata": {},
     "outputs": [],
     "prompt_number": 3
    },
    {
     "cell_type": "code",
     "collapsed": false,
     "input": [
      "a.content_type=0; a.save()"
     ],
     "language": "python",
     "metadata": {},
     "outputs": [
      {
       "metadata": {},
       "output_type": "pyout",
       "prompt_number": 6,
       "text": [
        "<Article: Goodyear : derri\u00e8re la saga m\u00e9diatique, \u2026 (#52cda683a24639759269828d) from http://www.arretsurimages.net/chroniques/2014-01-08/Goodyear-derriere-la-saga-mediatique-le-bras-de-fer-oublie-sur-les-4X8-id6419>"
       ]
      }
     ],
     "prompt_number": 6
    },
    {
     "cell_type": "code",
     "collapsed": false,
     "input": [
      "a.fetch_content()"
     ],
     "language": "python",
     "metadata": {},
     "outputs": [
      {
       "output_type": "stream",
       "stream": "stderr",
       "text": [
        "Parsing text content for article Goodyear : derri\u00e8re la saga m\u00e9diatique, \u2026 (#52cda683a24639759269828d) from http://www.arretsurimages.net/chroniques/2014-01-08/Goodyear-derriere-la-saga-mediatique-le-bras-de-fer-oublie-sur-les-4X8-id6419\u2026\n"
       ]
      },
      {
       "output_type": "stream",
       "stream": "stderr",
       "text": [
        "Starting new HTTP connection (1): www.arretsurimages.net\n"
       ]
      },
      {
       "output_type": "stream",
       "stream": "stderr",
       "text": [
        "\"GET /chroniques/2014-01-08/Goodyear-derriere-la-saga-mediatique-le-bras-de-fer-oublie-sur-les-4X8-id6419 HTTP/1.1\" 200 15933\n"
       ]
      },
      {
       "output_type": "stream",
       "stream": "stderr",
       "text": [
        ">>> 7.000000: <xphp><p class=\"votecup\"></p><div class=\"outils-divers\"><a href=\"abonnements.php\n"
       ]
      },
      {
       "output_type": "stream",
       "stream": "stderr",
       "text": [
        ">>> 9.000000: <a class=\"typo-droite-titre info\" href=\"http://www.arretsurimages.net/breves/201\n"
       ]
      },
      {
       "output_type": "stream",
       "stream": "stderr",
       "text": [
        ">>> 7.000000: <a class=\"typo-droite-titre info\" href=\"http://www.arretsurimages.net/chroniques\n"
       ]
      },
      {
       "output_type": "stream",
       "stream": "stderr",
       "text": [
        ">>> 27.500000: <div class=\"bloc-contenu-7\"><p class=\"filet-blanc\"></p><div class=\"right-contenu\n"
       ]
      },
      {
       "output_type": "stream",
       "stream": "stderr",
       "text": [
        ">>> 37.500000: <div class=\"bloc-contenu-7 bloc-contenu-vite-7\"><p class=\"filet-blanc\"></p><div \n"
       ]
      },
      {
       "output_type": "stream",
       "stream": "stderr",
       "text": [
        ">>> 4.000000: <p class=\"typo-description\">Pas d'accord avec votre analyse Daniel.D'abord on ou\n"
       ]
      },
      {
       "output_type": "stream",
       "stream": "stderr",
       "text": [
        ">>> 30.000000: <div class=\"right-contenu\"><p class=\"typo-type-article\"> Chronique</p><a class=\"\n"
       ]
      },
      {
       "output_type": "stream",
       "stream": "stderr",
       "text": [
        ">>> 2.000000: <p><span class=\"inter-titre\"> Temps de travail en force</span></p>\n"
       ]
      },
      {
       "output_type": "stream",
       "stream": "stderr",
       "text": [
        ">>> 18.000000: <p>Aux c\u00f4t\u00e9s de cette envol\u00e9e de noms d\u2019oiseaux, l\u2019Assembl\u00e9e nationale a\n"
       ]
      },
      {
       "output_type": "stream",
       "stream": "stderr",
       "text": [
        ">>> 14.000000: <p>Est-ce la CGT qui a fait capoter toutes les discussions ou est-ce la directio\n"
       ]
      },
      {
       "output_type": "stream",
       "stream": "stderr",
       "text": [
        ">>> 14.000000: <p>Tout commence en 1995 quand la direction de Goodyear souhaite mettre en place\n"
       ]
      },
      {
       "output_type": "stream",
       "stream": "stderr",
       "text": [
        ">>> 24.000000: <div class=\"contenu-dup-1\"><a class=\"sujet typo-centre-dup-titre\" href=\"http://w\n"
       ]
      },
      {
       "output_type": "stream",
       "stream": "stderr",
       "text": [
        ">>> 25.000000: <div class=\"bloc-dup-1\"><p class=\"filet-blanc\"></p><div class=\"contenu-dup-1\"><a\n"
       ]
      },
      {
       "output_type": "stream",
       "stream": "stderr",
       "text": [
        ">>> 7.000000: <a class=\"typo-droite-titre info\" href=\"http://www.arretsurimages.net/articles/2\n"
       ]
      },
      {
       "output_type": "stream",
       "stream": "stderr",
       "text": [
        ">>> 32.500000: <div class=\"bloc-contenu-7 bloc-contenu-vite-7\"><p class=\"filet-blanc\"></p><div \n"
       ]
      },
      {
       "output_type": "stream",
       "stream": "stderr",
       "text": [
        ">>> 26.000000: <div class=\"right-contenu\"><p class=\"typo-type-article\"> Article</p><a class=\"ty\n"
       ]
      },
      {
       "output_type": "stream",
       "stream": "stderr",
       "text": [
        ">>> 8.000000: <a class=\"typo-droite-titre info\" href=\"http://www.arretsurimages.net/articles/2\n"
       ]
      },
      {
       "output_type": "stream",
       "stream": "stderr",
       "text": [
        ">>> 30.000000: <div class=\"bloc-contenu-7 bloc-contenu-vite-7\"><p class=\"filet-blanc\"></p><div \n"
       ]
      },
      {
       "output_type": "stream",
       "stream": "stderr",
       "text": [
        ">>> 5.000000: <a class=\"typo-droite-titre info\" href=\"http://www.arretsurimages.net/chroniques\n"
       ]
      },
      {
       "output_type": "stream",
       "stream": "stderr",
       "text": [
        ">>> 2.000000: <a href=\"http://picardie.france3.fr/2013/12/18/goodyear-amiens-nord-les-conclusi\n"
       ]
      },
      {
       "output_type": "stream",
       "stream": "stderr",
       "text": [
        ">>> 35.000000: <div class=\"bloc-contenu-7 bloc-contenu-emi-7\"><p class=\"filet-blanc\"></p><div c\n"
       ]
      },
      {
       "output_type": "stream",
       "stream": "stderr",
       "text": [
        ">>> 18.000000: <div class=\"contenu-dup-1\"><a class=\"sujet typo-centre-dup-titre\" href=\"http://w\n"
       ]
      },
      {
       "output_type": "stream",
       "stream": "stderr",
       "text": [
        ">>> 13.000000: <p>Durant des ann\u00e9es, la direction n\u2019en d\u00e9mord pas : les usines doivent pass\n"
       ]
      },
      {
       "output_type": "stream",
       "stream": "stderr",
       "text": [
        ">>> 5.000000: <a class=\"typo-droite-titre info\" href=\"http://www.arretsurimages.net/articles/2\n"
       ]
      },
      {
       "output_type": "stream",
       "stream": "stderr",
       "text": [
        ">>> 20.000000: <div id=\"dossier-bandeau-contenu\"><div class=\"element-bandeau\"><a href=\"http://w\n"
       ]
      },
      {
       "output_type": "stream",
       "stream": "stderr",
       "text": [
        ">>> 8.000000: <p>Pourquoi la direction de Goodyear a-t-elle alors mis en place une organisatio\n"
       ]
      },
      {
       "output_type": "stream",
       "stream": "stderr",
       "text": [
        ">>> 4.000000: <p class=\"typo-description\">J'ai toujours vot\u00e9 \u00e0 gauche !Je me suis toujours i\n"
       ]
      },
      {
       "output_type": "stream",
       "stream": "stderr",
       "text": [
        ">>> 32.500000: <div class=\"bloc-contenu-7 bloc-contenu-vite-7\"><p class=\"filet-blanc\"></p><div \n"
       ]
      },
      {
       "output_type": "stream",
       "stream": "stderr",
       "text": [
        ">>> 28.000000: <div class=\"right-contenu\"><p class=\"typo-type-article\">Vite-dit</p><a class=\"ty\n"
       ]
      },
      {
       "output_type": "stream",
       "stream": "stderr",
       "text": [
        ">>> 2.000000: <p id=\"motdepasse-oublie\">Vous avez oubli\u00e9 votre mot de passe ?</p>\n"
       ]
      },
      {
       "output_type": "stream",
       "stream": "stderr",
       "text": [
        ">>> 35.000000: <div class=\"bloc-contenu-7\"><p class=\"filet-blanc\"></p><div class=\"right-contenu\n"
       ]
      },
      {
       "output_type": "stream",
       "stream": "stderr",
       "text": [
        ">>> 18.000000: <p>Cela dit, convient cet expert, <em>\"les rythmes 3x8 et 4x8, fr\u00e9quents apr\u00e8s\n"
       ]
      },
      {
       "output_type": "stream",
       "stream": "stderr",
       "text": [
        ">>> 2.000000: <a class=\"sujet typo-centre-dup-titre\" href=\"http://www.arretsurimages.net/forum\n"
       ]
      },
      {
       "output_type": "stream",
       "stream": "stderr",
       "text": [
        ">>> 20.000000: <div class=\"right-contenu\"><p class=\"typo-type-article\"> Article</p><a class=\"ty\n"
       ]
      },
      {
       "output_type": "stream",
       "stream": "stderr",
       "text": [
        ">>> 28.000000: <div class=\"bloc-dup-1\"><p class=\"filet-blanc\"></p><div class=\"contenu-dup-1\"><a\n"
       ]
      },
      {
       "output_type": "stream",
       "stream": "stderr",
       "text": [
        ">>> 8.000000: <a class=\"typo-droite-titre info\" href=\"http://www.arretsurimages.net/emissions/\n"
       ]
      },
      {
       "output_type": "stream",
       "stream": "stderr",
       "text": [
        ">>> 24.000000: <div class=\"right-contenu\"><p class=\"typo-type-article\">Vite-dit</p><a class=\"ty\n"
       ]
      },
      {
       "output_type": "stream",
       "stream": "stderr",
       "text": [
        ">>> 24.000000: <div class=\"right-contenu\"><p class=\"typo-type-article\"> Article</p><a class=\"ty\n"
       ]
      },
      {
       "output_type": "stream",
       "stream": "stderr",
       "text": [
        ">>> 21.000000: <div class=\"contenu-dup-1\"><a class=\"sujet typo-centre-dup-titre\" href=\"http://w\n"
       ]
      },
      {
       "output_type": "stream",
       "stream": "stderr",
       "text": [
        ">>> 32.500000: <div class=\"bloc-contenu-7 bloc-contenu-chro-7\"><p class=\"filet-blanc\"></p><div \n"
       ]
      },
      {
       "output_type": "stream",
       "stream": "stderr",
       "text": [
        ">>> -4.000000: <div class=\"liens-doss\"><div id=\"nuage-tags\"><a href=\"/recherche.php?tag_id=114&\n"
       ]
      },
      {
       "output_type": "stream",
       "stream": "stderr",
       "text": [
        ">>> 31.000000: <div class=\"bloc-dup-1\"><p class=\"filet-blanc\"></p><div class=\"contenu-dup-1\"><a\n"
       ]
      },
      {
       "output_type": "stream",
       "stream": "stderr",
       "text": [
        ">>> 32.500000: <div class=\"bloc-contenu-7 bloc-contenu-emi-7\"><p class=\"filet-blanc\"></p><div c\n"
       ]
      },
      {
       "output_type": "stream",
       "stream": "stderr",
       "text": [
        ">>> 371.000000: <div class=\"contenu-html bg-page-contenu\"><p class=\"chapeau\">Une situation excep\n"
       ]
      },
      {
       "output_type": "stream",
       "stream": "stderr",
       "text": [
        ">>> 3.000000: <p><span class=\"inter-titre\">\"Le groupe voulait un m\u00eame mode de gestion partout\n"
       ]
      },
      {
       "output_type": "stream",
       "stream": "stderr",
       "text": [
        ">>> 7.000000: <a class=\"typo-droite-titre info\" href=\"http://www.arretsurimages.net/breves/201\n"
       ]
      },
      {
       "output_type": "stream",
       "stream": "stderr",
       "text": [
        ">>> 22.500000: <div id=\"dossier-bandeau\"><div id=\"dossier-bandeau-contenu\"><div class=\"element-\n"
       ]
      },
      {
       "output_type": "stream",
       "stream": "stderr",
       "text": [
        ">>> 12.000000: <p>Pourtant la d\u00e9put\u00e9e PS, publiquement, ne tient pas vraiment ce discours : p\n"
       ]
      },
      {
       "output_type": "stream",
       "stream": "stderr",
       "text": [
        ">>> 12.000000: <div class=\"outils-divers\"><a href=\"abonnements.php\"><img src=\"/images/icono/ico\n"
       ]
      },
      {
       "output_type": "stream",
       "stream": "stderr",
       "text": [
        ">>> 30.000000: <div class=\"bloc-contenu-7 bloc-contenu-chro-7\"><p class=\"filet-blanc\"></p><div \n"
       ]
      },
      {
       "output_type": "stream",
       "stream": "stderr",
       "text": [
        ">>> 8.000000: <p><em>\"Have a very Goodyear, Mister President !\" </em>lance un de nos abonn\u00e9s \n"
       ]
      },
      {
       "output_type": "stream",
       "stream": "stderr",
       "text": [
        ">>> 15.500000: <div class=\"outils-contenu\"><div class=\"addthis_toolbox\"><a class=\"addthis_butto\n"
       ]
      },
      {
       "output_type": "stream",
       "stream": "stderr",
       "text": [
        ">>> 6.000000: <a class=\"typo-droite-titre info\" href=\"http://www.arretsurimages.net/breves/201\n"
       ]
      },
      {
       "output_type": "stream",
       "stream": "stderr",
       "text": [
        ">>> 31.000000: <div id=\"titrage-contenu\"><span class=\"typo-type-article typo-chro\">chronique</s\n"
       ]
      },
      {
       "output_type": "stream",
       "stream": "stderr",
       "text": [
        ">>> 2.000000: <p>Ce contenu est accessible gratuitement pendant 24 heures. Partagez-le !</p>\n"
       ]
      },
      {
       "output_type": "stream",
       "stream": "stderr",
       "text": [
        ">>> 20.000000: <p>Les ouvriers de Goodyear luttent <a href=\"http://picardie.france3.fr/2014/01/\n"
       ]
      },
      {
       "output_type": "stream",
       "stream": "stderr",
       "text": [
        ">>> 19.000000: <div class=\"outils-contenu\"><div class=\"addthis_toolbox\"><a class=\"addthis_butto\n"
       ]
      },
      {
       "output_type": "stream",
       "stream": "stderr",
       "text": [
        ">>> 37.500000: <div class=\"bloc-contenu-7 bloc-contenu-chro-7\"><p class=\"filet-blanc\"></p><div \n"
       ]
      },
      {
       "output_type": "stream",
       "stream": "stderr",
       "text": [
        ">>> 8.000000: <a class=\"typo-droite-titre info\" href=\"http://www.arretsurimages.net/chroniques\n"
       ]
      },
      {
       "output_type": "stream",
       "stream": "stderr",
       "text": [
        ">>> 22.000000: <div class=\"right-contenu\"><p class=\"typo-type-article\">Vite-dit</p><a class=\"ty\n"
       ]
      },
      {
       "output_type": "stream",
       "stream": "stderr",
       "text": [
        ">>> 68.500000: <div class=\"bloc-dossier-4\"><a href=\"/dossier.php?id=303\"><img class=\"dossier-po\n"
       ]
      },
      {
       "output_type": "stream",
       "stream": "stderr",
       "text": [
        ">>> 22.000000: <div class=\"right-contenu\"><p class=\"typo-type-article\">Vite-dit</p><a class=\"ty\n"
       ]
      },
      {
       "output_type": "stream",
       "stream": "stderr",
       "text": [
        ">>> 28.000000: <div class=\"right-contenu\"><p class=\"typo-type-article\"> Chronique</p><a class=\"\n"
       ]
      },
      {
       "output_type": "stream",
       "stream": "stderr",
       "text": [
        ">>> 6.000000: <a class=\"typo-droite-titre info\" href=\"http://www.arretsurimages.net/chroniques\n"
       ]
      },
      {
       "output_type": "stream",
       "stream": "stderr",
       "text": [
        ">>> 77.000000: <div class=\"page-doss-contenu\"><p class=\"typo-description\">Des plantes vertes ou\n"
       ]
      },
      {
       "output_type": "stream",
       "stream": "stderr",
       "text": [
        ">>> 16.000000: <div class=\"info-cup\" id=\"eluparlaredaction\">Contenu reconnu d'Utilit\u00e9 Publique\n"
       ]
      },
      {
       "output_type": "stream",
       "stream": "stderr",
       "text": [
        ">>> 116.000000: <html><body><div><div id=\"wrap-connexion\"><p id=\"connexion\">Connectez-vous au si\n"
       ]
      },
      {
       "output_type": "stream",
       "stream": "stderr",
       "text": [
        ">>> 21.000000: <p><em>\"S\u00e9questrer un patron, \u00e7a arrive de temps en temps quand les ouvriers n\n"
       ]
      },
      {
       "output_type": "stream",
       "stream": "stderr",
       "text": [
        ">>> 2.000000: <a href=\"http://www.bfmtv.com/economie/goodyear-arnaud-montebourg-maurice-taylor\n"
       ]
      },
      {
       "output_type": "stream",
       "stream": "stderr",
       "text": [
        ">>> 8.000000: <a class=\"typo-droite-titre info\" href=\"http://www.arretsurimages.net/emissions/\n"
       ]
      },
      {
       "output_type": "stream",
       "stream": "stderr",
       "text": [
        ">>> 6.000000: <a class=\"typo-droite-titre info\" href=\"http://www.arretsurimages.net/breves/200\n"
       ]
      },
      {
       "output_type": "stream",
       "stream": "stderr",
       "text": [
        ">>> 24.000000: <div class=\"right-contenu\"><p class=\"typo-type-article\">Vite-dit</p><a class=\"ty\n"
       ]
      },
      {
       "output_type": "stream",
       "stream": "stderr",
       "text": [
        ">>> 622.500000: <div id=\"pagecontainer\"><div id=\"maincontent\"><div id=\"col_main\"><div class=\"blo\n"
       ]
      },
      {
       "output_type": "stream",
       "stream": "stderr",
       "text": [
        ">>> 9.000000: <a class=\"typo-droite-titre info\" href=\"http://www.arretsurimages.net/chroniques\n"
       ]
      },
      {
       "output_type": "stream",
       "stream": "stderr",
       "text": [
        ">>> 20.000000: <div class=\"right-contenu\"><p class=\"typo-type-article\"> Chronique</p><a class=\"\n"
       ]
      },
      {
       "output_type": "stream",
       "stream": "stderr",
       "text": [
        ">>> 10.000000: <a class=\"typo-droite-titre info\" href=\"http://www.arretsurimages.net/chroniques\n"
       ]
      },
      {
       "output_type": "stream",
       "stream": "stderr",
       "text": [
        ">>> 7.000000: <a class=\"typo-droite-titre info\" href=\"http://www.arretsurimages.net/breves/201\n"
       ]
      },
      {
       "output_type": "stream",
       "stream": "stderr",
       "text": [
        ">>> 40.000000: <div class=\"bloc-contenu-7 bloc-contenu-chro-7\"><p class=\"filet-blanc\"></p><div \n"
       ]
      },
      {
       "output_type": "stream",
       "stream": "stderr",
       "text": [
        ">>> 360.500000: <body><div><div id=\"wrap-connexion\"><p id=\"connexion\">Connectez-vous au site</p>\n"
       ]
      },
      {
       "output_type": "stream",
       "stream": "stderr",
       "text": [
        ">>> 2.000000: <p><span class=\"inter-titre\">4x8 : on mange \u00e0 n'importe quelle heure</span></p>\n"
       ]
      },
      {
       "output_type": "stream",
       "stream": "stderr",
       "text": [
        ">>> 32.500000: <div class=\"bloc-contenu-7\"><p class=\"filet-blanc\"></p><div class=\"right-contenu\n"
       ]
      },
      {
       "output_type": "stream",
       "stream": "stderr",
       "text": [
        ">>> 35.000000: <div class=\"bloc-contenu-7 bloc-contenu-emi-7\"><p class=\"filet-blanc\"></p><div c\n"
       ]
      },
      {
       "output_type": "stream",
       "stream": "stderr",
       "text": [
        ">>> 2.000000: <a href=\"http://www.arretsurimages.net/dossier.php?id=303\">Retour au sommaire du\n"
       ]
      },
      {
       "output_type": "stream",
       "stream": "stderr",
       "text": [
        ">>> 23.000000: <p>En \u00e9coutant les salari\u00e9s qui travaillent en 4x8, on comprend mieux pourquoi\n"
       ]
      },
      {
       "output_type": "stream",
       "stream": "stderr",
       "text": [
        ">>> 472.000000: <div id=\"col_right\"><a class=\"lnk-abo\" href=\"/abonnements.php\" title=\"Abonnez-vo\n"
       ]
      },
      {
       "output_type": "stream",
       "stream": "stderr",
       "text": [
        ">>> 14.000000: <div id=\"wrap-oubli\"><p id=\"motdepasse-oublie\">Vous avez oubli\u00e9 votre mot de pa\n"
       ]
      },
      {
       "output_type": "stream",
       "stream": "stderr",
       "text": [
        ">>> 91.000000: <div class=\"dossier-contenu-4\"><a class=\"typo-titre-page-doss\" href=\"/dossier.ph\n"
       ]
      },
      {
       "output_type": "stream",
       "stream": "stderr",
       "text": [
        ">>> 750.000000: <div id=\"maincontent\"><div id=\"col_main\"><div class=\"bloc-dossier-4\"><a href=\"/d\n"
       ]
      },
      {
       "output_type": "stream",
       "stream": "stderr",
       "text": [
        ">>> 22.000000: <div class=\"right-contenu\"><p class=\"typo-type-article\"> Chronique</p><a class=\"\n"
       ]
      },
      {
       "output_type": "stream",
       "stream": "stderr",
       "text": [
        ">>> 26.000000: <div class=\"right-contenu\"><p class=\"typo-type-article\"> \u00c9mission</p><a class=\"\n"
       ]
      },
      {
       "output_type": "stream",
       "stream": "stderr",
       "text": [
        ">>> 343.000000: <div class=\"bloc-bande-contenu bloc-bande-contenu-chro\"><p class=\"filet-blanc\"><\n"
       ]
      },
      {
       "output_type": "stream",
       "stream": "stderr",
       "text": [
        ">>> 415.500000: <div id=\"col_main\"><div class=\"bloc-dossier-4\"><a href=\"/dossier.php?id=303\"><im\n"
       ]
      },
      {
       "output_type": "stream",
       "stream": "stderr",
       "text": [
        ">>> 30.000000: <div class=\"bloc-contenu-7 bloc-contenu-vite-7\"><p class=\"filet-blanc\"></p><div \n"
       ]
      },
      {
       "output_type": "stream",
       "stream": "stderr",
       "text": [
        ">>> 12.000000: <div class=\"outils-divers\"><a href=\"http://www.arretsurimages.net/abonnements.ph\n"
       ]
      },
      {
       "output_type": "stream",
       "stream": "stderr",
       "text": [
        ">>> 6.000000: <a class=\"typo-droite-titre info\" href=\"http://www.arretsurimages.net/breves/201\n"
       ]
      },
      {
       "output_type": "stream",
       "stream": "stderr",
       "text": [
        ">>> 22.000000: <div class=\"right-contenu\"><p class=\"typo-type-article\">Vite-dit</p><a class=\"ty\n"
       ]
      },
      {
       "output_type": "stream",
       "stream": "stderr",
       "text": [
        ">>> 32.500000: <div class=\"bloc-contenu-7 bloc-contenu-vite-7\"><p class=\"filet-blanc\"></p><div \n"
       ]
      },
      {
       "output_type": "stream",
       "stream": "stderr",
       "text": [
        ">>> 2.000000: <a href=\"http://ouvalacgt.over-blog.com/article-22891115.html\" target=\"_blank\">l\n"
       ]
      },
      {
       "output_type": "stream",
       "stream": "stderr",
       "text": [
        ">>> 35.000000: <div class=\"bloc-contenu-7 bloc-contenu-chro-7\"><p class=\"filet-blanc\"></p><div \n"
       ]
      },
      {
       "output_type": "stream",
       "stream": "stderr",
       "text": [
        ">>> 8.000000: <p>Pourtant, au-del\u00e0 des batailles syndicales et politiques parfaitement bien <\n"
       ]
      },
      {
       "output_type": "stream",
       "stream": "stderr",
       "text": [
        ">>> 7.000000: <a class=\"typo-droite-titre info\" href=\"http://www.arretsurimages.net/breves/201\n"
       ]
      },
      {
       "output_type": "stream",
       "stream": "stderr",
       "text": [
        ">>> 4.000000: <p class=\"typo-description\">Il y a les indign\u00e9s consensuels et les autres\u0085",
        "\n",
        "\n",
        "\n",
        "\n",
        "\n",
        "\n",
        "\n",
        ". Le\n"
       ]
      },
      {
       "output_type": "stream",
       "stream": "stderr",
       "text": [
        ">>> 8.000000: <p class=\"typo-description\">Des plantes vertes ou des boulons renvers\u00e9s, des t\ufffd\n"
       ]
      },
      {
       "output_type": "stream",
       "stream": "stderr",
       "text": [
        ">>> 397.500000: <div class=\"container-contenu-html-chro\" id=\"container-contenu-html\"><div id=\"ti\n"
       ]
      },
      {
       "output_type": "stream",
       "stream": "stderr",
       "text": [
        ">>> 26.000000: <div class=\"right-contenu\"><p class=\"typo-type-article\"> \u00c9mission</p><a class=\"\n"
       ]
      },
      {
       "output_type": "stream",
       "stream": "stderr",
       "text": [
        ">>> 24.000000: <div class=\"right-contenu\"><p class=\"typo-type-article\"> Chronique</p><a class=\"\n"
       ]
      },
      {
       "output_type": "stream",
       "stream": "stderr",
       "text": [
        ">>> 26.000000: <div class=\"right-contenu\"><p class=\"typo-type-article\"> Chronique</p><a class=\"\n"
       ]
      },
      {
       "output_type": "stream",
       "stream": "stderr",
       "text": [
        ">>> 20.000000: <div><div id=\"wrap-connexion\"><p id=\"connexion\">Connectez-vous au site</p><div c\n"
       ]
      },
      {
       "output_type": "stream",
       "stream": "stderr",
       "text": [
        ">>> 4.000000: <a class=\"sujet typo-centre-dup-titre\" href=\"http://www.arretsurimages.net/forum\n"
       ]
      },
      {
       "output_type": "stream",
       "stream": "stderr",
       "text": [
        ">>> 9.000000: <p class=\"chapeau\">Une situation exceptionnelle : ainsi se conclut le rapport d\ufffd\n"
       ]
      },
      {
       "output_type": "stream",
       "stream": "stderr",
       "text": [
        ">>> 53.000000: <a class=\"typo-titre-page-doss\" href=\"/dossier.php?id=303\">ouvriers, et autres i\n"
       ]
      },
      {
       "output_type": "stream",
       "stream": "stderr",
       "text": [
        ">>> 24.000000: <div class=\"right-contenu\"><p class=\"typo-type-article\">Vite-dit</p><a class=\"ty\n"
       ]
      },
      {
       "output_type": "stream",
       "stream": "stderr",
       "text": [
        ">>> 14.000000: <div class=\"element-bandeau\"><a href=\"http://www.arretsurimages.net/dossier.php?\n"
       ]
      },
      {
       "output_type": "stream",
       "stream": "stderr",
       "text": [
        ">>> 30.000000: <div class=\"bloc-contenu-7 bloc-contenu-vite-7\"><p class=\"filet-blanc\"></p><div \n"
       ]
      },
      {
       "output_type": "stream",
       "stream": "stderr",
       "text": [
        ">>> 7.000000: <a class=\"typo-droite-titre info\" href=\"http://www.arretsurimages.net/emissions/\n"
       ]
      },
      {
       "output_type": "stream",
       "stream": "stderr",
       "text": [
        ">>> 24.000000: <div class=\"right-contenu\"><p class=\"typo-type-article\"> \u00c9mission</p><a class=\"\n"
       ]
      },
      {
       "output_type": "stream",
       "stream": "stderr",
       "text": [
        ">>> -38.000000: <div id=\"footer-contenu\">Par <a href=\"/recherche.php?auteur_id=20&amp;in_dossier\n"
       ]
      },
      {
       "output_type": "stream",
       "stream": "stderr",
       "text": [
        ">>> -37.000000: <div id=\"nuage-tags\"><a href=\"/recherche.php?tag_id=114&amp;in_dossiers=true&amp\n"
       ]
      },
      {
       "output_type": "stream",
       "stream": "stderr",
       "text": [
        ">>> 27.500000: <div class=\"bloc-contenu-7 bloc-contenu-chro-7\"><p class=\"filet-blanc\"></p><div \n"
       ]
      },
      {
       "output_type": "stream",
       "stream": "stderr",
       "text": [
        "Converting article Goodyear : derri\u00e8re la saga m\u00e9diatique, \u2026 (#52cda683a24639759269828d) from http://www.arretsurimages.net/chroniques/2014-01-08/Goodyear-derriere-la-saga-mediatique-le-bras-de-fer-oublie-sur-les-4X8-id6419 to markdown\u2026\n"
       ]
      },
      {
       "output_type": "stream",
       "stream": "stderr",
       "text": [
        "Article.find_image() needs love, disabled for now.\n"
       ]
      },
      {
       "output_type": "stream",
       "stream": "stderr",
       "text": [
        "Done parsing content for article Goodyear : derri\u00e8re la saga m\u00e9diatique, \u2026 (#52cda683a24639759269828d) from http://www.arretsurimages.net/chroniques/2014-01-08/Goodyear-derriere-la-saga-mediatique-le-bras-de-fer-oublie-sur-les-4X8-id6419.\n"
       ]
      }
     ],
     "prompt_number": 7
    },
    {
     "cell_type": "code",
     "collapsed": false,
     "input": [],
     "language": "python",
     "metadata": {},
     "outputs": []
    }
   ],
   "metadata": {}
  }
 ]
}