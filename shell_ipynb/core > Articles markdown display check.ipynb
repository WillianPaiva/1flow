{
 "metadata": {
  "name": ""
 },
 "nbformat": 3,
 "nbformat_minor": 0,
 "worksheets": [
  {
   "cells": [
    {
     "cell_type": "markdown",
     "metadata": {},
     "source": [
      "# Python imports and definitions"
     ]
    },
    {
     "cell_type": "code",
     "collapsed": false,
     "input": [
      "from oneflow.core.models.nonrel import *\n",
      "\n",
      "from IPython.display import display_pretty, display_html, display_jpeg, display_png, display_json, display_latex, display_svg\n",
      "from markdown_deux.templatetags.markdown_deux_tags import markdown_filter\n",
      "\n",
      "def markdown(thing):\n",
      "    display_html(markdown_filter(thing), raw=True)"
     ],
     "language": "python",
     "metadata": {},
     "outputs": [
      {
       "output_type": "stream",
       "stream": "stderr",
       "text": [
        "Django found.\n"
       ]
      },
      {
       "output_type": "stream",
       "stream": "stderr",
       "text": [
        "Django found and fields and widgets loaded.\n"
       ]
      }
     ],
     "prompt_number": 1
    },
    {
     "cell_type": "markdown",
     "metadata": {},
     "source": [
      "# Markdown content display"
     ]
    },
    {
     "cell_type": "code",
     "collapsed": false,
     "input": [
      "article = Article.objects.get(id='51c66307e7a05b27f68eb9f8')"
     ],
     "language": "python",
     "metadata": {},
     "outputs": [],
     "prompt_number": 4
    },
    {
     "cell_type": "code",
     "collapsed": false,
     "input": [
      "article.content"
     ],
     "language": "python",
     "metadata": {},
     "outputs": [
      {
       "output_type": "pyout",
       "prompt_number": 6,
       "text": [
        "u'<p>Venkatesh Srinivas did <a href=\"http://leaf.dragonflybsd.org/mailarchive/kernel/2011-02/msg00039.html\">a comparison</a> of the default scheduler in DragonFly with the \\u201cfairqueue\\u201d scheduler, using <a href=\"http://users.on.net/~ckolivas/interbench/\">Interbench</a>, the \\u201cinteractivity benchmark\\u201d.\\xa0 The numbers don\\u2019t show a deficit relative to either side, which is OK I guess?\\xa0 I\\u2019m not sure how to analyze it.</p>'"
       ]
      }
     ],
     "prompt_number": 6
    },
    {
     "cell_type": "code",
     "collapsed": false,
     "input": [
      "article.convert_to_markdown()"
     ],
     "language": "python",
     "metadata": {},
     "outputs": [
      {
       "output_type": "stream",
       "stream": "stderr",
       "text": [
        "Article Scheduling, fair or not (#51c66307e7a05b27f68eb9f8) from http://www.shiningsilence.com/dbsdlog/2011/02/22/7306.html cannot be converted to Markdown, it is not currently HTML.\n"
       ]
      }
     ],
     "prompt_number": 7
    },
    {
     "cell_type": "code",
     "collapsed": false,
     "input": [
      "article.content_type"
     ],
     "language": "python",
     "metadata": {},
     "outputs": [
      {
       "output_type": "pyout",
       "prompt_number": 8,
       "text": [
        "0"
       ]
      }
     ],
     "prompt_number": 8
    },
    {
     "cell_type": "code",
     "collapsed": false,
     "input": [
      "article.fetch_content()"
     ],
     "language": "python",
     "metadata": {},
     "outputs": [
      {
       "output_type": "stream",
       "stream": "stderr",
       "text": [
        "Parsing text content for article Scheduling, fair or not (#51c66307e7a05b27f68eb9f8) from http://www.shiningsilence.com/dbsdlog/2011/02/22/7306.html\u2026\n"
       ]
      },
      {
       "output_type": "stream",
       "stream": "stderr",
       "text": [
        "Starting new HTTP connection (1): www.shiningsilence.com\n"
       ]
      },
      {
       "output_type": "stream",
       "stream": "stderr",
       "text": [
        "\"GET /dbsdlog/2011/02/22/7306.html HTTP/1.1\" 200 None\n"
       ]
      },
      {
       "output_type": "stream",
       "stream": "stderr",
       "text": [
        ">>> -37.000000: <div id=\"footer\"><hr/><p><a href=\"http://www.shiningsilence.com/dbsdlog\">DragonF\n"
       ]
      },
      {
       "output_type": "stream",
       "stream": "stderr",
       "text": [
        ">>> 7.000000: <html xmlns=\"http://www.w3.org/1999/xhtml\"><body><div id=\"container\"><div id=\"pa\n"
       ]
      },
      {
       "output_type": "stream",
       "stream": "stderr",
       "text": [
        ">>> 24.500000: <body><div id=\"container\"><div id=\"page\"><div id=\"content\"><div class=\"post-7306\n"
       ]
      },
      {
       "output_type": "stream",
       "stream": "stderr",
       "text": [
        ">>> 2.000000: <ul><li><a href=\"http://wordpress.org\" title=\"WordPress Engine\">WordPress</a> |<\n"
       ]
      },
      {
       "output_type": "stream",
       "stream": "stderr",
       "text": [
        ">>> 7.000000: <p>Venkatesh Srinivas did <a href=\"http://leaf.dragonflybsd.org/mailarchive/kern\n"
       ]
      },
      {
       "output_type": "stream",
       "stream": "stderr",
       "text": [
        ">>> 2.000000: <li><a href=\"http://wordpress.org\" title=\"WordPress Engine\">WordPress</a> |<span\n"
       ]
      },
      {
       "output_type": "stream",
       "stream": "stderr",
       "text": [
        ">>> 333.500000: <div class=\"post-7306 post type-post status-publish format-standard hentry categ\n"
       ]
      },
      {
       "output_type": "stream",
       "stream": "stderr",
       "text": [
        ">>> 177.000000: <div id=\"page\"><div id=\"content\"><div class=\"post-7306 post type-post status-pub\n"
       ]
      },
      {
       "output_type": "stream",
       "stream": "stderr",
       "text": [
        ">>> 124.000000: <div class=\"entry-content\"><p>Venkatesh Srinivas did <a href=\"http://leaf.dragon\n"
       ]
      },
      {
       "output_type": "stream",
       "stream": "stderr",
       "text": [
        ">>> 238.000000: <div id=\"content\"><div class=\"post-7306 post type-post status-publish format-sta\n"
       ]
      },
      {
       "output_type": "stream",
       "stream": "stderr",
       "text": [
        ">>> 59.500000: <div id=\"container\"><div id=\"page\"><div id=\"content\"><div class=\"post-7306 post \n"
       ]
      },
      {
       "output_type": "stream",
       "stream": "stderr",
       "text": [
        "/home/1flow/.virtualenvs/1flow/local/lib/python2.7/site-packages/mongoengine/base/fields.py:113: UnicodeWarning: Unicode unequal comparison failed to convert both arguments to Unicode - interpreting them as being unequal\n",
        "  instance._data[self.name] != value):\n",
        "\n"
       ]
      },
      {
       "output_type": "stream",
       "stream": "stderr",
       "text": [
        "Converting article Scheduling, fair or not (#51c66307e7a05b27f68eb9f8) from http://www.shiningsilence.com/dbsdlog/2011/02/22/7306.html to markdown\u2026\n"
       ]
      },
      {
       "output_type": "stream",
       "stream": "stderr",
       "text": [
        "Done parsing content for article Scheduling, fair or not (#51c66307e7a05b27f68eb9f8) from http://www.shiningsilence.com/dbsdlog/2011/02/22/7306.html.\n"
       ]
      }
     ],
     "prompt_number": 9
    },
    {
     "cell_type": "code",
     "collapsed": false,
     "input": [
      "markdown(article.content)"
     ],
     "language": "python",
     "metadata": {},
     "outputs": [
      {
       "html": [
        "<p>02/22/2011</p>\n",
        "\n",
        "<p>Venkatesh Srinivas did <a href=\"http://leaf.dragonflybsd.org/mailarchive\n",
        "/kernel/2011-02/msg00039.html\">a comparison</a> of the default scheduler in DragonFly with the\n",
        "\u201cfairqueue\u201d scheduler, using\n",
        "<a href=\"http://users.on.net/~ckolivas/interbench/\">Interbench</a>, the \u201cinteractivity\n",
        "benchmark\u201d.\u00a0 The numbers don\u2019t show a deficit relative to either side, which\n",
        "is OK I guess?\u00a0 I\u2019m not sure how to analyze it.</p>\n"
       ],
       "output_type": "display_data"
      }
     ],
     "prompt_number": 22
    },
    {
     "cell_type": "markdown",
     "metadata": {},
     "source": [
      "## En portugais"
     ]
    },
    {
     "cell_type": "code",
     "collapsed": false,
     "input": [
      "article = Article.objects.get(id='51cbefd4e7a05b27f6c9db68')\n",
      "markdown(article.content)"
     ],
     "language": "python",
     "metadata": {},
     "outputs": [
      {
       "html": [
        "<p>Ter, 25/06/2013 \u00e0s 12:12</p>\n",
        "\n",
        "<h2>IDV prev\u00ea alta de 6,4% a 8,3% nas vendas at\u00e9 agosto</h2>\n",
        "\n",
        "<p>Dayanne Sousa | Ag\u00eancia Estado</p>\n",
        "\n",
        "<p><a href=\"http://www.faceboo\n",
        "k.com/sharer.php?u=http://atarde.uol.com.br/economia/materias/1513513-idv-\n",
        "preve-alta-de-64-a-83-nas-vendas-ate-agosto\"><img src=\"http://fw.atarde.uol.com.br/fw/img/2012/01/btnFb.jpg\" alt=\"\" /></a></p>\n",
        "\n",
        "<p>coment\u00e1rios (0)</p>\n",
        "\n",
        "<p>-AA+</p>\n",
        "\n",
        "<p>O Instituto para o Desenvolvimento do Varejo (IDV) espera recupera\u00e7\u00e3o das\n",
        "vendas no varejo nos pr\u00f3ximos meses. O \u00cdndice Antecedente de Vendas (IAV),\n",
        "calculado pelo Instituto, aponta para altas de 6,4% a 8,3% entre junho e\n",
        "agosto. Tamb\u00e9m aponta para um restabelecimento do volume de vendas de bens n\u00e3o\n",
        "dur\u00e1veis a partir de maio. O consumo vinha sendo prejudicado pela infla\u00e7\u00e3o de\n",
        "alimentos. Para junho, o Instituto espera crescimento de 5,6% desse segmento\n",
        "ante o mesmo m\u00eas do ano anterior.</p>\n",
        "\n",
        "<p>Os semidur\u00e1veis comp\u00f5em o grupo com desempenho mais constante no per\u00edodo. Os\n",
        "associados do IDV falam em uma alta de 9,7% em junho e de 9,4% em julho. Para\n",
        "o setor de bens dur\u00e1veis, a estimativa \u00e9 de 5,2% para junho e o mesmo \u00edndice\n",
        "para julho.</p>\n",
        "\n",
        "<p>As perspectivas positivas para as vendas de grandes varejistas associadas ao\n",
        "IDV n\u00e3o consideram os poss\u00edveis impactos da recente alta do d\u00f3lar ante o real\n",
        "nem perdas com as manifesta\u00e7\u00f5es em diversas cidades brasileiras na \u00faltima\n",
        "semana.</p>\n",
        "\n",
        "<p>Marcos Gouv\u00eaa, fundador e diretor-geral da GS&amp;MD, consultoria respons\u00e1vel pela\n",
        "compila\u00e7\u00e3o dos dados, destaca que a coleta foi anterior ao crescimento das\n",
        "manifesta\u00e7\u00f5es e \u00e0 alta do c\u00e2mbio. \"Fosse esse dado apurado esta semana, a\n",
        "proje\u00e7\u00e3o para julho e agosto seria um pouco mais cautelosa\", destacou. Apesar\n",
        "disso, ele ponderou que \u00e9 dif\u00edcil estimar com precis\u00e3o qual o impacto dos dois\n",
        "eventos no varejo.</p>\n",
        "\n",
        "<p>Fl\u00e1vio Rocha, presidente do IDV e da Guararapes/Riachuelo, afirmou que as\n",
        "lojas da rede de varejo t\u00eaxtil funcionaram apenas 90% do tempo que normalmente\n",
        "funcionariam durante a \u00faltima semana. Ele ponderou que, al\u00e9m do tempo perdido,\n",
        "h\u00e1 um impacto ainda maior por causa da perda de confian\u00e7a do consumidor. Rocha\n",
        "destacou ainda que uma das lojas em shopping de Natal chegou a correr risco de\n",
        "depreda\u00e7\u00e3o durante manifesta\u00e7\u00e3o na cidade, mas que foi protegida por\n",
        "seguran\u00e7as.</p>\n",
        "\n",
        "<p>Apesar de destacarem as incertezas, Rocha e Gouv\u00eaa sustentaram que acreditam\n",
        "na recupera\u00e7\u00e3o do volume de vendas nos pr\u00f3ximos meses. Em maio, as vendas do\n",
        "varejo ficaram abaixo do esperado, com alta de 4,4% segundo o IDV. Os\n",
        "executivos destacaram o impacto de um Dia das M\u00e3es mais fraco do que o\n",
        "esperado.</p>\n",
        "\n",
        "<p>Na opini\u00e3o de Fernando de Castro, vice-presidente do IDV, maio tamb\u00e9m foi o\n",
        "per\u00edodo em que aumentou a incerteza dos consumidores quanto a renda, emprego e\n",
        "infla\u00e7\u00e3o. Na opini\u00e3o dele, por\u00e9m, foi uma rea\u00e7\u00e3o imediata e as compras da\n",
        "fam\u00edlias devem voltar conforme as pessoas se acostumem com o atual ambiente\n",
        "macroecon\u00f4mico.</p>\n",
        "\n",
        "<p>&lt;&gt;</p>\n"
       ],
       "output_type": "display_data"
      }
     ],
     "prompt_number": 5
    },
    {
     "cell_type": "code",
     "collapsed": false,
     "input": [
      "rue89 = Feed.objects.get(id='51c66183e7a05b27f68ce43c')"
     ],
     "language": "python",
     "metadata": {},
     "outputs": [],
     "prompt_number": 6
    },
    {
     "cell_type": "code",
     "collapsed": false,
     "input": [
      "a = rue89.latest_article"
     ],
     "language": "python",
     "metadata": {},
     "outputs": [],
     "prompt_number": 7
    },
    {
     "cell_type": "code",
     "collapsed": false,
     "input": [
      "markdown(a.content)"
     ],
     "language": "python",
     "metadata": {},
     "outputs": [
      {
       "html": [
        "<h3>Depuis huit ans, Frelontin est au bord des routes du Tour de France avec</h3>\n",
        "\n",
        "<p>le m\u00eame accoutrement. Derri\u00e8re le masque, il y a Jean-Pierre, un retrait\u00e9\n",
        "d\u00e9lur\u00e9 \u00e0 la recherche de popularit\u00e9.</p>\n",
        "\n",
        "<p><a href=\"http://blogs.rue89.com/sites/blogs/files/assets/image/2013/07\n",
        "/le_tour_en_tetes_frelontin-1_0.jpg\"><img src=\"data:image/gif;base64,R0lGODlhAQABAAAAACH5BAEKAAEALAAAAAABAAEAAAICTAEAOw=\n",
        "=\" alt=\"\" /></a></p>\n",
        "\n",
        "<p>Frelontin, \u00ab\u00a0embl\u00e8me du Tour\u00a0\u00bb depuis 8\u00a0ans. (@Le Tour en T\u00eates)</p>\n",
        "\n",
        "<p>La rencontre peut d\u00e9stabiliser. Post\u00e9 au bord d\u2019une route de campagne, la sono\n",
        "crachant de l\u2019accord\u00e9on, Jean-Pierre est l\u00e0, tout de plastique jaune et noir\n",
        "v\u00eatu.</p>\n",
        "\n",
        "<p>\u00c0 chaque passage de cyclistes, avec la r\u00e9gularit\u00e9 d\u2019un sportif de haut niveau,\n",
        "le rituel est le m\u00eame pour se mettre en position. Jambes \u00e9cart\u00e9es, genoux\n",
        "fl\u00e9chis, la tapette \u00e0 mouches dans une main, le V de la victoire avec les\n",
        "doigts de l\u2019autre, il agite les bras, statique.</p>\n",
        "\n",
        "<p>\u00c0 l\u2019int\u00e9rieur de sa caravane, peluches, dessins et photos envahissent\n",
        "l\u2019espace. Le d\u00e9guisement encombre la totalit\u00e9 du minuscule matelas. Le frelon\n",
        "et Jean-Pierre, c\u2019est une histoire fusionnelle.</p>\n",
        "\n",
        "<p>Une fois le costume enfil\u00e9, il devient \u00ab\u00a0Frelontin\u00a0\u00bb, plus question de\n",
        "l\u2019appeler par son pr\u00e9nom. Tr\u00e8s peu de personnes connaissent son nom de\n",
        "famille. M\u00eame sa femme se pr\u00e9sente comme \u00ab\u00a0Madame Frelontin\u00a0\u00bb. Un personnage\n",
        "fictif qui a pris une importance envahissante dans sa vie r\u00e9elle.</p>\n",
        "\n",
        "<p>Depuis huit ans, Jean-Pierre parcourt les routes des courses cyclistes\n",
        "fran\u00e7aises \u00e0 bord de sa caravane tapiss\u00e9e de l\u2019univers du petit insecte\n",
        "bourdonnant. Paris-Nice, Paris-Roubaix, Tour du Poitou-Charentes \u2026 Pour cet\n",
        "ancien cycliste, le Tour de France le moment-cl\u00e9\u00a0: il faut s\u2019y montrer sur un\n",
        "maximum d\u2019\u00e9tapes.</p>\n",
        "\n",
        "<p><a href=\"http://blogs.rue89.com/sites/blogs/files/assets/image/2013/07\n",
        "/le_tour_en_tetes_frelontin-7le_tour_en_tetes_frelontin-7.jpg\"><img src=\"data:image/gif;base64,R0lGODlhAQABAAAAACH5BAEKAAEALAAAAAABAAEAAAICTAEAOw=\n",
        "=\" alt=\"\" /></a></p>\n",
        "\n",
        "<p>A l\u2019int\u00e9rieur comme \u00e0 l\u2019ext\u00e9rieur du camping-car, Jean-Pierre et Frelontin ne\n",
        "font qu\u2019un. (@Le Tour en T\u00eates)</p>\n",
        "\n",
        "<p>Pas la peine de chercher une quelconque logique dans le choix de son\n",
        "personnage. Apr\u00e8s avoir pos\u00e9 la question une bonne dizaine de fois, la r\u00e9ponse\n",
        "est toujours la m\u00eame\u00a0:</p>\n",
        "\n",
        "<blockquote>\n",
        "  <p>\u00ab\u00a0Dans mon grenier, j\u2019avais un niz de frelons pendant plusieurs mois sans\n",
        "  m\u2019en rendre compte. Je voyais les frelons passer au-dessus de moi pour rentrer\n",
        "  dans le toit. Mais je ne me suis jamais fait piquer.</p>\n",
        "</blockquote>\n",
        "\n",
        "<p>&gt;</p>\n",
        "\n",
        "<blockquote>\n",
        "  <p>\u00c7a n\u2019attaque pas un frelon, il faut l\u2019emb\u00eater pour se faire attaquer.</p>\n",
        "</blockquote>\n",
        "\n",
        "<p>&gt;</p>\n",
        "\n",
        "<blockquote>\n",
        "  <p>Les pompiers sont venus et nous ont dit que si on avait attendu deux jours\n",
        "  de plus, des milliers de frelons seraient sortis. Mais peut-\u00eatre qu\u2019on aurait\n",
        "  pas \u00e9t\u00e9 attaqu\u00e9s. Alors je me suis dit qu\u2019il y avait un th\u00e8me rigolo \u00e0 creuser\n",
        "  avec le frelon, mais autour du Tour de France.\u00a0\u00bb</p>\n",
        "</blockquote>\n",
        "\n",
        "<p>Implacable. Martine, sa femme, a une explication plus esth\u00e9tique\u00a0:</p>\n",
        "\n",
        "<blockquote>\n",
        "  <p>\u00ab\u00a0C\u2019est surtout la beaut\u00e9 de l\u2019insecte qui l\u2019a inspir\u00e9. C\u2019est assez\n",
        "  majestueux un frelon.\u00a0\u00bb</p>\n",
        "</blockquote>\n",
        "\n",
        "<h2>Plastique et bonne humeur</h2>\n",
        "\n",
        "<p>La premi\u00e8re ann\u00e9e, \u00e0 l\u2019Alpe d\u2019Huez, Jean-Pierre se contente d\u2019embarquer sur le\n",
        "toit de sa voiture un frelon \u00e0 v\u00e9lo par\u00e9 du maillot jaune. Face au \u00ab\u00a0succ\u00e8s\u00a0\u00bb\n",
        "de son personnage, il d\u00e9cide d\u2019aller plus loin, et commence \u00e0 se d\u00e9guiser avec\n",
        "des bo\u00eetes en carton.</p>\n",
        "\n",
        "<p>Pas tr\u00e8s r\u00e9sistant, il finit par opter pour le plastique. Quelques coups de\n",
        "peinture et trois semaines de travail plus tard, Frelontin est n\u00e9\u00a0:</p>\n",
        "\n",
        "<blockquote>\n",
        "  <p>\u00ab\u00a0Mon but, c\u2019est donner du plaisir aux gens. \u00c0 chaque fois que le Tour de\n",
        "  France arrive, on parle de dopage. Les gens se fichent de \u00e7a\u00a0; dop\u00e9 ou pas\n",
        "  dop\u00e9, il faut le faire. Je suis l\u00e0 pour remettre un peu de gaiet\u00e9 dans tout\n",
        "  \u00e7a.\u00a0\u00bb</p>\n",
        "</blockquote>\n",
        "\n",
        "<p><a href=\"http://blogs.rue89.com/sites/blogs/files/assets/image/2013/07\n",
        "/le_tour_en_tetes_frelontin-6_0.jpg\"><img src=\"data:image/gif;base64,R0lGODlhAQABAAAAACH5BAEKAAEALAAAAAABAAEAAAICTAEAOw=\n",
        "=\" alt=\"\" /></a></p>\n",
        "\n",
        "<p>Amuser la galerie, c\u2019est son dada, histoire de faire oublier l\u2019attente et les\n",
        "probl\u00e8mes de dopages. (@Le Tour en T\u00eates)</p>\n",
        "\n",
        "<p>Au-del\u00e0 de l\u2019altruisme de la d\u00e9marche, Frelontin repr\u00e9sente un investissement\n",
        "consid\u00e9rable pour ce modeste couple de retrait\u00e9s\u00a0:</p>\n",
        "\n",
        "<blockquote>\n",
        "  <p>\u00ab\u00a0Un Tour de France, c\u2019est environ 2\u00a0000\u00a0euros. Ce sont nos seules vacances\n",
        "  de l\u2019ann\u00e9e.\u00a0\u00bb</p>\n",
        "</blockquote>\n",
        "\n",
        "<p>M\u00eame \u00e0 la retraite, Jean-Pierre continue de travailler pour financer sa\n",
        "passion. En tant qu\u2019auto-entrepreneur, il forme des jeunes \u00e0 la conduite de\n",
        "machines pour d\u00e9couper du carton, secteur dans lequel il a travaill\u00e9 toute sa\n",
        "vie.</p>\n",
        "\n",
        "<p>La pratique d\u2019activit\u00e9s commerciales \u00e9tant interdite pour les particuliers au\n",
        "bord des routes, Jean-Pierre n\u2019a jamais cherch\u00e9 \u00e0 rentabiliser son activit\u00e9\u00a0:</p>\n",
        "\n",
        "<blockquote>\n",
        "  <p>\u00ab\u00a0Soit je le fais correctement, soit je ne le fais pas du tout. Donc je ne\n",
        "  demande rien aux gens. Je paye tout. Mais si je gagnais un euro \u00e0 chaque fois\n",
        "  que les gens me prennent en photo, je pourrais m\u2019acheter un camping car tout\n",
        "  neuf. Je pourrais me faire sponsoriser par une marque mais pour \u00e7a, je ne suis\n",
        "  peut-\u00eatre pas encore assez connu.\u00a0\u00bb</p>\n",
        "</blockquote>\n",
        "\n",
        "<h2>\u00ab\u00a0Il faut qu\u2019on me reconnaisse\u00a0\u00bb</h2>\n",
        "\n",
        "<p>Au bout de cinq minutes, \u00ab\u00a0<a href=\"http://www.tourteufel.de/\">le Diablo</a> \u201c finit\n",
        "toujours par arriver dans la conversation. Personnage mythique chez les\n",
        "adeptes du Tour, il court apr\u00e8s les cyclistes depuis vingt ans avec cornes\n",
        "rouges et trident. Sur la porte de sa caravane, Jean-Pierre affiche fi\u00e8rement\n",
        "une photo du diable et lui, bras dessus bras dessous.</p>\n",
        "\n",
        "<p>Un soir entre deux \u00e9tapes, on a aper\u00e7u la voiture du diable faire quelques\n",
        "kilom\u00e8tres aux c\u00f4t\u00e9s de la caravane de Jean-Pierre. Ils se sont salu\u00e9s, ont\n",
        "\u00e9chang\u00e9 quelques blagues, avant de se s\u00e9parer en rejoignant la route du Tour.\n",
        "Quand Jean-Pierre parle de lui, on ressent de l\u2019admiration, teint\u00e9e d\u2019une\n",
        "amicale rivalit\u00e9\u00a0:</p>\n",
        "\n",
        "<blockquote>\n",
        "  <p>\u2018C\u2019est un copain, on s\u2019entend bien, mais il faut qu\u2019on se respecte. Une\n",
        "  fois, je m\u2019\u00e9tais mis trop pr\u00e8s de lui, j\u2019ai vu qu\u2019il me faisait la t\u00eate. Il\n",
        "  avait peut-\u00eatre peur de la concurrence.</p>\n",
        "</blockquote>\n",
        "\n",
        "<p>&gt;</p>\n",
        "\n",
        "<blockquote>\n",
        "  <p>C\u2019est surtout vis-\u00e0-vis de la caravane et des cam\u00e9ras que \u00e7a se joue. Il\n",
        "  faut qu\u2019ils nous fassent de la pub \u00e0 tous les deux. Si on \u00e9tait tous les deux\n",
        "  au m\u00eame endroit, ils ne sauraient pas de qui parler. Donc on se s\u00e9pare\n",
        "  toujours d\u2019au moins un kilom\u00e8tre.</p>\n",
        "</blockquote>\n",
        "\n",
        "<p>&gt;</p>\n",
        "\n",
        "<blockquote>\n",
        "  <p>Certains voudraient qu\u2019on se mette ensemble \u00e0 une \u00e9tape, mais c\u2019est pas\n",
        "  facile, il y en aura toujours un qui ne voudra pas. Lui, c\u2019est le diable, moi\n",
        "  c\u2019est le frelon, \u00e7a s\u2019arr\u00eate l\u00e0.\u2019</p>\n",
        "</blockquote>\n",
        "\n",
        "<p><a href=\"http://blogs.rue89.com/sites/blogs/files/assets/image/2013/07\n",
        "/le_tour_en_tetes_frelontin-3_1.jpg\"><img src=\"data:image/gif;base64,R0lGODlhAQABAAAAACH5BAEKAAEALAAAAAABAAEAAAICTAEAOw=\n",
        "=\" alt=\"\" /></a></p>\n",
        "\n",
        "<p>Pour Frelontin, le meilleur moyen de passer \u00e0 la t\u00e9l\u00e9, c\u2019est la d\u00e9co. (@Le\n",
        "Tour en T\u00eates)</p>\n",
        "\n",
        "<p>La popularit\u00e9 est une qu\u00eate chez Jean-Pierre. Quand on lui demande son\n",
        "meilleur souvenir du Tour de France, il parle de son premier passage \u00e0 la\n",
        "t\u00e9l\u00e9vision. Et d\u00e9fend son jusqu\u2019au-boutisme\u00a0:</p>\n",
        "\n",
        "<blockquote>\n",
        "  <p>\u2018Il faut que je sois toujours habill\u00e9 pareil, peu importe le temps qu\u2019il\n",
        "  fait. C\u2019est difficile, il faut supporter la chaleur l\u2019\u00e9t\u00e9, le froid l\u2019hiver.\n",
        "  Il faut assumer jusqu\u2019au bout, je reste du premier au dernier cycliste\n",
        "  quoiqu\u2019il arrive. La r\u00e9gularit\u00e9, c\u2019est important, il faut qu\u2019on me\n",
        "  reconnaisse.\u2019</p>\n",
        "</blockquote>\n",
        "\n",
        "<h2>\u2018Ce ne sont pas des vacances de tout repos\u2019</h2>\n",
        "\n",
        "<p>\u00c0 ses c\u00f4t\u00e9s depuis quatre ans, Martine, une aide soignante \u00e0 la retraite. Ces\n",
        "deux-l\u00e0 se sont rencontr\u00e9s sur Internet, et vivent un mariage tranquille\n",
        "depuis.</p>\n",
        "\n",
        "<p><a href=\"http://blogs.rue89.com/sites/blogs/files/assets/image/2013/07\n",
        "/le_tour_en_tetes_frelontin-4_0.jpg\"><img src=\"data:image/gif;base64,R0lGODlhAQABAAAAACH5BAEKAAEALAAAAAABAAEAAAICTAEAOw=\n",
        "=\" alt=\"\" /></a></p>\n",
        "\n",
        "<p>Malgr\u00e9 tout, Martine s\u2019amuse des b\u00eatises de son mari. (@Le Tour en T\u00eates)</p>\n",
        "\n",
        "<p>Quand elle a rencontr\u00e9 Jean-Pierre, Martine savait qu\u2019elle embrassait la vie\n",
        "d\u2019un \u2018totem\u2019 du Tour. Pas particuli\u00e8rement mordue de v\u00e9lo, elle s\u2019est quand\n",
        "m\u00eame laiss\u00e9e embarquer dans l\u2019aventure\u00a0:</p>\n",
        "\n",
        "<blockquote>\n",
        "  <p>\u2018Ce ne sont pas des vacances de tout repos. On est au bord des routes avec\n",
        "  plein de bruit, je ne peux m\u00eame pas sortir mon fauteuil pour lire. Moi, je ne\n",
        "  dors pas. \u00c7a nous rend un peu ronchons parfois.</p>\n",
        "</blockquote>\n",
        "\n",
        "<p>&gt;</p>\n",
        "\n",
        "<blockquote>\n",
        "  <p>C\u2019est pas que \u00e7a me d\u00e9range, mais c\u2019est dommage parce que parfois il y a des\n",
        "  beaux coins, et on ne visite jamais. En m\u00eame temps, avant de le conna\u00eetre, ma\n",
        "  vie \u00e7a a \u00e9t\u00e9 boulot, dodo\u2019 pendant dix-sept ans. Maintenant mes copines\n",
        "  m\u2019appellent le routier.\u201d</p>\n",
        "</blockquote>\n",
        "\n",
        "<p>Martine assume volontiers le r\u00f4le de coach, cach\u00e9e dans l\u2019ombre de la\n",
        "caravane. En bonne m\u00e8re poule, elle d\u00e9gage gentiment ceux qui auraient le\n",
        "malheur de s\u2019installer devant les d\u00e9corations\u00a0:</p>\n",
        "\n",
        "<blockquote>\n",
        "  <p>\u201cIl faut qu\u2019on le voit. Sinon, tout son travail ne sert \u00e0 rien.\u201d</p>\n",
        "</blockquote>\n",
        "\n",
        "<h2>\u201cFolie douce\u201d</h2>\n",
        "\n",
        "<p>Dans leur famille recompos\u00e9e, la plupart de leurs huit enfants sourient de la\n",
        "d\u00e9marche. Martine confesse\u00a0:</p>\n",
        "\n",
        "<blockquote>\n",
        "  <p>\u201cCertains pensent que c\u2019est de la folie douce. Mais c\u2019est pas grave. Donner\n",
        "  du plaisir aux gens dans le Tour, c\u2019est important.\u201d</p>\n",
        "</blockquote>\n",
        "\n",
        "<p><a href=\"http://blogs.rue89.com/sites/blogs/files/assets/image/2013/07\n",
        "/le_tour_en_tetes_frelontin-2_1.jpg\"><img src=\"data:image/gif;base64,R0lGODlhAQABAAAAACH5BAEKAAEALAAAAAABAAEAAAICTAEAOw=\n",
        "=\" alt=\"\" /></a></p>\n",
        "\n",
        "<p>Parmi la foule, Jean-Pierre fait mouche. (@Le Tour en T\u00eates)</p>\n",
        "\n",
        "<p>Avec son nouveau compagnon, elle a long\u00e9 une bonne partie des routes de\n",
        "l\u2019Hexagone. \u00c0 regarder Jean-Pierre faire le pitre tout seul au bord de la\n",
        "nationale, sa vision de la France prend une r\u00e9sonance particuli\u00e8re\u00a0:</p>\n",
        "\n",
        "<blockquote>\n",
        "  <p>\u201cLes gens deviennent individualistes. Dans le contexte actuel, \u00e7a ne va pas\n",
        "  aller en s\u2019arrangeant. Mais j\u2019ai remarqu\u00e9 que les gens \u00e9taient plus g\u00e9n\u00e9reux\n",
        "  dans les communes pauvres. Peut-\u00eatre que les gens en bas de l\u2019\u00e9chelle arrivent\n",
        "  \u00e0 donner plus avec le peu qu\u2019ils ont.\u201d</p>\n",
        "</blockquote>\n",
        "\n",
        "<p>Au fil de la journ\u00e9e, entre deux photos, quelques moqueries pas franchement\n",
        "amicales fusent. Jean-Pierre s\u2019en accommode, immerg\u00e9 dans sa bulle de bonheur\n",
        "une fois son masque enfil\u00e9. En cas d\u2019attaque, Frelontin est toujours arm\u00e9 de\n",
        "sa tapette g\u00e9ante.</p>\n",
        "\n",
        "<p>Frelontin - \u201cDonner de la ga\u00eet\u00e9 au Tour de France\u201d</p>\n"
       ],
       "output_type": "display_data"
      }
     ],
     "prompt_number": 8
    },
    {
     "cell_type": "code",
     "collapsed": false,
     "input": [
      "guest = Feed.objects.get(id='51ca08a4e7a05b27f6aec18e')"
     ],
     "language": "python",
     "metadata": {},
     "outputs": [],
     "prompt_number": 9
    },
    {
     "cell_type": "code",
     "collapsed": false,
     "input": [
      "guest"
     ],
     "language": "python",
     "metadata": {},
     "outputs": [
      {
       "output_type": "pyout",
       "prompt_number": 10,
       "text": [
        "<Feed: nybooks.com: Recent items (#51ca08a4e7a05b27f6aec18e)>"
       ]
      }
     ],
     "prompt_number": 10
    },
    {
     "cell_type": "markdown",
     "metadata": {},
     "source": [
      "# En russe"
     ]
    },
    {
     "cell_type": "code",
     "collapsed": false,
     "input": [
      "ar = Article.objects.get(id='51ca2147e7a05b27f6b441ee')\n",
      "ar.content_type"
     ],
     "language": "python",
     "metadata": {},
     "outputs": [
      {
       "output_type": "pyout",
       "prompt_number": 10,
       "text": [
        "2"
       ]
      }
     ],
     "prompt_number": 10
    },
    {
     "cell_type": "code",
     "collapsed": false,
     "input": [
      "markdown(ar.content)"
     ],
     "language": "python",
     "metadata": {},
     "outputs": []
    },
    {
     "cell_type": "code",
     "collapsed": false,
     "input": [
      "OriginalData._meta"
     ],
     "language": "python",
     "metadata": {},
     "outputs": [
      {
       "output_type": "pyout",
       "prompt_number": 5,
       "text": [
        "{'abstract': False,\n",
        " 'allow_inheritance': None,\n",
        " 'collection': 'original_data',\n",
        " 'db_alias': 'archive',\n",
        " 'delete_rules': None,\n",
        " 'id_field': 'id',\n",
        " 'index_background': False,\n",
        " 'index_drop_dups': False,\n",
        " 'index_opts': None,\n",
        " 'index_specs': [{'fields': [('article', 1)],\n",
        "   'sparse': False,\n",
        "   'unique': True}],\n",
        " 'indexes': [],\n",
        " 'max_documents': None,\n",
        " 'max_size': None,\n",
        " 'ordering': []}"
       ]
      }
     ],
     "prompt_number": 5
    },
    {
     "cell_type": "code",
     "collapsed": false,
     "input": [
      "from django.conf import settings"
     ],
     "language": "python",
     "metadata": {},
     "outputs": [],
     "prompt_number": 6
    },
    {
     "cell_type": "code",
     "collapsed": false,
     "input": [
      "settings.MONGODB_HOST_ARCHIVE"
     ],
     "language": "python",
     "metadata": {},
     "outputs": [
      {
       "output_type": "pyout",
       "prompt_number": 8,
       "text": [
        "'37.187.88.26'"
       ]
      }
     ],
     "prompt_number": 8
    },
    {
     "cell_type": "code",
     "collapsed": false,
     "input": [
      "s = Subscription.objects.get(id='52a77f2784cc1701591dcbdb')\n",
      "f = s.feed\n",
      "s, f"
     ],
     "language": "python",
     "metadata": {},
     "outputs": [
      {
       "metadata": {},
       "output_type": "pyout",
       "prompt_number": 58,
       "text": [
        "(<Subscription: karmak23+Bitcoin Magazine (#52a77f2784cc1701591dcbdb)>,\n",
        " <Feed: Bitcoin Magazine (#52a77e2884cc170157b2c4d4)>)"
       ]
      }
     ],
     "prompt_number": 58
    },
    {
     "cell_type": "code",
     "collapsed": false,
     "input": [
      "s.check_reads()"
     ],
     "language": "python",
     "metadata": {},
     "outputs": [
      {
       "output_type": "stream",
       "stream": "stderr",
       "text": [
        "Checked subscription #52a77f2784cc1701591dcbd9. 0/0 non-existing/re-checked, 0/0 read/unread and 0 not created.\n"
       ]
      },
      {
       "metadata": {},
       "output_type": "pyout",
       "prompt_number": 5,
       "text": [
        "(0, 0, 0, 0, 0)"
       ]
      }
     ],
     "prompt_number": 5
    },
    {
     "cell_type": "code",
     "collapsed": false,
     "input": [
      "f.url"
     ],
     "language": "python",
     "metadata": {},
     "outputs": [
      {
       "metadata": {},
       "output_type": "pyout",
       "prompt_number": 55,
       "text": [
        "u'http://bitcoincharts.com/headlines.rss'"
       ]
      }
     ],
     "prompt_number": 55
    },
    {
     "cell_type": "code",
     "collapsed": false,
     "input": [
      "s.feed.refresh(force=True)"
     ],
     "language": "python",
     "metadata": {},
     "outputs": [
      {
       "output_type": "stream",
       "stream": "stderr",
       "text": [
        "Forcing refresh of recently fetched feed Bitcoin Magazine (#52a77e2884cc170157b2c4d4).\n"
       ]
      },
      {
       "output_type": "stream",
       "stream": "stderr",
       "text": [
        "Refreshing feed Bitcoin Magazine (#52a77e2884cc170157b2c4d4)\u2026\n"
       ]
      },
      {
       "output_type": "stream",
       "stream": "stderr",
       "text": [
        "Created article Bitrated: You Can No Longer Say Bitcoin \u2026 (#52a79140a246396ad3144e24) from http://feedproxy.google.com/~r/BitcoinMagazine/~3/ldKHZ_W373M/ in feed(s) Bitcoin Magazine (#52a77e2884cc170157b2c4d4).\n"
       ]
      },
      {
       "output_type": "stream",
       "stream": "stderr",
       "text": [
        "Created article Declaring Bitcoin Income Part 1- Prepari\u2026 (#52a7916ba246396ad3144e28) from http://feedproxy.google.com/~r/BitcoinMagazine/~3/fcNPkEf3JiY/ in feed(s) Bitcoin Magazine (#52a77e2884cc170157b2c4d4).\n"
       ]
      },
      {
       "output_type": "stream",
       "stream": "stderr",
       "text": [
        "Created article Vetco Is First Vet Clinic to Accept Bitc\u2026 (#52a7916ba246396ad3144e2b) from http://feedproxy.google.com/~r/BitcoinMagazine/~3/Hu6Qiy5GNY8/ in feed(s) Bitcoin Magazine (#52a77e2884cc170157b2c4d4).\n"
       ]
      },
      {
       "output_type": "stream",
       "stream": "stderr",
       "text": [
        "Created article Using Bitcoin With QuickBooks- Part 3: P\u2026 (#52a7916ba246396ad3144e2f) from http://feedproxy.google.com/~r/BitcoinMagazine/~3/Y8KjcZDaFpw/ in feed(s) Bitcoin Magazine (#52a77e2884cc170157b2c4d4).\n"
       ]
      },
      {
       "output_type": "stream",
       "stream": "stderr",
       "text": [
        "Created article Bitcoin: China\u2019s New Special Economic Zo\u2026 (#52a7916ba246396ad3144e33) from http://feedproxy.google.com/~r/BitcoinMagazine/~3/3MYVVrdn7lU/ in feed(s) Bitcoin Magazine (#52a77e2884cc170157b2c4d4).\n"
       ]
      },
      {
       "output_type": "stream",
       "stream": "stderr",
       "text": [
        "Created article Price, Value and The \u201cTrue\u201d Worth of Bit\u2026 (#52a7916ca246396ad3144e3a) from http://feedproxy.google.com/~r/BitcoinMagazine/~3/wY4xngNTfGM/ in feed(s) Bitcoin Magazine (#52a77e2884cc170157b2c4d4).\n"
       ]
      },
      {
       "output_type": "stream",
       "stream": "stderr",
       "text": [
        "Created article A Bitcoin Love Affair at El Passion (#52a7916ca246396ad3144e3d) from http://feedproxy.google.com/~r/BitcoinMagazine/~3/ZIkc01aeTJw/ in feed(s) Bitcoin Magazine (#52a77e2884cc170157b2c4d4).\n"
       ]
      },
      {
       "output_type": "stream",
       "stream": "stderr",
       "text": [
        "Created article China Releases First Regulatory Report o\u2026 (#52a7916ca246396ad3144e40) from http://feedproxy.google.com/~r/BitcoinMagazine/~3/bhe5UAE8bcQ/ in feed(s) Bitcoin Magazine (#52a77e2884cc170157b2c4d4).\n"
       ]
      },
      {
       "output_type": "stream",
       "stream": "stderr",
       "text": [
        "Created article Last Minute Tax Planning Strategies for \u2026 (#52a7916ca246396ad3144e44) from http://feedproxy.google.com/~r/BitcoinMagazine/~3/wQMKTEWXgVo/ in feed(s) Bitcoin Magazine (#52a77e2884cc170157b2c4d4).\n"
       ]
      },
      {
       "output_type": "stream",
       "stream": "stderr",
       "text": [
        "Created article Hi Mom! Send More Bitcoins! (#52a7916ca246396ad3144e47) from http://feedproxy.google.com/~r/BitcoinMagazine/~3/j2Af5K5K-2U/ in feed(s) Bitcoin Magazine (#52a77e2884cc170157b2c4d4).\n"
       ]
      }
     ],
     "prompt_number": 59
    },
    {
     "cell_type": "code",
     "collapsed": false,
     "input": [
      "f.last_fetch = None"
     ],
     "language": "python",
     "metadata": {},
     "outputs": [],
     "prompt_number": 50
    },
    {
     "cell_type": "code",
     "collapsed": false,
     "input": [
      "f.last_etag = None"
     ],
     "language": "python",
     "metadata": {},
     "outputs": [],
     "prompt_number": 51
    },
    {
     "cell_type": "code",
     "collapsed": false,
     "input": [
      "f.save()"
     ],
     "language": "python",
     "metadata": {},
     "outputs": [
      {
       "metadata": {},
       "output_type": "pyout",
       "prompt_number": 52,
       "text": [
        "<Feed: LocalBitcoins (#52a77c5784cc17015c784134)>"
       ]
      }
     ],
     "prompt_number": 52
    },
    {
     "cell_type": "code",
     "collapsed": false,
     "input": [
      "f.refresh(force=True)"
     ],
     "language": "python",
     "metadata": {},
     "outputs": [
      {
       "output_type": "stream",
       "stream": "stderr",
       "text": [
        "Refreshing feed LocalBitcoins (#52a77c5784cc17015c784134)\u2026\n"
       ]
      },
      {
       "output_type": "stream",
       "stream": "stderr",
       "text": [
        "No new content in feed LocalBitcoins (#52a77c5784cc17015c784134).\n"
       ]
      }
     ],
     "prompt_number": 53
    },
    {
     "cell_type": "code",
     "collapsed": false,
     "input": [
      "f.latest_article_date_published"
     ],
     "language": "python",
     "metadata": {},
     "outputs": [
      {
       "metadata": {},
       "output_type": "pyout",
       "prompt_number": 36,
       "text": [
        "datetime.datetime(2008, 12, 10, 21, 9, 18, 709745, tzinfo=<UTC>)"
       ]
      }
     ],
     "prompt_number": 36
    },
    {
     "cell_type": "code",
     "collapsed": false,
     "input": [
      "f.good_articles_count"
     ],
     "language": "python",
     "metadata": {},
     "outputs": [
      {
       "metadata": {},
       "output_type": "pyout",
       "prompt_number": 57,
       "text": [
        "15"
       ]
      }
     ],
     "prompt_number": 57
    },
    {
     "cell_type": "code",
     "collapsed": false,
     "input": [],
     "language": "python",
     "metadata": {},
     "outputs": []
    }
   ],
   "metadata": {}
  }
 ]
}