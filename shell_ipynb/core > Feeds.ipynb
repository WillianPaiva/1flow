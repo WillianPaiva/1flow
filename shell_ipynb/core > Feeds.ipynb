{
 "metadata": {
  "name": ""
 },
 "nbformat": 3,
 "nbformat_minor": 0,
 "worksheets": [
  {
   "cells": [
    {
     "cell_type": "markdown",
     "metadata": {},
     "source": [
      "# Python imports"
     ]
    },
    {
     "cell_type": "code",
     "collapsed": false,
     "input": [
      "import uuid\n",
      "import time as pytime\n",
      "\n",
      "import operator\n",
      "\n",
      "from django.utils.html import urlize\n",
      "from constance import config\n",
      "from IPython.display import display_pretty, display_html, display_jpeg, display_png, display_json, display_latex, display_svg\n",
      "from mongoengine.queryset import Q\n",
      "\n",
      "from oneflow.core.models import *\n",
      "from oneflow.core.stats import * \n",
      "from oneflow.base.utils.dateutils import *\n",
      "\n",
      "def html(thing):\n",
      "    display_html(thing, raw=True)\n",
      "\n",
      "def urlblank(text):\n",
      "    return urlize(text).replace('<a ', '<a target=\"_blank\" ')"
     ],
     "language": "python",
     "metadata": {},
     "outputs": [
      {
       "output_type": "stream",
       "stream": "stderr",
       "text": [
        "Django found.\n"
       ]
      },
      {
       "output_type": "stream",
       "stream": "stderr",
       "text": [
        "Django found and fields and widgets loaded.\n"
       ]
      }
     ],
     "prompt_number": 1
    },
    {
     "cell_type": "code",
     "collapsed": false,
     "input": [
      "#with benchmark():\n",
      "#    Subscription.objects.all().update(set__tags=[])"
     ],
     "language": "python",
     "metadata": {},
     "outputs": [
      {
       "output_type": "stream",
       "stream": "stderr",
       "text": [
        "Generic benchmark started 2013-10-05 17:22, ran in a moment.\n"
       ]
      }
     ],
     "prompt_number": 2
    },
    {
     "cell_type": "code",
     "collapsed": false,
     "input": [
      "Feed.objects(closed__ne=True).update(set__good_for_use=True)"
     ],
     "language": "python",
     "metadata": {},
     "outputs": [
      {
       "metadata": {},
       "output_type": "pyout",
       "prompt_number": 2,
       "text": [
        "3701"
       ]
      }
     ],
     "prompt_number": 2
    },
    {
     "cell_type": "code",
     "collapsed": false,
     "input": [
      "u = User.objects.get(id='51c66177e7a05b27f68ce435')\n",
      "u"
     ],
     "language": "python",
     "metadata": {},
     "outputs": [
      {
       "metadata": {},
       "output_type": "pyout",
       "prompt_number": 3,
       "text": [
        "<User: karmak23 #51c66177e7a05b27f68ce435 (Django ID: 141)>"
       ]
      }
     ],
     "prompt_number": 3
    },
    {
     "cell_type": "code",
     "collapsed": false,
     "input": [
      "u.check_subscriptions(extended_check=True)"
     ],
     "language": "python",
     "metadata": {},
     "outputs": [
      {
       "output_type": "stream",
       "stream": "stderr",
       "text": [
        "Checked subscription #51c66183e7a05b27f68ce437. 0/567 non-existing/re-checked, 0/0 read/unread and 0 not created.\n"
       ]
      }
     ],
     "prompt_number": "*"
    },
    {
     "cell_type": "code",
     "collapsed": false,
     "input": [
      "with benchmark():\n",
      "    #u.check_subscriptions(True)\n",
      "    for s in u.subscriptions:\n",
      "        print s, s.all_articles_count, s.unread_articles_count,\n",
      "        s.pre_compute_cached_descriptors()\n",
      "        print s.all_articles_count, s.unread_articles_count"
     ],
     "language": "python",
     "metadata": {},
     "outputs": [
      {
       "output_type": "stream",
       "stream": "stdout",
       "text": [
        " None+01KiteSurf.com - Actualit\u00e9s du kitesurf au quotidien (#51c66183e7a05b27f68ce437) 567 0 "
       ]
      },
      {
       "output_type": "stream",
       "stream": "stdout",
       "text": [
        "567 0\n",
        "None+01KiteSurf.com - Vid\u00e9os du kitesurf au quotidien (#51c66183e7a05b27f68ce439) 371 0 "
       ]
      },
      {
       "output_type": "stream",
       "stream": "stdout",
       "text": [
        "371 0\n",
        "None+1flow news (#51c66183e7a05b27f68ce43b) 9 0 "
       ]
      },
      {
       "output_type": "stream",
       "stream": "stdout",
       "text": [
        "9 0\n",
        "None+Rue89\u00a0: \u00e0 la une (#51c66183e7a05b27f68ce43d) 20298 28 "
       ]
      },
      {
       "output_type": "stream",
       "stream": "stdout",
       "text": [
        "20298 28\n",
        "None+Actu-Environnement (#51c66183e7a05b27f68ce43f) 14248 0 "
       ]
      },
      {
       "output_type": "stream",
       "stream": "stdout",
       "text": [
        "14248 0\n",
        "None+APCKITE - Association de kitesurf du bassin d'Arcachon (#51c66183e7a05b27f68ce441) 72 0 "
       ]
      },
      {
       "output_type": "stream",
       "stream": "stdout",
       "text": [
        "72 0\n",
        "None+Brisbane Wedding Photographer | Jonas Peterson (#51c66183e7a05b27f68ce443) 326 6 "
       ]
      },
      {
       "output_type": "stream",
       "stream": "stdout",
       "text": [
        "326 6\n",
        "None+Build 47 (#51c66183e7a05b27f68ce445) 32 0 "
       ]
      },
      {
       "output_type": "stream",
       "stream": "stdout",
       "text": [
        "32 0\n",
        "None+California Wedding Photographer, Photography Worldwide - Victor ... (#51c66183e7a05b27f68ce447) 137 0 "
       ]
      },
      {
       "output_type": "stream",
       "stream": "stdout",
       "text": [
        "137 0\n",
        "None+Canon Rumors (#51c66184e7a05b27f68ce449) 2278 0 "
       ]
      },
      {
       "output_type": "stream",
       "stream": "stdout",
       "text": [
        "2278 0\n",
        "None+Canonical Job Feed (#51c66184e7a05b27f68ce44b) 79 0 "
       ]
      },
      {
       "output_type": "stream",
       "stream": "stdout",
       "text": [
        "79 0\n",
        "None+CNRS (#51c66184e7a05b27f68ce44d) 1331 46 "
       ]
      },
      {
       "output_type": "stream",
       "stream": "stdout",
       "text": [
        "1332 50\n",
        "None+CruiseControl RSS feed for Archipel (#51c66184e7a05b27f68ce44f) 0 0 "
       ]
      },
      {
       "output_type": "stream",
       "stream": "stdout",
       "text": [
        "0 0\n",
        "None+David Huitorel (#51c66184e7a05b27f68ce451) 44 0 "
       ]
      },
      {
       "output_type": "stream",
       "stream": "stdout",
       "text": [
        "44 0\n",
        "None+David Winterbottom (@codeinthehole) (#51c66184e7a05b27f68ce453) 49 1 "
       ]
      },
      {
       "output_type": "stream",
       "stream": "stdout",
       "text": [
        "49 1\n",
        "None+dBoite blog (#51c66184e7a05b27f68ce455) 11 1 "
       ]
      },
      {
       "output_type": "stream",
       "stream": "stdout",
       "text": [
        "11 1\n",
        "None+delroth's blog (#51c66184e7a05b27f68ce457) 26 0 "
       ]
      },
      {
       "output_type": "stream",
       "stream": "stdout",
       "text": [
        "26 0\n",
        "None+DPReviews (#51c66184e7a05b27f68ce459) 937 1 "
       ]
      },
      {
       "output_type": "stream",
       "stream": "stdout",
       "text": [
        "937 0\n",
        "None+DragonFly BSD Digest (#51c66184e7a05b27f68ce45b) 2428 0 "
       ]
      },
      {
       "output_type": "stream",
       "stream": "stdout",
       "text": [
        "2428 0\n",
        "None+D\u00e9veloppement durable | Actualit\u00e9s d\u00e9veloppement durable RSS (#51c66184e7a05b27f68ce45d) 4663 0 "
       ]
      },
      {
       "output_type": "stream",
       "stream": "stdout",
       "text": [
        "4663 0\n",
        "None+Flysurf.com news channel (#51c66184e7a05b27f68ce45f) 1532 34 "
       ]
      },
      {
       "output_type": "stream",
       "stream": "stdout",
       "text": [
        "1551 53\n",
        "None+French Wedding Photographer Paris Loire vallee Cote d'azur ... (#51c66184e7a05b27f68ce461) 0 0 "
       ]
      },
      {
       "output_type": "stream",
       "stream": "stdout",
       "text": [
        "0 0\n",
        "None+Great America (#51c66184e7a05b27f68ce463) 749 6 "
       ]
      },
      {
       "output_type": "stream",
       "stream": "stdout",
       "text": [
        "749 4\n",
        "None+GreenIT.fr (#51c66185e7a05b27f68ce465) 1976 5 "
       ]
      },
      {
       "output_type": "stream",
       "stream": "stdout",
       "text": [
        "1976 6\n",
        "None+Greenpeace France (#51c66185e7a05b27f68ce46a) 1179 21 "
       ]
      },
      {
       "output_type": "stream",
       "stream": "stdout",
       "text": [
        "1179 28\n",
        "None+Infinit Blog (#51c66185e7a05b27f68ce46c) 22 4 "
       ]
      },
      {
       "output_type": "stream",
       "stream": "stdout",
       "text": [
        "25 7\n",
        "None+Jardins Co-cr\u00e9atifs (#51c66185e7a05b27f68ce46e) 14 0 "
       ]
      },
      {
       "output_type": "stream",
       "stream": "stdout",
       "text": [
        "14 0\n",
        "None+Kevin Tran (#51c66185e7a05b27f68ce477) 30 0 "
       ]
      },
      {
       "output_type": "stream",
       "stream": "stdout",
       "text": [
        "30 0\n",
        "None+Le flux RSS DTC (#51c66185e7a05b27f68ce48a) 7033 0 "
       ]
      },
      {
       "output_type": "stream",
       "stream": "stdout",
       "text": [
        "7033 0\n",
        "None+Les 400 culs (#51c66186e7a05b27f68ce494) 511 24 "
       ]
      },
      {
       "output_type": "stream",
       "stream": "stdout",
       "text": [
        "511 18\n",
        "None+Lib\u00e9ration\u00a0: \u00e0 la une (#51c66186e7a05b27f68ce4a7) 21467 0 "
       ]
      },
      {
       "output_type": "stream",
       "stream": "stdout",
       "text": [
        "21473 33\n",
        "None+Licorn Blog (#51c66187e7a05b27f68ce4bb) 1 0 "
       ]
      },
      {
       "output_type": "stream",
       "stream": "stdout",
       "text": [
        "1 0\n",
        "None+Licorn Timeline (#51c66188e7a05b27f68ce4d1) 0 0 "
       ]
      },
      {
       "output_type": "stream",
       "stream": "stdout",
       "text": [
        "0 0\n",
        "None+Licorn\u00ae: efficient server management (#51c66188e7a05b27f68ce4e8) 6 0 "
       ]
      },
      {
       "output_type": "stream",
       "stream": "stdout",
       "text": [
        "6 0\n",
        "None+LinuxFr (#51c66188e7a05b27f68ce4ff) 2888 0 "
       ]
      },
      {
       "output_type": "stream",
       "stream": "stdout",
       "text": [
        "2890 2\n",
        "None+L'\u00e9co-Blog (#51c66188e7a05b27f68ce536) 414 8 "
       ]
      },
      {
       "output_type": "stream",
       "stream": "stdout",
       "text": [
        "414 8\n",
        "None+MacBidouille (#51c66189e7a05b27f68ce54e) 8998 0 "
       ]
      },
      {
       "output_type": "stream",
       "stream": "stdout",
       "text": [
        "8998 0\n",
        "None+MacGeneration (#51c66189e7a05b27f68ce565) 20809 0 "
       ]
      },
      {
       "output_type": "stream",
       "stream": "stdout",
       "text": [
        "20809 0\n",
        "None+Neopythonic (#51c66189e7a05b27f68ce575) 47 0 "
       ]
      },
      {
       "output_type": "stream",
       "stream": "stdout",
       "text": [
        "47 0\n",
        "None+Nikon Rumors (#51c6618ae7a05b27f68ce592) 2566 0 "
       ]
      },
      {
       "output_type": "stream",
       "stream": "stdout",
       "text": [
        "2567 1\n",
        "None+notre-planete.info (#51c6618ae7a05b27f68ce5aa) 127 0 "
       ]
      },
      {
       "output_type": "stream",
       "stream": "stdout",
       "text": [
        "127 0\n",
        "None+Noyau d'Olive (#51c6618ce7a05b27f68ce5c0) 70 0 "
       ]
      },
      {
       "output_type": "stream",
       "stream": "stdout",
       "text": [
        "70 0\n",
        "None+Orange County | Los Angeles | Wedding Photographer (#51c6618ce7a05b27f68ce5da) 340 10 "
       ]
      },
      {
       "output_type": "stream",
       "stream": "stdout",
       "text": [
        "340 10\n",
        "None+Planet FreeBSD (#51c6618ce7a05b27f68ce62c) 1141 22 "
       ]
      },
      {
       "output_type": "stream",
       "stream": "stdout",
       "text": [
        "1141 22\n",
        "None+Planet Ubuntu (#51c6618de7a05b27f68ce648) 16057 0 "
       ]
      },
      {
       "output_type": "stream",
       "stream": "stdout",
       "text": [
        "16058 6\n",
        "None+Python News (#51c6618fe7a05b27f68ce6a8) 244 0 "
       ]
      },
      {
       "output_type": "stream",
       "stream": "stdout",
       "text": [
        "245 1\n",
        "None+R\u00e9f\u00e9rencement de site internet - Pikock | Scoop.it (#51c66190e7a05b27f68ce716) 48 9 "
       ]
      },
      {
       "output_type": "stream",
       "stream": "stdout",
       "text": [
        "48 9\n",
        "None+R\u00e9seaux & T\u00e9l\u00e9coms (#51c66192e7a05b27f68ce77e) 7874 3 "
       ]
      },
      {
       "output_type": "stream",
       "stream": "stdout",
       "text": [
        "7874 3\n",
        "None+Silicon.fr (#51c66192e7a05b27f68ce7d3) 10690 0 "
       ]
      },
      {
       "output_type": "stream",
       "stream": "stdout",
       "text": [
        "10691 1\n",
        "None+Sophie Delaveau (#51c66195e7a05b27f68ce835) 104 0 "
       ]
      },
      {
       "output_type": "stream",
       "stream": "stdout",
       "text": [
        "104 0\n",
        "None+Surfrider Foundation (#51c66197e7a05b27f68ce8c4) 316 6 "
       ]
      },
      {
       "output_type": "stream",
       "stream": "stdout",
       "text": [
        "316 6\n",
        "None+TechCrunch France (#51c6619ae7a05b27f68ce92a) 9582 0 "
       ]
      },
      {
       "output_type": "stream",
       "stream": "stdout",
       "text": [
        "9576 4\n",
        "None+The History of Python (#51c6619be7a05b27f68ce964) 27 0 "
       ]
      },
      {
       "output_type": "stream",
       "stream": "stdout",
       "text": [
        "27 0\n",
        "None+The Setup (#51c6619ce7a05b27f68cea00) 393 37 "
       ]
      },
      {
       "output_type": "stream",
       "stream": "stdout",
       "text": [
        "394 38\n",
        "None+Tom's Hardware - Actualit\u00e9 mat\u00e9riel informatique, multim\u00e9dia, Internet (#51c6619ee7a05b27f68ceab3) 20617 0 "
       ]
      },
      {
       "output_type": "stream",
       "stream": "stdout",
       "text": [
        "20617 0\n",
        "None+Vie de merde (#51c6619fe7a05b27f68ceb4c) 18476 -1 "
       ]
      },
      {
       "output_type": "stream",
       "stream": "stdout",
       "text": [
        "18482 3\n",
        "None+WWF.fr  - Actualit\u00e9s (#51c661a0e7a05b27f68cec4f) 1435 0 "
       ]
      },
      {
       "output_type": "stream",
       "stream": "stdout",
       "text": [
        "1435 0\n",
        "None+yongfook (#51c661a1e7a05b27f68cec5e) 0 0 "
       ]
      },
      {
       "output_type": "stream",
       "stream": "stdout",
       "text": [
        "0 0\n",
        "None+zoupic - le propre de l'Om (#51c661a1e7a05b27f68cec74) 11 1 "
       ]
      },
      {
       "output_type": "stream",
       "stream": "stdout",
       "text": [
        "11 1\n",
        "None+\u00bb Wedding Photography | Best Wedding Photographer Directory | ISPWP (#51c661a1e7a05b27f68cec7c) 526 22 "
       ]
      },
      {
       "output_type": "stream",
       "stream": "stdout",
       "text": [
        "526 22\n",
        "None+\u00c9cono \u00c9colo (#51c661a1e7a05b27f68ced0b) 584 0 "
       ]
      },
      {
       "output_type": "stream",
       "stream": "stdout",
       "text": [
        "584 0\n",
        "None+Le Monde\u00a0: \u00e0 la une (#51c96c57e7a05b27f698b38a) 105770 -5 "
       ]
      },
      {
       "output_type": "stream",
       "stream": "stdout",
       "text": [
        "105788 16\n",
        "None+Fubiz\u2122 (#51c96c52e7a05b27f698b220) 553 489 "
       ]
      },
      {
       "output_type": "stream",
       "stream": "stdout",
       "text": [
        "555 491\n",
        "None+Kernel Panic (#51c96bcae7a05b27f6988dd1) 30 8 "
       ]
      },
      {
       "output_type": "stream",
       "stream": "stdout",
       "text": [
        "30 6\n",
        "None+FFFFOUND! / EVERYONE (#51c96c16e7a05b27f698a9fd) 1411 -1 "
       ]
      },
      {
       "output_type": "stream",
       "stream": "stdout",
       "text": [
        "1414 2\n",
        "None+MacStories (#51c96a14e7a05b27f698608c) 264 0 "
       ]
      },
      {
       "output_type": "stream",
       "stream": "stdout",
       "text": [
        "266 2\n",
        "None+Welovemac (#51c96a17e7a05b27f69862d1) 294 40 "
       ]
      },
      {
       "output_type": "stream",
       "stream": "stdout",
       "text": [
        "294 40\n",
        "None+iPhone News, Apps, BigBoss, Guides &amp; Jailbreaking (#51c96bdae7a05b27f6989a1d) 24 0 "
       ]
      },
      {
       "output_type": "stream",
       "stream": "stdout",
       "text": [
        "24 0\n",
        "None+[cmdshft] (#51c96bf9e7a05b27f698a88d) 0 0 "
       ]
      },
      {
       "output_type": "stream",
       "stream": "stdout",
       "text": [
        "0 0\n",
        "None+frenchiPhone (#51c96c06e7a05b27f698a8c7) 541 0 "
       ]
      },
      {
       "output_type": "stream",
       "stream": "stdout",
       "text": [
        "557 16\n",
        "None+Dev-Team Blog (#51c96c17e7a05b27f698aa23) 21 0 "
       ]
      },
      {
       "output_type": "stream",
       "stream": "stdout",
       "text": [
        "21 0\n",
        "None+LinuxFr.org RSS 2.0 (merge with #51c66188e7a05b27f68ce4fa) (#51c96c36e7a05b27f698add6) 101 0 "
       ]
      },
      {
       "output_type": "stream",
       "stream": "stdout",
       "text": [
        "101 0\n",
        "None+iG\u00e9n\u00e9ration (#51c96c45e7a05b27f698b0ac) 1333 0 "
       ]
      },
      {
       "output_type": "stream",
       "stream": "stdout",
       "text": [
        "1337 27\n",
        "None+Le Monde.fr : \u00e0 la Une #3 (#51c96c45e7a05b27f698b0b3) 3600 -5 "
       ]
      },
      {
       "output_type": "stream",
       "stream": "stdout",
       "text": [
        "3617 8\n",
        "None+Mac G\u00e9n\u00e9ration (#51c96c4ee7a05b27f698b181) 1059 3 "
       ]
      },
      {
       "output_type": "stream",
       "stream": "stdout",
       "text": [
        "1062 6\n",
        "None+Macplus : les d\u00e9p\u00eaches (#51c96c4ee7a05b27f698b195) 8 0 "
       ]
      },
      {
       "output_type": "stream",
       "stream": "stdout",
       "text": [
        "8 0\n",
        "None+Mails Boulets (#51c96c4fe7a05b27f698b1b1) 50 0 "
       ]
      },
      {
       "output_type": "stream",
       "stream": "stdout",
       "text": [
        "42 0\n",
        "None+Le flux RSS de LaBanane.org - Derni\u00e8res blagues (#51c96c4fe7a05b27f698b1bb) 60 57 "
       ]
      },
      {
       "output_type": "stream",
       "stream": "stdout",
       "text": [
        "60 57\n",
        "None+Planet 5D (#51c96c50e7a05b27f698b1c8) 177 0 "
       ]
      },
      {
       "output_type": "stream",
       "stream": "stdout",
       "text": [
        "177 0\n",
        "None+Chuck Norris Facts (#51c96c51e7a05b27f698b209) 40 0 "
       ]
      },
      {
       "output_type": "stream",
       "stream": "stdout",
       "text": [
        "40 0\n",
        "None+w3sh.com (#51c96c52e7a05b27f698b218) 495 443 "
       ]
      },
      {
       "output_type": "stream",
       "stream": "stdout",
       "text": [
        "495 443\n",
        "None+TrendsNow (#51c96c52e7a05b27f698b224) 276 244 "
       ]
      },
      {
       "output_type": "stream",
       "stream": "stdout",
       "text": [
        "276 244\n",
        "None+The Firmware Umbrella - TinyUmbrella (#51c96c53e7a05b27f698b2b1) 2 0 "
       ]
      },
      {
       "output_type": "stream",
       "stream": "stdout",
       "text": [
        "2 0\n",
        "None+Le Journal du Mac (#51c96c54e7a05b27f698b2c7) 22 20 "
       ]
      },
      {
       "output_type": "stream",
       "stream": "stdout",
       "text": [
        "22 20\n",
        "None+VirusPhoto - Actualit\u00e9 de la photo (#51c96c54e7a05b27f698b2d9) 11 8 "
       ]
      },
      {
       "output_type": "stream",
       "stream": "stdout",
       "text": [
        "11 8\n",
        "None+Le monde de la Photo (#51c96c54e7a05b27f698b2dd) 134 0 "
       ]
      },
      {
       "output_type": "stream",
       "stream": "stdout",
       "text": [
        "135 1\n",
        "None+LESNOUVELLESnews - A LA UNE (#51c96c56e7a05b27f698b307) 204 0 "
       ]
      },
      {
       "output_type": "stream",
       "stream": "stdout",
       "text": [
        "204 0\n",
        "None+\u00e9tapes: (#51c96c56e7a05b27f698b30c) 0 0 "
       ]
      },
      {
       "output_type": "stream",
       "stream": "stdout",
       "text": [
        "0 0\n",
        "None+Artskills (#51c96c56e7a05b27f698b32b) 65 56 "
       ]
      },
      {
       "output_type": "stream",
       "stream": "stdout",
       "text": [
        "65 56\n",
        "None+iClarified - Apple News and Tutorials (#51c96c57e7a05b27f698b3b7) 1214 0 "
       ]
      },
      {
       "output_type": "stream",
       "stream": "stdout",
       "text": [
        "1219 3\n",
        "None+ADEME \u2013 toute l'actualit\u00e9 (#51c96c57e7a05b27f698b3c1) 46 0 "
       ]
      },
      {
       "output_type": "stream",
       "stream": "stdout",
       "text": [
        "46 0\n",
        "None+Michael Paquier (#51cca9fbe7a05b27f6cf58d9) 125 14 "
       ]
      },
      {
       "output_type": "stream",
       "stream": "stderr",
       "text": [
        "Generic benchmark started 2013-10-06 11:56, ran in 8 minutes.\n"
       ]
      },
      {
       "output_type": "stream",
       "stream": "stdout",
       "text": [
        "125 14\n"
       ]
      }
     ],
     "prompt_number": 4
    },
    {
     "cell_type": "code",
     "collapsed": false,
     "input": [
      "f = Feed.objects.get(id=\"51c66183e7a05b27f68ce43a\")\n",
      "articles = f.articles\n",
      "good = f.good_articles\n",
      "f, articles.count(), good.count()"
     ],
     "language": "python",
     "metadata": {},
     "outputs": [
      {
       "metadata": {},
       "output_type": "pyout",
       "prompt_number": 8,
       "text": [
        "(<Feed: 1flow news (#51c66183e7a05b27f68ce43a)>, 34, 17)"
       ]
      }
     ],
     "prompt_number": 8
    },
    {
     "cell_type": "code",
     "collapsed": false,
     "input": [
      "print '\\n'.join(str(a) for a in articles if a not in good)"
     ],
     "language": "python",
     "metadata": {},
     "outputs": [
      {
       "output_type": "stream",
       "stream": "stdout",
       "text": [
        "Landing page hits the web (#51c6618ce7a05b27f68ce5f0) from http://blog.1flow.net/landing-page-hits-the-web.html Development status &amp; thoughts (#51c6618fe7a05b27f68ce6a2) from http://blog.1flow.net/development-status-thoughts.html Last-minute releases notes and numbers (#527676aea246392b4b7bdf5a) from http://blog.1flow.io/post/65817967872 1flow home page is back online (#527b80f6771103427c6d618a) from http://blog.1flow.io/post/66208197457 For those trying to use the LinkedIn soc\u2026 (#526fd689a246390e5712ae42) from http://blog.1flow.io/post/65325193403 Announcing a major speed boost in readin\u2026 (#5272e9e9a246396d72e7f54a) from http://blog.1flow.io/post/65604310521 Activated full-text and web import for e\u2026 (#527375f3a24639178a107a73) from http://blog.1flow.io/post/65634749955 Preliminary support of [any kind of] web\u2026 (#529369cda2463953c73a633e) from http://blog.1flow.io/post/64513255946 Stream selector refinements and new feat\u2026 (#529369cea2463953c73a6343) from http://blog.1flow.io/post/64373855525 New Stream Selector (#529369cea2463953c73a6348) from http://blog.1flow.io/post/63942071953 Read preferences are being deployed into\u2026 (#529369cea2463953c73a634d) from http://blog.1flow.io/post/62343800690 Some screenshots of the new fullscreen r\u2026 (#529369cea2463953c73a6352) from http://blog.1flow.io/post/62321339492 Something is coming, folks. Some of you \u2026 (#529369cea2463953c73a6357) from http://blog.1flow.io/post/61392485062 Seems everyone is slowly coming back to \u2026 (#529369cea2463953c73a635c) from http://blog.1flow.io/post/60383359027 Pre-beta teasing :-)\n",
        "\n",
        "Don\u2019t worry about \u2026 (#529369cea2463953c73a6361) from http://blog.1flow.io/post/60098708012 Daily numbers and status (#529369cfa2463953c73a6366) from http://blog.1flow.io/post/59609302032 1flow blog has moved! (#529369cfa2463953c73a636b) from http://blog.1flow.io/post/59410536612\n"
       ]
      }
     ],
     "prompt_number": 11
    },
    {
     "cell_type": "code",
     "collapsed": false,
     "input": [
      "f.refresh(force=True)"
     ],
     "language": "python",
     "metadata": {},
     "outputs": [
      {
       "output_type": "stream",
       "stream": "stderr",
       "text": [
        "Forcing refresh of recently fetched feed 1flow news (#51c66183e7a05b27f68ce43a).\n"
       ]
      },
      {
       "output_type": "stream",
       "stream": "stderr",
       "text": [
        "Refreshing feed 1flow news (#51c66183e7a05b27f68ce43a)\u2026\n"
       ]
      },
      {
       "output_type": "stream",
       "stream": "stderr",
       "text": [
        "Duplicate article \u201c1flow home page is back online\u201d (url: http://blog.1flow.io/post/66208197457) in feed(s) 1flow news (#51c66183e7a05b27f68ce43a).\n"
       ]
      },
      {
       "output_type": "stream",
       "stream": "stderr",
       "text": [
        "Duplicate article \u201cLast-minute releases notes and numbers\u201d (url: http://blog.1flow.io/post/65817967872) in feed(s) 1flow news (#51c66183e7a05b27f68ce43a).\n"
       ]
      },
      {
       "output_type": "stream",
       "stream": "stderr",
       "text": [
        "Duplicate article \u201cActivated full-text and web import for everyone, off for three weeks\u201d (url: http://blog.1flow.io/post/65634749955) in feed(s) 1flow news (#51c66183e7a05b27f68ce43a).\n"
       ]
      },
      {
       "output_type": "stream",
       "stream": "stderr",
       "text": [
        "Duplicate article \u201cAnnouncing a major speed boost in reading lists\u201d (url: http://blog.1flow.io/post/65604310521) in feed(s) 1flow news (#51c66183e7a05b27f68ce43a).\n"
       ]
      },
      {
       "output_type": "stream",
       "stream": "stderr",
       "text": [
        "Duplicate article \u201cFor those trying to use the LinkedIn social auth backend\u2026\u201d (url: http://blog.1flow.io/post/65325193403) in feed(s) 1flow news (#51c66183e7a05b27f68ce43a).\n"
       ]
      },
      {
       "output_type": "stream",
       "stream": "stderr",
       "text": [
        "Duplicate article \u201cPreliminary support of [any kind of] web element importing\u201d (url: http://blog.1flow.io/post/64513255946) in feed(s) 1flow news (#51c66183e7a05b27f68ce43a).\n"
       ]
      },
      {
       "output_type": "stream",
       "stream": "stderr",
       "text": [
        "Duplicate article \u201cStream selector refinements and new features\u201d (url: http://blog.1flow.io/post/64373855525) in feed(s) 1flow news (#51c66183e7a05b27f68ce43a).\n"
       ]
      },
      {
       "output_type": "stream",
       "stream": "stderr",
       "text": [
        "Duplicate article \u201cNew Stream Selector\u201d (url: http://blog.1flow.io/post/63942071953) in feed(s) 1flow news (#51c66183e7a05b27f68ce43a).\n"
       ]
      },
      {
       "output_type": "stream",
       "stream": "stderr",
       "text": [
        "Duplicate article \u201cRead preferences are being deployed into production now.\n",
        "\n",
        "Have a...\u201d (url: http://blog.1flow.io/post/62343800690) in feed(s) 1flow news (#51c66183e7a05b27f68ce43a).\n"
       ]
      },
      {
       "output_type": "stream",
       "stream": "stderr",
       "text": [
        "Duplicate article \u201cSome screenshots of the new fullscreen reading features in...\u201d (url: http://blog.1flow.io/post/62321339492) in feed(s) 1flow news (#51c66183e7a05b27f68ce43a).\n"
       ]
      },
      {
       "output_type": "stream",
       "stream": "stderr",
       "text": [
        "Duplicate article \u201cSomething is coming, folks. Some of you already found out how to...\u201d (url: http://blog.1flow.io/post/61392485062) in feed(s) 1flow news (#51c66183e7a05b27f68ce43a).\n"
       ]
      },
      {
       "output_type": "stream",
       "stream": "stderr",
       "text": [
        "Duplicate article \u201cSeems everyone is slowly coming back to work, starting September...\u201d (url: http://blog.1flow.io/post/60383359027) in feed(s) 1flow news (#51c66183e7a05b27f68ce43a).\n"
       ]
      },
      {
       "output_type": "stream",
       "stream": "stderr",
       "text": [
        "Duplicate article \u201cPre-beta teasing :-)\n",
        "\n",
        "Don\u2019t worry about the missing...\u201d (url: http://blog.1flow.io/post/60098708012) in feed(s) 1flow news (#51c66183e7a05b27f68ce43a).\n"
       ]
      },
      {
       "output_type": "stream",
       "stream": "stderr",
       "text": [
        "Duplicate article \u201cDaily numbers and status\u201d (url: http://blog.1flow.io/post/59609302032) in feed(s) 1flow news (#51c66183e7a05b27f68ce43a).\n"
       ]
      },
      {
       "output_type": "stream",
       "stream": "stderr",
       "text": [
        "Duplicate article \u201c1flow blog has moved!\u201d (url: http://blog.1flow.io/post/59410536612) in feed(s) 1flow news (#51c66183e7a05b27f68ce43a).\n"
       ]
      }
     ],
     "prompt_number": 12
    },
    {
     "cell_type": "code",
     "collapsed": false,
     "input": [
      "f.check_subscriptions(extended_check=True)"
     ],
     "language": "python",
     "metadata": {},
     "outputs": [
      {
       "output_type": "stream",
       "stream": "stderr",
       "text": [
        "Checked subscription #51c66183e7a05b27f68ce43b. 0/17 non-existing/re-checked, 0/0 read/unread and 0 not created.\n"
       ]
      },
      {
       "output_type": "stream",
       "stream": "stderr",
       "text": [
        "Checked subscription #5272bc3a84cc177dce781f4a. 1/16 non-existing/re-checked, 1/0 read/unread and 0 not created.\n"
       ]
      },
      {
       "output_type": "stream",
       "stream": "stderr",
       "text": [
        "Checked subscription #51cad28ee7a05b27f6bdd94a. 0/17 non-existing/re-checked, 0/0 read/unread and 0 not created.\n"
       ]
      },
      {
       "output_type": "stream",
       "stream": "stderr",
       "text": [
        "Checked Feed #51c66183e7a05b27f68ce43a with 3 subscriptionsand 17 articles. Totals: 1/50 non-existing/re-checked reads, 1/0 read/unread and 0 not created.\n"
       ]
      }
     ],
     "prompt_number": 16
    },
    {
     "cell_type": "code",
     "collapsed": false,
     "input": [
      "with benchmark('Check all feeds'):\n",
      "    for feed in Feed.objects(closed__ne=True):\n",
      "        with benchmark('check feed %s' % feed):\n",
      "            try:\n",
      "                feed.check_subscriptions(True)\n",
      "            except:\n",
      "                LOGGER.exception('BOOO')\n",
      "                break"
     ],
     "language": "python",
     "metadata": {},
     "outputs": [
      {
       "output_type": "stream",
       "stream": "stderr",
       "text": [
        "BOOO\n",
        "Traceback (most recent call last):\n",
        "  File \"<ipython-input-7-28154dc78387>\", line 5, in <module>\n",
        "    feed.check_subscriptions(True)\n",
        "  File \"oneflow/core/models/nonrel.py\", line 1305, in check_subscriptions\n",
        "    subscription.check_reads(force, articles)\n",
        "  File \"oneflow/core/models/nonrel.py\", line 2149, in check_reads\n",
        "    if params['is_read']:\n",
        "KeyError: 'is_read'\n"
       ]
      },
      {
       "output_type": "stream",
       "stream": "stderr",
       "text": [
        "check feed Rue89\u00a0: \u00e0 la une (#51c66183e7a05b27f68ce43c) started 2013-10-05 17:25, ran in a second.\n"
       ]
      },
      {
       "output_type": "stream",
       "stream": "stderr",
       "text": [
        "Check all feeds started 2013-10-05 17:25, ran in a second.\n"
       ]
      }
     ],
     "prompt_number": 7
    },
    {
     "cell_type": "code",
     "collapsed": false,
     "input": [
      "for s in u.subscriptions:\n",
      "    print '>> %s: %s / %s / %s / %s' % (s, s.all_articles_count, s.unread_articles_count, s.starred_articles_count, s.bookmarked_articles_count)"
     ],
     "language": "python",
     "metadata": {},
     "outputs": [
      {
       "output_type": "stream",
       "stream": "stdout",
       "text": [
        ">> None+01KiteSurf.com - Actualit\u00e9s du kitesurf au quotidien (#51c66183e7a05b27f68ce437): 0 / 0 / 0 / 0\n",
        ">> None+01KiteSurf.com - Vid\u00e9os du kitesurf au quotidien (#51c66183e7a05b27f68ce439): 0 / 0 / 0 / 0\n",
        ">> None+1flow news (#51c66183e7a05b27f68ce43b): 0 / 0 / 0 / 0\n",
        ">> None+Rue89\u00a0: \u00e0 la une (#51c66183e7a05b27f68ce43d): 26 / 26 / 0 / 0\n",
        ">> None+Actu-Environnement (#51c66183e7a05b27f68ce43f): 0 / 0 / 0 / 0\n",
        ">> None+APCKITE - Association de kitesurf du bassin d'Arcachon (#51c66183e7a05b27f68ce441): 1 / 1 / 0 / 0\n",
        ">> None+Brisbane Wedding Photographer | Jonas Peterson (#51c66183e7a05b27f68ce443): 0 / 0 / 0 / 0\n",
        ">> None+Build 47 (#51c66183e7a05b27f68ce445): 0 / 0 / 0 / 0\n",
        ">> None+California Wedding Photographer, Photography Worldwide - Victor ... (#51c66183e7a05b27f68ce447): 0 / 0 / 0 / 0\n",
        ">> None+Canon Rumors (#51c66184e7a05b27f68ce449): 0 / 0 / 0 / 0\n",
        ">> None+Canonical Job Feed (#51c66184e7a05b27f68ce44b): 0 / 0 / 0 / 0\n",
        ">> None+CNRS (#51c66184e7a05b27f68ce44d): 0 / 0 / 0 / 0\n",
        ">> None+CruiseControl RSS feed for Archipel (#51c66184e7a05b27f68ce44f): 0 / 0 / 0 / 0\n",
        ">> None+David Huitorel (#51c66184e7a05b27f68ce451): 0 / 0 / 0 / 0\n",
        ">> None+David Winterbottom (@codeinthehole) (#51c66184e7a05b27f68ce453): 0 / 0 / 0 / 0\n",
        ">> None+dBoite blog (#51c66184e7a05b27f68ce455): 0 / 0 / 0 / 0\n",
        ">> None+delroth's blog (#51c66184e7a05b27f68ce457): 0 / 0 / 0 / 0\n",
        ">> None+DPReviews (#51c66184e7a05b27f68ce459): 0 / 0 / 0 / 0\n",
        ">> None+DragonFly BSD Digest (#51c66184e7a05b27f68ce45b): 0 / 0 / 0 / 0\n",
        ">> None+D\u00e9veloppement durable | Actualit\u00e9s d\u00e9veloppement durable RSS (#51c66184e7a05b27f68ce45d): 0 / 0 / 0 / 0\n",
        ">> None+Flysurf.com news channel (#51c66184e7a05b27f68ce45f): 0 / 0 / 0 / 0\n",
        ">> None+French Wedding Photographer Paris Loire vallee Cote d'azur ... (#51c66184e7a05b27f68ce461): 0 / 0 / 0 / 0\n",
        ">> None+Great America (#51c66184e7a05b27f68ce463): 0 / 0 / 0 / 0\n",
        ">> None+GreenIT.fr (#51c66185e7a05b27f68ce465): 0 / 0 / 0 / 0\n",
        ">> None+Greenpeace France (#51c66185e7a05b27f68ce46a): 0 / 0 / 0 / 0\n",
        ">> None+Infinit Blog (#51c66185e7a05b27f68ce46c): 0 / 0 / 0 / 0\n",
        ">> None+Jardins Co-cr\u00e9atifs (#51c66185e7a05b27f68ce46e): 0 / 0 / 0 / 0\n",
        ">> None+Kevin Tran (#51c66185e7a05b27f68ce477): 0 / 0 / 0 / 0\n",
        ">> None+Le flux RSS DTC (#51c66185e7a05b27f68ce48a): 0 / 0 / 0 / 0"
       ]
      },
      {
       "output_type": "stream",
       "stream": "stdout",
       "text": [
        "\n",
        ">> None+Les 400 culs (#51c66186e7a05b27f68ce494): 0 / 0 / 0 / 0\n",
        ">> None+Lib\u00e9ration\u00a0: \u00e0 la une (#51c66186e7a05b27f68ce4a7): 25 / 25 / 0 / 0\n",
        ">> None+Licorn Blog (#51c66187e7a05b27f68ce4bb): 0 / 0 / 0 / 0\n",
        ">> None+Licorn Timeline (#51c66188e7a05b27f68ce4d1): 0 / 0 / 0 / 0\n",
        ">> None+Licorn\u00ae: efficient server management (#51c66188e7a05b27f68ce4e8): 0 / 0 / 0 / 0\n",
        ">> None+LinuxFr (#51c66188e7a05b27f68ce4ff): 0 / 0 / 0 / 0\n",
        ">> None+L'\u00e9co-Blog (#51c66188e7a05b27f68ce536): 0 / 0 / 0 / 0\n",
        ">> None+MacBidouille (#51c66189e7a05b27f68ce54e): 0 / 0 / 0 / 0\n",
        ">> None+MacGeneration (#51c66189e7a05b27f68ce565): 0 / 0 / 0 / 0\n",
        ">> None+Neopythonic (#51c66189e7a05b27f68ce575): 0 / 0 / 0 / 0\n",
        ">> None+Nikon Rumors (#51c6618ae7a05b27f68ce592): 0 / 0 / 0 / 0\n",
        ">> None+notre-planete.info (#51c6618ae7a05b27f68ce5aa): 0 / 0 / 0 / 0\n",
        ">> None+Noyau d'Olive (#51c6618ce7a05b27f68ce5c0): 0 / 0 / 0 / 0\n",
        ">> None+Orange County | Los Angeles | Wedding Photographer (#51c6618ce7a05b27f68ce5da): 0 / 0 / 0 / 0\n",
        ">> None+Planet FreeBSD (#51c6618ce7a05b27f68ce62c): 0 / 0 / 0 / 0\n",
        ">> None+Planet Ubuntu (#51c6618de7a05b27f68ce648): 0 / 0 / 0 / 0\n",
        ">> None+Python News (#51c6618fe7a05b27f68ce6a8): 0 / 0 / 0 / 0\n",
        ">> None+R\u00e9f\u00e9rencement de site internet - Pikock | Scoop.it (#51c66190e7a05b27f68ce716): 0 / 0 / 0 / 0\n",
        ">> None+R\u00e9seaux & T\u00e9l\u00e9coms (#51c66192e7a05b27f68ce77e): 0 / 0 / 0 / 0\n",
        ">> None+Silicon.fr (#51c66192e7a05b27f68ce7d3): 0 / 0 / 0 / 0\n",
        ">> None+Sophie Delaveau (#51c66195e7a05b27f68ce835): 0 / 0 / 0 / 0\n",
        ">> None+Surfrider Foundation (#51c66197e7a05b27f68ce8c4): 0 / 0 / 0 / 0\n",
        ">> None+TechCrunch France (#51c6619ae7a05b27f68ce92a): 0 / 0 / 0 / 0\n",
        ">> None+The History of Python (#51c6619be7a05b27f68ce964): 0 / 0 / 0 / 0\n",
        ">> None+The Setup (#51c6619ce7a05b27f68cea00): 0 / 0 / 0 / 0\n",
        ">> None+Tom's Hardware - Actualit\u00e9 mat\u00e9riel informatique, multim\u00e9dia, Internet (#51c6619ee7a05b27f68ceab3): 30 / 26 / 0 / 0\n",
        ">> None+Vie de merde (#51c6619fe7a05b27f68ceb4c): 0 / 0 / 0 / 0\n",
        ">> None+WWF.fr  - Actualit\u00e9s (#51c661a0e7a05b27f68cec4f): 0 / 0 / 0 / 0\n",
        ">> None+yongfook (#51c661a1e7a05b27f68cec5e): 0 / 0 / 0 / 0"
       ]
      },
      {
       "output_type": "stream",
       "stream": "stdout",
       "text": [
        "\n",
        ">> None+zoupic - le propre de l'Om (#51c661a1e7a05b27f68cec74): 0 / 0 / 0 / 0\n",
        ">> None+\u00bb Wedding Photography | Best Wedding Photographer Directory | ISPWP (#51c661a1e7a05b27f68cec7c): 0 / 0 / 0 / 0\n",
        ">> None+\u00c9cono \u00c9colo (#51c661a1e7a05b27f68ced0b): 0 / 0 / 0 / 0\n",
        ">> None+Le Monde\u00a0: \u00e0 la une (#51c96c57e7a05b27f698b38a): 26 / 26 / 0 / 0\n",
        ">> None+Fubiz\u2122 (#51c96c52e7a05b27f698b220): 0 / 0 / 0 / 0\n",
        ">> None+Kernel Panic (#51c96bcae7a05b27f6988dd1): 0 / 0 / 0 / 0\n",
        ">> None+FFFFOUND! / EVERYONE (#51c96c16e7a05b27f698a9fd): 0 / 0 / 0 / 0"
       ]
      },
      {
       "output_type": "stream",
       "stream": "stdout",
       "text": [
        "\n",
        ">> None+MacStories (#51c96a14e7a05b27f698608c): 0 / 0 / 0 / 0"
       ]
      },
      {
       "output_type": "stream",
       "stream": "stdout",
       "text": [
        "\n",
        ">> None+Welovemac (#51c96a17e7a05b27f69862d1): 0 / 0 / 0 / 0"
       ]
      },
      {
       "output_type": "stream",
       "stream": "stdout",
       "text": [
        "\n",
        ">> None+iPhone News, Apps, BigBoss, Guides &amp; Jailbreaking (#51c96bdae7a05b27f6989a1d): 0 / 0 / 0 / 0"
       ]
      },
      {
       "output_type": "stream",
       "stream": "stdout",
       "text": [
        "\n",
        ">> None+[cmdshft] (#51c96bf9e7a05b27f698a88d): 0 / 0 / 0 / 0"
       ]
      },
      {
       "output_type": "stream",
       "stream": "stdout",
       "text": [
        "\n",
        ">> None+frenchiPhone (#51c96c06e7a05b27f698a8c7): 0 / 0 / 0 / 0"
       ]
      },
      {
       "output_type": "stream",
       "stream": "stdout",
       "text": [
        "\n",
        ">> None+Dev-Team Blog (#51c96c17e7a05b27f698aa23): 0 / 0 / 0 / 0"
       ]
      },
      {
       "output_type": "stream",
       "stream": "stdout",
       "text": [
        "\n",
        ">> None+LinuxFr.org RSS 2.0 (merge with #51c66188e7a05b27f68ce4fa) (#51c96c36e7a05b27f698add6): 0 / 0 / 0 / 0"
       ]
      },
      {
       "output_type": "stream",
       "stream": "stdout",
       "text": [
        "\n",
        ">> None+iG\u00e9n\u00e9ration (#51c96c45e7a05b27f698b0ac): 0 / 0 / 0 / 0"
       ]
      },
      {
       "ename": "KeyboardInterrupt",
       "evalue": "",
       "output_type": "pyerr",
       "traceback": [
        "\u001b[1;31m---------------------------------------------------------------------------\u001b[0m\n\u001b[1;31mKeyboardInterrupt\u001b[0m                         Traceback (most recent call last)",
        "\u001b[1;32m<ipython-input-6-b1481fb377ad>\u001b[0m in \u001b[0;36m<module>\u001b[1;34m()\u001b[0m\n\u001b[0;32m      1\u001b[0m \u001b[1;32mfor\u001b[0m \u001b[0ms\u001b[0m \u001b[1;32min\u001b[0m \u001b[0mu\u001b[0m\u001b[1;33m.\u001b[0m\u001b[0msubscriptions\u001b[0m\u001b[1;33m:\u001b[0m\u001b[1;33m\u001b[0m\u001b[0m\n\u001b[1;32m----> 2\u001b[1;33m     \u001b[1;32mprint\u001b[0m \u001b[1;34m'>> %s: %s / %s / %s / %s'\u001b[0m \u001b[1;33m%\u001b[0m \u001b[1;33m(\u001b[0m\u001b[0ms\u001b[0m\u001b[1;33m,\u001b[0m \u001b[0ms\u001b[0m\u001b[1;33m.\u001b[0m\u001b[0mall_articles_count\u001b[0m\u001b[1;33m,\u001b[0m \u001b[0ms\u001b[0m\u001b[1;33m.\u001b[0m\u001b[0munread_articles_count\u001b[0m\u001b[1;33m,\u001b[0m \u001b[0ms\u001b[0m\u001b[1;33m.\u001b[0m\u001b[0mstarred_articles_count\u001b[0m\u001b[1;33m,\u001b[0m \u001b[0ms\u001b[0m\u001b[1;33m.\u001b[0m\u001b[0mbookmarked_articles_count\u001b[0m\u001b[1;33m)\u001b[0m\u001b[1;33m\u001b[0m\u001b[0m\n\u001b[0m",
        "\u001b[1;32m/home/1flow/www/src/oneflow/base/fields/__init__.pyc\u001b[0m in \u001b[0;36m__get__\u001b[1;34m(self, instance, objtype)\u001b[0m\n\u001b[0;32m     93\u001b[0m                 \u001b[1;31m# NAH. first-time __get__?\u001b[0m\u001b[1;33m\u001b[0m\u001b[1;33m\u001b[0m\u001b[0m\n\u001b[0;32m     94\u001b[0m                 \u001b[0mkey_name\u001b[0m \u001b[1;33m=\u001b[0m \u001b[1;34m'_r_c_d_'\u001b[0m \u001b[1;33m+\u001b[0m \u001b[0mself\u001b[0m\u001b[1;33m.\u001b[0m\u001b[0mcache_key\u001b[0m\u001b[1;33m\u001b[0m\u001b[0m\n\u001b[1;32m---> 95\u001b[1;33m                 \u001b[0mvalue\u001b[0m    \u001b[1;33m=\u001b[0m \u001b[0mself\u001b[0m\u001b[1;33m.\u001b[0m\u001b[0m__get_internal\u001b[0m\u001b[1;33m(\u001b[0m\u001b[0minstance\u001b[0m\u001b[1;33m,\u001b[0m \u001b[0mobjtype\u001b[0m\u001b[1;33m)\u001b[0m\u001b[1;33m\u001b[0m\u001b[0m\n\u001b[0m\u001b[0;32m     96\u001b[0m \u001b[1;33m\u001b[0m\u001b[0m\n\u001b[0;32m     97\u001b[0m                 \u001b[0msetattr\u001b[0m\u001b[1;33m(\u001b[0m\u001b[0minstance\u001b[0m\u001b[1;33m,\u001b[0m \u001b[0mkey_name\u001b[0m\u001b[1;33m,\u001b[0m \u001b[0mvalue\u001b[0m\u001b[1;33m)\u001b[0m\u001b[1;33m\u001b[0m\u001b[0m\n",
        "\u001b[1;32m/home/1flow/www/src/oneflow/base/fields/__init__.pyc\u001b[0m in \u001b[0;36m__get_internal\u001b[1;34m(self, instance, objtype)\u001b[0m\n\u001b[0;32m    131\u001b[0m                     \u001b[1;31m# value computation against parallel execution, else the\u001b[0m\u001b[1;33m\u001b[0m\u001b[1;33m\u001b[0m\u001b[0m\n\u001b[0;32m    132\u001b[0m                     \u001b[1;31m# callers could get bad results.\u001b[0m\u001b[1;33m\u001b[0m\u001b[1;33m\u001b[0m\u001b[0m\n\u001b[1;32m--> 133\u001b[1;33m                     \u001b[0mval\u001b[0m \u001b[1;33m=\u001b[0m \u001b[0mself\u001b[0m\u001b[1;33m.\u001b[0m\u001b[0m__protected_default\u001b[0m\u001b[1;33m(\u001b[0m\u001b[0minstance\u001b[0m\u001b[1;33m)\u001b[0m\u001b[1;33m\u001b[0m\u001b[0m\n\u001b[0m\u001b[0;32m    134\u001b[0m \u001b[1;33m\u001b[0m\u001b[0m\n\u001b[0;32m    135\u001b[0m                     \u001b[1;32mif\u001b[0m \u001b[0mself\u001b[0m\u001b[1;33m.\u001b[0m\u001b[0mset_default\u001b[0m\u001b[1;33m:\u001b[0m\u001b[1;33m\u001b[0m\u001b[0m\n",
        "\u001b[1;32m/home/1flow/www/src/oneflow/base/fields/__init__.pyc\u001b[0m in \u001b[0;36m__protected_default\u001b[1;34m(self, instance)\u001b[0m\n\u001b[0;32m    155\u001b[0m         \u001b[1;32mif\u001b[0m \u001b[0mmy_lock\u001b[0m\u001b[1;33m.\u001b[0m\u001b[0macquire\u001b[0m\u001b[1;33m(\u001b[0m\u001b[0mreentrant_id\u001b[0m\u001b[1;33m=\u001b[0m\u001b[0mself\u001b[0m\u001b[1;33m.\u001b[0m\u001b[0muuid\u001b[0m\u001b[1;33m)\u001b[0m\u001b[1;33m:\u001b[0m\u001b[1;33m\u001b[0m\u001b[0m\n\u001b[0;32m    156\u001b[0m             \u001b[1;32mtry\u001b[0m\u001b[1;33m:\u001b[0m\u001b[1;33m\u001b[0m\u001b[0m\n\u001b[1;32m--> 157\u001b[1;33m                 \u001b[1;32mreturn\u001b[0m \u001b[0mself\u001b[0m\u001b[1;33m.\u001b[0m\u001b[0mdefault\u001b[0m\u001b[1;33m(\u001b[0m\u001b[0minstance\u001b[0m\u001b[1;33m)\u001b[0m\u001b[1;33m\u001b[0m\u001b[0m\n\u001b[0m\u001b[0;32m    158\u001b[0m \u001b[1;33m\u001b[0m\u001b[0m\n\u001b[0;32m    159\u001b[0m             \u001b[1;32mfinally\u001b[0m\u001b[1;33m:\u001b[0m\u001b[1;33m\u001b[0m\u001b[0m\n",
        "\u001b[1;32m/home/1flow/www/src/oneflow/core/models/nonrel.pyc\u001b[0m in \u001b[0;36msubscription_bookmarked_articles_count_default\u001b[1;34m(subscription)\u001b[0m\n\u001b[0;32m   1967\u001b[0m \u001b[1;32mdef\u001b[0m \u001b[0msubscription_bookmarked_articles_count_default\u001b[0m\u001b[1;33m(\u001b[0m\u001b[0msubscription\u001b[0m\u001b[1;33m)\u001b[0m\u001b[1;33m:\u001b[0m\u001b[1;33m\u001b[0m\u001b[0m\n\u001b[0;32m   1968\u001b[0m \u001b[1;33m\u001b[0m\u001b[0m\n\u001b[1;32m-> 1969\u001b[1;33m     \u001b[1;32mreturn\u001b[0m \u001b[0msubscription\u001b[0m\u001b[1;33m.\u001b[0m\u001b[0mreads\u001b[0m\u001b[1;33m.\u001b[0m\u001b[0mfilter\u001b[0m\u001b[1;33m(\u001b[0m\u001b[0mis_bookmarked\u001b[0m\u001b[1;33m=\u001b[0m\u001b[0mTrue\u001b[0m\u001b[1;33m)\u001b[0m\u001b[1;33m.\u001b[0m\u001b[0mcount\u001b[0m\u001b[1;33m(\u001b[0m\u001b[1;33m)\u001b[0m\u001b[1;33m\u001b[0m\u001b[0m\n\u001b[0m\u001b[0;32m   1970\u001b[0m \u001b[1;33m\u001b[0m\u001b[0m\n\u001b[0;32m   1971\u001b[0m \u001b[1;33m\u001b[0m\u001b[0m\n",
        "\u001b[1;32m/home/1flow/.virtualenvs/1flow/local/lib/python2.7/site-packages/mongoengine/queryset/queryset.pyc\u001b[0m in \u001b[0;36mcount\u001b[1;34m(self, with_limit_and_skip)\u001b[0m\n\u001b[0;32m    106\u001b[0m \u001b[1;33m\u001b[0m\u001b[0m\n\u001b[0;32m    107\u001b[0m         \u001b[1;32mif\u001b[0m \u001b[0mself\u001b[0m\u001b[1;33m.\u001b[0m\u001b[0m_len\u001b[0m \u001b[1;32mis\u001b[0m \u001b[0mNone\u001b[0m\u001b[1;33m:\u001b[0m\u001b[1;33m\u001b[0m\u001b[0m\n\u001b[1;32m--> 108\u001b[1;33m             \u001b[0mself\u001b[0m\u001b[1;33m.\u001b[0m\u001b[0m_len\u001b[0m \u001b[1;33m=\u001b[0m \u001b[0msuper\u001b[0m\u001b[1;33m(\u001b[0m\u001b[0mQuerySet\u001b[0m\u001b[1;33m,\u001b[0m \u001b[0mself\u001b[0m\u001b[1;33m)\u001b[0m\u001b[1;33m.\u001b[0m\u001b[0mcount\u001b[0m\u001b[1;33m(\u001b[0m\u001b[0mwith_limit_and_skip\u001b[0m\u001b[1;33m)\u001b[0m\u001b[1;33m\u001b[0m\u001b[0m\n\u001b[0m\u001b[0;32m    109\u001b[0m \u001b[1;33m\u001b[0m\u001b[0m\n\u001b[0;32m    110\u001b[0m         \u001b[1;32mreturn\u001b[0m \u001b[0mself\u001b[0m\u001b[1;33m.\u001b[0m\u001b[0m_len\u001b[0m\u001b[1;33m\u001b[0m\u001b[0m\n",
        "\u001b[1;32m/home/1flow/.virtualenvs/1flow/local/lib/python2.7/site-packages/mongoengine/queryset/base.pyc\u001b[0m in \u001b[0;36mcount\u001b[1;34m(self, with_limit_and_skip)\u001b[0m\n\u001b[0;32m    334\u001b[0m         \u001b[1;32mif\u001b[0m \u001b[0mself\u001b[0m\u001b[1;33m.\u001b[0m\u001b[0m_limit\u001b[0m \u001b[1;33m==\u001b[0m \u001b[1;36m0\u001b[0m \u001b[1;32mand\u001b[0m \u001b[0mwith_limit_and_skip\u001b[0m\u001b[1;33m:\u001b[0m\u001b[1;33m\u001b[0m\u001b[0m\n\u001b[0;32m    335\u001b[0m             \u001b[1;32mreturn\u001b[0m \u001b[1;36m0\u001b[0m\u001b[1;33m\u001b[0m\u001b[0m\n\u001b[1;32m--> 336\u001b[1;33m         \u001b[1;32mreturn\u001b[0m \u001b[0mself\u001b[0m\u001b[1;33m.\u001b[0m\u001b[0m_cursor\u001b[0m\u001b[1;33m.\u001b[0m\u001b[0mcount\u001b[0m\u001b[1;33m(\u001b[0m\u001b[0mwith_limit_and_skip\u001b[0m\u001b[1;33m=\u001b[0m\u001b[0mwith_limit_and_skip\u001b[0m\u001b[1;33m)\u001b[0m\u001b[1;33m\u001b[0m\u001b[0m\n\u001b[0m\u001b[0;32m    337\u001b[0m \u001b[1;33m\u001b[0m\u001b[0m\n\u001b[0;32m    338\u001b[0m     \u001b[1;32mdef\u001b[0m \u001b[0mdelete\u001b[0m\u001b[1;33m(\u001b[0m\u001b[0mself\u001b[0m\u001b[1;33m,\u001b[0m \u001b[0mwrite_concern\u001b[0m\u001b[1;33m=\u001b[0m\u001b[0mNone\u001b[0m\u001b[1;33m,\u001b[0m \u001b[0m_from_doc_delete\u001b[0m\u001b[1;33m=\u001b[0m\u001b[0mFalse\u001b[0m\u001b[1;33m)\u001b[0m\u001b[1;33m:\u001b[0m\u001b[1;33m\u001b[0m\u001b[0m\n",
        "\u001b[1;32m/home/1flow/.virtualenvs/1flow/local/lib/python2.7/site-packages/pymongo/cursor.pyc\u001b[0m in \u001b[0;36mcount\u001b[1;34m(self, with_limit_and_skip)\u001b[0m\n\u001b[0;32m    638\u001b[0m                              \u001b[0mallowable_errors\u001b[0m\u001b[1;33m=\u001b[0m\u001b[1;33m[\u001b[0m\u001b[1;34m\"ns missing\"\u001b[0m\u001b[1;33m]\u001b[0m\u001b[1;33m,\u001b[0m\u001b[1;33m\u001b[0m\u001b[0m\n\u001b[0;32m    639\u001b[0m                              \u001b[0muuid_subtype\u001b[0m\u001b[1;33m=\u001b[0m\u001b[0mself\u001b[0m\u001b[1;33m.\u001b[0m\u001b[0m__uuid_subtype\u001b[0m\u001b[1;33m,\u001b[0m\u001b[1;33m\u001b[0m\u001b[0m\n\u001b[1;32m--> 640\u001b[1;33m                              **command)\n\u001b[0m\u001b[0;32m    641\u001b[0m         \u001b[1;32mif\u001b[0m \u001b[0mr\u001b[0m\u001b[1;33m.\u001b[0m\u001b[0mget\u001b[0m\u001b[1;33m(\u001b[0m\u001b[1;34m\"errmsg\"\u001b[0m\u001b[1;33m,\u001b[0m \u001b[1;34m\"\"\u001b[0m\u001b[1;33m)\u001b[0m \u001b[1;33m==\u001b[0m \u001b[1;34m\"ns missing\"\u001b[0m\u001b[1;33m:\u001b[0m\u001b[1;33m\u001b[0m\u001b[0m\n\u001b[0;32m    642\u001b[0m             \u001b[1;32mreturn\u001b[0m \u001b[1;36m0\u001b[0m\u001b[1;33m\u001b[0m\u001b[0m\n",
        "\u001b[1;32m/home/1flow/.virtualenvs/1flow/local/lib/python2.7/site-packages/pymongo/database.pyc\u001b[0m in \u001b[0;36mcommand\u001b[1;34m(self, command, value, check, allowable_errors, uuid_subtype, **kwargs)\u001b[0m\n\u001b[0;32m    389\u001b[0m         \u001b[0mcommand\u001b[0m\u001b[1;33m.\u001b[0m\u001b[0mupdate\u001b[0m\u001b[1;33m(\u001b[0m\u001b[0mkwargs\u001b[0m\u001b[1;33m)\u001b[0m\u001b[1;33m\u001b[0m\u001b[0m\n\u001b[0;32m    390\u001b[0m \u001b[1;33m\u001b[0m\u001b[0m\n\u001b[1;32m--> 391\u001b[1;33m         \u001b[0mresult\u001b[0m \u001b[1;33m=\u001b[0m \u001b[0mself\u001b[0m\u001b[1;33m[\u001b[0m\u001b[1;34m\"$cmd\"\u001b[0m\u001b[1;33m]\u001b[0m\u001b[1;33m.\u001b[0m\u001b[0mfind_one\u001b[0m\u001b[1;33m(\u001b[0m\u001b[0mcommand\u001b[0m\u001b[1;33m,\u001b[0m \u001b[1;33m**\u001b[0m\u001b[0mextra_opts\u001b[0m\u001b[1;33m)\u001b[0m\u001b[1;33m\u001b[0m\u001b[0m\n\u001b[0m\u001b[0;32m    392\u001b[0m \u001b[1;33m\u001b[0m\u001b[0m\n\u001b[0;32m    393\u001b[0m         \u001b[1;32mif\u001b[0m \u001b[0mcheck\u001b[0m\u001b[1;33m:\u001b[0m\u001b[1;33m\u001b[0m\u001b[0m\n",
        "\u001b[1;32m/home/1flow/.virtualenvs/1flow/local/lib/python2.7/site-packages/pymongo/collection.pyc\u001b[0m in \u001b[0;36mfind_one\u001b[1;34m(self, spec_or_id, *args, **kwargs)\u001b[0m\n\u001b[0;32m    602\u001b[0m             \u001b[0mspec_or_id\u001b[0m \u001b[1;33m=\u001b[0m \u001b[1;33m{\u001b[0m\u001b[1;34m\"_id\"\u001b[0m\u001b[1;33m:\u001b[0m \u001b[0mspec_or_id\u001b[0m\u001b[1;33m}\u001b[0m\u001b[1;33m\u001b[0m\u001b[0m\n\u001b[0;32m    603\u001b[0m \u001b[1;33m\u001b[0m\u001b[0m\n\u001b[1;32m--> 604\u001b[1;33m         \u001b[1;32mfor\u001b[0m \u001b[0mresult\u001b[0m \u001b[1;32min\u001b[0m \u001b[0mself\u001b[0m\u001b[1;33m.\u001b[0m\u001b[0mfind\u001b[0m\u001b[1;33m(\u001b[0m\u001b[0mspec_or_id\u001b[0m\u001b[1;33m,\u001b[0m \u001b[1;33m*\u001b[0m\u001b[0margs\u001b[0m\u001b[1;33m,\u001b[0m \u001b[1;33m**\u001b[0m\u001b[0mkwargs\u001b[0m\u001b[1;33m)\u001b[0m\u001b[1;33m.\u001b[0m\u001b[0mlimit\u001b[0m\u001b[1;33m(\u001b[0m\u001b[1;33m-\u001b[0m\u001b[1;36m1\u001b[0m\u001b[1;33m)\u001b[0m\u001b[1;33m:\u001b[0m\u001b[1;33m\u001b[0m\u001b[0m\n\u001b[0m\u001b[0;32m    605\u001b[0m             \u001b[1;32mreturn\u001b[0m \u001b[0mresult\u001b[0m\u001b[1;33m\u001b[0m\u001b[0m\n\u001b[0;32m    606\u001b[0m         \u001b[1;32mreturn\u001b[0m \u001b[0mNone\u001b[0m\u001b[1;33m\u001b[0m\u001b[0m\n",
        "\u001b[1;32m/home/1flow/.virtualenvs/1flow/local/lib/python2.7/site-packages/pymongo/cursor.pyc\u001b[0m in \u001b[0;36mnext\u001b[1;34m(self)\u001b[0m\n\u001b[0;32m    902\u001b[0m             \u001b[1;32mraise\u001b[0m \u001b[0mStopIteration\u001b[0m\u001b[1;33m\u001b[0m\u001b[0m\n\u001b[0;32m    903\u001b[0m         \u001b[0mdb\u001b[0m \u001b[1;33m=\u001b[0m \u001b[0mself\u001b[0m\u001b[1;33m.\u001b[0m\u001b[0m__collection\u001b[0m\u001b[1;33m.\u001b[0m\u001b[0mdatabase\u001b[0m\u001b[1;33m\u001b[0m\u001b[0m\n\u001b[1;32m--> 904\u001b[1;33m         \u001b[1;32mif\u001b[0m \u001b[0mlen\u001b[0m\u001b[1;33m(\u001b[0m\u001b[0mself\u001b[0m\u001b[1;33m.\u001b[0m\u001b[0m__data\u001b[0m\u001b[1;33m)\u001b[0m \u001b[1;32mor\u001b[0m \u001b[0mself\u001b[0m\u001b[1;33m.\u001b[0m\u001b[0m_refresh\u001b[0m\u001b[1;33m(\u001b[0m\u001b[1;33m)\u001b[0m\u001b[1;33m:\u001b[0m\u001b[1;33m\u001b[0m\u001b[0m\n\u001b[0m\u001b[0;32m    905\u001b[0m             \u001b[1;32mif\u001b[0m \u001b[0mself\u001b[0m\u001b[1;33m.\u001b[0m\u001b[0m__manipulate\u001b[0m\u001b[1;33m:\u001b[0m\u001b[1;33m\u001b[0m\u001b[0m\n\u001b[0;32m    906\u001b[0m                 return db._fix_outgoing(self.__data.popleft(),\n",
        "\u001b[1;32m/home/1flow/.virtualenvs/1flow/local/lib/python2.7/site-packages/pymongo/cursor.pyc\u001b[0m in \u001b[0;36m_refresh\u001b[1;34m(self)\u001b[0m\n\u001b[0;32m    846\u001b[0m                               \u001b[0mself\u001b[0m\u001b[1;33m.\u001b[0m\u001b[0m__skip\u001b[0m\u001b[1;33m,\u001b[0m \u001b[0mntoreturn\u001b[0m\u001b[1;33m,\u001b[0m\u001b[1;33m\u001b[0m\u001b[0m\n\u001b[0;32m    847\u001b[0m                               \u001b[0mself\u001b[0m\u001b[1;33m.\u001b[0m\u001b[0m__query_spec\u001b[0m\u001b[1;33m(\u001b[0m\u001b[1;33m)\u001b[0m\u001b[1;33m,\u001b[0m \u001b[0mself\u001b[0m\u001b[1;33m.\u001b[0m\u001b[0m__fields\u001b[0m\u001b[1;33m,\u001b[0m\u001b[1;33m\u001b[0m\u001b[0m\n\u001b[1;32m--> 848\u001b[1;33m                               self.__uuid_subtype))\n\u001b[0m\u001b[0;32m    849\u001b[0m             \u001b[1;32mif\u001b[0m \u001b[1;32mnot\u001b[0m \u001b[0mself\u001b[0m\u001b[1;33m.\u001b[0m\u001b[0m__id\u001b[0m\u001b[1;33m:\u001b[0m\u001b[1;33m\u001b[0m\u001b[0m\n\u001b[0;32m    850\u001b[0m                 \u001b[0mself\u001b[0m\u001b[1;33m.\u001b[0m\u001b[0m__killed\u001b[0m \u001b[1;33m=\u001b[0m \u001b[0mTrue\u001b[0m\u001b[1;33m\u001b[0m\u001b[0m\n",
        "\u001b[1;32m/home/1flow/.virtualenvs/1flow/local/lib/python2.7/site-packages/pymongo/cursor.pyc\u001b[0m in \u001b[0;36m__send_message\u001b[1;34m(self, message)\u001b[0m\n\u001b[0;32m    780\u001b[0m \u001b[1;33m\u001b[0m\u001b[0m\n\u001b[0;32m    781\u001b[0m             \u001b[1;32mtry\u001b[0m\u001b[1;33m:\u001b[0m\u001b[1;33m\u001b[0m\u001b[0m\n\u001b[1;32m--> 782\u001b[1;33m                 \u001b[0mres\u001b[0m \u001b[1;33m=\u001b[0m \u001b[0mclient\u001b[0m\u001b[1;33m.\u001b[0m\u001b[0m_send_message_with_response\u001b[0m\u001b[1;33m(\u001b[0m\u001b[0mmessage\u001b[0m\u001b[1;33m,\u001b[0m \u001b[1;33m**\u001b[0m\u001b[0mkwargs\u001b[0m\u001b[1;33m)\u001b[0m\u001b[1;33m\u001b[0m\u001b[0m\n\u001b[0m\u001b[0;32m    783\u001b[0m                 \u001b[0mself\u001b[0m\u001b[1;33m.\u001b[0m\u001b[0m__connection_id\u001b[0m\u001b[1;33m,\u001b[0m \u001b[1;33m(\u001b[0m\u001b[0mresponse\u001b[0m\u001b[1;33m,\u001b[0m \u001b[0msock\u001b[0m\u001b[1;33m,\u001b[0m \u001b[0mpool\u001b[0m\u001b[1;33m)\u001b[0m \u001b[1;33m=\u001b[0m \u001b[0mres\u001b[0m\u001b[1;33m\u001b[0m\u001b[0m\n\u001b[0;32m    784\u001b[0m                 \u001b[1;32mif\u001b[0m \u001b[0mself\u001b[0m\u001b[1;33m.\u001b[0m\u001b[0m__exhaust\u001b[0m\u001b[1;33m:\u001b[0m\u001b[1;33m\u001b[0m\u001b[0m\n",
        "\u001b[1;32m/home/1flow/.virtualenvs/1flow/local/lib/python2.7/site-packages/pymongo/mongo_client.pyc\u001b[0m in \u001b[0;36m_send_message_with_response\u001b[1;34m(self, message, _must_use_master, **kwargs)\u001b[0m\n\u001b[0;32m   1040\u001b[0m                 \u001b[1;32mif\u001b[0m \u001b[1;32mnot\u001b[0m \u001b[0mexhaust\u001b[0m \u001b[1;32mand\u001b[0m \u001b[1;34m\"network_timeout\"\u001b[0m \u001b[1;32min\u001b[0m \u001b[0mkwargs\u001b[0m\u001b[1;33m:\u001b[0m\u001b[1;33m\u001b[0m\u001b[0m\n\u001b[0;32m   1041\u001b[0m                     \u001b[0msock_info\u001b[0m\u001b[1;33m.\u001b[0m\u001b[0msock\u001b[0m\u001b[1;33m.\u001b[0m\u001b[0msettimeout\u001b[0m\u001b[1;33m(\u001b[0m\u001b[0mkwargs\u001b[0m\u001b[1;33m[\u001b[0m\u001b[1;34m\"network_timeout\"\u001b[0m\u001b[1;33m]\u001b[0m\u001b[1;33m)\u001b[0m\u001b[1;33m\u001b[0m\u001b[0m\n\u001b[1;32m-> 1042\u001b[1;33m                 \u001b[0mresponse\u001b[0m \u001b[1;33m=\u001b[0m \u001b[0mself\u001b[0m\u001b[1;33m.\u001b[0m\u001b[0m__send_and_receive\u001b[0m\u001b[1;33m(\u001b[0m\u001b[0mmessage\u001b[0m\u001b[1;33m,\u001b[0m \u001b[0msock_info\u001b[0m\u001b[1;33m)\u001b[0m\u001b[1;33m\u001b[0m\u001b[0m\n\u001b[0m\u001b[0;32m   1043\u001b[0m \u001b[1;33m\u001b[0m\u001b[0m\n\u001b[0;32m   1044\u001b[0m                 \u001b[1;32mif\u001b[0m \u001b[1;32mnot\u001b[0m \u001b[0mexhaust\u001b[0m\u001b[1;33m:\u001b[0m\u001b[1;33m\u001b[0m\u001b[0m\n",
        "\u001b[1;32m/home/1flow/.virtualenvs/1flow/local/lib/python2.7/site-packages/pymongo/mongo_client.pyc\u001b[0m in \u001b[0;36m__send_and_receive\u001b[1;34m(self, message, sock_info)\u001b[0m\n\u001b[0;32m   1018\u001b[0m         \u001b[1;32mtry\u001b[0m\u001b[1;33m:\u001b[0m\u001b[1;33m\u001b[0m\u001b[0m\n\u001b[0;32m   1019\u001b[0m             \u001b[0msock_info\u001b[0m\u001b[1;33m.\u001b[0m\u001b[0msock\u001b[0m\u001b[1;33m.\u001b[0m\u001b[0msendall\u001b[0m\u001b[1;33m(\u001b[0m\u001b[0mdata\u001b[0m\u001b[1;33m)\u001b[0m\u001b[1;33m\u001b[0m\u001b[0m\n\u001b[1;32m-> 1020\u001b[1;33m             \u001b[1;32mreturn\u001b[0m \u001b[0mself\u001b[0m\u001b[1;33m.\u001b[0m\u001b[0m__receive_message_on_socket\u001b[0m\u001b[1;33m(\u001b[0m\u001b[1;36m1\u001b[0m\u001b[1;33m,\u001b[0m \u001b[0mrequest_id\u001b[0m\u001b[1;33m,\u001b[0m \u001b[0msock_info\u001b[0m\u001b[1;33m)\u001b[0m\u001b[1;33m\u001b[0m\u001b[0m\n\u001b[0m\u001b[0;32m   1021\u001b[0m         \u001b[1;32mexcept\u001b[0m\u001b[1;33m:\u001b[0m\u001b[1;33m\u001b[0m\u001b[0m\n\u001b[0;32m   1022\u001b[0m             \u001b[0msock_info\u001b[0m\u001b[1;33m.\u001b[0m\u001b[0mclose\u001b[0m\u001b[1;33m(\u001b[0m\u001b[1;33m)\u001b[0m\u001b[1;33m\u001b[0m\u001b[0m\n",
        "\u001b[1;32m/home/1flow/.virtualenvs/1flow/local/lib/python2.7/site-packages/pymongo/mongo_client.pyc\u001b[0m in \u001b[0;36m__receive_message_on_socket\u001b[1;34m(self, operation, rqst_id, sock_info)\u001b[0m\n\u001b[0;32m   1001\u001b[0m         \u001b[0mReturns\u001b[0m \u001b[0mthe\u001b[0m \u001b[0mresponse\u001b[0m \u001b[0mdata\u001b[0m \u001b[1;32mwith\u001b[0m \u001b[0mthe\u001b[0m \u001b[0mheader\u001b[0m \u001b[0mremoved\u001b[0m\u001b[1;33m.\u001b[0m\u001b[1;33m\u001b[0m\u001b[0m\n\u001b[0;32m   1002\u001b[0m         \"\"\"\n\u001b[1;32m-> 1003\u001b[1;33m         \u001b[0mheader\u001b[0m \u001b[1;33m=\u001b[0m \u001b[0mself\u001b[0m\u001b[1;33m.\u001b[0m\u001b[0m__receive_data_on_socket\u001b[0m\u001b[1;33m(\u001b[0m\u001b[1;36m16\u001b[0m\u001b[1;33m,\u001b[0m \u001b[0msock_info\u001b[0m\u001b[1;33m)\u001b[0m\u001b[1;33m\u001b[0m\u001b[0m\n\u001b[0m\u001b[0;32m   1004\u001b[0m         \u001b[0mlength\u001b[0m \u001b[1;33m=\u001b[0m \u001b[0mstruct\u001b[0m\u001b[1;33m.\u001b[0m\u001b[0munpack\u001b[0m\u001b[1;33m(\u001b[0m\u001b[1;34m\"<i\"\u001b[0m\u001b[1;33m,\u001b[0m \u001b[0mheader\u001b[0m\u001b[1;33m[\u001b[0m\u001b[1;33m:\u001b[0m\u001b[1;36m4\u001b[0m\u001b[1;33m]\u001b[0m\u001b[1;33m)\u001b[0m\u001b[1;33m[\u001b[0m\u001b[1;36m0\u001b[0m\u001b[1;33m]\u001b[0m\u001b[1;33m\u001b[0m\u001b[0m\n\u001b[0;32m   1005\u001b[0m         \u001b[1;31m# No rqst_id for exhaust cursor \"getMore\".\u001b[0m\u001b[1;33m\u001b[0m\u001b[1;33m\u001b[0m\u001b[0m\n",
        "\u001b[1;32m/home/1flow/.virtualenvs/1flow/local/lib/python2.7/site-packages/pymongo/mongo_client.pyc\u001b[0m in \u001b[0;36m__receive_data_on_socket\u001b[1;34m(self, length, sock_info)\u001b[0m\n\u001b[0;32m    989\u001b[0m         \u001b[0mmessage\u001b[0m \u001b[1;33m=\u001b[0m \u001b[0mEMPTY\u001b[0m\u001b[1;33m\u001b[0m\u001b[0m\n\u001b[0;32m    990\u001b[0m         \u001b[1;32mwhile\u001b[0m \u001b[0mlength\u001b[0m\u001b[1;33m:\u001b[0m\u001b[1;33m\u001b[0m\u001b[0m\n\u001b[1;32m--> 991\u001b[1;33m             \u001b[0mchunk\u001b[0m \u001b[1;33m=\u001b[0m \u001b[0msock_info\u001b[0m\u001b[1;33m.\u001b[0m\u001b[0msock\u001b[0m\u001b[1;33m.\u001b[0m\u001b[0mrecv\u001b[0m\u001b[1;33m(\u001b[0m\u001b[0mlength\u001b[0m\u001b[1;33m)\u001b[0m\u001b[1;33m\u001b[0m\u001b[0m\n\u001b[0m\u001b[0;32m    992\u001b[0m             \u001b[1;32mif\u001b[0m \u001b[0mchunk\u001b[0m \u001b[1;33m==\u001b[0m \u001b[0mEMPTY\u001b[0m\u001b[1;33m:\u001b[0m\u001b[1;33m\u001b[0m\u001b[0m\n\u001b[0;32m    993\u001b[0m                 \u001b[1;32mraise\u001b[0m \u001b[0mConnectionFailure\u001b[0m\u001b[1;33m(\u001b[0m\u001b[1;34m\"connection closed\"\u001b[0m\u001b[1;33m)\u001b[0m\u001b[1;33m\u001b[0m\u001b[0m\n",
        "\u001b[1;31mKeyboardInterrupt\u001b[0m: "
       ]
      },
      {
       "output_type": "stream",
       "stream": "stdout",
       "text": [
        "\n"
       ]
      }
     ],
     "prompt_number": 6
    },
    {
     "cell_type": "code",
     "collapsed": false,
     "input": [],
     "language": "python",
     "metadata": {},
     "outputs": []
    },
    {
     "cell_type": "code",
     "collapsed": false,
     "input": [],
     "language": "python",
     "metadata": {},
     "outputs": []
    },
    {
     "cell_type": "markdown",
     "metadata": {},
     "source": [
      "# Feeds fetch distribution"
     ]
    },
    {
     "cell_type": "code",
     "collapsed": false,
     "input": [
      "with benchmark('feeds refreshes by period of time'):\n",
      "    fres, fdisp = feed_distribution_by_last_fetch_display()\n",
      "    print fdisp"
     ],
     "language": "python",
     "metadata": {},
     "outputs": [
      {
       "output_type": "stream",
       "stream": "stderr",
       "text": [
        "feeds refreshes by period of time started 2014-03-10 17:03, ran in 3 seconds.\n"
       ]
      },
      {
       "output_type": "stream",
       "stream": "stdout",
       "text": [
        "1418 feeds (37.8%) fetched less than 2 hours ago, avg fetch interval: 3 hours \u2014 in results[0]\n",
        "633 feeds (16.9%) fetched between 2 hours and 6 hours ago, avg fetch interval: 16 hours \u2014 in results[1]\n",
        "372 feeds (9.9%) fetched between 6 hours and 12 hours ago, avg fetch interval: a day \u2014 in results[2]\n",
        "336 feeds (8.9%) fetched between 12 hours and a day ago, avg fetch interval: 2 days \u2014 in results[3]\n",
        "552 feeds (14.7%) fetched between a day and 3 days ago, avg fetch interval: 3 days \u2014 in results[4]\n",
        "256 feeds (6.8%) fetched between 3 days and 6 days ago, avg fetch interval: 3 days \u2014 in results[5]\n",
        "0 feeds (0.0%) fetched between 6 days and a day ago, avg fetch interval: a moment \u2014 in results[6]\n",
        "316 feeds (8.4%) fetched between a day and 2 days ago, avg fetch interval: 3 days \u2014 in results[7]\n",
        "236 feeds (6.3%) fetched between 2 days and 3 days ago, avg fetch interval: 3 days \u2014 in results[8]\n",
        "221 feeds (5.9%) fetched between 3 days and 4 days ago, avg fetch interval: 3 days \u2014 in results[9]\n",
        "10 feeds (0.3%) fetched between 4 days and 5 days ago, avg fetch interval: 2 days \u2014 in results[10]\n",
        "25 feeds (0.7%) fetched between 5 days and 6 days ago, avg fetch interval: a day \u2014 in results[11]\n",
        "37 feeds (1.0%) fetched between 6 days and 7 days ago, avg fetch interval: 17 hours \u2014 in results[12]\n",
        "15 feeds (0.4%) fetched between 7 days and 10 days ago, avg fetch interval: 12 hours \u2014 in results[13]\n",
        "1072 feeds (28.5%) fetched more than 10 days ago, avg fetch interval: a day \u2014 in results[14]\n",
        "5499 total feeds fetched, out of 3756 open feeds.\n",
        "[computed in 3 seconds]\n"
       ]
      }
     ],
     "prompt_number": 2
    },
    {
     "cell_type": "markdown",
     "metadata": {},
     "source": [
      "### History\n",
      "\n",
      "```\n",
      "\n",
      "feeds refreshes by period of time started 2014-03-10 17:03, ran in 3 seconds.\n",
      "\n",
      "1418 feeds (37.8%) fetched less than 2 hours ago, avg fetch interval: 3 hours \u2014 in results[0]\n",
      "633 feeds (16.9%) fetched between 2 hours and 6 hours ago, avg fetch interval: 16 hours \u2014 in results[1]\n",
      "372 feeds (9.9%) fetched between 6 hours and 12 hours ago, avg fetch interval: a day \u2014 in results[2]\n",
      "336 feeds (8.9%) fetched between 12 hours and a day ago, avg fetch interval: 2 days \u2014 in results[3]\n",
      "552 feeds (14.7%) fetched between a day and 3 days ago, avg fetch interval: 3 days \u2014 in results[4]\n",
      "256 feeds (6.8%) fetched between 3 days and 6 days ago, avg fetch interval: 3 days \u2014 in results[5]\n",
      "0 feeds (0.0%) fetched between 6 days and a day ago, avg fetch interval: a moment \u2014 in results[6]\n",
      "316 feeds (8.4%) fetched between a day and 2 days ago, avg fetch interval: 3 days \u2014 in results[7]\n",
      "236 feeds (6.3%) fetched between 2 days and 3 days ago, avg fetch interval: 3 days \u2014 in results[8]\n",
      "221 feeds (5.9%) fetched between 3 days and 4 days ago, avg fetch interval: 3 days \u2014 in results[9]\n",
      "10 feeds (0.3%) fetched between 4 days and 5 days ago, avg fetch interval: 2 days \u2014 in results[10]\n",
      "25 feeds (0.7%) fetched between 5 days and 6 days ago, avg fetch interval: a day \u2014 in results[11]\n",
      "37 feeds (1.0%) fetched between 6 days and 7 days ago, avg fetch interval: 17 hours \u2014 in results[12]\n",
      "15 feeds (0.4%) fetched between 7 days and 10 days ago, avg fetch interval: 12 hours \u2014 in results[13]\n",
      "1072 feeds (28.5%) fetched more than 10 days ago, avg fetch interval: a day \u2014 in results[14]\n",
      "5499 total feeds fetched, out of 3756 open feeds.\n",
      "[computed in 3 seconds]\n",
      "\n",
      "\n",
      "feeds refreshes by period of time started 2013-07-26 22:50, ran in a moment.\n",
      "\n",
      "202 feeds (5.4%) fetched less than 10 minutes ago, avg fetch interval: 2 hours \u2014 in results[0]\n",
      "450 feeds (12.1%) fetched between 10 minutes and 30 minutes ago, avg fetch interval: 2 hours \u2014 in results[1]\n",
      "669 feeds (18.0%) fetched between 30 minutes and an hour ago, avg fetch interval: 2 hours \u2014 in results[2]\n",
      "464 feeds (12.5%) fetched between an hour and 2 hours ago, avg fetch interval: 5 hours \u2014 in results[3]\n",
      "698 feeds (18.7%) fetched between 2 hours and 6 hours ago, avg fetch interval: 13 hours \u2014 in results[4]\n",
      "545 feeds (14.6%) fetched between 6 hours and 12 hours ago, avg fetch interval: 18 hours \u2014 in results[5]\n",
      "661 feeds (17.8%) fetched between 12 hours and a day ago, avg fetch interval: 22 hours \u2014 in results[6]\n",
      "41 feeds (1.1%) fetched between a day and 2 days ago, avg fetch interval: 21 hours \u2014 in results[7]\n",
      "2 feeds (0.1%) fetched between 2 days and 3 days ago, avg fetch interval: an hour \u2014 in results[8]\n",
      "2 feeds (0.1%) fetched between 3 days and 4 days ago, avg fetch interval: an hour \u2014 in results[9]\n",
      "8 feeds (0.2%) fetched between 4 days and 5 days ago, avg fetch interval: 2 hours \u2014 in results[10]\n",
      "25 feeds (0.7%) fetched between 5 days and 6 days ago, avg fetch interval: an hour \u2014 in results[11]\n",
      "308 feeds (8.3%) fetched between 6 days and 7 days ago, avg fetch interval: an hour \u2014 in results[12]\n",
      "3 feeds (0.1%) fetched between 7 days and 10 days ago, avg fetch interval: an hour \u2014 in results[13]\n",
      "4 feeds (0.1%) fetched more than 10 days ago, avg fetch interval: an hour \u2014 in results[14]\n",
      "4082 total feeds fetched, out of 3723 open feeds.\n",
      "[computed in a moment]\n",
      "\n",
      "\n",
      "feeds refreshes by period of time started 2013-07-24 23:51, ran in a moment.\n",
      "\n",
      "304 feeds (8.2%) fetched less than 10 minutes ago, avg fetch interval: an hour \u2014 in results[0]\n",
      "544 feeds (14.6%) fetched between 10 minutes and 30 minutes ago, avg fetch interval: an hour \u2014 in results[1]\n",
      "607 feeds (16.3%) fetched between 30 minutes and an hour ago, avg fetch interval: 2 hours \u2014 in results[2]\n",
      "523 feeds (14.0%) fetched between an hour and 2 hours ago, avg fetch interval: 5 hours \u2014 in results[3]\n",
      "672 feeds (18.0%) fetched between 2 hours and 6 hours ago, avg fetch interval: 10 hours \u2014 in results[4]\n",
      "592 feeds (15.9%) fetched between 6 hours and 12 hours ago, avg fetch interval: 17 hours \u2014 in results[5]\n",
      "482 feeds (12.9%) fetched between 12 hours and a day ago, avg fetch interval: 21 hours \u2014 in results[6]\n",
      "7 feeds (0.2%) fetched between a day and 2 days ago, avg fetch interval: 17 hours \u2014 in results[7]\n",
      "8 feeds (0.2%) fetched between 2 days and 3 days ago, avg fetch interval: 2 hours \u2014 in results[8]\n",
      "19 feeds (0.5%) fetched between 3 days and 4 days ago, avg fetch interval: 2 hours \u2014 in results[9]\n",
      "317 feeds (8.5%) fetched between 4 days and 5 days ago, avg fetch interval: an hour \u2014 in results[10]\n",
      "0 feeds (0.0%) fetched between 5 days and 6 days ago, avg fetch interval: a moment \u2014 in results[11]\n",
      "1 feeds (0.0%) fetched between 6 days and 7 days ago, avg fetch interval: an hour \u2014 in results[12]\n",
      "2 feeds (0.1%) fetched between 7 days and 10 days ago, avg fetch interval: an hour \u2014 in results[13]\n",
      "4 feeds (0.1%) fetched more than 10 days ago, avg fetch interval: an hour \u2014 in results[14]\n",
      "4082 total feeds fetched, out of 3727 open feeds.\n",
      "[computed in a moment]\n",
      "\n",
      "```"
     ]
    },
    {
     "cell_type": "markdown",
     "metadata": {},
     "source": [
      "# Never checked feeds"
     ]
    },
    {
     "cell_type": "code",
     "collapsed": false,
     "input": [
      "all_feeds = Feed.objects()\n",
      "all_feeds_count = all_feeds.count()\n",
      "all_feeds_count"
     ],
     "language": "python",
     "metadata": {},
     "outputs": [
      {
       "metadata": {},
       "output_type": "pyout",
       "prompt_number": 3,
       "text": [
        "4944"
       ]
      }
     ],
     "prompt_number": 3
    },
    {
     "cell_type": "code",
     "collapsed": false,
     "input": [
      "#open_feeds = Feed.objects(Q(closed=False) | Q(closed__exists=False))\n",
      "open_feeds = Feed.objects.filter(closed__ne=True)\n",
      "open_feeds_count = open_feeds.count()\n",
      "open_feeds_count"
     ],
     "language": "python",
     "metadata": {},
     "outputs": [
      {
       "metadata": {},
       "output_type": "pyout",
       "prompt_number": 4,
       "text": [
        "3756"
       ]
      }
     ],
     "prompt_number": 4
    },
    {
     "cell_type": "code",
     "collapsed": false,
     "input": [
      "never_feeds = open_feeds.filter(last_fetch__exists=False)\n",
      "never_feeds_count = never_feeds.count()\n",
      "never_feeds_count"
     ],
     "language": "python",
     "metadata": {},
     "outputs": [
      {
       "metadata": {},
       "output_type": "pyout",
       "prompt_number": 5,
       "text": [
        "182"
       ]
      }
     ],
     "prompt_number": 5
    },
    {
     "cell_type": "code",
     "collapsed": false,
     "input": [
      "closed_feeds = Feed.objects.filter(closed=True)\n",
      "closed_feeds_count = closed_feeds.count()\n",
      "closed_feeds_count"
     ],
     "language": "python",
     "metadata": {},
     "outputs": [
      {
       "metadata": {},
       "output_type": "pyout",
       "prompt_number": 7,
       "text": [
        "1188"
       ]
      }
     ],
     "prompt_number": 7
    },
    {
     "cell_type": "code",
     "collapsed": false,
     "input": [
      "non_fetched_open = all_feeds_count - open_feeds_count - never_feeds_count - closed_feeds_count\n",
      "print ('non-fetched open feeds: %s' % non_fetched_open) if non_fetched_open != 0 else 'Everything OK'"
     ],
     "language": "python",
     "metadata": {},
     "outputs": [
      {
       "output_type": "stream",
       "stream": "stdout",
       "text": [
        "non-fetched open feeds: -182\n"
       ]
      }
     ],
     "prompt_number": 8
    },
    {
     "cell_type": "markdown",
     "metadata": {},
     "source": [
      "# Feed speeds\n",
      "\n",
      "## Slow feeds"
     ]
    },
    {
     "cell_type": "code",
     "collapsed": false,
     "input": [
      "slow_feeds = Feed.objects(fetch_interval__gt=config.FEED_FETCH_DEFAULT_INTERVAL)\n",
      "slow_feeds.count()"
     ],
     "language": "python",
     "metadata": {},
     "outputs": [
      {
       "metadata": {},
       "output_type": "pyout",
       "prompt_number": 9,
       "text": [
        "2032"
       ]
      }
     ],
     "prompt_number": 9
    },
    {
     "cell_type": "markdown",
     "metadata": {},
     "source": [
      "## Fast feeds"
     ]
    },
    {
     "cell_type": "code",
     "collapsed": false,
     "input": [
      "fast_feeds = Feed.objects(fetch_interval__lt=config.FEED_FETCH_DEFAULT_INTERVAL)\n",
      "fast_feeds.count()"
     ],
     "language": "python",
     "metadata": {},
     "outputs": [
      {
       "metadata": {},
       "output_type": "pyout",
       "prompt_number": 10,
       "text": [
        "2118"
       ]
      }
     ],
     "prompt_number": 10
    },
    {
     "cell_type": "markdown",
     "metadata": {},
     "source": [
      "## Default speed"
     ]
    },
    {
     "cell_type": "code",
     "collapsed": false,
     "input": [
      "default_feeds = Feed.objects(Q(fetch_interval=config.FEED_FETCH_DEFAULT_INTERVAL) | Q(fetch_interval__exists=False))\n",
      "default_feeds.count()"
     ],
     "language": "python",
     "metadata": {},
     "outputs": [
      {
       "metadata": {},
       "output_type": "pyout",
       "prompt_number": 11,
       "text": [
        "794"
       ]
      }
     ],
     "prompt_number": 11
    },
    {
     "cell_type": "markdown",
     "metadata": {},
     "source": [
      "## Sum"
     ]
    },
    {
     "cell_type": "code",
     "collapsed": false,
     "input": [
      "print 'Everything OK' if slow_feeds.count() + fast_feeds.count() + default_feeds.count() == all_feeds_count else 'YOU ARE IN TROUBLE\u2026'"
     ],
     "language": "python",
     "metadata": {},
     "outputs": [
      {
       "output_type": "stream",
       "stream": "stdout",
       "text": [
        "Everything OK\n"
       ]
      }
     ],
     "prompt_number": 12
    },
    {
     "cell_type": "markdown",
     "metadata": {},
     "source": [
      "# Various tests"
     ]
    },
    {
     "cell_type": "code",
     "collapsed": false,
     "input": [
      "f = Feed.objects.get(id='51c66183e7a05b27f68ce43c')\n",
      "f2 = Feed.objects.get(name__contains='Fubiz')\n",
      "f3 = Feed.objects.get(id='51c969ece7a05b27f6984843')"
     ],
     "language": "python",
     "metadata": {},
     "outputs": [],
     "prompt_number": 21
    },
    {
     "cell_type": "code",
     "collapsed": false,
     "input": [
      "f"
     ],
     "language": "python",
     "metadata": {},
     "outputs": [
      {
       "output_type": "pyout",
       "prompt_number": 13,
       "text": [
        "<Feed: Rue89\u00a0: \u00e0 la une (#51c66183e7a05b27f68ce43c)>"
       ]
      }
     ],
     "prompt_number": 13
    },
    {
     "cell_type": "code",
     "collapsed": false,
     "input": [
      "kim = User.objects.get(id='5231d7c484cc176f16d93fef')"
     ],
     "language": "python",
     "metadata": {},
     "outputs": [],
     "prompt_number": 14
    },
    {
     "cell_type": "code",
     "collapsed": false,
     "input": [
      "s3 = Subscription(user=kim, feed=f3).save()\n",
      "s2 = Subscription(user=kim, feed=f2).save()\n",
      "s = Subscription(user=kim, feed=f).save()"
     ],
     "language": "python",
     "metadata": {},
     "outputs": [
      {
       "ename": "NotUniqueError",
       "evalue": "Tried to save duplicate unique keys (E11000 duplicate key error index: oneflow.subscription.$user_1_feed_1  dup key: { : ObjectId('5231d7c484cc176f16d93fef'), : ObjectId('51c95e3ce7a05b27f695e8c8') })",
       "output_type": "pyerr",
       "traceback": [
        "\u001b[1;31m---------------------------------------------------------------------------\u001b[0m\n\u001b[1;31mNotUniqueError\u001b[0m                            Traceback (most recent call last)",
        "\u001b[1;32m<ipython-input-22-07c97b5e3d47>\u001b[0m in \u001b[0;36m<module>\u001b[1;34m()\u001b[0m\n\u001b[0;32m      1\u001b[0m \u001b[0ms3\u001b[0m \u001b[1;33m=\u001b[0m \u001b[0mSubscription\u001b[0m\u001b[1;33m(\u001b[0m\u001b[0muser\u001b[0m\u001b[1;33m=\u001b[0m\u001b[0mkim\u001b[0m\u001b[1;33m,\u001b[0m \u001b[0mfeed\u001b[0m\u001b[1;33m=\u001b[0m\u001b[0mf3\u001b[0m\u001b[1;33m)\u001b[0m\u001b[1;33m.\u001b[0m\u001b[0msave\u001b[0m\u001b[1;33m(\u001b[0m\u001b[1;33m)\u001b[0m\u001b[1;33m\u001b[0m\u001b[0m\n\u001b[1;32m----> 2\u001b[1;33m \u001b[0ms2\u001b[0m \u001b[1;33m=\u001b[0m \u001b[0mSubscription\u001b[0m\u001b[1;33m(\u001b[0m\u001b[0muser\u001b[0m\u001b[1;33m=\u001b[0m\u001b[0mkim\u001b[0m\u001b[1;33m,\u001b[0m \u001b[0mfeed\u001b[0m\u001b[1;33m=\u001b[0m\u001b[0mf2\u001b[0m\u001b[1;33m)\u001b[0m\u001b[1;33m.\u001b[0m\u001b[0msave\u001b[0m\u001b[1;33m(\u001b[0m\u001b[1;33m)\u001b[0m\u001b[1;33m\u001b[0m\u001b[0m\n\u001b[0m\u001b[0;32m      3\u001b[0m \u001b[0ms\u001b[0m \u001b[1;33m=\u001b[0m \u001b[0mSubscription\u001b[0m\u001b[1;33m(\u001b[0m\u001b[0muser\u001b[0m\u001b[1;33m=\u001b[0m\u001b[0mkim\u001b[0m\u001b[1;33m,\u001b[0m \u001b[0mfeed\u001b[0m\u001b[1;33m=\u001b[0m\u001b[0mf\u001b[0m\u001b[1;33m)\u001b[0m\u001b[1;33m.\u001b[0m\u001b[0msave\u001b[0m\u001b[1;33m(\u001b[0m\u001b[1;33m)\u001b[0m\u001b[1;33m\u001b[0m\u001b[0m\n",
        "\u001b[1;32m/home/1flow/.virtualenvs/1flow/local/lib/python2.7/site-packages/mongoengine/document.pyc\u001b[0m in \u001b[0;36msave\u001b[1;34m(self, force_insert, validate, clean, write_concern, cascade, cascade_kwargs, _refs, **kwargs)\u001b[0m\n\u001b[0;32m    288\u001b[0m                 \u001b[1;31m# E11001 - duplicate key on update\u001b[0m\u001b[1;33m\u001b[0m\u001b[1;33m\u001b[0m\u001b[0m\n\u001b[0;32m    289\u001b[0m                 \u001b[0mmessage\u001b[0m \u001b[1;33m=\u001b[0m \u001b[1;34mu'Tried to save duplicate unique keys (%s)'\u001b[0m\u001b[1;33m\u001b[0m\u001b[0m\n\u001b[1;32m--> 290\u001b[1;33m                 \u001b[1;32mraise\u001b[0m \u001b[0mNotUniqueError\u001b[0m\u001b[1;33m(\u001b[0m\u001b[0mmessage\u001b[0m \u001b[1;33m%\u001b[0m \u001b[0municode\u001b[0m\u001b[1;33m(\u001b[0m\u001b[0merr\u001b[0m\u001b[1;33m)\u001b[0m\u001b[1;33m)\u001b[0m\u001b[1;33m\u001b[0m\u001b[0m\n\u001b[0m\u001b[0;32m    291\u001b[0m             \u001b[1;32mraise\u001b[0m \u001b[0mOperationError\u001b[0m\u001b[1;33m(\u001b[0m\u001b[0mmessage\u001b[0m \u001b[1;33m%\u001b[0m \u001b[0municode\u001b[0m\u001b[1;33m(\u001b[0m\u001b[0merr\u001b[0m\u001b[1;33m)\u001b[0m\u001b[1;33m)\u001b[0m\u001b[1;33m\u001b[0m\u001b[0m\n\u001b[0;32m    292\u001b[0m         \u001b[0mid_field\u001b[0m \u001b[1;33m=\u001b[0m \u001b[0mself\u001b[0m\u001b[1;33m.\u001b[0m\u001b[0m_meta\u001b[0m\u001b[1;33m[\u001b[0m\u001b[1;34m'id_field'\u001b[0m\u001b[1;33m]\u001b[0m\u001b[1;33m\u001b[0m\u001b[0m\n",
        "\u001b[1;31mNotUniqueError\u001b[0m: Tried to save duplicate unique keys (E11000 duplicate key error index: oneflow.subscription.$user_1_feed_1  dup key: { : ObjectId('5231d7c484cc176f16d93fef'), : ObjectId('51c95e3ce7a05b27f695e8c8') })"
       ]
      }
     ],
     "prompt_number": 22
    },
    {
     "cell_type": "code",
     "collapsed": false,
     "input": [
      "f.refresh(force=True)"
     ],
     "language": "python",
     "metadata": {},
     "outputs": []
    },
    {
     "cell_type": "code",
     "collapsed": false,
     "input": [
      "f.reopen()"
     ],
     "language": "python",
     "metadata": {},
     "outputs": [
      {
       "output_type": "stream",
       "stream": "stderr",
       "text": [
        "Feed Crisp's Blog \u00bb Henrik Kniberg (#51c95b1ae7a05b27f6934ff9) has just beed re-opened.\n"
       ]
      }
     ],
     "prompt_number": 13
    },
    {
     "cell_type": "code",
     "collapsed": false,
     "input": [
      "f.refresh()"
     ],
     "language": "python",
     "metadata": {},
     "outputs": [
      {
       "output_type": "stream",
       "stream": "stderr",
       "text": [
        "Refresh for Crisp's Blog \u00bb Henrik Kniberg (#51c95b1ae7a05b27f6934ff9) already running, aborting.\n"
       ]
      }
     ],
     "prompt_number": 22
    },
    {
     "cell_type": "code",
     "collapsed": false,
     "input": [
      "f.reopen()"
     ],
     "language": "python",
     "metadata": {},
     "outputs": [
      {
       "output_type": "stream",
       "stream": "stderr",
       "text": [
        "Feed Crisp's Blog \u00bb Henrik Kniberg (#51c95b1ae7a05b27f6934ff9) has just beed re-opened.\n"
       ]
      }
     ],
     "prompt_number": 15
    },
    {
     "cell_type": "code",
     "collapsed": false,
     "input": [
      "f.errors[:] = []"
     ],
     "language": "python",
     "metadata": {},
     "outputs": [],
     "prompt_number": 16
    },
    {
     "cell_type": "code",
     "collapsed": false,
     "input": [
      "f.save()"
     ],
     "language": "python",
     "metadata": {},
     "outputs": [
      {
       "output_type": "pyout",
       "prompt_number": 17,
       "text": [
        "<Feed: Crisp's Blog \u00bb Henrik Kniberg (#51c95b1ae7a05b27f6934ff9)>"
       ]
      }
     ],
     "prompt_number": 17
    },
    {
     "cell_type": "code",
     "collapsed": false,
     "input": [
      "f.url"
     ],
     "language": "python",
     "metadata": {},
     "outputs": [
      {
       "output_type": "pyout",
       "prompt_number": 20,
       "text": [
        "u'http://blog.crisp.se/author/henrikkniberg/feed'"
       ]
      }
     ],
     "prompt_number": 20
    },
    {
     "cell_type": "markdown",
     "metadata": {},
     "source": [
      "# Compute cached descriptors"
     ]
    },
    {
     "cell_type": "code",
     "collapsed": false,
     "input": [
      "count = 0\n",
      "total_recent = 0\n",
      "total_all = 0\n",
      "start = pytime.time()\n",
      "\n",
      "for feed in Feed.objects.all():\n",
      "    total_all += feed.all_articles_count\n",
      "    total_recent += feed.recent_articles_count\n",
      "    if count % 250 == 0:\n",
      "        print count, u'-', feed, \\\n",
      "        feed.recent_articles_count, u'/', feed.all_articles_count, \\\n",
      "        u'\u2014', naturaldelta(pytime.time() - start)\n",
      "    count += 1\n",
      "\n",
      "print 'Total: %s feeds, %s recent (%.2f%%), %s articles' % (count, total_recent, total_recent*100.0/total_all, total_all)"
     ],
     "language": "python",
     "metadata": {},
     "outputs": [
      {
       "output_type": "stream",
       "stream": "stdout",
       "text": [
        "0 - CNRS (#51c66184e7a05b27f68ce44c) 107 / 1409 \u2014 a moment\n",
        "250"
       ]
      },
      {
       "output_type": "stream",
       "stream": "stdout",
       "text": [
        " - Numerama.com - Magazine (#51c95b45e7a05b27f693bc3a) 219 / 404 \u2014 a moment\n",
        "500"
       ]
      },
      {
       "output_type": "stream",
       "stream": "stdout",
       "text": [
        " - OpenTTD RSS Feed (#51c9d5b3e7a05b27f69e7ee4) 15 / 99 \u2014 a moment\n",
        "750 - Je t'aime (#51c9f2d5e7a05b27f6a23e2e) 40 / 140 \u2014 a moment\n",
        "1000"
       ]
      },
      {
       "output_type": "stream",
       "stream": "stdout",
       "text": [
        " - TED Blog (#51ca008ae7a05b27f6a3308d) 865 / 4297 \u2014 a moment\n",
        "1250 - Backcountry.com: The Goat (#51ca07efe7a05b27f6aeba36) 38 / 48 \u2014 "
       ]
      },
      {
       "output_type": "stream",
       "stream": "stdout",
       "text": [
        "a moment\n",
        "1500"
       ]
      },
      {
       "output_type": "stream",
       "stream": "stdout",
       "text": [
        " - eMarketer Articles and Newsroom Posts (#51ca0830e7a05b27f6aebcf1) 52 / 292 \u2014 a moment\n",
        "1750 - Keith Lango Animation (#51ca0873e7a05b27f6aebf68) 0 / 25 \u2014 a moment\n",
        "2000"
       ]
      },
      {
       "output_type": "stream",
       "stream": "stdout",
       "text": [
        " - Egowelt (#51ca2046e7a05b27f6b23d30) 9 / 401 \u2014 a moment\n",
        "2250"
       ]
      },
      {
       "output_type": "stream",
       "stream": "stdout",
       "text": [
        " - Video (#51ca2715e7a05b27f6bb7875) 31 / 178 \u2014 a moment\n",
        "2500"
       ]
      },
      {
       "output_type": "stream",
       "stream": "stdout",
       "text": [
        " - Vert Cerise (#51cd3d98e7a05b27f6d0e5fa) 26 / 455 \u2014 a moment\n",
        "2750 - deviantART: Vesparia (#51c9d5b3e7a05b27f69e7eb4) 60 / 321 \u2014 a moment\n",
        "3000"
       ]
      },
      {
       "output_type": "stream",
       "stream": "stdout",
       "text": [
        " - The Ancestry Insider (#51ca0915e7a05b27f6aec4dd) 0 / 0 \u2014 a moment\n",
        "3250 - Planet RDF (#51ca08b8e7a05b27f6aec272) 69 / 139 \u2014 a moment\n",
        "3500"
       ]
      },
      {
       "output_type": "stream",
       "stream": "stdout",
       "text": [
        " - ipad2 - Social Mention (#51c9f2d4e7a05b27f6a23e20) 417 / 1193 \u2014 a moment\n",
        "3750"
       ]
      },
      {
       "output_type": "stream",
       "stream": "stdout",
       "text": [
        " - bookofjoe (#51ca07fce7a05b27f6aebad5) 0 / 0 \u2014 a moment\n",
        "4000"
       ]
      },
      {
       "output_type": "stream",
       "stream": "stdout",
       "text": [
        " - Twitter / tomiahonen (#51ca2047e7a05b27f6b23dd3) 0 / 1296 \u2014 a moment\n",
        "Total: 4154 feeds, 578043 recent (21.31%), 2712560 articles\n"
       ]
      }
     ],
     "prompt_number": 17
    },
    {
     "cell_type": "markdown",
     "metadata": {},
     "source": [
      "# Set latest_article_date_published"
     ]
    },
    {
     "cell_type": "code",
     "collapsed": false,
     "input": [
      "default_date = now() - timedelta(days=365)\n",
      "\n",
      "# the first, to test.\n",
      "#\n",
      "#feed = Feed.objects.get(id='51c95e36e7a05b27f695dd81')\n",
      "#print '>>> %s: %s < %s ? %s, %s, %s' % (feed, feed.latest_article_date_published, default_date, \n",
      "#    feed.latest_article_date_published < default_date, feed.recent_articles_count, feed.all_articles_count)\n",
      "\n",
      "\n",
      "start_time = pytime.time()\n",
      "count = 0\n",
      "\n",
      "for feed in Feed.objects(closed__in=(False,None)):\n",
      "    if feed.latest_article_date_published < default_date:\n",
      "        if feed.recent_articles_count:\n",
      "            try:\n",
      "                feed.latest_article_date_published = feed.recent_articles.order_by('-date_published').first().date_published\n",
      "                print 'Feed %s: set to %s' % (feed, feed.latest_article_date_published)\n",
      "                feed.save()\n",
      "            except Exception, e:\n",
      "                print 'Feed %s: %s' % (feed, e)\n",
      "        elif feed.all_articles_count:\n",
      "            try:\n",
      "                feed.latest_article_date_published = feed.all_articles.order_by('-date_published').first().date_published\n",
      "                print 'Feed %s: set to %s' % (feed, feed.latest_article_date_published)\n",
      "                feed.save()\n",
      "            except Exception, e:\n",
      "                print 'Feed %s: %s' % (feed, e)\n",
      "        else:\n",
      "            print 'Feed %s: NO ARTICLE\u2026' % feed\n",
      "    count += 1\n",
      "    \n",
      "    if count % 250 == 0:\n",
      "        print '>> %s feeds up-to-date in %s\u2026' % (count, naturaldelta(pytime.time() - start_time))\n",
      "                                             \n",
      "print '>> %s feeds up-to-date in %s' % (count, naturaldelta(pytime.time() - start_time))\n"
     ],
     "language": "python",
     "metadata": {},
     "outputs": []
    },
    {
     "cell_type": "markdown",
     "metadata": {},
     "source": [
      "# Restricted feeds"
     ]
    },
    {
     "cell_type": "code",
     "collapsed": false,
     "input": [
      "restr = Feed.objects(restricted=True); restr.count()"
     ],
     "language": "python",
     "metadata": {},
     "outputs": [
      {
       "metadata": {},
       "output_type": "pyout",
       "prompt_number": 14,
       "text": [
        "213"
       ]
      }
     ],
     "prompt_number": 14
    },
    {
     "cell_type": "code",
     "collapsed": false,
     "input": [
      "for feed in restr:\n",
      "    print '%s - %s' % (feed.id, feed)"
     ],
     "language": "python",
     "metadata": {},
     "outputs": [
      {
       "output_type": "stream",
       "stream": "stdout",
       "text": [
        "51c66183e7a05b27f68ce43c - Rue89\u00a0: \u00e0 la une (#51c66183e7a05b27f68ce43c)\n",
        "51c66186e7a05b27f68ce4a2 - Lib\u00e9ration\u00a0: \u00e0 la une (#51c66186e7a05b27f68ce4a2)\n",
        "51c71da2e7a05b27f691c7ca - FrenchWeb.fr (#51c71da2e7a05b27f691c7ca)\n",
        "51c71da2e7a05b27f691c7de - Le Figaro : A la Une (#51c71da2e7a05b27f691c7de)\n",
        "51c71da2e7a05b27f691c7f1 - Presse-Citron (#51c71da2e7a05b27f691c7f1)\n",
        "51c71da2e7a05b27f691c7f5 - Search Engine Land (#51c71da2e7a05b27f691c7f5)\n",
        "51c71da2e7a05b27f691c803 - ZDNet (#51c71da2e7a05b27f691c803)\n",
        "51c95b45e7a05b27f693bacc - Le Monde.fr : \u00e0 la Une #2 (#51c95b45e7a05b27f693bacc)\n",
        "52c7db7884cc1775dc861b1b - Emarketinglicious (#52c7db7884cc1775dc861b1b)\n",
        "530bd37884cc1718c0c6a803 - \u00c9l\u00e9ments envoy\u00e9s par ocsmck (#530bd37884cc1718c0c6a803)\n",
        "51c969ede7a05b27f698488a - Atlantico.fr (#51c969ede7a05b27f698488a)\n",
        "530bd37884cc1718c0c6a802 - \u00c9l\u00e9ments import\u00e9s de ocsmck (#530bd37884cc1718c0c6a802)\n",
        "52c7e1fb84cc1775d853c32f - Geeks and Com' (#52c7e1fb84cc1775d853c32f)\n",
        "52cc656784cc172ca6b7a5d1 - LE FIGARO - Soci\u00e9t\u00e9s (#52cc656784cc172ca6b7a5d1)\n",
        "51c96c45e7a05b27f698b0b2 - Le Monde.fr : \u00e0 la Une #3 (#51c96c45e7a05b27f698b0b2)\n",
        "5261bc6a84cc17323de9d408 - \u00c9l\u00e9ments import\u00e9s de karmak23 (#5261bc6a84cc17323de9d408)\n",
        "526272e984cc176bc0fd0b38 - \u00c9l\u00e9ments import\u00e9s de mytmp62 (#526272e984cc176bc0fd0b38)\n",
        "526299fc84cc176bbf0d5ece - \u00c9l\u00e9ments import\u00e9s de mchaignot (#526299fc84cc176bbf0d5ece)\n",
        "5262dedf42f78942efee0a9a - Imported items of soundseller (#5262dedf42f78942efee0a9a)\n",
        "5262dee842f78942edee0a9a - Imported items of vervalenpaiva (#5262dee842f78942edee0a9a)\n",
        "5262deea42f78942e8ee0a9a - Imported items of adrian.fita (#5262deea42f78942e8ee0a9a)\n",
        "5262deed28b4150b0c37a9c9 - Imported items of root.ameen (#5262deed28b4150b0c37a9c9)\n",
        "5262deed28b4150b1037a9c9 - Imported items of jbishop64 (#5262deed28b4150b1037a9c9)\n",
        "5262deed42f78942e8ee0a9b - Imported items of psicosis (#5262deed42f78942e8ee0a9b)\n",
        "5262deef28b4150b1037a9ca - Imported items of mail.stas (#5262deef28b4150b1037a9ca)\n",
        "5262df0042f78942e6ee0a9a - Imported items of persofg (#5262df0042f78942e6ee0a9a)\n",
        "5262df0b42f78942e5ee0a9a - Imported items of cld.le.berre (#5262df0b42f78942e5ee0a9a)\n",
        "5262df1042f78942e5ee0a9b - Imported items of gteisseire (#5262df1042f78942e5ee0a9b)\n",
        "5262df1e42f78942e7ee0a9a - Imported items of jean (#5262df1e42f78942e7ee0a9a)\n",
        "5262df4528b4150b0c37a9ca - Imported items of engcolson (#5262df4528b4150b0c37a9ca)\n",
        "5262dfa142f789430bc840ea - Imported items of gcarcaradec (#5262dfa142f789430bc840ea)\n",
        "5262dfa928b4150b1037a9cb - Imported items of xanderxaj (#5262dfa928b4150b1037a9cb)\n",
        "5262dfb828b4150b0937a9c9 - Imported items of joel.galeran (#5262dfb828b4150b0937a9c9)\n",
        "5262dfef42f789430bc840eb - Imported items of aseltenreich (#5262dfef42f789430bc840eb)"
       ]
      },
      {
       "output_type": "stream",
       "stream": "stdout",
       "text": [
        "\n",
        "5262e01528b4150b0c37a9cb - Imported items of colin.garriga (#5262e01528b4150b0c37a9cb)\n",
        "5262e2b042f789484857fdca - Imported items of marcwendling (#5262e2b042f789484857fdca)\n",
        "5262e43042f789484b57fdca - Imported items of liv.lafleur (#5262e43042f789484b57fdca)\n",
        "5262e50e42f789484357fdca - Imported items of q.lebour (#5262e50e42f789484357fdca)\n",
        "5262e60e42f789484357fdcb - Imported items of kim.paletou (#5262e60e42f789484357fdcb)\n",
        "5262f35042f78949025aed65 - Imported items of devillers.matthieu (#5262f35042f78949025aed65)\n",
        "5263f07342f789571dae181e - Imported items of frederic.moreau (#5263f07342f789571dae181e)\n",
        "526e962984cc173750ec5943 - \u00c9l\u00e9ments import\u00e9s de jb.rousset (#526e962984cc173750ec5943)\n",
        "526e9fe084cc17374f4df445 - \u00c9l\u00e9ments import\u00e9s de #526e9f9f84cc17374f4df443 (#526e9fe084cc17374f4df445)\n",
        "526fc6ed84cc176973d1ceb0 - \u00c9l\u00e9ments import\u00e9s de lara.rouyres (#526fc6ed84cc176973d1ceb0)\n",
        "52702f3084cc177880ad7ed0 - \u00c9l\u00e9ments import\u00e9s de edomingos007 (#52702f3084cc177880ad7ed0)\n",
        "52711b1084cc1729efe5b25d - \u00c9l\u00e9ments import\u00e9s de kirilulu (#52711b1084cc1729efe5b25d)\n",
        "5272c378a246396805ce9c34 - Imported items of kim (#5272c378a246396805ce9c34)\n",
        "5272c378a246396805ce9c35 - Imported items of Bumpunini (#5272c378a246396805ce9c35)\n",
        "5272c378a246396805ce9c36 - Imported items of benjaminblum (#5272c378a246396805ce9c36)\n",
        "5272c378a246396805ce9c37 - Imported items of inamnrormepix (#5272c378a246396805ce9c37)\n",
        "5272c378a246396805ce9c38 - Imported items of GetembotteSox (#5272c378a246396805ce9c38)\n",
        "5272c378a246396805ce9c39 - Imported items of walterstephanie68 (#5272c378a246396805ce9c39)\n",
        "5272c378a246396805ce9c3a - Imported items of julien (#5272c378a246396805ce9c3a)\n",
        "5272c378a246396805ce9c3b - Imported items of v.vansteenbergen@gmail.com (#5272c378a246396805ce9c3b)\n",
        "5272c378a246396805ce9c3c - Imported items of mar.blanc (#5272c378a246396805ce9c3c)\n",
        "5272c3c2a246396805ce9c3d - test internal+restricted (#5272c3c2a246396805ce9c3d)\n",
        "52ab32d484cc172c00ff06e8 - \u00c9l\u00e9ments envoy\u00e9s par karmak23 (#52ab32d484cc172c00ff06e8)\n",
        "52ab32d484cc172c00ff06e9 - Bo\u00eete de r\u00e9ception de karmak23 (#52ab32d484cc172c00ff06e9)\n",
        "52ab3a1d84cc1736fbf556d4 - \u00c9l\u00e9ments envoy\u00e9s par mchaignot (#52ab3a1d84cc1736fbf556d4)\n",
        "52ab3a1d84cc1736fbf556d5 - Bo\u00eete de r\u00e9ception de mchaignot (#52ab3a1d84cc1736fbf556d5)\n",
        "52ab3b6e84cc17370d9af9e8 - LE FIGARO - Le Figaro \u2013 Sports : Actualit\u00e9 sportive en direct (#52ab3b6e84cc17370d9af9e8)\n",
        "52af6b2d84cc177761b65235 - \u00c9l\u00e9ments envoy\u00e9s par q.lebour (#52af6b2d84cc177761b65235)\n",
        "52af6b2d84cc177761b65236 - Bo\u00eete de r\u00e9ception de q.lebour (#52af6b2d84cc177761b65236)\n",
        "52b01f6c84cc1734645a878a - Items sent by cedric.herbin (#52b01f6c84cc1734645a878a)\n",
        "52b01f6c84cc1734645a878b - Inbox of cedric.herbin (#52b01f6c84cc1734645a878b)\n",
        "52b2c0d884cc176b0f25c69d - Items sent by engcolson (#52b2c0d884cc176b0f25c69d)\n",
        "52b2c0d884cc176b0f25c69e - Inbox of engcolson (#52b2c0d884cc176b0f25c69e)\n",
        "52b370b884cc1710a73437c3 - \u00c9l\u00e9ments import\u00e9s de francois.chaignot (#52b370b884cc1710a73437c3)\n",
        "52b370b884cc1710a73437c4 - \u00c9l\u00e9ments envoy\u00e9s par francois.chaignot (#52b370b884cc1710a73437c4)\n",
        "52b370b884cc1710a73437c5 - Bo\u00eete de r\u00e9ception de francois.chaignot (#52b370b884cc1710a73437c5)\n",
        "52b3715584cc1710a8e93fcb - Home - Essentiel - SudOuest.fr (#52b3715584cc1710a8e93fcb)\n",
        "52b3ccd584cc1710a6dbff98 - \u00c9l\u00e9ments import\u00e9s de ac.cocault (#52b3ccd584cc1710a6dbff98)\n",
        "52b3ccd584cc1710a6dbff99 - \u00c9l\u00e9ments envoy\u00e9s par ac.cocault (#52b3ccd584cc1710a6dbff99)\n",
        "52b3ccd584cc1710a6dbff9a - Bo\u00eete de r\u00e9ception de ac.cocault (#52b3ccd584cc1710a6dbff9a)\n",
        "52b5d3a384cc1710a8e93fd0 - Items sent by vervalenpaiva (#52b5d3a384cc1710a8e93fd0)\n",
        "52b5d3a384cc1710a8e93fd1 - Inbox of vervalenpaiva (#52b5d3a384cc1710a8e93fd1)\n",
        "52b7f0c484cc1710add4a5b2 - \u00c9l\u00e9ments import\u00e9s de cavalierjp (#52b7f0c484cc1710add4a5b2)\n",
        "52b7f0c484cc1710add4a5b3 - \u00c9l\u00e9ments envoy\u00e9s par cavalierjp (#52b7f0c484cc1710add4a5b3)\n",
        "52b7f0c484cc1710add4a5b4 - Bo\u00eete de r\u00e9ception de cavalierjp (#52b7f0c484cc1710add4a5b4)\n",
        "52b8131884cc1710a8e941f5 - \u00c9l\u00e9ments envoy\u00e9s par nicolas.delaitre (#52b8131884cc1710a8e941f5)\n",
        "52b8131884cc1710a8e941f6 - Bo\u00eete de r\u00e9ception de nicolas.delaitre (#52b8131884cc1710a8e941f6)\n",
        "52bbf49d84cc1710a8e94393 - Imported items of Michaelfure (#52bbf49d84cc1710a8e94393)\n",
        "52bbf49d84cc1710a8e94394 - Items sent by Michaelfure (#52bbf49d84cc1710a8e94394)\n",
        "52bbf49d84cc1710a8e94395 - Inbox of Michaelfure (#52bbf49d84cc1710a8e94395)\n",
        "52c7db4d84cc1775dc861b19 - Webmarketing & co'm (#52c7db4d84cc1775dc861b19)\n",
        "52c7dbb484cc1775d853c32d - LLLLITLLLLLITL | LLLLITL (#52c7dbb484cc1775d853c32d)\n",
        "52c7de2984cc1775df801e4c - La R\u00e9clame \u00bb S\u00e9lection (#52c7de2984cc1775df801e4c)\n",
        "52c7de5084cc1775de81754d - We Are Social (#52c7de5084cc1775de81754d)\n",
        "52c7de9884cc1775d9b505bd - Greg from Paris (#52c7de9884cc1775d9b505bd)\n",
        "52c7df1a84cc1775de81754f - Creapills (#52c7df1a84cc1775de81754f)\n",
        "52c7dfa884cc1775de817551 - Marketing en Chine (#52c7dfa884cc1775de817551)\n",
        "52c7e07c84cc1775dc861b1d - Paperplane (#52c7e07c84cc1775dc861b1d)\n",
        "52c7e0a984cc1775d9b505bf - www.vanksen.fr (#52c7e0a984cc1775d9b505bf)\n",
        "52c7e0d484cc1775de817553 - My Community Manager (#52c7e0d484cc1775de817553)\n",
        "52c7e0f684cc1775df801e4e - ConseilsMarketing.fr (#52c7e0f684cc1775df801e4e)\n",
        "52c7e12c84cc1775de817555 - Bloc-Notes de Bertrand Duperrin (#52c7e12c84cc1775de817555)\n",
        "52c7e16084cc1775dc861b1f - Blog Marketing insolite (#52c7e16084cc1775dc861b1f)\n",
        "52c7e1ac84cc1775dc861b21 - Marketing & Innovation (#52c7e1ac84cc1775dc861b21)\n",
        "52c7e2ad84cc1775de817559 - Clementpellerin.fr (#52c7e2ad84cc1775de817559)\n",
        "52cc407884cc172ca6b7a5bb - Gala.fr : Mode (#52cc407884cc172ca6b7a5bb)\n",
        "52cc64be84cc172ca5f448e3 - LE FIGARO - Le Figaro Lifestyle \u2013 Tendance, sortie, voyage et automobile (#52cc64be84cc172ca5f448e3)"
       ]
      },
      {
       "output_type": "stream",
       "stream": "stdout",
       "text": [
        "\n",
        "52cc651f84cc172ca5f448e6 - Le Figaro - Madame (#52cc651f84cc172ca5f448e6)\n",
        "52cc65ae84cc172ca85bd486 - LE FIGARO - Le Figaro \u2013 M\u00e9dias et Publicit\u00e9 : Actualit\u00e9 de l\u2019audiovisuel et du cin\u00e9ma (#52cc65ae84cc172ca85bd486)\n",
        "52cd583184cc172cb0209884 - {sciences\u00b2} (#52cd583184cc172cb0209884)\n",
        "52cd591f84cc172ca5f448ff - C@f\u00e9 des sciences (#52cd591f84cc172ca5f448ff)\n",
        "52cd59bd84cc172cb0209886 - GuruMeditation (#52cd59bd84cc172cb0209886)\n",
        "52cebfeb84cc17015911580e - \u00c9l\u00e9ments import\u00e9s de lafindelemail (#52cebfeb84cc17015911580e)\n",
        "52cebfeb84cc17015911580f - \u00c9l\u00e9ments envoy\u00e9s par lafindelemail (#52cebfeb84cc17015911580f)\n",
        "52cebfeb84cc170159115810 - Bo\u00eete de r\u00e9ception de lafindelemail (#52cebfeb84cc170159115810)\n",
        "52cfa96284cc17015a8b0fe3 - \u00c9l\u00e9ments import\u00e9s de antoinechotard (#52cfa96284cc17015a8b0fe3)\n",
        "52cfa96284cc17015a8b0fe4 - \u00c9l\u00e9ments envoy\u00e9s par antoinechotard (#52cfa96284cc17015a8b0fe4)\n",
        "52cfa96284cc17015a8b0fe5 - Bo\u00eete de r\u00e9ception de antoinechotard (#52cfa96284cc17015a8b0fe5)\n",
        "52d0d0e684cc1709c1374ad7 - Imported items of RikLaph (#52d0d0e684cc1709c1374ad7)\n",
        "52d0d0e684cc1709c1374ad8 - Items sent by RikLaph (#52d0d0e684cc1709c1374ad8)\n",
        "52d0d0e684cc1709c1374ad9 - Inbox of RikLaph (#52d0d0e684cc1709c1374ad9)\n",
        "52d376de84cc1709c1374b37 - Imported items of SamuelCig (#52d376de84cc1709c1374b37)\n",
        "52d376de84cc1709c1374b38 - Items sent by SamuelCig (#52d376de84cc1709c1374b38)\n",
        "52d376de84cc1709c1374b39 - Inbox of SamuelCig (#52d376de84cc1709c1374b39)\n",
        "52d3cc7a84cc1709c23a0b26 - \u00c9l\u00e9ments import\u00e9s de z3zone.sc (#52d3cc7a84cc1709c23a0b26)\n",
        "52d3cc7a84cc1709c23a0b27 - \u00c9l\u00e9ments envoy\u00e9s par z3zone.sc (#52d3cc7a84cc1709c23a0b27)\n",
        "52d3cc7a84cc1709c23a0b28 - Bo\u00eete de r\u00e9ception de z3zone.sc (#52d3cc7a84cc1709c23a0b28)\n",
        "52d3d07384cc1709c23a0b29 - C-YourMag.net (#52d3d07384cc1709c23a0b29)\n",
        "52d4860784cc1709c1374b48 - Imported items of superCuS (#52d4860784cc1709c1374b48)\n",
        "52d4860784cc1709c1374b49 - Items sent by superCuS (#52d4860784cc1709c1374b49)\n",
        "52d4860784cc1709c1374b4a - Inbox of superCuS (#52d4860784cc1709c1374b4a)\n",
        "52d51ed684cc1709c40035ef - \u00c9l\u00e9ments import\u00e9s de contact (#52d51ed684cc1709c40035ef)\n",
        "52d51ed684cc1709c40035f0 - \u00c9l\u00e9ments envoy\u00e9s par contact (#52d51ed684cc1709c40035f0)\n",
        "52d51ed684cc1709c40035f1 - Bo\u00eete de r\u00e9ception de contact (#52d51ed684cc1709c40035f1)\n",
        "52d5276684cc1709c23a0b35 - \u00c9l\u00e9ments import\u00e9s de 1flow.tutorial (#52d5276684cc1709c23a0b35)\n",
        "52d5276684cc1709c23a0b36 - \u00c9l\u00e9ments envoy\u00e9s par 1flow.tutorial (#52d5276684cc1709c23a0b36)\n",
        "52d5276684cc1709c23a0b37 - Bo\u00eete de r\u00e9ception de 1flow.tutorial (#52d5276684cc1709c23a0b37)\n",
        "52d5341484cc1709c32aaa13 - \u00c9l\u00e9ments import\u00e9s de 1flow.livedemo (#52d5341484cc1709c32aaa13)\n",
        "52d5341584cc1709c32aaa14 - \u00c9l\u00e9ments envoy\u00e9s par 1flow.livedemo (#52d5341584cc1709c32aaa14)\n",
        "52d5341584cc1709c32aaa15 - Bo\u00eete de r\u00e9ception de 1flow.livedemo (#52d5341584cc1709c32aaa15)\n",
        "52d6699384cc1709c4003603 - \u00c9l\u00e9ments import\u00e9s de oneflow.tutorial (#52d6699384cc1709c4003603)\n",
        "52d6699384cc1709c4003604 - \u00c9l\u00e9ments envoy\u00e9s par oneflow.tutorial (#52d6699384cc1709c4003604)\n",
        "52d6699384cc1709c4003605 - Bo\u00eete de r\u00e9ception de oneflow.tutorial (#52d6699384cc1709c4003605)\n",
        "52d8876784cc1709c400361f - Imported items of Tommi (#52d8876784cc1709c400361f)\n",
        "52d8876784cc1709c4003620 - Items sent by Tommi (#52d8876784cc1709c4003620)\n",
        "52d8876784cc1709c4003621 - Inbox of Tommi (#52d8876784cc1709c4003621)\n",
        "52daa5d784cc1709c32aaa4c - Imported items of megadum (#52daa5d784cc1709c32aaa4c)\n",
        "52daa5d784cc1709c32aaa4d - Items sent by megadum (#52daa5d784cc1709c32aaa4d)\n",
        "52daa5d784cc1709c32aaa4e - Inbox of megadum (#52daa5d784cc1709c32aaa4e)\n",
        "52dc1f9484cc1709c23a0b6c - Imported items of MikolalRap (#52dc1f9484cc1709c23a0b6c)\n",
        "52dc1f9484cc1709c23a0b6d - Items sent by MikolalRap (#52dc1f9484cc1709c23a0b6d)\n",
        "52dc1f9484cc1709c23a0b6e - Inbox of MikolalRap (#52dc1f9484cc1709c23a0b6e)\n",
        "52ddcc9c84cc1709c32aaa6c - Imported items of KentTell (#52ddcc9c84cc1709c32aaa6c)\n",
        "52ddcc9c84cc1709c32aaa6d - Items sent by KentTell (#52ddcc9c84cc1709c32aaa6d)\n",
        "52ddcc9c84cc1709c32aaa6e - Inbox of KentTell (#52ddcc9c84cc1709c32aaa6e)\n",
        "52df461784cc1709c1374bf6 - Imported items of StepanFaw (#52df461784cc1709c1374bf6)\n",
        "52df461784cc1709c1374bf7 - Items sent by StepanFaw (#52df461784cc1709c1374bf7)\n",
        "52df461784cc1709c1374bf8 - Inbox of StepanFaw (#52df461784cc1709c1374bf8)\n",
        "52e053c084cc17015880fa5a - Imported items of TimKl (#52e053c084cc17015880fa5a)\n",
        "52e053c084cc17015880fa5b - Items sent by TimKl (#52e053c084cc17015880fa5b)\n",
        "52e053c084cc17015880fa5c - Inbox of TimKl (#52e053c084cc17015880fa5c)\n",
        "52e1389084cc17015880fa66 - Imported items of Willisync (#52e1389084cc17015880fa66)\n",
        "52e1389084cc17015880fa67 - Items sent by Willisync (#52e1389084cc17015880fa67)\n",
        "52e1389084cc17015880fa68 - Inbox of Willisync (#52e1389084cc17015880fa68)\n",
        "52e2227484cc1701567781a0 - \u00c9l\u00e9ments import\u00e9s de jpchiron (#52e2227484cc1701567781a0)\n",
        "52e2227484cc1701567781a1 - \u00c9l\u00e9ments envoy\u00e9s par jpchiron (#52e2227484cc1701567781a1)\n",
        "52e2227484cc1701567781a2 - Bo\u00eete de r\u00e9ception de jpchiron (#52e2227484cc1701567781a2)\n",
        "52e269bb84cc1701596861fd - \u00c9l\u00e9ments import\u00e9s de tic.aquitaine (#52e269bb84cc1701596861fd)\n",
        "52e269bb84cc1701596861fe - \u00c9l\u00e9ments envoy\u00e9s par tic.aquitaine (#52e269bb84cc1701596861fe)\n",
        "52e269bb84cc1701596861ff - Bo\u00eete de r\u00e9ception de tic.aquitaine (#52e269bb84cc1701596861ff)\n",
        "52e2724b84cc17015880fa7d - Imported items of Robet (#52e2724b84cc17015880fa7d)\n",
        "52e2724b84cc17015880fa7e - Items sent by Robet (#52e2724b84cc17015880fa7e)\n",
        "52e2724b84cc17015880fa7f - Inbox of Robet (#52e2724b84cc17015880fa7f)\n",
        "52e3e73684cc17015cce996a - Imported items of Chanlom (#52e3e73684cc17015cce996a)\n",
        "52e3e73684cc17015cce996b - Items sent by Chanlom (#52e3e73684cc17015cce996b)\n",
        "52e3e73684cc17015cce996c - Inbox of Chanlom (#52e3e73684cc17015cce996c)\n",
        "52e4ca8684cc17015cce996f - Imported items of Stannip (#52e4ca8684cc17015cce996f)\n",
        "52e4ca8684cc17015cce9970 - Items sent by Stannip (#52e4ca8684cc17015cce9970)\n",
        "52e4ca8684cc17015cce9971 - Inbox of Stannip (#52e4ca8684cc17015cce9971)\n",
        "52e80ef484cc17015cce99a9 - Imported items of Viktorgofs (#52e80ef484cc17015cce99a9)\n",
        "52e80ef484cc17015cce99aa - Items sent by Viktorgofs (#52e80ef484cc17015cce99aa)\n",
        "52e80ef484cc17015cce99ab - Inbox of Viktorgofs (#52e80ef484cc17015cce99ab)\n",
        "52e8dcb784cc1731732f33cb - Imported items of Mentst (#52e8dcb784cc1731732f33cb)\n",
        "52e8dcb784cc1731732f33cc - Items sent by Mentst (#52e8dcb784cc1731732f33cc)\n",
        "52e8dcb784cc1731732f33cd - Inbox of Mentst (#52e8dcb784cc1731732f33cd)\n",
        "52eab92f84cc173172e57b5a - Imported items of RomzesGOg (#52eab92f84cc173172e57b5a)\n",
        "52eab92f84cc173172e57b5b - Items sent by RomzesGOg (#52eab92f84cc173172e57b5b)\n",
        "52eab92f84cc173172e57b5c - Inbox of RomzesGOg (#52eab92f84cc173172e57b5c)\n",
        "52eccbc284cc17316ff9b603 - Imported items of Wiskizek (#52eccbc284cc17316ff9b603)\n",
        "52eccbc384cc17316ff9b604 - Items sent by Wiskizek (#52eccbc384cc17316ff9b604)\n",
        "52eccbc384cc17316ff9b605 - Inbox of Wiskizek (#52eccbc384cc17316ff9b605)\n",
        "52ee685684cc173171f195e3 - Imported items of StiklerSi (#52ee685684cc173171f195e3)\n",
        "52ee685684cc173171f195e4 - Items sent by StiklerSi (#52ee685684cc173171f195e4)\n",
        "52ee685684cc173171f195e5 - Inbox of StiklerSi (#52ee685684cc173171f195e5)\n",
        "52eff00384cc173172e57b80 - Imported items of Anderbype (#52eff00384cc173172e57b80)\n",
        "52eff00384cc173172e57b81 - Items sent by Anderbype (#52eff00384cc173172e57b81)\n",
        "52eff00384cc173172e57b82 - Inbox of Anderbype (#52eff00384cc173172e57b82)\n",
        "52f3907e84cc1768162ab3bc - \u00c9l\u00e9ments import\u00e9s de ocsmck (#52f3907e84cc1768162ab3bc)\n",
        "52f3907e84cc1768162ab3bd - \u00c9l\u00e9ments envoy\u00e9s par ocsmck (#52f3907e84cc1768162ab3bd)\n",
        "52f3907e84cc1768162ab3be - Bo\u00eete de r\u00e9ception de ocsmck (#52f3907e84cc1768162ab3be)\n",
        "52fa99d184cc176e5489dc1c - Imported items of Megahene (#52fa99d184cc176e5489dc1c)\n",
        "52fa99d184cc176e5489dc1d - Items sent by Megahene (#52fa99d184cc176e5489dc1d)\n",
        "52fa99d184cc176e5489dc1e - Inbox of Megahene (#52fa99d184cc176e5489dc1e)\n",
        "52fe56ea84cc176e4d451539 - Imported items of GogaMah (#52fe56ea84cc176e4d451539)\n",
        "52fe56ea84cc176e4d45153a - Items sent by GogaMah (#52fe56ea84cc176e4d45153a)\n",
        "52fe56ea84cc176e4d45153b - Inbox of GogaMah (#52fe56ea84cc176e4d45153b)\n",
        "52ffb72384cc1767488e4b63 - Imported items of AlfaNuh (#52ffb72384cc1767488e4b63)"
       ]
      },
      {
       "output_type": "stream",
       "stream": "stdout",
       "text": [
        "\n",
        "52ffb72384cc1767488e4b64 - Items sent by AlfaNuh (#52ffb72384cc1767488e4b64)\n",
        "52ffb72384cc1767488e4b65 - Inbox of AlfaNuh (#52ffb72384cc1767488e4b65)\n",
        "5308e1e284cc17674603c808 - Imported items of Berkutnubs (#5308e1e284cc17674603c808)\n",
        "5308e1e284cc17674603c809 - Items sent by Berkutnubs (#5308e1e284cc17674603c809)\n",
        "5308e1e284cc17674603c80a - Inbox of Berkutnubs (#5308e1e284cc17674603c80a)\n",
        "53090ec684cc1767488e4bb3 - \u00c9l\u00e9ments import\u00e9s de matthieubellon (#53090ec684cc1767488e4bb3)\n",
        "53090ec684cc1767488e4bb4 - \u00c9l\u00e9ments envoy\u00e9s par matthieubellon (#53090ec684cc1767488e4bb4)\n",
        "53090ec684cc1767488e4bb5 - Bo\u00eete de r\u00e9ception de matthieubellon (#53090ec684cc1767488e4bb5)\n",
        "51c95b1be7a05b27f69352bf - Le Monde\u00a0: \u00e0 la une (#51c95b1be7a05b27f69352bf)\n",
        "530bd37884cc1718c0c6a804 - Bo\u00eete de r\u00e9ception de ocsmck (#530bd37884cc1718c0c6a804)\n",
        "52c7e2cc84cc1775d7c94fcd - Ursofrench (#52c7e2cc84cc1775d7c94fcd)\n",
        "52c7e30084cc1775d7c94fcf - Web and Luxe (#52c7e30084cc1775d7c94fcf)\n"
       ]
      }
     ],
     "prompt_number": 15
    },
    {
     "cell_type": "code",
     "collapsed": false,
     "input": [
      "for feed in restr:\n",
      "    feed.restricted = False\n",
      "    feed.save()"
     ],
     "language": "python",
     "metadata": {},
     "outputs": [],
     "prompt_number": 16
    },
    {
     "cell_type": "markdown",
     "metadata": {},
     "source": [
      "# Feedburner corrections"
     ]
    },
    {
     "cell_type": "code",
     "collapsed": false,
     "input": [
      "feedburners = Feed.objects(url__icontains='feedburner')"
     ],
     "language": "python",
     "metadata": {},
     "outputs": [],
     "prompt_number": 9
    },
    {
     "cell_type": "code",
     "collapsed": false,
     "input": [
      "feedburners.count()"
     ],
     "language": "python",
     "metadata": {},
     "outputs": [
      {
       "output_type": "pyout",
       "prompt_number": 10,
       "text": [
        "744"
       ]
      }
     ],
     "prompt_number": 10
    },
    {
     "cell_type": "code",
     "collapsed": false,
     "input": [
      "count = 0\n",
      "\n",
      "for fb in feedburners:\n",
      "    if not fb.url.lower().endswith('=xml'):\n",
      "        try:\n",
      "            fb.url = fb.url + u'?format=xml'\n",
      "            fb.save()\n",
      "        except:\n",
      "            print '%s not unique?' % fb\n",
      "        count += 1\n",
      "print '%s/%s feeds modified.' % (count, feedburners.count())\n",
      "    "
     ],
     "language": "python",
     "metadata": {},
     "outputs": [
      {
       "output_type": "stream",
       "stream": "stdout",
       "text": [
        "Korben (to be merged with 51c9f2cde7a05b27f6a23360, merge subscribers) (#51c7db90e7a05b27f691dcf0) not unique?\n",
        "Freetux (#51c9f2d3e7a05b27f6a23dda) not unique?\n",
        "2/744 feeds modified."
       ]
      },
      {
       "output_type": "stream",
       "stream": "stdout",
       "text": [
        "\n"
       ]
      }
     ],
     "prompt_number": 8
    },
    {
     "cell_type": "code",
     "collapsed": false,
     "input": [
      "for fb in feedburners:\n",
      "    fb.refresh.delay()"
     ],
     "language": "python",
     "metadata": {},
     "outputs": [],
     "prompt_number": 11
    },
    {
     "cell_type": "code",
     "collapsed": false,
     "input": [
      "html('<ul>')\n",
      "for feed in periods_feeds[8]:\n",
      "    #feed.refresh.delay(force=True)\n",
      "    html(u'<li><a href=\"/admin/models/feed/{feed.id}\" target=\"_blank\">{feed.name}</a>'\n",
      "         u'\u2014 {url}<ul><li>interval: {feed.fetch_interval}, fetched {last}, '\n",
      "         u'{feed.recent_articles_count}/{feed.all_articles_count} articles</li></ul></li>'.format(\n",
      "            feed=feed, url=urlblank(feed.url), last=naturaltime(feed.last_fetch)))\n",
      "html('</ul>')"
     ],
     "language": "python",
     "metadata": {},
     "outputs": []
    },
    {
     "cell_type": "markdown",
     "metadata": {},
     "source": [
      "## Not used any more\n",
      "\n",
      "We do it simply in the Django admin.\n",
      "\n",
      "    html(u'<ul>' + ''.join(u'<li>Admin 1flow: <a href=\"http://1flow.io/admin/models/feed/{feed.id}/\"'\n",
      "     u'target=\"_blank\">{feed.name}, #{feed.id}</a>'\n",
      "     u'<ul><li>Site URL: <a href=\"{feed.site_url}\" target=\"_blank\">{feed.site_url}</a></li>'\n",
      "     u'<li>Feed URL: <a href=\"{feed.url}\" target=\"_blank\">{feed.url}</a></li></ul><br /></li>'.format(feed=feed)\n",
      "     for feed in never_feeds) + u'</ul>')"
     ]
    },
    {
     "cell_type": "code",
     "collapsed": false,
     "input": [
      "Feed.objects.get(id='51ca0886e7a05b27f6aec043').refresh()"
     ],
     "language": "python",
     "metadata": {},
     "outputs": [
      {
       "output_type": "stream",
       "stream": "stderr",
       "text": [
        "Refreshing feed MediaPost | Online Media Daily (#51ca0886e7a05b27f6aec043)\u2026\n"
       ]
      },
      {
       "output_type": "stream",
       "stream": "stderr",
       "text": [
        "No new content in feed MediaPost | Online Media Daily (#51ca0886e7a05b27f6aec043).\n"
       ]
      }
     ],
     "prompt_number": 12
    },
    {
     "cell_type": "code",
     "collapsed": false,
     "input": [
      "import socket"
     ],
     "language": "python",
     "metadata": {},
     "outputs": [],
     "prompt_number": 61
    },
    {
     "cell_type": "code",
     "collapsed": false,
     "input": [
      "socket.getdefaulttimeout()"
     ],
     "language": "python",
     "metadata": {},
     "outputs": [],
     "prompt_number": 62
    },
    {
     "cell_type": "code",
     "collapsed": false,
     "input": [
      "Feed.objects.filter(closed__ne=True).count()"
     ],
     "language": "python",
     "metadata": {},
     "outputs": [
      {
       "output_type": "pyout",
       "prompt_number": 63,
       "text": [
        "4076"
       ]
      }
     ],
     "prompt_number": 63
    },
    {
     "cell_type": "code",
     "collapsed": false,
     "input": [
      "Feed.objects(url__contains='livejournal.com').update(set__fetch_limit_nr=3)"
     ],
     "language": "python",
     "metadata": {},
     "outputs": [
      {
       "output_type": "pyout",
       "prompt_number": 7,
       "text": [
        "61"
       ]
      }
     ],
     "prompt_number": 7
    },
    {
     "cell_type": "code",
     "collapsed": false,
     "input": [
      "livejournal.count()"
     ],
     "language": "python",
     "metadata": {},
     "outputs": [
      {
       "output_type": "pyout",
       "prompt_number": 5,
       "text": [
        "61"
       ]
      }
     ],
     "prompt_number": 5
    },
    {
     "cell_type": "code",
     "collapsed": false,
     "input": [
      "for feed in livejournal:\n",
      "    feed.fetch_limit_nr = 5\n",
      "    feed."
     ],
     "language": "python",
     "metadata": {},
     "outputs": []
    },
    {
     "cell_type": "code",
     "collapsed": false,
     "input": [
      "f = Feed.objects.get(url=\"http://test.com/toto\")"
     ],
     "language": "python",
     "metadata": {},
     "outputs": [
      {
       "ename": "DoesNotExist",
       "evalue": "Feed matching query does not exist.",
       "output_type": "pyerr",
       "traceback": [
        "\u001b[1;31m---------------------------------------------------------------------------\u001b[0m\n\u001b[1;31mDoesNotExist\u001b[0m                              Traceback (most recent call last)",
        "\u001b[1;32m<ipython-input-4-3105594634f8>\u001b[0m in \u001b[0;36m<module>\u001b[1;34m()\u001b[0m\n\u001b[1;32m----> 1\u001b[1;33m \u001b[0mf\u001b[0m \u001b[1;33m=\u001b[0m \u001b[0mFeed\u001b[0m\u001b[1;33m.\u001b[0m\u001b[0mobjects\u001b[0m\u001b[1;33m.\u001b[0m\u001b[0mget\u001b[0m\u001b[1;33m(\u001b[0m\u001b[0murl\u001b[0m\u001b[1;33m=\u001b[0m\u001b[1;34m\"http://test.com/toto\"\u001b[0m\u001b[1;33m)\u001b[0m\u001b[1;33m\u001b[0m\u001b[0m\n\u001b[0m",
        "\u001b[1;32m/home/1flow/.virtualenvs/1flow/local/lib/python2.7/site-packages/mongoengine/queryset/base.pyc\u001b[0m in \u001b[0;36mget\u001b[1;34m(self, *q_objs, **query)\u001b[0m\n\u001b[0;32m    184\u001b[0m             msg = (\"%s matching query does not exist.\"\n\u001b[0;32m    185\u001b[0m                    % queryset._document._class_name)\n\u001b[1;32m--> 186\u001b[1;33m             \u001b[1;32mraise\u001b[0m \u001b[0mqueryset\u001b[0m\u001b[1;33m.\u001b[0m\u001b[0m_document\u001b[0m\u001b[1;33m.\u001b[0m\u001b[0mDoesNotExist\u001b[0m\u001b[1;33m(\u001b[0m\u001b[0mmsg\u001b[0m\u001b[1;33m)\u001b[0m\u001b[1;33m\u001b[0m\u001b[0m\n\u001b[0m\u001b[0;32m    187\u001b[0m         \u001b[1;32mtry\u001b[0m\u001b[1;33m:\u001b[0m\u001b[1;33m\u001b[0m\u001b[0m\n\u001b[0;32m    188\u001b[0m             \u001b[0mqueryset\u001b[0m\u001b[1;33m.\u001b[0m\u001b[0mnext\u001b[0m\u001b[1;33m(\u001b[0m\u001b[1;33m)\u001b[0m\u001b[1;33m\u001b[0m\u001b[0m\n",
        "\u001b[1;31mDoesNotExist\u001b[0m: Feed matching query does not exist."
       ]
      }
     ],
     "prompt_number": 4
    },
    {
     "cell_type": "code",
     "collapsed": false,
     "input": [
      "feeds = Feed.objects(closed__ne=True)\n",
      "count = feeds.count()\n",
      "done  = 0\n",
      "count"
     ],
     "language": "python",
     "metadata": {},
     "outputs": [
      {
       "output_type": "pyout",
       "prompt_number": 2,
       "text": [
        "3714"
       ]
      }
     ],
     "prompt_number": 2
    },
    {
     "cell_type": "code",
     "collapsed": false,
     "input": [
      "with benchmark():\n",
      "   for feed in feeds:\n",
      "        feed.update_recent_articles_count()\n",
      "        done += 1\n",
      "        if done % 100 == 0:\n",
      "            print \">> done with %s %s/%s\" % (feed, done, count)"
     ],
     "language": "python",
     "metadata": {},
     "outputs": []
    },
    {
     "cell_type": "code",
     "collapsed": false,
     "input": [
      "f = Feed.objects.get(id='51c95e9ee7a05b27f696eef6')"
     ],
     "language": "python",
     "metadata": {},
     "outputs": [],
     "prompt_number": 7
    },
    {
     "cell_type": "code",
     "collapsed": false,
     "input": [
      "u = User.objects.get(django_user=382)"
     ],
     "language": "python",
     "metadata": {},
     "outputs": [],
     "prompt_number": 3
    },
    {
     "cell_type": "code",
     "collapsed": false,
     "input": [
      "Subscription(user=u,feed=f).save()"
     ],
     "language": "python",
     "metadata": {},
     "outputs": [
      {
       "output_type": "pyout",
       "prompt_number": 8,
       "text": [
        "<Subscription: Subscription object>"
       ]
      }
     ],
     "prompt_number": 8
    },
    {
     "cell_type": "code",
     "collapsed": false,
     "input": [
      "u = User.objects.get(id='51c95b43e7a05b27f693b87b')\n",
      "u.django_user\n"
     ],
     "language": "python",
     "metadata": {},
     "outputs": [
      {
       "output_type": "pyout",
       "prompt_number": 20,
       "text": [
        "157"
       ]
      }
     ],
     "prompt_number": 20
    },
    {
     "cell_type": "code",
     "collapsed": false,
     "input": [
      "u.subscriptions"
     ],
     "language": "python",
     "metadata": {},
     "outputs": [
      {
       "ename": "AttributeError",
       "evalue": "'User' object has no attribute 'subscriptions'",
       "output_type": "pyerr",
       "traceback": [
        "\u001b[1;31m---------------------------------------------------------------------------\u001b[0m\n\u001b[1;31mAttributeError\u001b[0m                            Traceback (most recent call last)",
        "\u001b[1;32m<ipython-input-22-265ef317803f>\u001b[0m in \u001b[0;36m<module>\u001b[1;34m()\u001b[0m\n\u001b[1;32m----> 1\u001b[1;33m \u001b[0mu\u001b[0m\u001b[1;33m.\u001b[0m\u001b[0msubscriptions\u001b[0m\u001b[1;33m\u001b[0m\u001b[0m\n\u001b[0m",
        "\u001b[1;31mAttributeError\u001b[0m: 'User' object has no attribute 'subscriptions'"
       ]
      }
     ],
     "prompt_number": 22
    },
    {
     "cell_type": "code",
     "collapsed": false,
     "input": [
      "for s in Subscription.objects.all():\n",
      "    if s.name is None:\n",
      "        try:\n",
      "            s.update(set__name=s.feed.name)\n",
      "        except:\n",
      "            s.delete()"
     ],
     "language": "python",
     "metadata": {},
     "outputs": [],
     "prompt_number": 21
    },
    {
     "cell_type": "code",
     "collapsed": false,
     "input": [],
     "language": "python",
     "metadata": {},
     "outputs": []
    }
   ],
   "metadata": {}
  }
 ]
}