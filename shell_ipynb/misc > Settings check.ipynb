{
 "metadata": {
  "name": "misc > Settings check"
 },
 "nbformat": 3,
 "nbformat_minor": 0,
 "worksheets": [
  {
   "cells": [
    {
     "cell_type": "markdown",
     "metadata": {},
     "source": [
      "# Python imports and definitions"
     ]
    },
    {
     "cell_type": "code",
     "collapsed": false,
     "input": [
      "from django.conf import settings"
     ],
     "language": "python",
     "metadata": {},
     "outputs": [],
     "prompt_number": 1
    },
    {
     "cell_type": "markdown",
     "metadata": {},
     "source": [
      "# Settings check"
     ]
    },
    {
     "cell_type": "code",
     "collapsed": false,
     "input": [
      "settings.EMAIL_HOST"
     ],
     "language": "python",
     "metadata": {},
     "outputs": [
      {
       "output_type": "pyout",
       "prompt_number": 2,
       "text": [
        "'10.0.3.1'"
       ]
      }
     ],
     "prompt_number": 2
    },
    {
     "cell_type": "code",
     "collapsed": false,
     "input": [
      "settings.DATABASES"
     ],
     "language": "python",
     "metadata": {},
     "outputs": [
      {
       "output_type": "pyout",
       "prompt_number": 3,
       "text": [
        "{'default': {'ENGINE': 'django.db.backends.postgresql_psycopg2',\n",
        "  'HOST': '188.165.193.204',\n",
        "  'NAME': 'oneflow',\n",
        "  'PASSWORD': '8jxcWaAfPJT3mV',\n",
        "  'PORT': None,\n",
        "  'USER': 'oneflow'}}"
       ]
      }
     ],
     "prompt_number": 3
    },
    {
     "cell_type": "code",
     "collapsed": false,
     "input": [
      "settings.REDIS_DB, settings.REDIS_TEST_DB"
     ],
     "language": "python",
     "metadata": {},
     "outputs": [
      {
       "output_type": "pyout",
       "prompt_number": 4,
       "text": [
        "(0, 9)"
       ]
      }
     ],
     "prompt_number": 4
    },
    {
     "cell_type": "code",
     "collapsed": false,
     "input": [],
     "language": "python",
     "metadata": {},
     "outputs": []
    }
   ],
   "metadata": {}
  }
 ]
}